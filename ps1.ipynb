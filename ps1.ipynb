{
 "cells": [
  {
   "cell_type": "code",
   "execution_count": 1,
   "metadata": {
    "deletable": false,
    "editable": false
   },
   "outputs": [],
   "source": [
    "# Initialize Otter\n",
    "import otter\n",
    "grader = otter.Notebook(\"ps1.ipynb\")"
   ]
  },
  {
   "cell_type": "markdown",
   "metadata": {},
   "source": [
    "# STATS 507 W22\n",
    "## Problem Set 1\n",
    "We'll be using the `math` module a few times:"
   ]
  },
  {
   "cell_type": "code",
   "execution_count": 2,
   "metadata": {},
   "outputs": [],
   "source": [
    "import math"
   ]
  },
  {
   "cell_type": "markdown",
   "metadata": {},
   "source": [
    "All functions will be tested by visible as well as hidden tests. The maximum amount of time any function is allowed to run is 10 seconds."
   ]
  },
  {
   "cell_type": "markdown",
   "metadata": {},
   "source": [
    "### Question 1: Euclid's algorithm \n",
    "Euclid's algorithm (<https://en.wikipedia.org/wiki/Euclidean_algorithm>)\n",
    "is a method for finding the greatest common divisor (GCD) of two\n",
    "numbers. Recall that the GCD of two numbers $m$ and $n$ is the largest\n",
    "number that divides both $m$ and $n$."
   ]
  },
  {
   "cell_type": "markdown",
   "metadata": {},
   "source": [
    "**1(a)** (4 pts.) The Wikipedia page above includes several pseudocode implementations\n",
    "    of Euclid's algorithm. Choose one of these, and use it to implement\n",
    "    a function `gcd(m,n)`, which takes two integers as its arguments and\n",
    "    returns their GCD. You may assume that both inputs are integers, so\n",
    "    there is no need to include any error checking in your function. \n",
    "    \n",
    "   **Note**: There are many existing library functions, such as `math.gcd()`, available for calculating this. Do not use them: your job is to implement this function by hand."
   ]
  },
  {
   "cell_type": "code",
   "execution_count": 3,
   "metadata": {
    "tags": []
   },
   "outputs": [],
   "source": [
    "def gcd(m, n):\n",
    "#\"Returns the greatest common divisor of integers m and n.\"\n",
    "    if type(m) == type (n) == int:# verify integers\n",
    "        number = 0\n",
    "        while n != 0 and number < 100: # the function runs untill there is no remainder\n",
    "            r = m % n # the remainder \n",
    "            m = n\n",
    "            n = r\n",
    "            number += 1\n",
    "        return m # return to the largest divider\n",
    "    else:\n",
    "        print(\"Please input integers for m and n!\")"
   ]
  },
  {
   "cell_type": "code",
   "execution_count": null,
   "metadata": {},
   "outputs": [],
   "source": []
  },
  {
   "cell_type": "code",
   "execution_count": 4,
   "metadata": {},
   "outputs": [
    {
     "data": {
      "text/plain": [
       "-2"
      ]
     },
     "execution_count": 4,
     "metadata": {},
     "output_type": "execute_result"
    }
   ],
   "source": [
    "gcd(-2,-6)"
   ]
  },
  {
   "cell_type": "code",
   "execution_count": 5,
   "metadata": {},
   "outputs": [
    {
     "data": {
      "text/plain": [
       "-3"
      ]
     },
     "execution_count": 5,
     "metadata": {},
     "output_type": "execute_result"
    }
   ],
   "source": [
    "gcd(3,-6)"
   ]
  },
  {
   "cell_type": "code",
   "execution_count": 6,
   "metadata": {},
   "outputs": [
    {
     "data": {
      "text/plain": [
       "2"
      ]
     },
     "execution_count": 6,
     "metadata": {},
     "output_type": "execute_result"
    }
   ],
   "source": [
    "gcd(-2,6)"
   ]
  },
  {
   "cell_type": "code",
   "execution_count": 7,
   "metadata": {
    "deletable": false,
    "editable": false
   },
   "outputs": [
    {
     "data": {
      "text/html": [
       "<p><strong><pre style='display: inline;'>q1a</pre></strong> passed!</p>"
      ],
      "text/plain": [
       "q1a results: All test cases passed!"
      ]
     },
     "execution_count": 7,
     "metadata": {},
     "output_type": "execute_result"
    }
   ],
   "source": [
    "grader.check(\"q1a\")"
   ]
  },
  {
   "cell_type": "markdown",
   "metadata": {},
   "source": [
    "<!-- BEGIN QUESTION -->\n",
    "\n",
    "**1(b)** (1 pt.) What does your function do if one or both of its arguments are negative? Does this behavior make sense?"
   ]
  },
  {
   "cell_type": "markdown",
   "metadata": {},
   "source": [
    "In my function, where there is one postive integer and one neagtive integer, the gcd of the two is either a positiver number or a negative number; When there are two negative number, the output gcd is a neagtive number. Indeed the absolute number is true, but the sigh makes no sense. Regardless of the definition of the GCD. This common algorithm for producing it always gives a result with the same sign as the second number given. In mathematics, there is no change of gcd in the case of change of sign of numbers,gcd (a,b) = gcd (a,-b)= gcd (-a,b) = gcd (-a,-b) = gcd (|a|,|b|) which means the output gcd should be a positive number no matter the sigh of the two numbers."
   ]
  },
  {
   "cell_type": "markdown",
   "metadata": {},
   "source": [
    "<!-- END QUESTION -->\n",
    "\n",
    "### Question 2: Approximating $e$\n",
    "The base of the natural logarithm, $e$, is typically defined as the\n",
    "infinite sum \n",
    "$$\n",
    "e = \\sum_{k=0}^\\infty \\frac{1}{k!}\n",
    "= 1 + 1 + \\frac{1}{2} + \\frac{1}{6} + \\frac{1}{24} + \\dots,$$ where $k!$ denotes the factorial of $k$,\n",
    "$$k! = k \\cdot (k-1) \\cdot (k-2) \\cdot \\dots \\cdot 3 \\cdot 2 \\cdot 1,$$ where we define $0!=1$ by convention. For more on Euler's number, see\n",
    "<https://en.wikipedia.org/wiki/E_(mathematical_constant)>. In this\n",
    "problem, we will explore different approaches to approximating this\n",
    "number.\n"
   ]
  },
  {
   "cell_type": "markdown",
   "metadata": {
    "jp-MarkdownHeadingCollapsed": true,
    "tags": []
   },
   "source": [
    "**2(a)** (2 pts.) An early characterization of Euler's number, due to Jacob Bernoulli,\n",
    "    was as the limit\n",
    "    $$e = \\lim_{x\\to\\infty} \\left(1 + \\frac{1}{x}\\right)^x.$$ Define a function called `e_limit(n)` that takes as an argument an integer $n$, and returns a `float` that approximates $e$ by taking $x=n$ in the above equation. You may assume that the input to your function will be a positive integer (of course, your function will still run just fine if $n$ is, say, a positive float, but we will only use integer values in what follows)."
   ]
  },
  {
   "cell_type": "code",
   "execution_count": 8,
   "metadata": {
    "tags": []
   },
   "outputs": [],
   "source": [
    "def e_limit(n):\n",
    "#\"Approximates Euler's number using the limit definition.\"\n",
    "    n = int(n)\n",
    "    if n > 0:\n",
    "        return pow(1 + 1/n, n)\n",
    "    else:\n",
    "        print(\"Please input a positive number！\")"
   ]
  },
  {
   "cell_type": "code",
   "execution_count": 9,
   "metadata": {},
   "outputs": [
    {
     "data": {
      "text/plain": [
       "1.0"
      ]
     },
     "execution_count": 9,
     "metadata": {},
     "output_type": "execute_result"
    }
   ],
   "source": [
    "e_limit(1e16)"
   ]
  },
  {
   "cell_type": "code",
   "execution_count": 10,
   "metadata": {},
   "outputs": [
    {
     "data": {
      "text/plain": [
       "1.0"
      ]
     },
     "execution_count": 10,
     "metadata": {},
     "output_type": "execute_result"
    }
   ],
   "source": [
    "e_limit(1e18)"
   ]
  },
  {
   "cell_type": "code",
   "execution_count": 11,
   "metadata": {
    "deletable": false,
    "editable": false
   },
   "outputs": [
    {
     "data": {
      "text/html": [
       "<p><strong><pre style='display: inline;'>q2a</pre></strong> passed!</p>"
      ],
      "text/plain": [
       "q2a results: All test cases passed!"
      ]
     },
     "execution_count": 11,
     "metadata": {},
     "output_type": "execute_result"
    }
   ],
   "source": [
    "grader.check(\"q2a\")"
   ]
  },
  {
   "cell_type": "markdown",
   "metadata": {
    "jp-MarkdownHeadingCollapsed": true,
    "tags": []
   },
   "source": [
    "<!-- BEGIN QUESTION -->\n",
    "\n",
    "**2(b)** (1 pt.) What happens when you call `e_lim(n)` for really huge values of `n` (say,\n",
    "    $10^{16}$ or $10^{18}$)? Why does this happen? **Hint:** the answer\n",
    "    has to do with floating point arithmetic. Think about how $1/n$ is\n",
    "    represented on your computer when $n$ is big."
   ]
  },
  {
   "cell_type": "markdown",
   "metadata": {},
   "source": [
    "When n are really huge values of n(say, 10^16 or 10^18), the output of e_limit(n) are both 1.0 which are not the numbers we expect. In python, floating point numbers have 53 bits of precision available, so 1/n in decimal stores the value in internal storage as an approximate surrogate for binary decimals. When n is large enough, the float number 1/n approches 0 and require a precision to store the number which above python's ability. Finally, 1/n loses precision and the function comes up with an inaccurate number."
   ]
  },
  {
   "cell_type": "markdown",
   "metadata": {
    "jp-MarkdownHeadingCollapsed": true,
    "tags": []
   },
   "source": [
    "<!-- END QUESTION -->\n",
    "\n",
    "**2(c)** (2 pts.) Define a function called `e_series` that takes a single non-negative integer\n",
    "    argument `n`, and returns an approximation to $e$ based on the first\n",
    "    `n` terms of the infinite sum shown above. Your function should return a float. You may again assume that the input will be a non-negative integer, so you do not need to include error checking in your function. As an example, `e_series(4)` should return the sum of the first four terms the series, i.e. $1 + 1 + 1/2 + 1/6 \\approx 2.667$. \n",
    "\n",
    "Notes:\n",
    "\n",
    "- The sum the equation starts counting with $k=0$ (i.e., it is \"$0$-indexed\"), while our function starts counting with $n=1$ (i.e., it is \"$1$-indexed\"). `e_series(1)` should use *one* term, so that `e_series(1) == 1`. Similarly, `e_series(0)` should return $0$, since by convention an empty sum is equal to zero.\n",
    "- You may use the function `math.factorial(k)` to compute $k!$, but I\n",
    "    recommend, for the sake of practice, implementing the factorial\n",
    "    function yourself, as it is a nice example of a problem that is\n",
    "    easily solved with recursion."
   ]
  },
  {
   "cell_type": "code",
   "execution_count": 12,
   "metadata": {
    "tags": []
   },
   "outputs": [],
   "source": [
    "def factorial(n):\n",
    "    if n == 0:\n",
    "        return 1\n",
    "    return n * factorial(n-1)\n",
    "def e_series(n):\n",
    "#\"Approximates Euler's number using the series definition.\"\n",
    "    if type(n) == int and n > 0:\n",
    "        e = 0\n",
    "        for i in range(n):\n",
    "            e += float(1/factorial(i))\n",
    "        return e          \n",
    "    elif n == 0:\n",
    "        return 0\n",
    "    else:\n",
    "        print(\"Please input a nonnegative integer!\")"
   ]
  },
  {
   "cell_type": "code",
   "execution_count": 13,
   "metadata": {
    "deletable": false,
    "editable": false
   },
   "outputs": [
    {
     "data": {
      "text/html": [
       "<p><strong><pre style='display: inline;'>q2c</pre></strong> passed!</p>"
      ],
      "text/plain": [
       "q2c results: All test cases passed!"
      ]
     },
     "execution_count": 13,
     "metadata": {},
     "output_type": "execute_result"
    }
   ],
   "source": [
    "grader.check(\"q2c\")"
   ]
  },
  {
   "cell_type": "markdown",
   "metadata": {
    "jp-MarkdownHeadingCollapsed": true,
    "tags": []
   },
   "source": [
    "**2(d)** (2 pts.) Define a function called `error_table(N)` takes a single positive\n",
    "    integer `N` as an argument and returns a data structure containing the _relative_ error between the\n",
    "    approximations given by, respectively, `e_limit` and `e_series`. `error_table(N)` should return a\n",
    "    list of length $N$. The $k$-th entry of the list, `error_table(N)[k]`, should be a `dict` with two keys, `err_limit` and `err_series`, giving the relative errors for each approach when $n=k+1$:\n",
    "```\n",
    ">>> error_table(1)\n",
    "[{'err_limit': 0.26424111765711533, 'err_series': 0.6321205588285577}]\n",
    "```\n",
    "(The first entry of the list is shown.)\n",
    "**Note**: the true value of $e$, accurate to machine precision, can be obtained as `math.e`."
   ]
  },
  {
   "cell_type": "code",
   "execution_count": 14,
   "metadata": {
    "tags": []
   },
   "outputs": [],
   "source": [
    "def error_table(N):\n",
    "#\"Table of relative errors for e_limit(k) and e_series(k) for k=1,...,N.\"\n",
    "    result = []\n",
    "    for i in range(1,N+1):\n",
    "        result.append({\n",
    "            \"err_limit\":abs(e_limit(i) - math.e) / math.e,\n",
    "            \"err_series\":abs(e_series(i) - math.e) / math.e\n",
    "        })\n",
    "    return result"
   ]
  },
  {
   "cell_type": "code",
   "execution_count": 15,
   "metadata": {},
   "outputs": [
    {
     "data": {
      "text/plain": [
       "[{'err_limit': 0.26424111765711533, 'err_series': 0.6321205588285577},\n",
       " {'err_limit': 0.17227125736425472, 'err_series': 0.26424111765711533},\n",
       " {'err_limit': 0.12798947277880354, 'err_series': 0.08030139707139415},\n",
       " {'err_limit': 0.10185683307753335, 'err_series': 0.018988156876153812},\n",
       " {'err_limit': 0.08459822894427681, 'err_series': 0.003659846827343768},\n",
       " {'err_limit': 0.07234549952033957, 'err_series': 0.0005941848175817597},\n",
       " {'err_limit': 0.0631951145094156, 'err_series': 8.324114928800986e-05},\n",
       " {'err_limit': 0.05610062684160521, 'err_series': 1.0249196674547021e-05},\n",
       " {'err_limit': 0.050438860058734485, 'err_series': 1.125202597843745e-06},\n",
       " {'err_limit': 0.045815473235769066, 'err_series': 1.1142547828265698e-07}]"
      ]
     },
     "execution_count": 15,
     "metadata": {},
     "output_type": "execute_result"
    }
   ],
   "source": [
    "error_table(10)"
   ]
  },
  {
   "cell_type": "code",
   "execution_count": 16,
   "metadata": {
    "deletable": false,
    "editable": false
   },
   "outputs": [
    {
     "data": {
      "text/html": [
       "<p><strong><pre style='display: inline;'>q2d</pre></strong> passed!</p>"
      ],
      "text/plain": [
       "q2d results: All test cases passed!"
      ]
     },
     "execution_count": 16,
     "metadata": {},
     "output_type": "execute_result"
    }
   ],
   "source": [
    "grader.check(\"q2d\")"
   ]
  },
  {
   "cell_type": "markdown",
   "metadata": {
    "jp-MarkdownHeadingCollapsed": true,
    "tags": []
   },
   "source": [
    "<!-- BEGIN QUESTION -->\n",
    "\n",
    "**2(e)** (1 pt.) Judging from the table, which approximation method is better? Why do you think this is?"
   ]
  },
  {
   "cell_type": "markdown",
   "metadata": {},
   "source": [
    "Judging from the table, for each n except 1 and 2, err_series have smaller relative errors than err_llimit. And especially when n get larger and larger, the error of err_series exponentially decreasing and even can even be ignore. Therefore, the second approximation method is much better than the first one. Also, in most situations taylor expansions converges faster than bernolli numbers."
   ]
  },
  {
   "cell_type": "markdown",
   "metadata": {},
   "source": [
    "<!-- END QUESTION -->\n",
    "\n",
    "### Question 3: Testing properties of an integer\n",
    "In this problem, you'll get a bit more practice working with\n",
    "conditionals, and a first exposure to the kind of thinking that is\n",
    "required in a typical \"coding interview\" question. A positive integer\n",
    "$n$ is a *power of $2$* if $n = 2^p$ for some integer $p \\ge 0$."
   ]
  },
  {
   "cell_type": "markdown",
   "metadata": {
    "jp-MarkdownHeadingCollapsed": true,
    "tags": []
   },
   "source": [
    "**3(a)** (2 pts.) Using only the division and modulus (`%`)\n",
    "    operators, write a function `is_pow_2(n)` that takes a positive integer $n$ as its only\n",
    "    argument and returns a `bool` indicating whether or not the input\n",
    "    is a power of 2. You may assume that the input is a positive\n",
    "    integer. **Hint:** the simplest solution to this problem makes\n",
    "    use of recursion, though recursion is not necessary."
   ]
  },
  {
   "cell_type": "code",
   "execution_count": 17,
   "metadata": {
    "tags": []
   },
   "outputs": [],
   "source": [
    "def is_pow_2(n):\n",
    "#\"Returns True if n = 2 ** p for some integer p >= 0.\"\n",
    "    if type(n) == int and n > 0:\n",
    "        if n == 1:\n",
    "            return True\n",
    "        else:\n",
    "            number = 0\n",
    "            while n > 1 and number < 100:\n",
    "                if n % 2 !=0:\n",
    "                    return False\n",
    "                else:\n",
    "                    n = n / 2\n",
    "                number += 1\n",
    "            return True\n",
    "    else:\n",
    "        print('Please input a positive integer!')"
   ]
  },
  {
   "cell_type": "code",
   "execution_count": 18,
   "metadata": {
    "deletable": false,
    "editable": false
   },
   "outputs": [
    {
     "data": {
      "text/html": [
       "<p><strong><pre style='display: inline;'>q3a</pre></strong> passed!</p>"
      ],
      "text/plain": [
       "q3a results: All test cases passed!"
      ]
     },
     "execution_count": 18,
     "metadata": {},
     "output_type": "execute_result"
    }
   ],
   "source": [
    "grader.check(\"q3a\")"
   ]
  },
  {
   "cell_type": "markdown",
   "metadata": {
    "jp-MarkdownHeadingCollapsed": true,
    "tags": []
   },
   "source": [
    "**3(b)** (2 pts.)\n",
    "Generalize your previous solution to a function `is_pow_k` that takes two\n",
    "    positive integers $n$ and $k$ as its arguments, in that order, and\n",
    "    returns `True` if `n` is a power of `k`\n",
    "    and `False` otherwise."
   ]
  },
  {
   "cell_type": "code",
   "execution_count": 19,
   "metadata": {
    "tags": []
   },
   "outputs": [],
   "source": [
    "def is_pow_k(n, k):\n",
    "#\"Returns True if n == k ** p for some integer p >= 0.\"\n",
    "    if type(n) == int and n > 0:\n",
    "        if n == 1:\n",
    "            return True\n",
    "        else:\n",
    "            number = 0\n",
    "            while n > 1 and number < 100:\n",
    "                if n % k !=0:\n",
    "                    return False\n",
    "                else:\n",
    "                    n = n / k\n",
    "                number += 1\n",
    "            return True\n",
    "    else:\n",
    "        print('Please input a positive integer!')"
   ]
  },
  {
   "cell_type": "code",
   "execution_count": 20,
   "metadata": {
    "deletable": false,
    "editable": false
   },
   "outputs": [
    {
     "data": {
      "text/html": [
       "<p><strong><pre style='display: inline;'>q3b</pre></strong> passed!</p>"
      ],
      "text/plain": [
       "q3b results: All test cases passed!"
      ]
     },
     "execution_count": 20,
     "metadata": {},
     "output_type": "execute_result"
    }
   ],
   "source": [
    "grader.check(\"q3b\")"
   ]
  },
  {
   "cell_type": "markdown",
   "metadata": {},
   "source": [
    "### Question 4: Root finding and minimization\n",
    "Recall that a *root* $r$ of a function $f:\\mathbb{R}\\to\\mathbb{R}$ satisfies $f(r)=0$. The [bisection method](https://en.wikipedia.org/wiki/Bisection_method) is a generic algorithm for finding the root of a continuous, real-valued function. "
   ]
  },
  {
   "cell_type": "markdown",
   "metadata": {
    "jp-MarkdownHeadingCollapsed": true,
    "tags": []
   },
   "source": [
    "**4(a)** (4 pts.) Write a function `find_root(f, a, b)` which uses the bisection method to locate a root of the function $f$ on the interval $[a,b]$. Here, $f$ is a Python function which accepts a single float, and returns a float (i.e., a real-valued function of one variable.) You may assume that $f$ is continuous and that $f(a)$ and $f(b)$ have different signs, that is, `sgn(f(a)) != sgn(f(b))` where `sgn(x)` is the sign function:"
   ]
  },
  {
   "cell_type": "code",
   "execution_count": 21,
   "metadata": {},
   "outputs": [],
   "source": [
    "def sgn(x):\n",
    "    if x < 0:\n",
    "        return -1\n",
    "    if x > 0:\n",
    "        return 1\n",
    "    return 0"
   ]
  },
  {
   "cell_type": "markdown",
   "metadata": {},
   "source": [
    "(**Note**: due to finite precision issues mentioned above, your algorithm may not find an exact root of $f$, i.e. a number such that `f(r) == 0.0`. We will say that $r$ is a root if $|f(r)|<10^{-16}$.)"
   ]
  },
  {
   "cell_type": "code",
   "execution_count": 22,
   "metadata": {
    "tags": []
   },
   "outputs": [],
   "source": [
    "def find_root(f, a, b):\n",
    "# \"Find a root of f(x) in the interval [a, b], assuming that sgn(f(a)) != sgn(f(b)).\"\n",
    "    if sgn(f(a)) == sgn(f(b)):\n",
    "        print(\"Please choose another interval where f(a)*f(b)< 0 !\")\n",
    "        return None\n",
    "    else:\n",
    "        number = 0\n",
    "        while number < 100:\n",
    "            m = (a + b) / 2\n",
    "            if abs(f(m)) < 1e-16:\n",
    "                return m\n",
    "            elif f(m) * f(a) < 0:\n",
    "                b = m\n",
    "            else:\n",
    "                a = m  \n",
    "            number += 1"
   ]
  },
  {
   "cell_type": "code",
   "execution_count": 23,
   "metadata": {
    "deletable": false,
    "editable": false
   },
   "outputs": [
    {
     "data": {
      "text/html": [
       "<p><strong><pre style='display: inline;'>q4a</pre></strong> passed!</p>"
      ],
      "text/plain": [
       "q4a results: All test cases passed!"
      ]
     },
     "execution_count": 23,
     "metadata": {},
     "output_type": "execute_result"
    }
   ],
   "source": [
    "grader.check(\"q4a\")"
   ]
  },
  {
   "cell_type": "markdown",
   "metadata": {
    "jp-MarkdownHeadingCollapsed": true,
    "tags": []
   },
   "source": [
    "<!-- BEGIN QUESTION -->\n",
    "\n",
    "**4(b)** (2 pts.) Suppose that $f:[a,b]\\to\\mathbb{R}$ is a strictly convex and continuously differentiable function. Let $x^*\\in [a,b]$ be such that $f(x^*) \\le f(x)$ for all $x\\in[a,b]$. Explain using calculus how to use the root finding algorithm you implemented above to find $x^*$."
   ]
  },
  {
   "cell_type": "markdown",
   "metadata": {},
   "source": [
    "Suppose that 𝑓:[a,b]→ℝ  is a strictly convex and continuously differentiable function, then x^* is local minimum if an d only if the derivative of f at x^* equals 0. The signs of the derivatives of numbers on the left and right sides of x^* are different add the derivative function is a monotonic function. Therefore, to find a minimum number in a convex function, the algorithm is similar as using bisection method to find a root of a function. But here we need to apply the bisection method into the function representing the continuous derivative of f and the root is the point x at which f is minimized."
   ]
  },
  {
   "cell_type": "markdown",
   "metadata": {
    "jp-MarkdownHeadingCollapsed": true,
    "tags": []
   },
   "source": [
    "<!-- END QUESTION -->\n",
    "\n",
    "**4(c)** (4 pts.) Write a function `minimize(f_prime, a, b)` that minimizes a function $f$ satisfying the assumptions of the previous question. Here `f_prime` is a function that returns the derivative of $f$ evaluated at the point $x$."
   ]
  },
  {
   "cell_type": "code",
   "execution_count": 24,
   "metadata": {
    "tags": []
   },
   "outputs": [],
   "source": [
    "def minimize(f_prime, a, b):\n",
    "    \"\"\"\n",
    "    Minimizes the convex function f over the interval [a,b].\n",
    "    \n",
    "    Args:\n",
    "        f_prime: a function representing the (continuous) derivative of f.\n",
    "        a, b: interval on which f is defined.\n",
    "        \n",
    "    Returns:\n",
    "        The point x at which f is minimized.\n",
    "    \"\"\"\n",
    "    # if f_prime(a) * f_prime(b) > 0:\n",
    "    #     print(\"The limit value does not exist in this interval!\")\n",
    "    # else:\n",
    "    #     number = 0\n",
    "    #     while number < 100:\n",
    "    #         m = (a + b) / 2\n",
    "    #         if abs(f_prime(m)) < 1e-16:\n",
    "    #             return m\n",
    "    #         elif f_prime(m) * f_prime(a) < 0:\n",
    "    #             b = m\n",
    "    #         else:\n",
    "    #             a = m  \n",
    "    #         number += 1\n",
    "    return find_root(f_prime, a, b)"
   ]
  },
  {
   "cell_type": "code",
   "execution_count": 25,
   "metadata": {
    "deletable": false,
    "editable": false
   },
   "outputs": [
    {
     "data": {
      "text/html": [
       "<p><strong><pre style='display: inline;'>q4c</pre></strong> passed!</p>"
      ],
      "text/plain": [
       "q4c results: All test cases passed!"
      ]
     },
     "execution_count": 25,
     "metadata": {},
     "output_type": "execute_result"
    }
   ],
   "source": [
    "grader.check(\"q4c\")"
   ]
  },
  {
   "cell_type": "markdown",
   "metadata": {
    "deletable": false,
    "editable": false
   },
   "source": [
    "---\n",
    "\n",
    "To double-check your work, the cell below will rerun all of the autograder tests."
   ]
  },
  {
   "cell_type": "code",
   "execution_count": 26,
   "metadata": {
    "deletable": false,
    "editable": false
   },
   "outputs": [
    {
     "data": {
      "text/plain": [
       "q1a results: All test cases passed!\n",
       "\n",
       "q2a results: All test cases passed!\n",
       "\n",
       "q2c results: All test cases passed!\n",
       "\n",
       "q2d results: All test cases passed!\n",
       "\n",
       "q3a results: All test cases passed!\n",
       "\n",
       "q3b results: All test cases passed!\n",
       "\n",
       "q4a results: All test cases passed!\n",
       "\n",
       "q4c results: All test cases passed!"
      ]
     },
     "execution_count": 26,
     "metadata": {},
     "output_type": "execute_result"
    }
   ],
   "source": [
    "grader.check_all()"
   ]
  },
  {
   "cell_type": "markdown",
   "metadata": {
    "deletable": false,
    "editable": false
   },
   "source": [
    "## Submission\n",
    "\n",
    "Make sure you have run all cells in your notebook in order before running the cell below, so that all images/graphs appear in the output. The cell below will generate a zip file for you to submit. **Please save before exporting!**\n",
    "\n",
    "Upload this .zip file to Gradescope for grading."
   ]
  },
  {
   "cell_type": "code",
   "execution_count": 27,
   "metadata": {
    "deletable": false,
    "editable": false
   },
   "outputs": [
    {
     "data": {
      "text/html": [
       "\n",
       "            <p>Your submission has been exported. Click <a href=\"ps1_2022_01_24T00_57_58_897196.zip\" download=\"ps1_2022_01_24T00_57_58_897196.zip\" target=\"_blank\">here</a>\n",
       "            to download the zip file.</p>\n",
       "            "
      ],
      "text/plain": [
       "<IPython.core.display.HTML object>"
      ]
     },
     "metadata": {},
     "output_type": "display_data"
    }
   ],
   "source": [
    "# Save your notebook first, then run this cell to export your submission.\n",
    "grader.export(pdf=False)"
   ]
  },
  {
   "cell_type": "markdown",
   "metadata": {},
   "source": [
    " "
   ]
  }
 ],
 "metadata": {
  "kernelspec": {
   "display_name": "Python 3 (ipykernel)",
   "language": "python",
   "name": "python3"
  },
  "language_info": {
   "codemirror_mode": {
    "name": "ipython",
    "version": 3
   },
   "file_extension": ".py",
   "mimetype": "text/x-python",
   "name": "python",
   "nbconvert_exporter": "python",
   "pygments_lexer": "ipython3",
   "version": "3.7.11"
  },
  "otter": {
   "tests": {
    "q1a": {
     "name": "q1a",
     "points": 4,
     "suites": [
      {
       "cases": [
        {
         "code": ">>> gcd(0, 0) == 0\nTrue",
         "hidden": false,
         "locked": false
        },
        {
         "code": ">>> for m in range(1, 10):\n...     assert gcd(0, m) == m\n",
         "hidden": false,
         "locked": false
        },
        {
         "code": ">>> gcd(1, 1) == 1\nTrue",
         "hidden": false,
         "locked": false
        },
        {
         "code": ">>> for m in range(-10, 10):\n...     assert gcd(m, 1) == 1\n...     assert gcd(m, 2) == 2 - (m % 2)\n",
         "hidden": false,
         "locked": false
        }
       ],
       "scored": true,
       "setup": "",
       "teardown": "",
       "type": "doctest"
      }
     ]
    },
    "q2a": {
     "name": "q2a",
     "points": 2,
     "suites": [
      {
       "cases": [
        {
         "code": ">>> e_limit(1) == 2.\nTrue",
         "hidden": false,
         "locked": false
        },
        {
         "code": ">>> e_limit(2) == 2.25\nTrue",
         "hidden": false,
         "locked": false
        }
       ],
       "scored": true,
       "setup": "",
       "teardown": "",
       "type": "doctest"
      }
     ]
    },
    "q2c": {
     "name": "q2c",
     "points": 2,
     "suites": [
      {
       "cases": [
        {
         "code": ">>> e_series(0) == 0\nTrue",
         "hidden": false,
         "locked": false
        },
        {
         "code": ">>> e_series(1) == 1.\nTrue",
         "hidden": false,
         "locked": false
        }
       ],
       "scored": true,
       "setup": "",
       "teardown": "",
       "type": "doctest"
      }
     ]
    },
    "q2d": {
     "name": "q2d",
     "points": 2,
     "suites": [
      {
       "cases": [
        {
         "code": ">>> for k in range(1, 5, 10):\n...     assert len(error_table(k)) == k\n",
         "hidden": false,
         "locked": false
        },
        {
         "code": ">>> assert abs(error_table(1)[0]['err_limit'] - 0.26424111765711533) < 1e-6\n>>> assert abs(error_table(1)[0]['err_series'] - 0.6321205588285577) < 1e-6\n",
         "hidden": false,
         "locked": false
        }
       ],
       "scored": true,
       "setup": "",
       "teardown": "",
       "type": "doctest"
      }
     ]
    },
    "q3a": {
     "name": "q3a",
     "points": 2,
     "suites": [
      {
       "cases": [
        {
         "code": ">>> is_pow_2(2) == True\nTrue",
         "hidden": false,
         "locked": false
        },
        {
         "code": ">>> is_pow_2(1) == True\nTrue",
         "hidden": false,
         "locked": false
        }
       ],
       "scored": true,
       "setup": "",
       "teardown": "",
       "type": "doctest"
      }
     ]
    },
    "q3b": {
     "name": "q3b",
     "points": 2,
     "suites": [
      {
       "cases": [
        {
         "code": ">>> for k in range(1, 20):\n...     assert is_pow_k(k, k)\n",
         "hidden": false,
         "locked": false
        }
       ],
       "scored": true,
       "setup": "",
       "teardown": "",
       "type": "doctest"
      }
     ]
    },
    "q4a": {
     "name": "q4a",
     "points": 4,
     "suites": [
      {
       "cases": [
        {
         "code": ">>> f = lambda x: x ** 3\n>>> r = find_root(f, -4, 3)\n>>> assert abs(f(r)) < 1e-16\n",
         "hidden": false,
         "locked": false
        },
        {
         "code": ">>> r = find_root(math.cos, 0, 3.14)\n>>> assert abs(math.cos(r)) < 1e-16\n",
         "hidden": false,
         "locked": false
        }
       ],
       "scored": true,
       "setup": "",
       "teardown": "",
       "type": "doctest"
      }
     ]
    },
    "q4c": {
     "name": "q4c",
     "points": 4,
     "suites": [
      {
       "cases": [
        {
         "code": ">>> f_prime = lambda x: 2 * x  # derivative of f(x) = x^2\n>>> assert abs(minimize(f_prime, -10, 10) - 0) < 1e-8\n",
         "hidden": false,
         "locked": false
        },
        {
         "code": ">>> f_prime = lambda x: -math.cos(x)  # derivative of f(x) = -sin(x)\n>>> assert abs(minimize(f_prime, 0, 3.14) - math.pi/2) < 1e-8\n",
         "hidden": false,
         "locked": false
        }
       ],
       "scored": true,
       "setup": "",
       "teardown": "",
       "type": "doctest"
      }
     ]
    }
   }
  },
  "varInspector": {
   "cols": {
    "lenName": 16,
    "lenType": 16,
    "lenVar": 40
   },
   "kernels_config": {
    "python": {
     "delete_cmd_postfix": "",
     "delete_cmd_prefix": "del ",
     "library": "var_list.py",
     "varRefreshCmd": "print(var_dic_list())"
    },
    "r": {
     "delete_cmd_postfix": ") ",
     "delete_cmd_prefix": "rm(",
     "library": "var_list.r",
     "varRefreshCmd": "cat(var_dic_list()) "
    }
   },
   "types_to_exclude": [
    "module",
    "function",
    "builtin_function_or_method",
    "instance",
    "_Feature"
   ],
   "window_display": false
  }
 },
 "nbformat": 4,
 "nbformat_minor": 4
}
