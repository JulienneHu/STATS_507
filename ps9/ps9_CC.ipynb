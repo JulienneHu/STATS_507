{
 "cells": [
  {
   "cell_type": "code",
   "execution_count": 1,
   "id": "a742bc9d",
   "metadata": {
    "deletable": false,
    "editable": false
   },
   "outputs": [],
   "source": [
    "# Initialize Otter\n",
    "import otter\n",
    "grader = otter.Notebook(\"ps9.ipynb\")"
   ]
  },
  {
   "cell_type": "markdown",
   "id": "46962091",
   "metadata": {},
   "source": [
    "# PS9: Map and reduce with PySpark"
   ]
  },
  {
   "cell_type": "code",
   "execution_count": 2,
   "id": "4361d08c",
   "metadata": {},
   "outputs": [
    {
     "name": "stderr",
     "output_type": "stream",
     "text": [
      "WARNING: An illegal reflective access operation has occurred\n",
      "WARNING: Illegal reflective access by org.apache.spark.unsafe.Platform (file:/opt/homebrew/anaconda3/envs/math/lib/python3.8/site-packages/pyspark/jars/spark-unsafe_2.12-3.1.2.jar) to constructor java.nio.DirectByteBuffer(long,int)\n",
      "WARNING: Please consider reporting this to the maintainers of org.apache.spark.unsafe.Platform\n",
      "WARNING: Use --illegal-access=warn to enable warnings of further illegal reflective access operations\n",
      "WARNING: All illegal access operations will be denied in a future release\n",
      "22/03/27 16:00:41 WARN NativeCodeLoader: Unable to load native-hadoop library for your platform... using builtin-java classes where applicable\n",
      "Using Spark's default log4j profile: org/apache/spark/log4j-defaults.properties\n",
      "Setting default log level to \"WARN\".\n",
      "To adjust logging level use sc.setLogLevel(newLevel). For SparkR, use setLogLevel(newLevel).\n"
     ]
    }
   ],
   "source": [
    "import pyspark\n",
    "spark = pyspark.sql.SparkSession.builder.\\\n",
    "    appName('ps9').\\\n",
    "    config('spark.ui.showConsoleProgress', False).\\\n",
    "    getOrCreate()\n",
    "sc = spark.sparkContext"
   ]
  },
  {
   "cell_type": "markdown",
   "id": "7e9ed042",
   "metadata": {},
   "source": [
    "# Problem 1\n",
    "\n",
    "This problem concerns counting words in text using `PySpark`."
   ]
  },
  {
   "cell_type": "code",
   "execution_count": 3,
   "id": "d7c6d538",
   "metadata": {},
   "outputs": [
    {
     "data": {
      "text/plain": [
       "['Raining cats and dogs',\n",
       " 'Cats eat mice, mice eat cheese',\n",
       " 'Mice and cats and dogs have fleas']"
      ]
     },
     "execution_count": 3,
     "metadata": {},
     "output_type": "execute_result"
    }
   ],
   "source": [
    "simple_text_rdd = sc.textFile('simple.txt')\n",
    "simple_text_rdd.collect()"
   ]
  },
  {
   "cell_type": "code",
   "execution_count": 4,
   "id": "f0be2afc",
   "metadata": {},
   "outputs": [
    {
     "data": {
      "text/plain": [
       "pyspark.rdd.RDD"
      ]
     },
     "execution_count": 4,
     "metadata": {},
     "output_type": "execute_result"
    }
   ],
   "source": [
    "type(simple_text_rdd)"
   ]
  },
  {
   "cell_type": "code",
   "execution_count": 5,
   "id": "b0836ab1-df2a-44d7-acd3-67d76fc9922e",
   "metadata": {},
   "outputs": [
    {
     "data": {
      "text/plain": [
       "defaultdict(int,\n",
       "            {'raining': 1,\n",
       "             'cats': 3,\n",
       "             'and': 3,\n",
       "             'dogs': 2,\n",
       "             'eat': 2,\n",
       "             'mice': 3,\n",
       "             'cheese': 1,\n",
       "             'have': 1,\n",
       "             'fleas': 1})"
      ]
     },
     "execution_count": 5,
     "metadata": {},
     "output_type": "execute_result"
    }
   ],
   "source": [
    "simple_text_rdd.map(str.lower).flatMap(lambda line:line.replace(\",\",\"\").split(\" \")).map(lambda x:(x,1)).countByKey()"
   ]
  },
  {
   "cell_type": "markdown",
   "id": "d310cb42",
   "metadata": {},
   "source": [
    "## Part (a)\n",
    "Write a function, called `count_words_per_line(text_rdd)`, which counts how many time each word appears in each line. The input `text_rdd` is a Resilient Distributed Dataset (`RDD`) of a text file, and the output will be another `RDD`.\n",
    "- You should be able to perform this using solely `.map` operations on `text_rdd`.\n",
    "- Your script should strip commas, colons, semicolons and periods, but leave other punctuation in place.\n",
    "- Your script should ignore case.\n",
    "- The output should be an `RDD` of `Counter` objects. When `.collect()` is called, the output should have the same length as the number of lines in the text."
   ]
  },
  {
   "cell_type": "code",
   "execution_count": 6,
   "id": "0f4ca801",
   "metadata": {},
   "outputs": [],
   "source": [
    "from collections import Counter"
   ]
  },
  {
   "cell_type": "code",
   "execution_count": 7,
   "id": "fe375417",
   "metadata": {
    "tags": []
   },
   "outputs": [],
   "source": [
    "def count_words_per_line(text: pyspark.RDD):\n",
    "    return text.map(str.lower).map(lambda line:line.replace(\",\",\"\").replace(':','').replace(';','').replace('.','').split(\" \")).map(lambda line:Counter(line))"
   ]
  },
  {
   "cell_type": "code",
   "execution_count": 8,
   "id": "92071ab9-9509-4059-b147-0bd563d7dd12",
   "metadata": {},
   "outputs": [],
   "source": [
    "# map(lambda x:(x,1)).countByKey()"
   ]
  },
  {
   "cell_type": "code",
   "execution_count": 9,
   "id": "e3ba4348-47f8-4847-9d9d-1942011f47cd",
   "metadata": {},
   "outputs": [],
   "source": [
    "# a=[1,1,2,2,3,4,5]\n",
    "# collections.Counter(a)"
   ]
  },
  {
   "cell_type": "code",
   "execution_count": 10,
   "id": "8cfda062-4926-4e87-946c-47db56e7f122",
   "metadata": {},
   "outputs": [],
   "source": [
    "import collections"
   ]
  },
  {
   "cell_type": "code",
   "execution_count": 11,
   "id": "530583ef-79aa-461c-b211-b9e77d1c5b5c",
   "metadata": {},
   "outputs": [
    {
     "data": {
      "text/plain": [
       "defaultdict(int,\n",
       "            {'raining': 1,\n",
       "             'cats': 3,\n",
       "             'and': 3,\n",
       "             'dogs': 2,\n",
       "             'eat': 2,\n",
       "             'mice': 3,\n",
       "             'cheese': 1,\n",
       "             'have': 1,\n",
       "             'fleas': 1})"
      ]
     },
     "execution_count": 11,
     "metadata": {},
     "output_type": "execute_result"
    }
   ],
   "source": [
    "simple_text_rdd.map(str.lower).flatMap(lambda line:line.replace(\",\",\"\").split(\" \")).map(lambda x:(x,1)).countByKey()"
   ]
  },
  {
   "cell_type": "code",
   "execution_count": 12,
   "id": "bbc1be0d-0b53-4119-a620-12b57f6550ff",
   "metadata": {},
   "outputs": [
    {
     "data": {
      "text/plain": [
       "PythonRDD[4] at RDD at PythonRDD.scala:53"
      ]
     },
     "execution_count": 12,
     "metadata": {},
     "output_type": "execute_result"
    }
   ],
   "source": [
    "count_words_per_line(simple_text_rdd)"
   ]
  },
  {
   "cell_type": "code",
   "execution_count": 13,
   "id": "41dedaf6",
   "metadata": {
    "deletable": false,
    "editable": false
   },
   "outputs": [
    {
     "data": {
      "text/html": [
       "<p><strong><pre style='display: inline;'>q1a</pre></strong> passed!</p>"
      ],
      "text/plain": [
       "q1a results: All test cases passed!"
      ]
     },
     "execution_count": 13,
     "metadata": {},
     "output_type": "execute_result"
    }
   ],
   "source": [
    "grader.check(\"q1a\")"
   ]
  },
  {
   "cell_type": "markdown",
   "id": "fc0ede6b",
   "metadata": {},
   "source": [
    "## Part (b)\n",
    "Using your answer from part (a), write a function called `count_words` that returns a `Counter` of the words in the input text.\n",
    "(Hint: use the `.reduce()` or `.fold()` method)"
   ]
  },
  {
   "cell_type": "code",
   "execution_count": 14,
   "id": "e2208052-87af-4ad6-97bb-0ab2ee263194",
   "metadata": {},
   "outputs": [],
   "source": [
    "from operator import add"
   ]
  },
  {
   "cell_type": "code",
   "execution_count": 15,
   "id": "185091ef",
   "metadata": {
    "tags": []
   },
   "outputs": [],
   "source": [
    "def count_words(text: pyspark.RDD):\n",
    "    return count_words_per_line(text).reduce(add)"
   ]
  },
  {
   "cell_type": "code",
   "execution_count": 16,
   "id": "8d18404e-fd69-4c49-bc3f-21e06d4f9109",
   "metadata": {},
   "outputs": [
    {
     "data": {
      "text/plain": [
       "PythonRDD[6] at RDD at PythonRDD.scala:53"
      ]
     },
     "execution_count": 16,
     "metadata": {},
     "output_type": "execute_result"
    }
   ],
   "source": [
    "count_words_per_line(simple_text_rdd)"
   ]
  },
  {
   "cell_type": "code",
   "execution_count": 17,
   "id": "8b7039e8-8a3c-4d99-8c98-04e219a62179",
   "metadata": {},
   "outputs": [
    {
     "data": {
      "text/plain": [
       "Counter({'raining': 1,\n",
       "         'cats': 3,\n",
       "         'and': 3,\n",
       "         'dogs': 2,\n",
       "         'eat': 2,\n",
       "         'mice': 3,\n",
       "         'cheese': 1,\n",
       "         'have': 1,\n",
       "         'fleas': 1})"
      ]
     },
     "execution_count": 17,
     "metadata": {},
     "output_type": "execute_result"
    }
   ],
   "source": [
    "count_words(simple_text_rdd)"
   ]
  },
  {
   "cell_type": "code",
   "execution_count": 18,
   "id": "6aa62df0",
   "metadata": {
    "deletable": false,
    "editable": false
   },
   "outputs": [
    {
     "data": {
      "text/html": [
       "<p><strong><pre style='display: inline;'>q1b</pre></strong> passed!</p>"
      ],
      "text/plain": [
       "q1b results: All test cases passed!"
      ]
     },
     "execution_count": 18,
     "metadata": {},
     "output_type": "execute_result"
    }
   ],
   "source": [
    "grader.check(\"q1b\")"
   ]
  },
  {
   "cell_type": "markdown",
   "id": "d3d8348c",
   "metadata": {
    "tags": []
   },
   "source": [
    "## Part (c)\n",
    "\n",
    "Write a function called `counter_to_rdd` that takes a Counter object and returns an RDD object such that each element is `(word, log(count))`, where `log()` is the natural logarithm, and sorted in descending order by `log(count)`."
   ]
  },
  {
   "cell_type": "code",
   "execution_count": null,
   "id": "28021012-b36d-4598-81be-b42d7e79837d",
   "metadata": {},
   "outputs": [],
   "source": []
  },
  {
   "cell_type": "code",
   "execution_count": 19,
   "id": "84d51f85",
   "metadata": {
    "tags": []
   },
   "outputs": [],
   "source": [
    "import math\n",
    "def counter_to_rdd(word_count):\n",
    "    a = word_count.most_common()\n",
    "    RDD_file = sc.parallelize(a)\n",
    "    log_words = RDD_file.map(lambda line:(line[0],math.log(line[1])))\n",
    "    return log_words"
   ]
  },
  {
   "cell_type": "code",
   "execution_count": 20,
   "id": "708e0657",
   "metadata": {},
   "outputs": [
    {
     "data": {
      "text/plain": [
       "'The Project Gutenberg eBook of On the Origin of Species, by Charles Darwin'"
      ]
     },
     "execution_count": 20,
     "metadata": {},
     "output_type": "execute_result"
    }
   ],
   "source": [
    "darwin_rdd = sc.textFile('darwin.txt')\n",
    "darwin_rdd.first()"
   ]
  },
  {
   "cell_type": "code",
   "execution_count": 21,
   "id": "e416cda8-f31c-49f9-8501-bb7c9838553a",
   "metadata": {},
   "outputs": [],
   "source": [
    "darwin_word_count=count_words(darwin_rdd)"
   ]
  },
  {
   "cell_type": "code",
   "execution_count": 22,
   "id": "72a486db",
   "metadata": {},
   "outputs": [],
   "source": [
    "# simple_word_count = count_words(simple_text_rdd)\n",
    "# lst = list(enumerate(counter_to_rdd(simple_word_count).collect(),1))\n",
    "# x = [i[0] for i in lst]\n",
    "# y = [i[1][1] for i in lst]\n",
    "# fig = plt.plot\n",
    "# fig(x, y, \"o-\")\n",
    "# plt.draw()\n",
    "# plt.show()"
   ]
  },
  {
   "cell_type": "code",
   "execution_count": 23,
   "id": "69addb92-3f87-4ead-b32b-1047ef23004e",
   "metadata": {},
   "outputs": [],
   "source": [
    "# a=count_words(simple_text_rdd)\n",
    "# a.keys()"
   ]
  },
  {
   "cell_type": "code",
   "execution_count": null,
   "id": "f8281e35-5741-4bae-a2fa-00816ec07213",
   "metadata": {},
   "outputs": [],
   "source": []
  },
  {
   "cell_type": "code",
   "execution_count": 24,
   "id": "7971d309",
   "metadata": {
    "deletable": false,
    "editable": false
   },
   "outputs": [
    {
     "data": {
      "text/html": [
       "<p><strong><pre style='display: inline;'>q1c</pre></strong> passed!</p>"
      ],
      "text/plain": [
       "q1c results: All test cases passed!"
      ]
     },
     "execution_count": 24,
     "metadata": {},
     "output_type": "execute_result"
    }
   ],
   "source": [
    "grader.check(\"q1c\")"
   ]
  },
  {
   "cell_type": "markdown",
   "id": "9e6dbee9",
   "metadata": {},
   "source": [
    "<!-- BEGIN QUESTION -->\n",
    "\n",
    "## Part (d)\n",
    "\n",
    "Collect the output of the sorted log word counts and plot it using `matplotlib`.\n",
    "\n",
    "Zipf’s law\n",
    "states, roughly, that if one plots word frequency against frequency rank\n",
    "(i.e., most frequent word, second most frequent word, etc.), the resulting line is (approximately) linear on a log-log scale. Using the information in darwin word counts.txt,\n",
    "make a plot of word frequency as a function of word rank on a log-log scale for all\n",
    "words in the file\n",
    "`darwin.txt` \n",
    "\n",
    "How “Zipfian” does the resulting plot look? Write an answer in the box below. (It suffices for you to state whether or\n",
    "not your plot looks approximately like a line)"
   ]
  },
  {
   "cell_type": "markdown",
   "id": "f1d563f6",
   "metadata": {},
   "source": [
    "The resulting line is (approximately) linear on a log-log scale. "
   ]
  },
  {
   "cell_type": "code",
   "execution_count": 25,
   "id": "f78d38d8",
   "metadata": {
    "tags": []
   },
   "outputs": [
    {
     "data": {
      "image/png": "[encoded data removed]",
      "text/plain": [
       "<Figure size 432x288 with 1 Axes>"
      ]
     },
     "metadata": {
      "needs_background": "light"
     },
     "output_type": "display_data"
    }
   ],
   "source": [
    "import numpy as np\n",
    "from matplotlib import pyplot as plt\n",
    "\n",
    "darwin_word_count = count_words(darwin_rdd)\n",
    "lst = list(enumerate(counter_to_rdd(darwin_word_count).collect(),1))\n",
    "x = [math.log(i[0]) for i in lst]\n",
    "y = [i[1][1] for i in lst]\n",
    "fig = plt.plot\n",
    "fig(x, y, \"o-\")\n",
    "plt.draw()\n",
    "plt.show()"
   ]
  },
  {
   "cell_type": "code",
   "execution_count": null,
   "id": "4deaeefe-a7ea-4aa8-be2c-cd50491cc938",
   "metadata": {},
   "outputs": [],
   "source": []
  },
  {
   "cell_type": "markdown",
   "id": "376dbd45",
   "metadata": {
    "tags": []
   },
   "source": [
    "<!-- END QUESTION -->\n",
    "\n",
    "# Problem 2\n",
    "The performance gains from PySpark come from using its SQL-like syntax on tabular data."
   ]
  },
  {
   "cell_type": "markdown",
   "id": "d2a1d955",
   "metadata": {},
   "source": [
    "## Part (a)\n",
    "Write a function called `read_population_df` that reads in `populations_small.txt` as a PySpark DataFrame. The result should have two columns labelled `id` and `value`. \n",
    "\n",
    "Note: `id` should be `LongType` and `value` should be `DoubleType`."
   ]
  },
  {
   "cell_type": "code",
   "execution_count": 26,
   "id": "cb0541f9",
   "metadata": {},
   "outputs": [],
   "source": [
    "from pyspark.sql import types as T\n",
    "from pyspark.sql import functions as F"
   ]
  },
  {
   "cell_type": "code",
   "execution_count": 27,
   "id": "62b13a35",
   "metadata": {},
   "outputs": [],
   "source": [
    "def get_csv_schema(*args):\n",
    "    return T.StructType([\n",
    "        T.StructField(*arg)\n",
    "        for arg in args\n",
    "    ])"
   ]
  },
  {
   "cell_type": "code",
   "execution_count": 28,
   "id": "4803a97e",
   "metadata": {
    "tags": []
   },
   "outputs": [],
   "source": [
    "from pyspark.sql.types import DoubleType, LongType, IntegerType\n",
    "def read_population_df(filename: str) -> pyspark.sql.DataFrame:\n",
    "    file = spark.read.csv(filename)\n",
    "    split_col = pyspark.sql.functions.split(file[0], ' ')\n",
    "    output = file.withColumn('id', split_col.getItem(0).cast(LongType()))\\\n",
    "       .withColumn('value', split_col.getItem(1).cast(DoubleType())).select([\"id\", \"value\"])\n",
    "    return output"
   ]
  },
  {
   "cell_type": "code",
   "execution_count": 29,
   "id": "6dbdf616",
   "metadata": {
    "deletable": false,
    "editable": false
   },
   "outputs": [
    {
     "data": {
      "text/html": [
       "<p><strong><pre style='display: inline;'>q2a</pre></strong> passed!</p>"
      ],
      "text/plain": [
       "q2a results: All test cases passed!"
      ]
     },
     "execution_count": 29,
     "metadata": {},
     "output_type": "execute_result"
    }
   ],
   "source": [
    "grader.check(\"q2a\")"
   ]
  },
  {
   "cell_type": "markdown",
   "id": "145d6226",
   "metadata": {},
   "source": [
    "## Part (b)\n",
    "\n",
    "Write a function called `pop_mean_stddev` that takes a DataFrame with two columns, `id` and `value`,\n",
    "and returns a data-frame where each row indicates mean and standard deviation of `value` for a particular value of `id`.\n",
    "\n",
    "The resulting DataFrame should have three columns (`id`, `mean` and `stddev`) and should be sorted in ascending order by `id`."
   ]
  },
  {
   "cell_type": "code",
   "execution_count": 30,
   "id": "a1644a93",
   "metadata": {
    "tags": []
   },
   "outputs": [],
   "source": [
    "def pop_mean_stddev(pop_df):\n",
    "    return pop_df.groupBy('id').agg(F.mean('value').alias('mean'),F.stddev_samp('value').alias('stddev')).sort(\"id\")"
   ]
  },
  {
   "cell_type": "code",
   "execution_count": 31,
   "id": "0e2150f7",
   "metadata": {
    "deletable": false,
    "editable": false
   },
   "outputs": [
    {
     "data": {
      "text/html": [
       "<p><strong><pre style='display: inline;'>q2b</pre></strong> passed!</p>"
      ],
      "text/plain": [
       "q2b results: All test cases passed!"
      ]
     },
     "execution_count": 31,
     "metadata": {},
     "output_type": "execute_result"
    }
   ],
   "source": [
    "grader.check(\"q2b\")"
   ]
  },
  {
   "cell_type": "markdown",
   "id": "a2d82fee",
   "metadata": {},
   "source": [
    "# Problem 3"
   ]
  },
  {
   "cell_type": "markdown",
   "id": "edaf168b",
   "metadata": {},
   "source": [
    "Recall the `fb.txt.gz` text file. You are given a PySpark Dataframe `fb_df` with one column called \"value\", which is a string. The first number is the user id, and the following number are their friends."
   ]
  },
  {
   "cell_type": "code",
   "execution_count": 32,
   "id": "626cdb62",
   "metadata": {},
   "outputs": [
    {
     "data": {
      "text/plain": [
       "[Row(value='0 1 2 3 4 5 6 7 8 9 10 11 12 13 14 15 16 17 18 19 20 21 22 23 24 25 26 27 28 29 30 31 32 33 34 35 36 37 38 39 40 41 42 43 44 45 46 47 48 49 50 51 52 53 54 55 56 57 58 59 60 61 62 63 64 65 66 67 68 69 70 71 72 73 74 75 76 77 78 79 80 81 82 83 84 85 86 87 88 89 90 91 92 93 94 95 96 97 98 99 100 101 102 103 104 105 106 107 108 109 110 111 112 113 114 115 116 117 118 119 120 121 122 123 124 125 126 127 128 129 130 131 132 133 134 135 136 137 138 139 140 141 142 143 144 145 146 147 148 149 150 151 152 153 154 155 156 157 158 159 160 161 162 163 164 165 166 167 168 169 170 171 172 173 174 175 176 177 178 179 180 181 182 183 184 185 186 187 188 189 190 191 192 193 194 195 196 197 198 199 200 201 202 203 204 205 206 207 208 209 210 211 212 213 214 215 216 217 218 219 220 221 222 223 224 225 226 227 228 229 230 231 232 233 234 235 236 237 238 239 240 241 242 243 244 245 246 247 248 249 250 251 252 253 254 255 256 257 258 259 260 261 262 263 264 265 266 267 268 269 270 271 272 273 274 275 276 277 278 279 280 281 282 283 284 285 286 287 288 289 290 291 292 293 294 295 296 297 298 299 300 301 302 303 304 305 306 307 308 309 310 311 312 313 314 315 316 317 318 319 320 321 322 323 324 325 326 327 328 329 330 331 332 333 334 335 336 337 338 339 340 341 342 343 344 345 346 347'),\n",
       " Row(value='1 48 53 54 73 88 92 119 126 133 194 236 280 299 315 322 346'),\n",
       " Row(value='2 20 115 116 149 226 312 326 333 343'),\n",
       " Row(value='3 9 25 26 67 72 85 122 142 170 188 200 228 274 280 283 323'),\n",
       " Row(value='4 78 152 181 195 218 273 275 306 328')]"
      ]
     },
     "execution_count": 32,
     "metadata": {},
     "output_type": "execute_result"
    }
   ],
   "source": [
    "import pyspark.sql.functions as F\n",
    "fb_df = spark.read.text(\"fb.txt.gz\")\n",
    "fb_df.take(5)"
   ]
  },
  {
   "cell_type": "code",
   "execution_count": 33,
   "id": "32bd3c3b-1250-49db-94d7-fe155a036448",
   "metadata": {},
   "outputs": [
    {
     "data": {
      "text/plain": [
       "[Row(value='0 1 2 3 4 5 6 7 8 9 10 11 12 13 14 15 16 17 18 19 20 21 22 23 24 25 26 27 28 29 30 31 32 33 34 35 36 37 38 39 40 41 42 43 44 45 46 47 48 49 50 51 52 53 54 55 56 57 58 59 60 61 62 63 64 65 66 67 68 69 70 71 72 73 74 75 76 77 78 79 80 81 82 83 84 85 86 87 88 89 90 91 92 93 94 95 96 97 98 99 100 101 102 103 104 105 106 107 108 109 110 111 112 113 114 115 116 117 118 119 120 121 122 123 124 125 126 127 128 129 130 131 132 133 134 135 136 137 138 139 140 141 142 143 144 145 146 147 148 149 150 151 152 153 154 155 156 157 158 159 160 161 162 163 164 165 166 167 168 169 170 171 172 173 174 175 176 177 178 179 180 181 182 183 184 185 186 187 188 189 190 191 192 193 194 195 196 197 198 199 200 201 202 203 204 205 206 207 208 209 210 211 212 213 214 215 216 217 218 219 220 221 222 223 224 225 226 227 228 229 230 231 232 233 234 235 236 237 238 239 240 241 242 243 244 245 246 247 248 249 250 251 252 253 254 255 256 257 258 259 260 261 262 263 264 265 266 267 268 269 270 271 272 273 274 275 276 277 278 279 280 281 282 283 284 285 286 287 288 289 290 291 292 293 294 295 296 297 298 299 300 301 302 303 304 305 306 307 308 309 310 311 312 313 314 315 316 317 318 319 320 321 322 323 324 325 326 327 328 329 330 331 332 333 334 335 336 337 338 339 340 341 342 343 344 345 346 347'),\n",
       " Row(value='1 48 53 54 73 88 92 119 126 133 194 236 280 299 315 322 346')]"
      ]
     },
     "execution_count": 33,
     "metadata": {},
     "output_type": "execute_result"
    }
   ],
   "source": [
    "fb_df.head(2)"
   ]
  },
  {
   "cell_type": "markdown",
   "id": "8368233e",
   "metadata": {},
   "source": [
    "## Part (a)"
   ]
  },
  {
   "cell_type": "markdown",
   "id": "08c175aa",
   "metadata": {},
   "source": [
    "Write a function called parse_friends which transforms `fb_df` into a PySpark dataframe with two columns:\n",
    " - `id`: String indicating the friend\n",
    " - `friends`: An array column where each entry is the friends of `id` whose ids come after `id`.\n",
    " \n",
    "\n",
    "```\n",
    ">>> friends = parse_friends(fb_df)\n",
    ">>> friends.take(2)\n",
    "[Row(id='0', friends=['1', '2', '3', '4', '5', '6', '7', '8', '9', '10', '11', '12', '13', '14', '15', '16', '17', '18', '19', '20', '21', '22', '23', '24', '25', '26', '27', '28', '29', '30', '31', '32', '33', '34', '35', '36', '37', '38', '39', '40', '41', '42', '43', '44', '45', '46', '47', '48', '49', '50', '51', '52', '53', '54', '55', '56', '57', '58', '59', '60', '61', '62', '63', '64', '65', '66', '67', '68', '69', '70', '71', '72', '73', '74', '75', '76', '77', '78', '79', '80', '81', '82', '83', '84', '85', '86', '87', '88', '89', '90', '91', '92', '93', '94', '95', '96', '97', '98', '99', '100', '101', '102', '103', '104', '105', '106', '107', '108', '109', '110', '111', '112', '113', '114', '115', '116', '117', '118', '119', '120', '121', '122', '123', '124', '125', '126', '127', '128', '129', '130', '131', '132', '133', '134', '135', '136', '137', '138', '139', '140', '141', '142', '143', '144', '145', '146', '147', '148', '149', '150', '151', '152', '153', '154', '155', '156', '157', '158', '159', '160', '161', '162', '163', '164', '165', '166', '167', '168', '169', '170', '171', '172', '173', '174', '175', '176', '177', '178', '179', '180', '181', '182', '183', '184', '185', '186', '187', '188', '189', '190', '191', '192', '193', '194', '195', '196', '197', '198', '199', '200', '201', '202', '203', '204', '205', '206', '207', '208', '209', '210', '211', '212', '213', '214', '215', '216', '217', '218', '219', '220', '221', '222', '223', '224', '225', '226', '227', '228', '229', '230', '231', '232', '233', '234', '235', '236', '237', '238', '239', '240', '241', '242', '243', '244', '245', '246', '247', '248', '249', '250', '251', '252', '253', '254', '255', '256', '257', '258', '259', '260', '261', '262', '263', '264', '265', '266', '267', '268', '269', '270', '271', '272', '273', '274', '275', '276', '277', '278', '279', '280', '281', '282', '283', '284', '285', '286', '287', '288', '289', '290', '291', '292', '293', '294', '295', '296', '297', '298', '299', '300', '301', '302', '303', '304', '305', '306', '307', '308', '309', '310', '311', '312', '313', '314', '315', '316', '317', '318', '319', '320', '321', '322', '323', '324', '325', '326', '327', '328', '329', '330', '331', '332', '333', '334', '335', '336', '337', '338', '339', '340', '341', '342', '343', '344', '345', '346', '347']),\n",
    " Row(id='1', friends=['48', '53', '54', '73', '88', '92', '119', '126', '133', '194', '236', '280', '299', '315', '322', '346'])]\n",
    " ```\n",
    " `"
   ]
  },
  {
   "cell_type": "code",
   "execution_count": 34,
   "id": "063755f6-63f9-4e0f-b687-2703c57b1024",
   "metadata": {},
   "outputs": [
    {
     "data": {
      "text/plain": [
       "Column<'value'>"
      ]
     },
     "execution_count": 34,
     "metadata": {},
     "output_type": "execute_result"
    }
   ],
   "source": [
    "from pyspark.sql.functions import split, col\n",
    "split_col = pyspark.sql.functions.split(fb_df[\"value\"], ' ', 2).getItem(0)\n",
    "fb_df[\"value\"]"
   ]
  },
  {
   "cell_type": "code",
   "execution_count": 35,
   "id": "e2885088",
   "metadata": {
    "tags": []
   },
   "outputs": [],
   "source": [
    "def parse_friends(fb_df):\n",
    "    fb_df = fb_df.withColumn('value', F.split(F.col(\"value\"), \" \"))\\\n",
    "        .withColumn(\"id\" ,F.expr(\"slice(value,1, 1)\"))\\\n",
    "        .withColumn(\"friends\" ,F.expr(\"slice(value,2, size(value))\")).drop('value')\\\n",
    "        \n",
    "    fb_df = fb_df.withColumn(\"id\", F.concat_ws(\"\",F.col(\"id\")))\n",
    "    return fb_df"
   ]
  },
  {
   "cell_type": "code",
   "execution_count": 36,
   "id": "7a093590",
   "metadata": {},
   "outputs": [
    {
     "data": {
      "text/plain": [
       "[Row(id='4021', friends=['4026', '4030']),\n",
       " Row(id='4023', friends=['4030', '4031', '4034', '4038']),\n",
       " Row(id='4026', friends=['4030']),\n",
       " Row(id='4027', friends=['4031', '4032', '4038']),\n",
       " Row(id='4031', friends=['4038'])]"
      ]
     },
     "execution_count": 36,
     "metadata": {},
     "output_type": "execute_result"
    }
   ],
   "source": [
    "parse_friends(fb_df).tail(5)"
   ]
  },
  {
   "cell_type": "markdown",
   "id": "9ac58567-38d3-4b59-bf07-b70ac5b25edc",
   "metadata": {},
   "source": [
    "# fb_df = spark.read.csv(\"fb.txt.gz\")\n",
    "\n",
    "    # split id out and remove a space in value\n",
    "split_col = F.split(fb_df[\"_c0\"], \" \")\n",
    "fb_df = fb_df.withColumn(\"id\", split_col[0]).withColumn(\n",
    "        \"friends\", F.expr(\"substring(_c0, 1, length(_c0))\")).drop(\"_c0\")\n",
    "fb_df.show()"
   ]
  },
  {
   "cell_type": "code",
   "execution_count": 37,
   "id": "9580a367",
   "metadata": {
    "deletable": false,
    "editable": false
   },
   "outputs": [
    {
     "data": {
      "text/html": [
       "<p><strong><pre style='display: inline;'>q3a</pre></strong> passed!</p>"
      ],
      "text/plain": [
       "q3a results: All test cases passed!"
      ]
     },
     "execution_count": 37,
     "metadata": {},
     "output_type": "execute_result"
    }
   ],
   "source": [
    "grader.check(\"q3a\")"
   ]
  },
  {
   "cell_type": "markdown",
   "id": "4c981005",
   "metadata": {},
   "source": [
    "## Part (b)"
   ]
  },
  {
   "cell_type": "markdown",
   "id": "92eb655b",
   "metadata": {},
   "source": [
    "Write a function called `get_friend_pairs(fb_df)` which finds all pairs of friends in `fb_df`."
   ]
  },
  {
   "cell_type": "code",
   "execution_count": 38,
   "id": "20affdf7",
   "metadata": {
    "tags": []
   },
   "outputs": [],
   "source": [
    "def get_friend_pairs(fb_df):\n",
    "    par_frie = parse_friends(fb_df)\n",
    "    return par_frie.select(par_frie.id, F.explode(par_frie.friends).alias(\"friend2\")).withColumnRenamed(\"id\", \"friend1\")\n"
   ]
  },
  {
   "cell_type": "code",
   "execution_count": 39,
   "id": "c525840b-fc60-4416-8565-6cb2618fe1e9",
   "metadata": {},
   "outputs": [
    {
     "data": {
      "text/plain": [
       "[Row(friend1='4026', friend2='4030'),\n",
       " Row(friend1='4027', friend2='4031'),\n",
       " Row(friend1='4027', friend2='4032'),\n",
       " Row(friend1='4027', friend2='4038'),\n",
       " Row(friend1='4031', friend2='4038')]"
      ]
     },
     "execution_count": 39,
     "metadata": {},
     "output_type": "execute_result"
    }
   ],
   "source": [
    "get_friend_pairs(fb_df).tail(5)"
   ]
  },
  {
   "cell_type": "code",
   "execution_count": 40,
   "id": "9f544fae",
   "metadata": {
    "deletable": false,
    "editable": false
   },
   "outputs": [
    {
     "data": {
      "text/html": [
       "<p><strong><pre style='display: inline;'>q3b</pre></strong> passed!</p>"
      ],
      "text/plain": [
       "q3b results: All test cases passed!"
      ]
     },
     "execution_count": 40,
     "metadata": {},
     "output_type": "execute_result"
    }
   ],
   "source": [
    "grader.check(\"q3b\")"
   ]
  },
  {
   "cell_type": "markdown",
   "id": "a2af91a7",
   "metadata": {},
   "source": [
    "## Part (c)\n",
    "Write a function called `find_triangles(fb_df)` which finds the number of triangles in `fb_df`.\n",
    "\n",
    "```\n",
    ">>> find_triangles(fb_df).take(6)\n",
    "[Row(friend1='0', friend2='1', friend3='48'),\n",
    " Row(friend1='0', friend2='1', friend3='53'),\n",
    " Row(friend1='0', friend2='1', friend3='54'),\n",
    " Row(friend1='0', friend2='1', friend3='73'),\n",
    " Row(friend1='0', friend2='1', friend3='88'),\n",
    " Row(friend1='0', friend2='1', friend3='92')]\n",
    "```"
   ]
  },
  {
   "cell_type": "code",
   "execution_count": 41,
   "id": "7ce458d3",
   "metadata": {
    "tags": []
   },
   "outputs": [],
   "source": [
    "def find_triangles(fb_df):\n",
    "    fri_parir = get_friend_pairs(fb_df)\n",
    "    num = fri_parir.withColumn(\"friend1\", fri_parir[\"friend1\"].cast(\"int\")).withColumn(\"friend2\", fri_parir[\"friend2\"].cast(\"int\"))\n",
    "    a = num.withColumnRenamed(\"friend1\", \"a_people\").withColumnRenamed(\"friend2\", \"a_friend\")\n",
    "    b = num.withColumnRenamed(\"friend1\", \"b_people\").withColumnRenamed(\"friend2\", \"b_friend\")\n",
    "\n",
    "    output = a.join(b)\\\n",
    "        .where(a[\"a_people\"] < b[\"b_people\"])\\\n",
    "        .where(a[\"a_friend\"] == b[\"b_friend\"])\\\n",
    "        .select([\"a_people\", \"b_people\", \"a_friend\"])\\\n",
    "        .sort([\"a_people\", \"b_people\", \"a_friend\"])\\\n",
    "        .withColumnRenamed(\"a_people\", \"friend1\")\\\n",
    "        .withColumnRenamed(\"b_people\", \"friend2\")\\\n",
    "        .withColumnRenamed(\"a_friend\", \"friend3\")\\\n",
    "        .join(num, [\"friend1\", \"friend2\"], \"left_semi\")\\\n",
    "\n",
    "    return output.withColumn(\"friend1\", output[\"friend1\"].cast(T.StringType()))\\\n",
    "                        .withColumn(\"friend2\", output[\"friend2\"].cast(T.StringType()))\\\n",
    "                        .withColumn(\"friend3\", output[\"friend3\"].cast(T.StringType()))\n"
   ]
  },
  {
   "cell_type": "code",
   "execution_count": 42,
   "id": "99a8f1c9",
   "metadata": {
    "deletable": false,
    "editable": false
   },
   "outputs": [
    {
     "data": {
      "text/html": [
       "<p><strong><pre style='display: inline;'>q3c</pre></strong> passed!</p>"
      ],
      "text/plain": [
       "q3c results: All test cases passed!"
      ]
     },
     "execution_count": 42,
     "metadata": {},
     "output_type": "execute_result"
    }
   ],
   "source": [
    "grader.check(\"q3c\")"
   ]
  },
  {
   "cell_type": "markdown",
   "id": "17a4dfbd",
   "metadata": {
    "deletable": false,
    "editable": false
   },
   "source": [
    "---\n",
    "\n",
    "To double-check your work, the cell below will rerun all of the autograder tests."
   ]
  },
  {
   "cell_type": "code",
   "execution_count": 43,
   "id": "d2ac3397",
   "metadata": {
    "deletable": false,
    "editable": false
   },
   "outputs": [
    {
     "data": {
      "text/plain": [
       "q1a results: All test cases passed!\n",
       "\n",
       "q1b results: All test cases passed!\n",
       "\n",
       "q1c results: All test cases passed!\n",
       "\n",
       "q2a results: All test cases passed!\n",
       "\n",
       "q2b results: All test cases passed!\n",
       "\n",
       "q3a results: All test cases passed!\n",
       "\n",
       "q3b results: All test cases passed!\n",
       "\n",
       "q3c results: All test cases passed!"
      ]
     },
     "execution_count": 43,
     "metadata": {},
     "output_type": "execute_result"
    }
   ],
   "source": [
    "grader.check_all()"
   ]
  },
  {
   "cell_type": "markdown",
   "id": "95c83208",
   "metadata": {
    "deletable": false,
    "editable": false
   },
   "source": [
    "## Submission\n",
    "\n",
    "Make sure you have run all cells in your notebook in order before running the cell below, so that all images/graphs appear in the output. The cell below will generate a zip file for you to submit. **Please save before exporting!**\n",
    "\n",
    "Upload this .zip file to Gradescope for grading."
   ]
  },
  {
   "cell_type": "code",
   "execution_count": 44,
   "id": "5876f875",
   "metadata": {
    "deletable": false,
    "editable": false
   },
   "outputs": [
    {
     "data": {
      "text/html": [
       "\n",
       "            <p>Your submission has been exported. Click <a href=\"ps9_2022_03_27T16_01_41_633340.zip\" download=\"ps9_2022_03_27T16_01_41_633340.zip\" target=\"_blank\">here</a>\n",
       "            to download the zip file.</p>\n",
       "            "
      ],
      "text/plain": [
       "<IPython.core.display.HTML object>"
      ]
     },
     "metadata": {},
     "output_type": "display_data"
    }
   ],
   "source": [
    "# Save your notebook first, then run this cell to export your submission.\n",
    "grader.export(pdf=False)"
   ]
  },
  {
   "cell_type": "markdown",
   "id": "5273a6e4",
   "metadata": {},
   "source": [
    " "
   ]
  }
 ],
 "metadata": {
  "kernelspec": {
   "display_name": "Python 3 (ipykernel)",
   "language": "python",
   "name": "python3"
  },
  "language_info": {
   "codemirror_mode": {
    "name": "ipython",
    "version": 3
   },
   "file_extension": ".py",
   "mimetype": "text/x-python",
   "name": "python",
   "nbconvert_exporter": "python",
   "pygments_lexer": "ipython3",
   "version": "3.8.12"
  },
  "otter": {
   "tests": {
    "q1a": {
     "name": "q1a",
     "points": 3,
     "suites": [
      {
       "cases": [
        {
         "code": ">>> simple_counts_per_line_rdd = count_words_per_line(simple_text_rdd)\n>>> assert isinstance(simple_counts_per_line_rdd, pyspark.RDD)\n>>> simple_counts_per_line = simple_counts_per_line_rdd.collect()\n>>> assert isinstance(simple_counts_per_line[0], Counter)\n",
         "hidden": false,
         "locked": false
        }
       ],
       "scored": true,
       "setup": "",
       "teardown": "",
       "type": "doctest"
      }
     ]
    },
    "q1b": {
     "name": "q1b",
     "points": 2,
     "suites": [
      {
       "cases": [
        {
         "code": ">>> word_count = count_words(simple_text_rdd)\n>>> assert isinstance(word_count, Counter)\n>>> assert word_count['cheese'] == 1\n",
         "hidden": false,
         "locked": false
        }
       ],
       "scored": true,
       "setup": "",
       "teardown": "",
       "type": "doctest"
      }
     ]
    },
    "q1c": {
     "name": "q1c",
     "points": 2,
     "suites": [
      {
       "cases": [
        {
         "code": ">>> assert isinstance(counter_to_rdd(darwin_word_count), pyspark.RDD)\n",
         "hidden": false,
         "locked": false
        }
       ],
       "scored": true,
       "setup": "",
       "teardown": "",
       "type": "doctest"
      }
     ]
    },
    "q2a": {
     "name": "q2a",
     "points": 2,
     "suites": [
      {
       "cases": [
        {
         "code": ">>> pop_df = read_population_df(\"populations_small.txt\")\n>>> assert isinstance(pop_df, pyspark.sql.DataFrame)\n",
         "hidden": false,
         "locked": false
        }
       ],
       "scored": true,
       "setup": "",
       "teardown": "",
       "type": "doctest"
      }
     ]
    },
    "q2b": {
     "name": "q2b",
     "points": 2,
     "suites": [
      {
       "cases": [
        {
         "code": ">>> from pyspark.sql import Row\n>>> pop_df = read_population_df(\"populations_small.txt\")\n>>> assert pop_mean_stddev(pop_df).collect() == [Row(id=1, mean=2.0, stddev=1.0), Row(id=2, mean=0.0, stddev=2.0),Row(id=3, mean=10.0, stddev=0.0)]\n",
         "hidden": false,
         "locked": false
        }
       ],
       "scored": true,
       "setup": "",
       "teardown": "",
       "type": "doctest"
      }
     ]
    },
    "q3a": {
     "name": "q3a",
     "points": 2,
     "suites": [
      {
       "cases": [
        {
         "code": ">>> friends_df = parse_friends(fb_df)\n>>> assert isinstance(friends_df, pyspark.sql.DataFrame)\n",
         "hidden": false,
         "locked": false
        }
       ],
       "scored": true,
       "setup": "",
       "teardown": "",
       "type": "doctest"
      }
     ]
    },
    "q3b": {
     "name": "q3b",
     "points": 2,
     "suites": [
      {
       "cases": [
        {
         "code": ">>> from pyspark.sql import Row\n>>> friend_pairs = get_friend_pairs(fb_df)\n>>> assert friend_pairs.count() == 88234\n>>> assert friend_pairs.tail(5) == [Row(friend1='4026', friend2='4030'),Row(friend1='4027', friend2='4031'),Row(friend1='4027', friend2='4032'),Row(friend1='4027', friend2='4038'),Row(friend1='4031', friend2='4038')]\n",
         "hidden": false,
         "locked": false
        }
       ],
       "scored": true,
       "setup": "",
       "teardown": "",
       "type": "doctest"
      }
     ]
    },
    "q3c": {
     "name": "q3c",
     "points": 2,
     "suites": [
      {
       "cases": [
        {
         "code": ">>> triangles = find_triangles(fb_df)\n>>> assert triangles.take(1)[0] == pyspark.sql.types.Row(friend1='0', friend2='1', friend3='48')\n>>> assert triangles.filter(F.col(\"friend1\") == \"7\").filter(F.col(\"friend2\") == \"103\").collect() == [pyspark.sql.types.Row(friend1='7', friend2='103', friend3='136'), pyspark.sql.types.Row(friend1='7', friend2='103', friend3='339')]\n",
         "hidden": false,
         "locked": false
        }
       ],
       "scored": true,
       "setup": "",
       "teardown": "",
       "type": "doctest"
      }
     ]
    }
   }
  }
 },
 "nbformat": 4,
 "nbformat_minor": 5
}
