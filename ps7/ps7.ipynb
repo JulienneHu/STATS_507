{
 "cells": [
  {
   "cell_type": "code",
   "execution_count": 1,
   "id": "e4705631",
   "metadata": {
    "deletable": false,
    "editable": false
   },
   "outputs": [],
   "source": [
    "# Initialize Otter\n",
    "import otter\n",
    "grader = otter.Notebook(\"ps7.ipynb\")\n"
   ]
  },
  {
   "cell_type": "markdown",
   "id": "7f995263",
   "metadata": {},
   "source": [
    "# PS7: Regular expressions\n",
    "In this problem set set you will get some basic practice using regular expressions. In Python the regular expressions module is called `re`:"
   ]
  },
  {
   "cell_type": "code",
   "execution_count": 2,
   "id": "db59433f",
   "metadata": {},
   "outputs": [],
   "source": [
    "import re\n"
   ]
  },
  {
   "cell_type": "markdown",
   "id": "62e37b71",
   "metadata": {},
   "source": [
    "## Queston 1: Matching words\n",
    "We'll practice on the file `words.txt.gz` included with the problem set."
   ]
  },
  {
   "cell_type": "markdown",
   "id": "ead7773c",
   "metadata": {},
   "source": [
    "**1(a)** (2 pts) Read the file, so that you have a list of strings, one for each word. Save this list as `words`."
   ]
  },
  {
   "cell_type": "code",
   "execution_count": 3,
   "id": "ddee3fa4",
   "metadata": {
    "tags": []
   },
   "outputs": [],
   "source": [
    "import gzip\n",
    "words = []\n",
    "with gzip.open('words.txt.gz', 'r') as f1:\n",
    "    con = f1.readlines()\n",
    "    for line in con:\n",
    "        words.append(''.join(re.findall(r'\\w+', line.decode('utf-8'))))\n"
   ]
  },
  {
   "cell_type": "code",
   "execution_count": 4,
   "id": "3df5d6e8",
   "metadata": {
    "deletable": false,
    "editable": false
   },
   "outputs": [
    {
     "data": {
      "text/html": [
       "<p><strong><pre style='display: inline;'>q1a</pre></strong> passed!</p>"
      ],
      "text/plain": [
       "q1a results: All test cases passed!"
      ]
     },
     "execution_count": 4,
     "metadata": {},
     "output_type": "execute_result"
    }
   ],
   "source": [
    "grader.check(\"q1a\")\n"
   ]
  },
  {
   "cell_type": "markdown",
   "id": "cdd5927a",
   "metadata": {},
   "source": [
    "**1(b)** (2 pts) Write a regular expression that matches any three consecutive vowels, and use it to produce a list named `three_vowels` of all such words that occur in this data set."
   ]
  },
  {
   "cell_type": "code",
   "execution_count": 5,
   "id": "ef6f3901",
   "metadata": {
    "tags": []
   },
   "outputs": [
    {
     "data": {
      "text/plain": [
       "['aeolian',\n",
       " 'aeon',\n",
       " 'aeonian',\n",
       " 'aeonic',\n",
       " 'aeons',\n",
       " 'aoudad',\n",
       " 'aoudads',\n",
       " 'eau',\n",
       " 'eaux',\n",
       " 'euonymus',\n",
       " 'euonymuses',\n",
       " 'oeillade',\n",
       " 'oeillades',\n",
       " 'oeuvre',\n",
       " 'oeuvres',\n",
       " 'ouabain',\n",
       " 'ouabains',\n",
       " 'ouistiti',\n",
       " 'ouistitis']"
      ]
     },
     "execution_count": 5,
     "metadata": {},
     "output_type": "execute_result"
    }
   ],
   "source": [
    "vowels = '(a|o|e|i|u){3}'\n",
    "three_vowels = []\n",
    "for element in words:\n",
    "    if re.match(vowels, element):\n",
    "        three_vowels.append(element)\n",
    "    else:\n",
    "        continue\n",
    "three_vowels\n"
   ]
  },
  {
   "cell_type": "code",
   "execution_count": 6,
   "id": "c6b80277",
   "metadata": {
    "deletable": false,
    "editable": false
   },
   "outputs": [
    {
     "data": {
      "text/html": [
       "<p><strong><pre style='display: inline;'>q1b</pre></strong> passed!</p>"
      ],
      "text/plain": [
       "q1b results: All test cases passed!"
      ]
     },
     "execution_count": 6,
     "metadata": {},
     "output_type": "execute_result"
    }
   ],
   "source": [
    "grader.check(\"q1b\")\n"
   ]
  },
  {
   "cell_type": "markdown",
   "id": "7f346d1d",
   "metadata": {},
   "source": [
    "**1(c)** (2 pts) Write a regular expression that a single word containing an even number (greater than `0`) of the letter `e`, and use it to produce a list named `even_e` of all such words in the data set."
   ]
  },
  {
   "cell_type": "code",
   "execution_count": 7,
   "id": "28584a57",
   "metadata": {
    "tags": []
   },
   "outputs": [],
   "source": [
    "even_e = []\n",
    "for element in words:\n",
    "    if re.findall('e', element):\n",
    "        if len(re.findall('e', element)) % 2 == 0:\n",
    "            even_e.append(element)\n"
   ]
  },
  {
   "cell_type": "code",
   "execution_count": 8,
   "id": "bcdd3033",
   "metadata": {},
   "outputs": [
    {
     "data": {
      "text/plain": [
       "['e', 'e', 'e', 'e', 'e']"
      ]
     },
     "execution_count": 8,
     "metadata": {},
     "output_type": "execute_result"
    }
   ],
   "source": [
    "re.findall('e', \"eeaeeaae\")\n"
   ]
  },
  {
   "cell_type": "code",
   "execution_count": 9,
   "id": "9e7443e0",
   "metadata": {
    "deletable": false,
    "editable": false
   },
   "outputs": [
    {
     "data": {
      "text/html": [
       "<p><strong><pre style='display: inline;'>q1c</pre></strong> passed!</p>"
      ],
      "text/plain": [
       "q1c results: All test cases passed!"
      ]
     },
     "execution_count": 9,
     "metadata": {},
     "output_type": "execute_result"
    }
   ],
   "source": [
    "grader.check(\"q1c\")\n"
   ]
  },
  {
   "cell_type": "markdown",
   "id": "dd37d775",
   "metadata": {},
   "source": [
    "**1(d)** (2 pts) Write a regular expression that matches any string that begins and ends with a consonant, and has no consonants in between. Your answer should be a string named `consonants_begin_end`."
   ]
  },
  {
   "cell_type": "code",
   "execution_count": 10,
   "id": "d664dd71",
   "metadata": {
    "tags": []
   },
   "outputs": [],
   "source": [
    "consonants_begin_end = '^[^aeoui]([aeiou]|\\W)*[^aeoui]$'\n"
   ]
  },
  {
   "cell_type": "code",
   "execution_count": 11,
   "id": "2b683144",
   "metadata": {
    "deletable": false,
    "editable": false
   },
   "outputs": [
    {
     "data": {
      "text/html": [
       "<p><strong><pre style='display: inline;'>q1d</pre></strong> passed!</p>"
      ],
      "text/plain": [
       "q1d results: All test cases passed!"
      ]
     },
     "execution_count": 11,
     "metadata": {},
     "output_type": "execute_result"
    }
   ],
   "source": [
    "grader.check(\"q1d\")\n"
   ]
  },
  {
   "cell_type": "markdown",
   "id": "c7185f51",
   "metadata": {},
   "source": [
    "**1(e)** (2 pts) Write a regular expression that matches any word *at least four letters long* whose last two letters are the first two letters in reverse order, and use it to produce a list named `fwd_2_rev` of all such words in the dataset. (An example of such a word is `cardiac`.)"
   ]
  },
  {
   "cell_type": "code",
   "execution_count": 12,
   "id": "64a647b0",
   "metadata": {},
   "outputs": [],
   "source": [
    "fwd_2_rev = []\n",
    "for element in words:\n",
    "    if re.match(r'^(.)(.).*\\2\\1$', element):\n",
    "        if len(element) >= 4:\n",
    "            fwd_2_rev.append(element)\n"
   ]
  },
  {
   "cell_type": "code",
   "execution_count": 13,
   "id": "bfc9a9b7",
   "metadata": {
    "deletable": false,
    "editable": false
   },
   "outputs": [
    {
     "data": {
      "text/html": [
       "<p><strong><pre style='display: inline;'>q1e</pre></strong> passed!</p>"
      ],
      "text/plain": [
       "q1e results: All test cases passed!"
      ]
     },
     "execution_count": 13,
     "metadata": {},
     "output_type": "execute_result"
    }
   ],
   "source": [
    "grader.check(\"q1e\")\n"
   ]
  },
  {
   "cell_type": "markdown",
   "id": "418c841a",
   "metadata": {},
   "source": [
    "## Question 2: Filtering Internet traffic\n",
    "In this problem, you'll get a taste of a more realistic application of\n",
    "regular expressions. The file `SkypeIRC.txt.gz` contains a capture of Internet traffic generated\n",
    "by a laptop while it was running the program Skype. Each line represents a single \"packet\" of data that was either sent or received by the machine."
   ]
  },
  {
   "cell_type": "markdown",
   "id": "c43f2fca",
   "metadata": {},
   "source": [
    "The first line of the file is:\n",
    "```\n",
    "    1   0.000000  192.168.1.2 → 212.204.214.114 IRC 96 Request (ISON)\n",
    "```\n",
    "The first two fields are a counter and timestamp indicating the total number of packets captured so far, and the time (in seconds) that has elapsed since the capture was initiated. Following that, `192.168.1.2 → 212.204.214.114` indicates that the packet was being sent from the [IP address](https://en.wikipedia.org/wiki/IP_address) `192.168.1.2` to `212.204.214.114`. The remainder of the line is a description of the packet contents, which varies from packet to packet."
   ]
  },
  {
   "cell_type": "markdown",
   "id": "01797852",
   "metadata": {},
   "source": [
    "**2(a)** (2 pts) Construct a regular expression named `zero_to_255` that matches a single line containing a between 0 and 255, inclusive. Numbers with leading zeros should not match (except for 0 itself), so \"40\" should match, but \"040\" should not. We will surround your regular expression with the anchors \"^\" and \"$\" when testing; you do not need to include them."
   ]
  },
  {
   "cell_type": "code",
   "execution_count": 14,
   "id": "ed548e9b",
   "metadata": {
    "tags": []
   },
   "outputs": [],
   "source": [
    "# contents=[]\n",
    "# with gzip.open('SkypeIRC.txt.gz', 'r') as f1:\n",
    "#     con = f1.readlines()\n",
    "#     for line in con:\n",
    "#         contents.append(''.join(re.findall(r'.+',line.decode('utf-8'))))\n",
    "zero_to_255 = '(1[0-9][0-9]|2[0-4][0-9]|25[0-5]|[1-9]?[0-9])'\n"
   ]
  },
  {
   "cell_type": "code",
   "execution_count": 15,
   "id": "d231b463",
   "metadata": {},
   "outputs": [
    {
     "data": {
      "text/plain": [
       "['    1   0.000000  192.168.1.2 → 212.204.214.114 IRC 96 Request (ISON)',\n",
       " '    2   0.125852 212.204.214.114 → 192.168.1.2  TCP 66 6667 → 2848 [ACK] Seq=1 Ack=31 Win=57890 Len=0 TSval=2196036564 TSecr=14215752',\n",
       " '    3   0.137361 212.204.214.114 → 192.168.1.2  IRC 112 Response (303)',\n",
       " '    4   0.137413  192.168.1.2 → 212.204.214.114 TCP 66 2848 → 6667 [ACK] Seq=31 Ack=47 Win=8011 Len=0 TSval=14215889 TSecr=2196036565',\n",
       " '    5   0.235960  192.168.1.2 → 192.168.1.1  DNS 84 Standard query 0x311f PTR 2.1.168.192.in-addr.arpa',\n",
       " '    6   0.236116  192.168.1.2 → 192.168.1.1  DNS 88 Standard query 0x3120 PTR 114.214.204.212.in-addr.arpa',\n",
       " '    7   0.270252  192.168.1.1 → 192.168.1.2  DNS 84 Standard query response 0x311f PTR 2.1.168.192.in-addr.arpa',\n",
       " '    8   0.294105  192.168.1.1 → 192.168.1.2  DNS 123 Standard query response 0x3120 PTR 114.214.204.212.in-addr.arpa PTR sterling.freenode.net',\n",
       " '    9   0.985963  192.168.1.2 → 192.168.1.1  DNS 81 Standard query 0x3121 A sterling.freenode.net',\n",
       " '   10   0.988328  192.168.1.1 → 192.168.1.2  DNS 97 Standard query response 0x3121 A sterling.freenode.net A 212.204.214.114',\n",
       " '   11   1.735567  192.168.1.2 → 192.168.1.1  DNS 84 Standard query 0x3122 PTR 1.1.168.192.in-addr.arpa',\n",
       " '   12   1.737982  192.168.1.1 → 192.168.1.2  DNS 110 Standard query response 0x3122 PTR 1.1.168.192.in-addr.arpa PTR voyager.home',\n",
       " '   13   2.485441  192.168.1.2 → 192.168.1.1  DNS 72 Standard query 0x3123 A voyager.home',\n",
       " '   14   2.487702  192.168.1.1 → 192.168.1.2  DNS 88 Standard query response 0x3123 A voyager.home A 192.168.1.1',\n",
       " '   15   3.343603 71.10.179.129 → 192.168.1.2  TCP 93 14232 → 4026 [PSH, ACK] Seq=1 Ack=1 Win=63807 Len=27 TSval=1887947 TSecr=14211796',\n",
       " '   16   3.343657  192.168.1.2 → 71.10.179.129 TCP 66 4026 → 14232 [ACK] Seq=1 Ack=28 Win=742 Len=0 TSval=14219096 TSecr=1887947',\n",
       " '   17   3.542328  192.168.1.2 → 71.10.179.129 TCP 90 4026 → 14232 [PSH, ACK] Seq=1 Ack=28 Win=768 Len=24 TSval=14219295 TSecr=1887947',\n",
       " '   18   3.563622 212.204.214.114 → 192.168.1.2  IRC 157 Response (PRIVMSG)',\n",
       " '   19   3.563675  192.168.1.2 → 212.204.214.114 TCP 66 2848 → 6667 [ACK] Seq=31 Ack=138 Win=8011 Len=0 TSval=14219316 TSecr=2196036907',\n",
       " '   20   3.835582 71.10.179.129 → 192.168.1.2  TCP 66 14232 → 4026 [ACK] Seq=28 Ack=25 Win=63783 Len=0 TSval=1887953 TSecr=14219295',\n",
       " '   21   3.985200  192.168.1.2 → 192.168.1.1  DNS 86 Standard query 0x3124 PTR 129.179.10.71.in-addr.arpa',\n",
       " '   22   4.246622  192.168.1.1 → 192.168.1.2  DNS 138 Standard query response 0x3124 PTR 129.179.10.71.in-addr.arpa PTR 71-10-179-129.dhcp.stls.mo.charter.com',\n",
       " '   23   4.555073 172.200.160.242 → 192.168.1.2  TCP 108 11352 → 4984 [PSH, ACK] Seq=1 Ack=1 Win=65127 Len=42 TSval=1744627 TSecr=14208134',\n",
       " '   24   4.555122  192.168.1.2 → 172.200.160.242 TCP 66 4984 → 11352 [ACK] Seq=1 Ack=43 Win=747 Len=0 TSval=14220308 TSecr=1744627',\n",
       " '   25   4.735117  192.168.1.2 → 192.168.1.1  DNS 88 Standard query 0x3125 PTR 242.160.200.172.in-addr.arpa',\n",
       " '   26   4.735183  192.168.1.2 → 192.168.1.1  DNS 98 Standard query 0x3126 A 71-10-179-129.dhcp.stls.mo.charter.com',\n",
       " '   27   4.743793  192.168.1.1 → 192.168.1.2  DNS 114 Standard query response 0x3126 A 71-10-179-129.dhcp.stls.mo.charter.com A 71.10.179.129',\n",
       " '   28   4.844321  192.168.1.1 → 192.168.1.2  DNS 122 Standard query response 0x3125 PTR 242.160.200.172.in-addr.arpa PTR ACC8A0F2.ipt.aol.com',\n",
       " '   29   5.485025  192.168.1.2 → 192.168.1.1  DNS 80 Standard query 0x3127 A ACC8A0F2.ipt.aol.com',\n",
       " '   30   5.487428  192.168.1.1 → 192.168.1.2  DNS 96 Standard query response 0x3127 A ACC8A0F2.ipt.aol.com A 172.200.160.242',\n",
       " '   31   5.839974 212.204.214.114 → 192.168.1.2  IRC 136 Response (PRIVMSG)',\n",
       " '   32   5.840024  192.168.1.2 → 212.204.214.114 TCP 66 2848 → 6667 [ACK] Seq=31 Ack=208 Win=8011 Len=0 TSval=14221593 TSecr=2196037135',\n",
       " '   33   8.052271 212.204.214.114 → 192.168.1.2  IRC 143 Response (PRIVMSG)',\n",
       " '   34   8.052316  192.168.1.2 → 212.204.214.114 TCP 66 2848 → 6667 [ACK] Seq=31 Ack=285 Win=8011 Len=0 TSval=14223805 TSecr=2196037356',\n",
       " '   35   9.261266 71.10.179.129 → 192.168.1.2  TCP 111 14232 → 4026 [PSH, ACK] Seq=28 Ack=25 Win=63783 Len=45 TSval=1888007 TSecr=14219295',\n",
       " '   36   9.261328  192.168.1.2 → 71.10.179.129 TCP 66 4026 → 14232 [ACK] Seq=25 Ack=73 Win=762 Len=0 TSval=14225014 TSecr=1888007',\n",
       " '   37  10.650161 3Com_96:7b:da → Broadcast    AoE 32 Query Config Information Request',\n",
       " '   38  12.894007 86.128.100.24 → 192.168.1.2  TCP 78 2029 → 135 [SYN] Seq=0 Win=53760 Len=0 MSS=1452 WS=8 TSval=0 TSecr=0 SACK_PERM=1',\n",
       " '   39  12.894075  192.168.1.2 → 86.128.100.24 TCP 54 135 → 2029 [RST, ACK] Seq=1 Ack=1 Win=0 Len=0',\n",
       " '   40  12.941784 172.200.160.242 → 192.168.1.2  TCP 93 11352 → 4984 [PSH, ACK] Seq=43 Ack=1 Win=65127 Len=27 TSval=1744712 TSecr=14220308',\n",
       " '   41  12.941834  192.168.1.2 → 172.200.160.242 TCP 66 4984 → 11352 [ACK] Seq=1 Ack=70 Win=744 Len=0 TSval=14228696 TSecr=1744712',\n",
       " '   42  12.983830  192.168.1.2 → 192.168.1.1  DNS 86 Standard query 0x3128 PTR 24.100.128.86.in-addr.arpa',\n",
       " '   43  13.015618  192.168.1.1 → 192.168.1.2  DNS 147 Standard query response 0x3128 PTR 24.100.128.86.in-addr.arpa PTR host86-128-100-24.range86-128.btcentralplus.com',\n",
       " '   44  13.140851  192.168.1.2 → 172.200.160.242 TCP 90 4984 → 11352 [PSH, ACK] Seq=1 Ack=70 Win=768 Len=24 TSval=14228895 TSecr=1744712',\n",
       " '   45  13.409946 172.200.160.242 → 192.168.1.2  TCP 66 11352 → 4984 [ACK] Seq=70 Ack=25 Win=65103 Len=0 TSval=1744717 TSecr=14228895',\n",
       " '   46  13.410436 68.95.198.126 → 192.168.1.2  TCP 73 1928 → 2996 [PSH, ACK] Seq=1 Ack=1 Win=65419 Len=7 TSval=71317 TSecr=14133959',\n",
       " '   47  13.410471  192.168.1.2 → 68.95.198.126 TCP 66 2996 → 1928 [ACK] Seq=1 Ack=8 Win=1452 Len=0 TSval=14229164 TSecr=71317',\n",
       " '   48  13.733730  192.168.1.2 → 192.168.1.1  DNS 107 Standard query 0x3129 A host86-128-100-24.range86-128.btcentralplus.com',\n",
       " '   49  13.736371  192.168.1.1 → 192.168.1.2  DNS 123 Standard query response 0x3129 A host86-128-100-24.range86-128.btcentralplus.com A 86.128.100.24',\n",
       " '   50  13.934761 86.128.187.110 → 192.168.1.2  TCP 62 4048 → 139 [SYN] Seq=0 Win=65535 Len=0 MSS=1452 SACK_PERM=1',\n",
       " '   51  13.934833  192.168.1.2 → 86.128.187.110 TCP 54 139 → 4048 [RST, ACK] Seq=1 Ack=1 Win=0 Len=0',\n",
       " '   52  14.308410 24.177.122.79 → 192.168.1.2  ASAP 91 Unknown ASAP type [Packet size limited during capture]',\n",
       " '   53  14.308461  192.168.1.2 → 24.177.122.79 TCP 66 3863 → 8022 [ACK] Seq=1 Ack=26 Win=764 Len=0 TSval=14230062 TSecr=3339898',\n",
       " '   54  14.507644  192.168.1.2 → 24.177.122.79 ASAP 91 Unknown ASAP type [Packet size limited during capture]',\n",
       " '   55  14.800928 24.177.122.79 → 192.168.1.2  TCP 66 8022 → 3863 [ACK] Seq=26 Ack=26 Win=16296 Len=0 TSval=3339904 TSecr=14230262',\n",
       " '   56  14.860289 212.204.214.114 → 192.168.1.2  IRC 132 Response (PRIVMSG)',\n",
       " '   57  14.860338  192.168.1.2 → 212.204.214.114 TCP 66 2848 → 6667 [ACK] Seq=31 Ack=351 Win=8011 Len=0 TSval=14230614 TSecr=2196038037',\n",
       " '   58  15.233520  192.168.1.2 → 192.168.1.1  DNS 86 Standard query 0x312a PTR 126.198.95.68.in-addr.arpa',\n",
       " '   59  15.233581  192.168.1.2 → 192.168.1.1  DNS 87 Standard query 0x312b PTR 110.187.128.86.in-addr.arpa',\n",
       " '   60  15.233608  192.168.1.2 → 192.168.1.1  DNS 86 Standard query 0x312c PTR 79.122.177.24.in-addr.arpa',\n",
       " '   61  15.273294  192.168.1.1 → 192.168.1.2  DNS 149 Standard query response 0x312b PTR 110.187.128.86.in-addr.arpa PTR host86-128-187-110.range86-128.btcentralplus.com',\n",
       " '   62  15.441443  192.168.1.1 → 192.168.1.2  DNS 143 Standard query response 0x312a PTR 126.198.95.68.in-addr.arpa PTR adsl-68-95-198-126.dsl.wlfrct.sbcglobal.net',\n",
       " '   63  15.465692  192.168.1.1 → 192.168.1.2  DNS 138 Standard query response 0x312c PTR 79.122.177.24.in-addr.arpa PTR 24-177-122-79.dhcp.mdsn.wi.charter.com',\n",
       " '   64  15.510644  192.168.1.2 → 212.204.214.114 IRC 82 Request (WHO)',\n",
       " '   65  15.635477 212.204.214.114 → 192.168.1.2  TCP 66 6667 → 2848 [ACK] Seq=351 Ack=47 Win=57904 Len=0 TSval=2196038115 TSecr=14231265',\n",
       " '   66  15.680903 212.204.214.114 → 192.168.1.2  IRC 1090 Response (352) (352) (352) (352) (352) (352) (352) (352)',\n",
       " '   67  15.680936  192.168.1.2 → 212.204.214.114 TCP 66 2848 → 6667 [ACK] Seq=47 Ack=1375 Win=8011 Len=0 TSval=14231435 TSecr=2196038119',\n",
       " '   68  15.719610 212.204.214.114 → 192.168.1.2  IRC 1152 Response (aul) (352) (352) (352) (352) (352) (352) (352) (352) (315)',\n",
       " '   69  15.719647  192.168.1.2 → 212.204.214.114 TCP 66 2848 → 6667 [ACK] Seq=47 Ack=2461 Win=8011 Len=0 TSval=14231474 TSecr=2196038122',\n",
       " '   70  15.990754  192.168.1.2 → 192.168.1.1  DNS 108 Standard query 0x312d A host86-128-187-110.range86-128.btcentralplus.com',\n",
       " '   71  15.990820  192.168.1.2 → 192.168.1.1  DNS 103 Standard query 0x312e A adsl-68-95-198-126.dsl.wlfrct.sbcglobal.net',\n",
       " '   72  15.990854  192.168.1.2 → 192.168.1.1  DNS 98 Standard query 0x312f A 24-177-122-79.dhcp.mdsn.wi.charter.com',\n",
       " '   73  15.993707  192.168.1.1 → 192.168.1.2  DNS 124 Standard query response 0x312d A host86-128-187-110.range86-128.btcentralplus.com A 86.128.187.110',\n",
       " '   74  15.996119  192.168.1.1 → 192.168.1.2  DNS 119 Standard query response 0x312e A adsl-68-95-198-126.dsl.wlfrct.sbcglobal.net A 68.95.198.126',\n",
       " '   75  15.998392  192.168.1.1 → 192.168.1.2  DNS 114 Standard query response 0x312f A 24-177-122-79.dhcp.mdsn.wi.charter.com A 24.177.122.79',\n",
       " '   76  16.497352 212.204.214.114 → 192.168.1.2  IRC 160 Response (PRIVMSG)',\n",
       " '   77  16.497407  192.168.1.2 → 212.204.214.114 TCP 66 2848 → 6667 [ACK] Seq=47 Ack=2555 Win=8011 Len=0 TSval=14232252 TSecr=2196038201',\n",
       " '   78  16.616793 172.200.160.242 → 192.168.1.2  TCP 99 11352 → 4984 [PSH, ACK] Seq=70 Ack=25 Win=65103 Len=33 TSval=1744748 TSecr=14228895',\n",
       " '   79  16.616850  192.168.1.2 → 172.200.160.242 TCP 66 4984 → 11352 [ACK] Seq=25 Ack=103 Win=763 Len=0 TSval=14232371 TSecr=1744748',\n",
       " '   80  16.881600 86.128.187.110 → 192.168.1.2  TCP 62 [TCP Retransmission] 4048 → 139 [SYN] Seq=0 Win=65535 Len=0 MSS=1452 SACK_PERM=1',\n",
       " '   81  16.881655  192.168.1.2 → 86.128.187.110 TCP 54 139 → 4048 [RST, ACK] Seq=1 Ack=1 Win=0 Len=0',\n",
       " '   82  20.240865  192.168.1.2 → 212.204.214.114 IRC 96 Request (ISON)',\n",
       " '   83  20.354439 212.204.214.114 → 192.168.1.2  IRC 112 Response (303)',\n",
       " '   84  20.354491  192.168.1.2 → 212.204.214.114 TCP 66 2848 → 6667 [ACK] Seq=77 Ack=2601 Win=8011 Len=0 TSval=14236109 TSecr=2196038586',\n",
       " '   85  21.353539 71.10.179.129 → 192.168.1.2  TCP 112 14232 → 4026 [PSH, ACK] Seq=73 Ack=25 Win=63783 Len=46 TSval=1888127 TSecr=14225014',\n",
       " '   86  21.353587  192.168.1.2 → 71.10.179.129 TCP 66 4026 → 14232 [ACK] Seq=25 Ack=119 Win=756 Len=0 TSval=14237109 TSecr=1888127',\n",
       " '   87  28.326676  192.168.1.2 → 68.32.70.119 TCP 70 3563 → 1215 [PSH, ACK] Seq=1 Ack=1 Win=864 Len=4 TSval=14244083 TSecr=14268207',\n",
       " '   88  28.455768 68.32.70.119 → 192.168.1.2  TCP 82 1215 → 3563 [PSH, ACK] Seq=1 Ack=5 Win=16324 Len=16 TSval=14269405 TSecr=14244083',\n",
       " '   89  28.455831  192.168.1.2 → 68.32.70.119 TCP 70 3563 → 1215 [PSH, ACK] Seq=5 Ack=17 Win=864 Len=4 TSval=14244212 TSecr=14269405',\n",
       " '   90  28.637656 172.200.160.242 → 192.168.1.2  TCP 108 11352 → 4984 [PSH, ACK] Seq=103 Ack=25 Win=65103 Len=42 TSval=1744869 TSecr=14232371',\n",
       " '   91  28.637705  192.168.1.2 → 172.200.160.242 TCP 66 4984 → 11352 [ACK] Seq=25 Ack=145 Win=758 Len=0 TSval=14244394 TSecr=1744869',\n",
       " '   92  28.736442  192.168.1.2 → 192.168.1.1  DNS 85 Standard query 0x3130 PTR 119.70.32.68.in-addr.arpa',\n",
       " '   93  28.765268 68.32.70.119 → 192.168.1.2  TCP 70 1215 → 3563 [PSH, ACK] Seq=17 Ack=9 Win=16320 Len=4 TSval=14269407 TSecr=14244212',\n",
       " '   94  28.804379  192.168.1.2 → 68.32.70.119 TCP 66 3563 → 1215 [ACK] Seq=9 Ack=21 Win=864 Len=0 TSval=14244561 TSecr=14269407',\n",
       " '   95  28.843010  192.168.1.1 → 192.168.1.2  DNS 133 Standard query response 0x3130 PTR 119.70.32.68.in-addr.arpa PTR c-68-32-70-119.hsd1.ga.comcast.net',\n",
       " '   96  29.489652  192.168.1.2 → 192.168.1.1  DNS 94 Standard query 0x3131 A c-68-32-70-119.hsd1.ga.comcast.net',\n",
       " '   97  29.492249  192.168.1.1 → 192.168.1.2  DNS 110 Standard query response 0x3131 A c-68-32-70-119.hsd1.ga.comcast.net A 68.32.70.119',\n",
       " '   98  29.774411  192.168.1.2 → 71.10.179.129 TCP 92 4026 → 14232 [PSH, ACK] Seq=25 Ack=119 Win=768 Len=26 TSval=14245531 TSecr=1888127',\n",
       " '   99  29.774446  192.168.1.2 → 172.200.160.242 TCP 92 4984 → 11352 [PSH, ACK] Seq=25 Ack=145 Win=768 Len=26 TSval=14245531 TSecr=1744869',\n",
       " '  100  29.774464  192.168.1.2 → 24.177.122.79 ASAP 92 Unknown ASAP type [Packet size limited during capture]',\n",
       " '  101  29.971776 172.200.160.242 → 192.168.1.2  TCP 66 11352 → 4984 [ACK] Seq=145 Ack=51 Win=65077 Len=0 TSval=1744883 TSecr=14245531',\n",
       " '  102  30.050840 24.177.122.79 → 192.168.1.2  TCP 66 8022 → 3863 [ACK] Seq=26 Ack=52 Win=16270 Len=0 TSval=3340057 TSecr=14245531',\n",
       " '  103  30.076690 71.10.179.129 → 192.168.1.2  TCP 66 14232 → 4026 [ACK] Seq=119 Ack=51 Win=63757 Len=0 TSval=1888215 TSecr=14245531',\n",
       " '  104  31.422311 212.204.214.114 → 192.168.1.2  IRC 186 Response (PRIVMSG)',\n",
       " '  105  31.422367  192.168.1.2 → 212.204.214.114 TCP 66 2848 → 6667 [ACK] Seq=77 Ack=2721 Win=8011 Len=0 TSval=14247179 TSecr=2196039693',\n",
       " '  106  32.642907 212.204.214.114 → 192.168.1.2  IRC 171 Response (PRIVMSG)',\n",
       " '  107  32.642957  192.168.1.2 → 212.204.214.114 TCP 66 2848 → 6667 [ACK] Seq=77 Ack=2826 Win=8011 Len=0 TSval=14248400 TSecr=2196039815',\n",
       " '  108  33.935899 71.10.179.129 → 192.168.1.2  TCP 107 14232 → 4026 [PSH, ACK] Seq=119 Ack=51 Win=63757 Len=41 TSval=1888253 TSecr=14245531',\n",
       " '  109  33.935953  192.168.1.2 → 71.10.179.129 TCP 66 4026 → 14232 [ACK] Seq=51 Ack=160 Win=762 Len=0 TSval=14249693 TSecr=1888253',\n",
       " '  110  35.396949 24.177.122.79 → 192.168.1.2  ASAP 92 Unknown ASAP type [Packet size limited during capture]',\n",
       " '  111  35.397001  192.168.1.2 → 24.177.122.79 TCP 66 3863 → 8022 [ACK] Seq=52 Ack=52 Win=764 Len=0 TSval=14251154 TSecr=3340109',\n",
       " '  112  37.774119 212.204.214.114 → 192.168.1.2  IRC 144 Response (PRIVMSG)',\n",
       " '  113  37.774166  192.168.1.2 → 212.204.214.114 TCP 66 2848 → 6667 [ACK] Seq=77 Ack=2904 Win=8011 Len=0 TSval=14253532 TSecr=2196040328',\n",
       " '  114  38.217999  192.168.1.2 → 68.95.198.126 TCP 67 2996 → 1928 [PSH, ACK] Seq=1 Ack=8 Win=1452 Len=1 TSval=14253976 TSecr=71317',\n",
       " '  115  38.440981 68.95.198.126 → 192.168.1.2  TCP 67 1928 → 2996 [PSH, ACK] Seq=8 Ack=2 Win=65418 Len=1 TSval=71567 TSecr=14253976',\n",
       " '  116  38.441086  192.168.1.2 → 68.95.198.126 TCP 66 2996 → 1928 [ACK] Seq=2 Ack=9 Win=1452 Len=0 TSval=14254199 TSecr=71567',\n",
       " '  117  38.501122  192.168.1.2 → 212.204.214.114 IRC 78 Request (WHO)',\n",
       " '  118  38.634436 212.204.214.114 → 192.168.1.2  TCP 66 6667 → 2848 [ACK] Seq=2904 Ack=89 Win=57908 Len=0 TSval=2196040415 TSecr=14254259',\n",
       " '  119  38.683169 212.204.214.114 → 192.168.1.2  IRC 1090 Response (352) (352) (352) (352) (352) (352) (352) (352)',\n",
       " '  120  38.683226  192.168.1.2 → 212.204.214.114 TCP 66 2848 → 6667 [ACK] Seq=89 Ack=3928 Win=8011 Len=0 TSval=14254441 TSecr=2196040419',\n",
       " '  121  38.689423 212.204.214.114 → 192.168.1.2  IRC 1514 Response (de.net) (352) (352) (352) (352) (352) (352) (352) (352) (352) (352) (352) (352)',\n",
       " '  122  38.689474  192.168.1.2 → 212.204.214.114 TCP 66 2848 → 6667 [ACK] Seq=89 Ack=5376 Win=8011 Len=0 TSval=14254447 TSecr=2196040419',\n",
       " '  123  38.722365 212.204.214.114 → 192.168.1.2  IRC 1514 Response (on) (352) (352) (352) (352) (352) (352) (352) (352) (352) (352) (352)',\n",
       " '  124  38.722417  192.168.1.2 → 212.204.214.114 TCP 66 2848 → 6667 [ACK] Seq=89 Ack=6824 Win=8011 Len=0 TSval=14254480 TSecr=2196040423',\n",
       " '  125  38.728295 212.204.214.114 → 192.168.1.2  IRC 1514 Response (pussinboots) (352) (352) (352) (352) (352) (352) (352) (352) (352) (352) (352) (352)',\n",
       " '  126  38.728344  192.168.1.2 → 212.204.214.114 TCP 66 2848 → 6667 [ACK] Seq=89 Ack=8272 Win=8011 Len=0 TSval=14254486 TSecr=2196040423',\n",
       " '  127  38.734163 212.204.214.114 → 192.168.1.2  IRC 1514 Response (freenode.net) (352) (352) (352) (352) (352) (352) (352) (352) (352) (352) (352)',\n",
       " '  128  38.734208  192.168.1.2 → 212.204.214.114 TCP 66 2848 → 6667 [ACK] Seq=89 Ack=9720 Win=8011 Len=0 TSval=14254492 TSecr=2196040423',\n",
       " \"  129  38.762244 212.204.214.114 → 192.168.1.2  IRC 1514 Response ('Realia') (352) (352) (352) (352) (352) (352) (352) (352) (352) (352) (352) (352)\",\n",
       " '  130  38.762291  192.168.1.2 → 212.204.214.114 TCP 66 2848 → 6667 [ACK] Seq=89 Ack=11168 Win=8011 Len=0 TSval=14254520 TSecr=2196040427',\n",
       " '  131  38.768156 212.204.214.114 → 192.168.1.2  IRC 1514 Response (t) (352) (352) (352) (352) (352) (352) (352) (352) (352) (352) (352) (352)',\n",
       " '  132  38.768198  192.168.1.2 → 212.204.214.114 TCP 66 2848 → 6667 [ACK] Seq=89 Ack=12616 Win=8011 Len=0 TSval=14254526 TSecr=2196040427',\n",
       " '  133  38.773838 212.204.214.114 → 192.168.1.2  IRC 1514 Response (irc.freenode.net) (352) (352) (352) (352) (352) (352) (352) (352) (352) (352) (352)',\n",
       " '  134  38.773887  192.168.1.2 → 212.204.214.114 TCP 66 2848 → 6667 [ACK] Seq=89 Ack=14064 Win=8011 Len=0 TSval=14254532 TSecr=2196040428',\n",
       " '  135  38.779754 212.204.214.114 → 192.168.1.2  IRC 1514 Response (g.freenode.net) (352) (352) (352) (352) (352) (352) (352) (352) (352) (352) (352) (352)',\n",
       " '  136  38.779793  192.168.1.2 → 212.204.214.114 TCP 66 2848 → 6667 [ACK] Seq=89 Ack=15512 Win=8011 Len=0 TSval=14254537 TSecr=2196040428',\n",
       " '  137  38.801683 212.204.214.114 → 192.168.1.2  IRC 1514 Response (-183.winn.adsl.virgin.net) (352) (352) (352) (352) (352) (352) (352) (352) (352) (352) (352) (352) (352)',\n",
       " '  138  38.801733  192.168.1.2 → 212.204.214.114 TCP 66 2848 → 6667 [ACK] Seq=89 Ack=16960 Win=8011 Len=0 TSval=14254559 TSecr=2196040431',\n",
       " '  139  38.807825 212.204.214.114 → 192.168.1.2  IRC 1514 Response (amarok) (352) (352) (352) (352) (352) (352) (352) (352) (352) (352) (352) (352)',\n",
       " '  140  38.807858  192.168.1.2 → 212.204.214.114 TCP 66 2848 → 6667 [ACK] Seq=89 Ack=18408 Win=8011 Len=0 TSval=14254566 TSecr=2196040431',\n",
       " '  141  38.813745 212.204.214.114 → 192.168.1.2  IRC 1514 Response (.freenode.net) (352) (352) (352) (352) (352) (352) (352) (352) (352) (352) (352)',\n",
       " '  142  38.813776  192.168.1.2 → 212.204.214.114 TCP 66 2848 → 6667 [ACK] Seq=89 Ack=19856 Win=8011 Len=0 TSval=14254571 TSecr=2196040432',\n",
       " '  143  38.819661 212.204.214.114 → 192.168.1.2  IRC 1514 Response (terling.freenode.net) (352) (352) (352) (352) (352) (352) (352) (352) (352) (352) (352) (352)',\n",
       " '  144  38.819687  192.168.1.2 → 212.204.214.114 TCP 66 2848 → 6667 [ACK] Seq=89 Ack=21304 Win=8011 Len=0 TSval=14254577 TSecr=2196040432',\n",
       " '  145  38.825827 212.204.214.114 → 192.168.1.2  IRC 1514 Response (illefiz.de) (352) (352) (352) (352) (352) (352) (352) (352) (352) (352) (352) (352)',\n",
       " '  146  38.825876  192.168.1.2 → 212.204.214.114 TCP 66 2848 → 6667 [ACK] Seq=89 Ack=22752 Win=8011 Len=0 TSval=14254584 TSecr=2196040432',\n",
       " '  147  38.841821 212.204.214.114 → 192.168.1.2  IRC 1514 Response (r) (352) (352) (352) (352) (352) (352) (352) (352) (352) (352) (352) (352) (352)',\n",
       " '  148  38.841853  192.168.1.2 → 212.204.214.114 TCP 66 2848 → 6667 [ACK] Seq=89 Ack=24200 Win=8011 Len=0 TSval=14254600 TSecr=2196040435',\n",
       " '  149  38.878684 212.204.214.114 → 192.168.1.2  IRC 881 Response (net) (352) (352) (352) (352) (352) (315)',\n",
       " '  150  38.878731  192.168.1.2 → 212.204.214.114 TCP 66 2848 → 6667 [ACK] Seq=89 Ack=25015 Win=8011 Len=0 TSval=14254636 TSecr=2196040439',\n",
       " '  151  40.371818  192.168.1.2 → 212.204.214.114 IRC 96 Request (ISON)',\n",
       " '  152  40.456680 212.204.214.114 → 192.168.1.2  IRC 112 Response (303)',\n",
       " '  153  40.456731  192.168.1.2 → 212.204.214.114 TCP 66 2848 → 6667 [ACK] Seq=119 Ack=25061 Win=8011 Len=0 TSval=14256215 TSecr=2196040597',\n",
       " '  154  41.063549 172.200.160.242 → 192.168.1.2  TCP 109 11352 → 4984 [PSH, ACK] Seq=145 Ack=51 Win=65077 Len=43 TSval=1744992 TSecr=14245531',\n",
       " '  155  41.063603  192.168.1.2 → 172.200.160.242 TCP 66 4984 → 11352 [ACK] Seq=51 Ack=188 Win=762 Len=0 TSval=14256822 TSecr=1744992',\n",
       " '  156  43.445162 212.204.214.114 → 192.168.1.2  IRC 155 Response (PRIVMSG)',\n",
       " '  157  43.445212  192.168.1.2 → 212.204.214.114 TCP 66 2848 → 6667 [ACK] Seq=119 Ack=25150 Win=8011 Len=0 TSval=14259204 TSecr=2196040776',\n",
       " '  158  43.445541 212.204.214.114 → 192.168.1.2  IRC 155 [TCP Spurious Retransmission] Response (PRIVMSG)',\n",
       " '  159  43.445564  192.168.1.2 → 212.204.214.114 TCP 66 [TCP Dup ACK 157#1] 2848 → 6667 [ACK] Seq=119 Ack=25150 Win=8011 Len=0 TSval=14259204 TSecr=2196040896',\n",
       " '  160  46.062197 71.10.179.129 → 192.168.1.2  TCP 102 14232 → 4026 [PSH, ACK] Seq=160 Ack=51 Win=63757 Len=36 TSval=1888375 TSecr=14249693',\n",
       " '  161  46.062246  192.168.1.2 → 71.10.179.129 TCP 66 4026 → 14232 [ACK] Seq=51 Ack=196 Win=758 Len=0 TSval=14261821 TSecr=1888375',\n",
       " '  162  48.386328 71.10.179.129 → 192.168.1.2  TCP 93 14232 → 4026 [PSH, ACK] Seq=196 Ack=51 Win=63757 Len=27 TSval=1888398 TSecr=14261821',\n",
       " '  163  48.386383  192.168.1.2 → 71.10.179.129 TCP 66 4026 → 14232 [ACK] Seq=51 Ack=223 Win=755 Len=0 TSval=14264145 TSecr=1888398',\n",
       " '  164  48.585467  192.168.1.2 → 71.10.179.129 TCP 90 4026 → 14232 [PSH, ACK] Seq=51 Ack=223 Win=768 Len=24 TSval=14264345 TSecr=1888398',\n",
       " '  165  48.909402 71.10.179.129 → 192.168.1.2  TCP 66 14232 → 4026 [ACK] Seq=223 Ack=75 Win=63733 Len=0 TSval=1888404 TSecr=14264345',\n",
       " '  166  53.854605 172.200.160.242 → 192.168.1.2  TCP 109 11352 → 4984 [PSH, ACK] Seq=188 Ack=51 Win=65077 Len=43 TSval=1745120 TSecr=14256822',\n",
       " '  167  53.854653  192.168.1.2 → 172.200.160.242 TCP 66 4984 → 11352 [ACK] Seq=51 Ack=231 Win=757 Len=0 TSval=14269615 TSecr=1745120',\n",
       " '  168  57.999281 172.200.160.242 → 192.168.1.2  TCP 93 11352 → 4984 [PSH, ACK] Seq=231 Ack=51 Win=65077 Len=27 TSval=1745162 TSecr=14269615',\n",
       " '  169  57.999330  192.168.1.2 → 172.200.160.242 TCP 66 4984 → 11352 [ACK] Seq=51 Ack=258 Win=753 Len=0 TSval=14273760 TSecr=1745162',\n",
       " '  170  58.065534 71.10.179.129 → 192.168.1.2  TCP 106 14232 → 4026 [PSH, ACK] Seq=223 Ack=75 Win=63733 Len=40 TSval=1888495 TSecr=14264345',\n",
       " '  171  58.065585  192.168.1.2 → 71.10.179.129 TCP 66 4026 → 14232 [ACK] Seq=75 Ack=263 Win=763 Len=0 TSval=14273826 TSecr=1888495',\n",
       " '  172  58.198005  192.168.1.2 → 172.200.160.242 TCP 91 4984 → 11352 [PSH, ACK] Seq=51 Ack=258 Win=768 Len=25 TSval=14273959 TSecr=1745162',\n",
       " '  173  58.342665 172.200.160.242 → 192.168.1.2  TCP 66 11352 → 4984 [ACK] Seq=258 Ack=76 Win=65052 Len=0 TSval=1745167 TSecr=14273959',\n",
       " '  174  58.850187 AskeyCom_19:27:15 → 3Com_96:7b:da ARP 60 Who has 192.168.1.2? Tell 192.168.1.1',\n",
       " '  175  58.850216 3Com_96:7b:da → AskeyCom_19:27:15 ARP 42 192.168.1.2 is at 00:04:76:96:7b:da',\n",
       " '  176  59.980506  192.168.1.2 → 86.197.95.238 UDP 60 35990 → 44019 Len=18',\n",
       " '  177  60.296652  192.168.1.2 → 192.168.1.1  DNS 86 Standard query 0x3132 PTR 238.95.197.86.in-addr.arpa',\n",
       " '  178  60.349634  192.168.1.1 → 192.168.1.2  DNS 146 Standard query response 0x3132 PTR 238.95.197.86.in-addr.arpa PTR AMarseille-253-1-68-238.w86-197.abo.wanadoo.fr',\n",
       " '  179  60.502729  192.168.1.2 → 212.204.214.114 IRC 96 Request (ISON)',\n",
       " '  180  60.545156 212.204.214.114 → 192.168.1.2  IRC 112 Response (303)',\n",
       " '  181  60.545207  192.168.1.2 → 212.204.214.114 TCP 66 2848 → 6667 [ACK] Seq=149 Ack=25196 Win=8011 Len=0 TSval=14276306 TSecr=2196042606',\n",
       " '  182  61.046539  192.168.1.2 → 192.168.1.1  DNS 106 Standard query 0x3133 A AMarseille-253-1-68-238.w86-197.abo.wanadoo.fr',\n",
       " '  183  61.049174  192.168.1.1 → 192.168.1.2  DNS 122 Standard query response 0x3133 A AMarseille-253-1-68-238.w86-197.abo.wanadoo.fr A 86.197.95.238',\n",
       " '  184  61.058676  192.168.1.2 → 86.31.70.81  UDP 60 35990 → 43870 Len=18',\n",
       " '  185  61.058779  192.168.1.2 → 86.220.100.25 UDP 60 35990 → 1378 Len=18',\n",
       " '  186  61.058832  192.168.1.2 → 86.130.63.111 UDP 60 35990 → 12505 Len=18',\n",
       " '  187  61.058898  192.168.1.2 → 80.216.195.140 UDP 60 35990 → 1277 Len=18',\n",
       " '  188  61.508252 24.177.122.79 → 192.168.1.2  ASAP 91 Unknown ASAP type [Packet size limited during capture]',\n",
       " '  189  61.508298  192.168.1.2 → 24.177.122.79 TCP 66 3863 → 8022 [ACK] Seq=52 Ack=77 Win=761 Len=0 TSval=14277269 TSecr=3340370',\n",
       " '  190  61.707579  192.168.1.2 → 24.177.122.79 ASAP 91 Unknown ASAP type [Packet size limited during capture]',\n",
       " '  191  61.796427  192.168.1.2 → 192.168.1.1  DNS 84 Standard query 0x3134 PTR 81.70.31.86.in-addr.arpa',\n",
       " '  192  61.796492  192.168.1.2 → 192.168.1.1  DNS 86 Standard query 0x3135 PTR 25.100.220.86.in-addr.arpa',\n",
       " '  193  61.796519  192.168.1.2 → 192.168.1.1  DNS 86 Standard query 0x3136 PTR 111.63.130.86.in-addr.arpa',\n",
       " '  194  61.796545  192.168.1.2 → 192.168.1.1  DNS 87 Standard query 0x3137 PTR 140.195.216.80.in-addr.arpa',\n",
       " '  195  61.833926  192.168.1.1 → 192.168.1.2  DNS 137 Standard query response 0x3134 PTR 81.70.31.86.in-addr.arpa PTR client-86-31-70-81.midd.adsl.virgin.net',\n",
       " '  196  61.851872  192.168.1.1 → 192.168.1.2  DNS 147 Standard query response 0x3136 PTR 111.63.130.86.in-addr.arpa PTR host86-130-63-111.range86-130.btcentralplus.com',\n",
       " '  197  61.857341  192.168.1.1 → 192.168.1.2  DNS 143 Standard query response 0x3135 PTR 25.100.220.86.in-addr.arpa PTR AOrleans-257-1-93-25.w86-220.abo.wanadoo.fr',\n",
       " '  198  61.869551  192.168.1.1 → 192.168.1.2  DNS 133 Standard query response 0x3137 PTR 140.195.216.80.in-addr.arpa PTR c80-216-195-140.cm-upc.chello.se',\n",
       " '  199  61.958161 24.177.122.79 → 192.168.1.2  TCP 66 8022 → 3863 [ACK] Seq=77 Ack=77 Win=16245 Len=0 TSval=3340376 TSecr=14277469',\n",
       " '  200  62.546310  192.168.1.2 → 192.168.1.1  DNS 99 Standard query 0x3138 A client-86-31-70-81.midd.adsl.virgin.net',\n",
       " '  201  62.546352  192.168.1.2 → 192.168.1.1  DNS 107 Standard query 0x3139 A host86-130-63-111.range86-130.btcentralplus.com',\n",
       " '  202  62.546377  192.168.1.2 → 192.168.1.1  DNS 103 Standard query 0x313a A AOrleans-257-1-93-25.w86-220.abo.wanadoo.fr',\n",
       " '  203  62.546401  192.168.1.2 → 192.168.1.1  DNS 92 Standard query 0x313b A c80-216-195-140.cm-upc.chello.se',\n",
       " '  204  62.549479  192.168.1.1 → 192.168.1.2  DNS 115 Standard query response 0x3138 A client-86-31-70-81.midd.adsl.virgin.net A 86.31.70.81',\n",
       " '  205  62.551917  192.168.1.1 → 192.168.1.2  DNS 123 Standard query response 0x3139 A host86-130-63-111.range86-130.btcentralplus.com A 86.130.63.111',\n",
       " '  206  62.554242  192.168.1.1 → 192.168.1.2  DNS 119 Standard query response 0x313a A AOrleans-257-1-93-25.w86-220.abo.wanadoo.fr A 86.220.100.25',\n",
       " '  207  62.556683  192.168.1.1 → 192.168.1.2  DNS 108 Standard query response 0x313b A c80-216-195-140.cm-upc.chello.se A 80.216.195.140',\n",
       " '  208  63.283730 212.204.214.114 → 192.168.1.2  IRC 137 Response (PRIVMSG)',\n",
       " '  209  63.283784  192.168.1.2 → 212.204.214.114 TCP 66 2848 → 6667 [ACK] Seq=149 Ack=25267 Win=8011 Len=0 TSval=14279045 TSecr=2196042879',\n",
       " '  210  64.421739 24.177.122.79 → 192.168.1.2  ASAP 91 Unknown ASAP type [Packet size limited during capture]',\n",
       " '  211  64.421795  192.168.1.2 → 24.177.122.79 TCP 66 3863 → 8022 [ACK] Seq=77 Ack=102 Win=764 Len=0 TSval=14280183 TSecr=3340400',\n",
       " '  212  64.574303 65.190.6.124 → 192.168.1.2  TCP 231 47452 → 2967 [PSH, ACK] Seq=1 Ack=1 Win=64399 Len=165 TSval=3302578 TSecr=13945552',\n",
       " '  213  64.574359  192.168.1.2 → 65.190.6.124 TCP 66 2967 → 47452 [ACK] Seq=1 Ack=166 Win=998 Len=0 TSval=14280336 TSecr=3302578',\n",
       " '  214  66.122955  192.168.1.2 → 165.124.253.241 UDP 60 35990 → 15294 Len=18',\n",
       " '  215  66.249381 165.124.253.241 → 192.168.1.2  UDP 60 15294 → 35990 Len=11',\n",
       " '  216  66.249507  192.168.1.2 → 165.124.253.241 UDP 65 35990 → 15294 Len=23',\n",
       " '  217  66.357031  192.168.1.2 → 192.168.1.1  DNS 85 Standard query 0x313c PTR 124.6.190.65.in-addr.arpa',\n",
       " '  218  66.357080  192.168.1.2 → 192.168.1.1  DNS 88 Standard query 0x313d PTR 241.253.124.165.in-addr.arpa',\n",
       " '  219  66.370892 165.124.253.241 → 192.168.1.2  UDP 93 15294 → 35990 Len=51',\n",
       " '  220  66.371270  192.168.1.2 → 81.236.228.111 UDP 60 35990 → 42764 Len=18',\n",
       " '  221  66.431975 81.236.228.111 → 192.168.1.2  UDP 93 42764 → 35990 Len=51',\n",
       " '  222  66.432373  192.168.1.2 → 86.142.117.124 UDP 60 35990 → 36474 Len=18',\n",
       " '  223  66.468533  192.168.1.1 → 192.168.1.2  DNS 135 Standard query response 0x313c PTR 124.6.190.65.in-addr.arpa PTR cpe-065-190-006-124.triad.res.rr.com',\n",
       " '  224  66.712287  192.168.1.1 → 192.168.1.2  DNS 140 Standard query response 0x313d PTR 241.253.124.165.in-addr.arpa PTR engmanlab10.pathology.northwestern.edu',\n",
       " '  225  67.092614  192.168.1.2 → 192.168.1.1  DNS 96 Standard query 0x313e A cpe-065-190-006-124.triad.res.rr.com',\n",
       " '  226  67.092654  192.168.1.2 → 192.168.1.1  DNS 98 Standard query 0x313f A engmanlab10.pathology.northwestern.edu',\n",
       " '  227  67.095968  192.168.1.1 → 192.168.1.2  DNS 112 Standard query response 0x313e A cpe-065-190-006-124.triad.res.rr.com A 65.190.6.124',\n",
       " '  228  67.098311  192.168.1.1 → 192.168.1.2  DNS 114 Standard query response 0x313f A engmanlab10.pathology.northwestern.edu A 165.124.253.241',\n",
       " '  229  67.177962  192.168.1.2 → 86.142.178.222 UDP 60 35990 → 12881 Len=18',\n",
       " '  230  67.178065  192.168.1.2 → 86.128.163.125 UDP 60 35990 → 25906 Len=18',\n",
       " '  231  67.178116  192.168.1.2 → 86.134.79.66 UDP 60 35990 → 3444 Len=18',\n",
       " '  232  67.178159  192.168.1.2 → 86.136.192.70 UDP 60 35990 → 16329 Len=18',\n",
       " '  233  67.211756 86.128.163.125 → 192.168.1.2  ICMP 70 Destination unreachable (Port unreachable)',\n",
       " '  234  67.221831 86.134.79.66 → 192.168.1.2  ICMP 70 Destination unreachable (Port unreachable)',\n",
       " '  235  67.277765 172.200.160.242 → 192.168.1.2  TCP 112 11352 → 4984 [PSH, ACK] Seq=258 Ack=76 Win=65052 Len=46 TSval=1745255 TSecr=14273959',\n",
       " '  236  67.277815  192.168.1.2 → 172.200.160.242 TCP 66 4984 → 11352 [ACK] Seq=76 Ack=304 Win=762 Len=0 TSval=14283040 TSecr=1745255',\n",
       " '  237  70.138116 71.10.179.129 → 192.168.1.2  TCP 114 14232 → 4026 [PSH, ACK] Seq=263 Ack=75 Win=63733 Len=48 TSval=1888615 TSecr=14273826',\n",
       " '  238  70.138164  192.168.1.2 → 71.10.179.129 TCP 66 4026 → 14232 [ACK] Seq=75 Ack=311 Win=757 Len=0 TSval=14285901 TSecr=1888615',\n",
       " '  239  70.641037 3Com_96:7b:da → Broadcast    AoE 32 Query Config Information Request',\n",
       " '  240  70.846034  192.168.1.2 → 192.168.1.1  DNS 87 Standard query 0x3140 PTR 111.228.236.81.in-addr.arpa',\n",
       " '  241  70.846083  192.168.1.2 → 192.168.1.1  DNS 87 Standard query 0x3141 PTR 124.117.142.86.in-addr.arpa',\n",
       " '  242  70.846110  192.168.1.2 → 192.168.1.1  DNS 87 Standard query 0x3142 PTR 222.178.142.86.in-addr.arpa',\n",
       " '  243  70.846138  192.168.1.2 → 192.168.1.1  DNS 87 Standard query 0x3143 PTR 125.163.128.86.in-addr.arpa',\n",
       " '  244  70.846165  192.168.1.2 → 192.168.1.1  DNS 85 Standard query 0x3144 PTR 66.79.134.86.in-addr.arpa',\n",
       " '  245  70.846191  192.168.1.2 → 192.168.1.1  DNS 86 Standard query 0x3145 PTR 70.192.136.86.in-addr.arpa',\n",
       " '  246  70.893064  192.168.1.1 → 192.168.1.2  DNS 149 Standard query response 0x3141 PTR 124.117.142.86.in-addr.arpa PTR host86-142-117-124.range86-142.btcentralplus.com',\n",
       " '  247  70.898426  192.168.1.1 → 192.168.1.2  DNS 149 Standard query response 0x3142 PTR 222.178.142.86.in-addr.arpa PTR host86-142-178-222.range86-142.btcentralplus.com',\n",
       " '  248  70.906310  192.168.1.1 → 192.168.1.2  DNS 149 Standard query response 0x3143 PTR 125.163.128.86.in-addr.arpa PTR host86-128-163-125.range86-128.btcentralplus.com',\n",
       " '  249  70.910193  192.168.1.1 → 192.168.1.2  DNS 135 Standard query response 0x3140 PTR 111.228.236.81.in-addr.arpa PTR 81-236-228-111-no37.tbcn.telia.com',\n",
       " '  250  70.914329  192.168.1.1 → 192.168.1.2  DNS 145 Standard query response 0x3144 PTR 66.79.134.86.in-addr.arpa PTR host86-134-79-66.range86-134.btcentralplus.com',\n",
       " '  251  70.918736  192.168.1.1 → 192.168.1.2  DNS 147 Standard query response 0x3145 PTR 70.192.136.86.in-addr.arpa PTR host86-136-192-70.range86-136.btcentralplus.com',\n",
       " '  252  71.595939  192.168.1.2 → 192.168.1.1  DNS 108 Standard query 0x3146 A host86-142-117-124.range86-142.btcentralplus.com',\n",
       " '  253  71.595982  192.168.1.2 → 192.168.1.1  DNS 108 Standard query 0x3147 A host86-142-178-222.range86-142.btcentralplus.com',\n",
       " '  254  71.596007  192.168.1.2 → 192.168.1.1  DNS 108 Standard query 0x3148 A host86-128-163-125.range86-128.btcentralplus.com',\n",
       " '  255  71.596031  192.168.1.2 → 192.168.1.1  DNS 94 Standard query 0x3149 A 81-236-228-111-no37.tbcn.telia.com',\n",
       " '  256  71.596056  192.168.1.2 → 192.168.1.1  DNS 106 Standard query 0x314a A host86-134-79-66.range86-134.btcentralplus.com',\n",
       " '  257  71.596080  192.168.1.2 → 192.168.1.1  DNS 107 Standard query 0x314b A host86-136-192-70.range86-136.btcentralplus.com',\n",
       " '  258  71.599631  192.168.1.1 → 192.168.1.2  DNS 124 Standard query response 0x3146 A host86-142-117-124.range86-142.btcentralplus.com A 86.142.117.124',\n",
       " '  259  71.602195  192.168.1.1 → 192.168.1.2  DNS 124 Standard query response 0x3147 A host86-142-178-222.range86-142.btcentralplus.com A 86.142.178.222',\n",
       " '  260  71.604560  192.168.1.1 → 192.168.1.2  DNS 124 Standard query response 0x3148 A host86-128-163-125.range86-128.btcentralplus.com A 86.128.163.125',\n",
       " '  261  71.607073  192.168.1.1 → 192.168.1.2  DNS 110 Standard query response 0x3149 A 81-236-228-111-no37.tbcn.telia.com A 81.236.228.111',\n",
       " '  262  71.609505  192.168.1.1 → 192.168.1.2  DNS 122 Standard query response 0x314a A host86-134-79-66.range86-134.btcentralplus.com A 86.134.79.66',\n",
       " '  263  71.612115  192.168.1.1 → 192.168.1.2  DNS 123 Standard query response 0x314b A host86-136-192-70.range86-136.btcentralplus.com A 86.136.192.70',\n",
       " '  264  72.197961  192.168.1.2 → 80.186.57.176 UDP 60 35990 → 8788 Len=18',\n",
       " '  265  72.274479 80.186.57.176 → 192.168.1.2  UDP 93 8788 → 35990 Len=51',\n",
       " '  266  72.274824  192.168.1.2 → 68.206.150.243 UDP 60 35990 → 57322 Len=18',\n",
       " '  267  72.423135 68.206.150.243 → 192.168.1.2  UDP 60 57322 → 35990 Len=18',\n",
       " '  268  72.423544  192.168.1.2 → 68.206.150.243 TCP 74 1312 → 57322 [SYN] Seq=0 Win=5840 Len=0 MSS=1460 SACK_PERM=1 TSval=14288186 TSecr=0 WS=8',\n",
       " '  269  72.481883  192.168.1.2 → 82.128.194.105 UDP 60 35990 → 60142 Len=18',\n",
       " '  270  72.560107 212.50.132.237 → 192.168.1.2  ICMP 70 Time-to-live exceeded (Time to live exceeded in transit)',\n",
       " '  271  72.570621 68.206.150.243 → 192.168.1.2  TCP 78 57322 → 1312 [SYN, ACK] Seq=0 Ack=1 Win=65535 Len=0 MSS=1460 WS=1 TSval=0 TSecr=0 SACK_PERM=1',\n",
       " '  272  72.570680  192.168.1.2 → 68.206.150.243 TCP 66 1312 → 57322 [ACK] Seq=1 Ack=1 Win=5840 Len=0 TSval=14288333 TSecr=0',\n",
       " '  273  72.571013  192.168.1.2 → 68.206.150.243 TCP 80 1312 → 57322 [PSH, ACK] Seq=1 Ack=1 Win=5840 Len=14 TSval=14288334 TSecr=0',\n",
       " '  274  72.718991 68.206.150.243 → 192.168.1.2  TCP 139 57322 → 1312 [PSH, ACK] Seq=1 Ack=15 Win=65521 Len=73 TSval=2294351 TSecr=14288334',\n",
       " '  275  72.719049  192.168.1.2 → 68.206.150.243 TCP 66 1312 → 57322 [ACK] Seq=15 Ack=74 Win=5840 Len=0 TSval=14288482 TSecr=2294351',\n",
       " '  276  72.719358  192.168.1.2 → 68.206.150.243 TCP 91 1312 → 57322 [PSH, ACK] Seq=15 Ack=74 Win=5840 Len=25 TSval=14288482 TSecr=2294351',\n",
       " '  277  72.869554 68.206.150.243 → 192.168.1.2  TCP 653 57322 → 1312 [PSH, ACK] Seq=74 Ack=40 Win=65496 Len=587 TSval=2294353 TSecr=14288482',\n",
       " '  278  72.872568  192.168.1.2 → 68.206.150.243 TCP 82 1312 → 57322 [PSH, ACK] Seq=40 Ack=661 Win=7016 Len=16 TSval=14288635 TSecr=2294353',\n",
       " '  279  73.019589 68.206.150.243 → 192.168.1.2  TCP 340 57322 → 1312 [PSH, ACK] Seq=661 Ack=56 Win=65480 Len=274 TSval=2294354 TSecr=14288635',\n",
       " '  280  73.059659  192.168.1.2 → 68.206.150.243 TCP 66 1312 → 57322 [ACK] Seq=56 Ack=935 Win=8192 Len=0 TSval=14288823 TSecr=2294354',\n",
       " '  281  73.130966  192.168.1.2 → 192.168.1.1  DNS 86 Standard query 0x314c PTR 176.57.186.80.in-addr.arpa',\n",
       " '  282  73.131039  192.168.1.2 → 192.168.1.1  DNS 87 Standard query 0x314d PTR 243.150.206.68.in-addr.arpa',\n",
       " '  283  73.218650  192.168.1.1 → 192.168.1.2  DNS 135 Standard query response 0x314c PTR 176.57.186.80.in-addr.arpa PTR a80-186-57-176.elisa-laajakaista.fi',\n",
       " '  284  73.226490  192.168.1.2 → 68.206.150.243 TCP 77 1312 → 57322 [PSH, ACK] Seq=56 Ack=935 Win=8192 Len=11 TSval=14288989 TSecr=2294354',\n",
       " '  285  73.236155  192.168.1.2 → 204.152.205.205 UDP 78 60577 → 33435 Len=36',\n",
       " '  286  73.248439  192.168.1.1 → 192.168.1.2  DNS 134 Standard query response 0x314d PTR 243.150.206.68.in-addr.arpa PTR cpe-68-206-150-243.hot.res.rr.com',\n",
       " '  287  73.252664 217.47.73.141 → 192.168.1.2  ICMP 70 Time-to-live exceeded (Time to live exceeded in transit)',\n",
       " '  288  73.376132 68.206.150.243 → 192.168.1.2  TCP 725 57322 → 1312 [PSH, ACK] Seq=935 Ack=67 Win=65469 Len=659 TSval=2294358 TSecr=14288989',\n",
       " '  289  73.376187  192.168.1.2 → 68.206.150.243 TCP 111 1312 → 57322 [PSH, ACK] Seq=67 Ack=1594 Win=9512 Len=45 TSval=14289139 TSecr=2294358',\n",
       " '  290  73.527127 68.206.150.243 → 192.168.1.2  TCP 70 57322 → 1312 [PSH, ACK] Seq=1594 Ack=112 Win=65424 Len=4 TSval=2294359 TSecr=14289139',\n",
       " '  291  73.566583  192.168.1.2 → 68.206.150.243 TCP 66 1312 → 57322 [ACK] Seq=112 Ack=1598 Win=9512 Len=0 TSval=14289330 TSecr=2294359',\n",
       " '  292  73.756705  192.168.1.2 → 195.215.8.141 TCP 74 1325 → 33033 [SYN] Seq=0 Win=5840 Len=0 MSS=1460 SACK_PERM=1 TSval=14289520 TSecr=0 WS=8',\n",
       " '  293  73.829254 195.215.8.141 → 192.168.1.2  TCP 74 33033 → 1325 [SYN, ACK] Seq=0 Ack=1 Win=5792 Len=0 MSS=1460 SACK_PERM=1 TSval=1049909348 TSecr=14289520 WS=1',\n",
       " '  294  73.829316  192.168.1.2 → 195.215.8.141 TCP 66 1325 → 33033 [ACK] Seq=1 Ack=1 Win=5840 Len=0 TSval=14289592 TSecr=1049909348',\n",
       " '  295  73.840522  192.168.1.2 → 83.147.171.206 UDP 64 35990 → 6293 Len=22',\n",
       " '  296  73.840590  192.168.1.2 → 172.207.190.217 UDP 64 35990 → 51361 Len=22',\n",
       " '  297  73.840700  192.168.1.2 → 195.215.8.141 TCP 71 1325 → 33033 [PSH, ACK] Seq=1 Ack=1 Win=5840 Len=5 TSval=14289604 TSecr=1049909348',\n",
       " '  298  73.867190  192.168.1.2 → 192.168.1.1  DNS 87 Standard query 0x314e PTR 105.194.128.82.in-addr.arpa',\n",
       " '  299  73.867252  192.168.1.2 → 192.168.1.1  DNS 95 Standard query 0x314f A a80-186-57-176.elisa-laajakaista.fi',\n",
       " '  300  73.867276  192.168.1.2 → 192.168.1.1  DNS 93 Standard query 0x3150 A cpe-68-206-150-243.hot.res.rr.com',\n",
       " '  301  73.867300  192.168.1.2 → 192.168.1.1  DNS 87 Standard query 0x3151 PTR 237.132.50.212.in-addr.arpa',\n",
       " '  302  73.867326  192.168.1.2 → 192.168.1.1  DNS 88 Standard query 0x3152 PTR 205.205.152.204.in-addr.arpa',\n",
       " '  303  73.867354  192.168.1.2 → 192.168.1.1  DNS 86 Standard query 0x3153 PTR 141.73.47.217.in-addr.arpa',\n",
       " '  304  73.877654  192.168.1.1 → 192.168.1.2  DNS 111 Standard query response 0x314f A a80-186-57-176.elisa-laajakaista.fi A 80.186.57.176',\n",
       " '  305  73.880404  192.168.1.1 → 192.168.1.2  DNS 109 Standard query response 0x3150 A cpe-68-206-150-243.hot.res.rr.com A 68.206.150.243',\n",
       " '  306  73.914410 83.147.171.206 → 192.168.1.2  UDP 700 6293 → 35990 Len=658',\n",
       " '  307  73.917277  192.168.1.2 → 190.44.165.86 UDP 60 35990 → 57549 Len=18',\n",
       " '  308  73.917335  192.168.1.2 → 83.130.238.168 UDP 60 35990 → 26744 Len=18',\n",
       " '  309  73.917381  192.168.1.2 → 83.5.146.219 UDP 60 35990 → 1749 Len=18',\n",
       " '  310  73.917450  192.168.1.2 → 82.253.163.244 UDP 60 35990 → 38930 Len=18',\n",
       " '  311  73.919800 195.215.8.141 → 192.168.1.2  TCP 66 33033 → 1325 [ACK] Seq=1 Ack=6 Win=5792 Len=0 TSval=1049909357 TSecr=14289604',\n",
       " '  312  73.933764  192.168.1.1 → 192.168.1.2  DNS 132 Standard query response 0x3153 PTR 141.73.47.217.in-addr.arpa PTR esr2.sheffield3.broadband.bt.net',\n",
       " '  313  73.953845 172.207.190.217 → 192.168.1.2  UDP 711 51361 → 35990 Len=669',\n",
       " '  314  73.958003 195.215.8.141 → 192.168.1.2  TCP 71 33033 → 1325 [PSH, ACK] Seq=1 Ack=6 Win=5792 Len=5 TSval=1049909361 TSecr=14289604',\n",
       " '  315  73.958052  192.168.1.2 → 195.215.8.141 TCP 66 1325 → 33033 [ACK] Seq=6 Ack=6 Win=5840 Len=0 TSval=14289721 TSecr=1049909361',\n",
       " '  316  73.959322  192.168.1.2 → 195.215.8.141 TCP 517 1325 → 33033 [PSH, ACK] Seq=6 Ack=6 Win=5840 Len=451 TSval=14289722 TSecr=1049909361',\n",
       " '  317  73.965886  192.168.1.1 → 192.168.1.2  DNS 137 Standard query response 0x314e PTR 105.194.128.82.in-addr.arpa PTR Torik16-TR1-82-128-194-105.suomi.net',\n",
       " '  318  73.972681  192.168.1.1 → 192.168.1.2  DNS 119 Standard query response 0x3151 PTR 237.132.50.212.in-addr.arpa PTR Torik16R1.opoy.net',\n",
       " '  319  73.974354  192.168.1.2 → 202.139.177.147 UDP 78 60582 → 33435 Len=36',\n",
       " '  320  73.979354  192.168.1.2 → 202.232.205.123 UDP 78 60583 → 33435 Len=36',\n",
       " '  321  73.981045  192.168.1.2 → 130.244.145.31 UDP 78 60579 → 33435 Len=36',\n",
       " '  322  73.981167  192.168.1.2 → 204.152.205.205 UDP 78 60577 → 33436 Len=36',\n",
       " '  323  73.993520 217.47.73.141 → 192.168.1.2  ICMP 70 Time-to-live exceeded (Time to live exceeded in transit)',\n",
       " '  324  73.994007  192.168.1.2 → 202.139.177.147 UDP 78 60582 → 33436 Len=36',\n",
       " '  325  73.996685 217.47.73.141 → 192.168.1.2  ICMP 70 Time-to-live exceeded (Time to live exceeded in transit)',\n",
       " '  326  73.996810  192.168.1.2 → 202.232.205.123 UDP 78 60583 → 33436 Len=36',\n",
       " '  327  73.999166 217.47.73.141 → 192.168.1.2  ICMP 70 Time-to-live exceeded (Time to live exceeded in transit)',\n",
       " '  328  73.999266  192.168.1.2 → 130.244.145.31 UDP 78 60579 → 33436 Len=36',\n",
       " '  329  74.002112 217.47.73.30 → 192.168.1.2  ICMP 70 Time-to-live exceeded (Time to live exceeded in transit)',\n",
       " '  330  74.002163  192.168.1.2 → 204.152.205.205 UDP 78 60577 → 33437 Len=36',\n",
       " '  331  74.009547 217.47.73.30 → 192.168.1.2  ICMP 70 Time-to-live exceeded (Time to live exceeded in transit)',\n",
       " '  332  74.010225  192.168.1.1 → 192.168.1.2  DNS 88 Standard query response 0x3152 PTR 205.205.152.204.in-addr.arpa',\n",
       " '  333  74.010852 82.253.163.244 → 192.168.1.2  UDP 68 38930 → 35990 Len=26',\n",
       " '  334  74.013000 217.47.73.30 → 192.168.1.2  ICMP 70 Time-to-live exceeded (Time to live exceeded in transit)',\n",
       " '  335  74.015723 217.47.73.30 → 192.168.1.2  ICMP 70 Time-to-live exceeded (Time to live exceeded in transit)',\n",
       " '  336  74.019067 217.41.176.21 → 192.168.1.2  ICMP 70 Time-to-live exceeded (Time to live exceeded in transit)',\n",
       " '  337  74.021725  192.168.1.2 → 204.152.205.205 UDP 78 60577 → 33438 Len=36',\n",
       " '  338  74.032769 83.130.238.168 → 192.168.1.2  UDP 68 26744 → 35990 Len=26',\n",
       " '  339  74.033294  192.168.1.2 → 83.130.238.168 UDP 60 35990 → 26744 Len=18',\n",
       " '  340  74.038076 217.41.176.118 → 192.168.1.2  ICMP 70 Time-to-live exceeded (Time to live exceeded in transit)',\n",
       " '  341  74.047669 195.215.8.141 → 192.168.1.2  TCP 66 33033 → 1325 [ACK] Seq=6 Ack=457 Win=6432 Len=0 TSval=1049909370 TSecr=14289722',\n",
       " '  342  74.092670  192.168.1.2 → 130.244.145.31 UDP 78 60579 → 33437 Len=36',\n",
       " '  343  74.092811  192.168.1.2 → 202.232.205.123 UDP 78 60583 → 33437 Len=36',\n",
       " '  344  74.092915  192.168.1.2 → 202.139.177.147 UDP 78 60582 → 33437 Len=36',\n",
       " '  345  74.109020 217.41.176.21 → 192.168.1.2  ICMP 70 Time-to-live exceeded (Time to live exceeded in transit)',\n",
       " '  346  74.109134  192.168.1.2 → 130.244.145.31 UDP 78 60579 → 33438 Len=36',\n",
       " '  347  74.111994 217.41.176.21 → 192.168.1.2  ICMP 70 Time-to-live exceeded (Time to live exceeded in transit)',\n",
       " '  348  74.112069  192.168.1.2 → 202.232.205.123 UDP 78 60583 → 33438 Len=36',\n",
       " '  349  74.115796 217.41.176.21 → 192.168.1.2  ICMP 70 Time-to-live exceeded (Time to live exceeded in transit)',\n",
       " '  350  74.115890  192.168.1.2 → 202.139.177.147 UDP 78 60582 → 33438 Len=36',\n",
       " '  351  74.126532 217.41.176.118 → 192.168.1.2  ICMP 70 Time-to-live exceeded (Time to live exceeded in transit)',\n",
       " '  352  74.130919 217.41.176.118 → 192.168.1.2  ICMP 70 Time-to-live exceeded (Time to live exceeded in transit)',\n",
       " '  353  74.132633 217.41.176.118 → 192.168.1.2  ICMP 70 Time-to-live exceeded (Time to live exceeded in transit)',\n",
       " '  354  74.140585 83.130.238.168 → 192.168.1.2  UDP 68 26744 → 35990 Len=26',\n",
       " '  355  74.140924  192.168.1.2 → 83.130.238.168 UDP 60 35990 → 26744 Len=18',\n",
       " '  356  74.238779 190.44.165.86 → 192.168.1.2  UDP 68 57549 → 35990 Len=26',\n",
       " '  357  74.239498  192.168.1.2 → 190.44.165.86 UDP 60 35990 → 57549 Len=18',\n",
       " '  358  74.247366  192.168.1.2 → 217.41.176.118 UDP 1464 60586 → 33435 Len=1422',\n",
       " '  359  74.249231 83.130.238.168 → 192.168.1.2  UDP 68 26744 → 35990 Len=26',\n",
       " '  360  74.249692  192.168.1.2 → 83.130.238.168 UDP 60 35990 → 26744 Len=18',\n",
       " '  361  74.318508 195.215.8.141 → 192.168.1.2  TCP 298 33033 → 1325 [PSH, ACK] Seq=6 Ack=457 Win=6432 Len=232 TSval=1049909397 TSecr=14289722',\n",
       " '  362  74.340773  192.168.1.2 → 195.215.8.141 TCP 84 1325 → 33033 [PSH, ACK] Seq=457 Ack=238 Win=6912 Len=18 TSval=14290104 TSecr=1049909397',\n",
       " '  363  74.340964  192.168.1.2 → 212.72.49.142 UDP 69 35990 → 12350 Len=27',\n",
       " '  364  74.341140  192.168.1.2 → 68.206.150.243 TCP 79 1312 → 57322 [PSH, ACK] Seq=112 Ack=1598 Win=9512 Len=13 TSval=14290104 TSecr=2294359',\n",
       " '  365  74.401988 83.130.238.168 → 192.168.1.2  UDP 68 26744 → 35990 Len=26',\n",
       " '  366  74.402406  192.168.1.2 → 83.130.238.168 UDP 60 35990 → 26744 Len=18',\n",
       " '  367  74.413570 195.215.8.141 → 192.168.1.2  TCP 66 33033 → 1325 [ACK] Seq=238 Ack=475 Win=6432 Len=0 TSval=1049909406 TSecr=14290104',\n",
       " '  368  74.449134 212.72.49.142 → 192.168.1.2  UDP 64 12350 → 35990 Len=22',\n",
       " '  369  74.458147 195.215.8.141 → 192.168.1.2  TCP 133 33033 → 1325 [PSH, ACK] Seq=238 Ack=475 Win=6432 Len=67 TSval=1049909411 TSecr=14290104',\n",
       " '  370  74.494120 68.206.150.243 → 192.168.1.2  TCP 114 57322 → 1312 [PSH, ACK] Seq=1598 Ack=125 Win=65411 Len=48 TSval=2294369 TSecr=14290104',\n",
       " '  371  74.494172  192.168.1.2 → 68.206.150.243 TCP 66 1312 → 57322 [ACK] Seq=125 Ack=1646 Win=9512 Len=0 TSval=14290257 TSecr=2294369',\n",
       " '  372  74.494827  192.168.1.2 → 212.149.248.49 UDP 72 35990 → 62738 Len=30',\n",
       " '  373  74.494867  192.168.1.2 → 67.190.60.125 UDP 72 35990 → 3944 Len=30',\n",
       " '  374  74.494910  192.168.1.2 → 24.242.109.92 UDP 72 35990 → 44872 Len=30',\n",
       " '  375  74.497422  192.168.1.2 → 195.215.8.141 TCP 66 1325 → 33033 [ACK] Seq=475 Ack=305 Win=6912 Len=0 TSval=14290261 TSecr=1049909411',\n",
       " '  376  74.510701 83.130.238.168 → 192.168.1.2  UDP 68 26744 → 35990 Len=26',\n",
       " '  377  74.516546 190.44.165.86 → 192.168.1.2  UDP 68 57549 → 35990 Len=26',\n",
       " '  378  74.516740  192.168.1.2 → 190.44.165.86 UDP 60 35990 → 57549 Len=18',\n",
       " '  379  74.649716 24.242.109.92 → 192.168.1.2  UDP 60 44872 → 35990 Len=18',\n",
       " '  380  74.650178  192.168.1.2 → 68.206.150.243 TCP 79 1312 → 57322 [PSH, ACK] Seq=125 Ack=1646 Win=9512 Len=13 TSval=14290413 TSecr=2294369',\n",
       " '  381  74.672598 67.190.60.125 → 192.168.1.2  UDP 60 3944 → 35990 Len=18',\n",
       " '  382  74.794971 68.206.150.243 → 192.168.1.2  TCP 148 57322 → 1312 [PSH, ACK] Seq=1646 Ack=138 Win=65398 Len=82 TSval=2294372 TSecr=14290413',\n",
       " '  383  74.795017  192.168.1.2 → 68.206.150.243 TCP 66 1312 → 57322 [ACK] Seq=138 Ack=1728 Win=9512 Len=0 TSval=14290558 TSecr=2294372',\n",
       " '  384  74.796190 190.44.165.86 → 192.168.1.2  UDP 68 57549 → 35990 Len=26',\n",
       " '  385  74.890428  192.168.1.2 → 190.44.165.86 UDP 60 35990 → 57549 Len=18',\n",
       " '  386  74.890513  192.168.1.2 → 129.11.125.169 UDP 72 35990 → 27256 Len=30',\n",
       " '  387  74.890588  192.168.1.2 → 69.192.67.152 UDP 72 35990 → 18453 Len=30',\n",
       " '  388  74.951288 129.11.125.169 → 192.168.1.2  UDP 60 27256 → 35990 Len=18',\n",
       " '  389  74.952170  192.168.1.2 → 66.67.61.44  UDP 72 35990 → 58546 Len=30',\n",
       " '  390  74.954148  192.168.1.2 → 192.168.1.1  DNS 92 Standard query 0x3154 A esr2.sheffield3.broadband.bt.net',\n",
       " '  391  74.954189  192.168.1.2 → 192.168.1.1  DNS 96 Standard query 0x3155 A Torik16-TR1-82-128-194-105.suomi.net',\n",
       " '  392  74.954213  192.168.1.2 → 192.168.1.1  DNS 78 Standard query 0x3156 A Torik16R1.opoy.net',\n",
       " '  393  74.957643  192.168.1.1 → 192.168.1.2  DNS 108 Standard query response 0x3154 A esr2.sheffield3.broadband.bt.net A 217.47.73.141',\n",
       " '  394  74.960076  192.168.1.1 → 192.168.1.2  DNS 112 Standard query response 0x3155 A Torik16-TR1-82-128-194-105.suomi.net A 82.128.194.105',\n",
       " '  395  74.962685  192.168.1.1 → 192.168.1.2  DNS 94 Standard query response 0x3156 A Torik16R1.opoy.net A 212.50.132.237',\n",
       " '  396  75.010107  192.168.1.2 → 192.168.1.1  DNS 72 Standard query 0x9bb6 A ui.skype.com',\n",
       " '  397  75.010222  192.168.1.2 → 192.168.1.1  DNS 72 Standard query 0x9bb7 AAAA ui.skype.com',\n",
       " '  398  75.042741 69.192.67.152 → 192.168.1.2  UDP 60 18453 → 35990 Len=18',\n",
       " '  399  75.043641  192.168.1.2 → 24.61.5.13   UDP 72 35990 → 35466 Len=30',\n",
       " '  400  75.043907  192.168.1.1 → 192.168.1.2  DNS 88 Standard query response 0x9bb6 A ui.skype.com A 212.72.49.131',\n",
       " '  401  75.044368  192.168.1.2 → 212.72.49.131 TCP 74 3621 → 80 [SYN] Seq=0 Win=5840 Len=0 MSS=1460 SACK_PERM=1 TSval=14290808 TSecr=0 WS=8',\n",
       " '  402  75.089278  66.67.61.44 → 192.168.1.2  UDP 60 58546 → 35990 Len=18',\n",
       " '  403  75.089715  192.168.1.2 → 24.107.221.82 UDP 72 35990 → 55335 Len=30',\n",
       " '  404  75.092251 212.72.49.131 → 192.168.1.2  TCP 74 80 → 3621 [SYN, ACK] Seq=0 Ack=1 Win=5792 Len=0 MSS=1460 SACK_PERM=1 TSval=4257102789 TSecr=14290808 WS=4',\n",
       " '  405  75.092327  192.168.1.2 → 212.72.49.131 TCP 66 3621 → 80 [ACK] Seq=1 Ack=1 Win=5840 Len=0 TSval=14290855 TSecr=4257102789',\n",
       " '  406  75.093533  192.168.1.2 → 212.72.49.131 HTTP 232 GET http://ui.skype.com/ui/2/1.2.0.18/en/getlatestversion?ver=1.2.0.18&uhash=632e1c9b593b0faf778e6de166448d93 HTTP/1.1 ',\n",
       " '  407  75.144723 212.72.49.131 → 192.168.1.2  TCP 66 80 → 3621 [ACK] Seq=1 Ack=167 Win=6864 Len=0 TSval=4257102802 TSecr=14290857',\n",
       " '  408  75.153248 212.72.49.131 → 192.168.1.2  HTTP 462 HTTP/1.1 200 OK  (text/html)',\n",
       " '  409  75.153315  192.168.1.2 → 212.72.49.131 TCP 66 3621 → 80 [ACK] Seq=167 Ack=397 Win=6912 Len=0 TSval=14290916 TSecr=4257102804',\n",
       " '  410  75.153734 212.72.49.131 → 192.168.1.2  TCP 66 80 → 3621 [FIN, ACK] Seq=397 Ack=167 Win=6864 Len=0 TSval=4257102804 TSecr=14290857',\n",
       " '  411  75.153877  192.168.1.2 → 212.72.49.131 TCP 66 3621 → 80 [FIN, ACK] Seq=167 Ack=398 Win=6912 Len=0 TSval=14290917 TSecr=4257102804',\n",
       " '  412  75.168991 190.44.165.86 → 192.168.1.2  UDP 68 57549 → 35990 Len=26',\n",
       " '  413  75.170847  192.168.1.2 → 190.44.165.86 UDP 60 35990 → 57549 Len=18',\n",
       " '  414  75.185105   24.61.5.13 → 192.168.1.2  UDP 60 35466 → 35990 Len=18',\n",
       " '  415  75.192369  192.168.1.2 → 72.145.3.159 UDP 72 35990 → 3523 Len=30',\n",
       " '  416  75.200579 212.72.49.131 → 192.168.1.2  TCP 66 80 → 3621 [ACK] Seq=398 Ack=168 Win=6864 Len=0 TSval=4257102816 TSecr=14290917',\n",
       " '  417  75.219667 24.107.221.82 → 192.168.1.2  UDP 60 55335 → 35990 Len=18',\n",
       " '  418  75.220174  192.168.1.2 → 212.149.248.49 UDP 63 35990 → 62738 Len=21',\n",
       " '  419  75.336659 72.145.3.159 → 192.168.1.2  UDP 60 3523 → 35990 Len=18',\n",
       " '  420  75.448105 190.44.165.86 → 192.168.1.2  UDP 68 57549 → 35990 Len=26',\n",
       " '  421  75.708770  192.168.1.2 → 192.168.1.1  DNS 86 Standard query 0x3157 PTR 141.8.215.195.in-addr.arpa',\n",
       " '  422  75.708874  192.168.1.2 → 192.168.1.1  DNS 87 Standard query 0x3158 PTR 206.171.147.83.in-addr.arpa',\n",
       " '  423  75.708909  192.168.1.2 → 192.168.1.1  DNS 88 Standard query 0x3159 PTR 217.190.207.172.in-addr.arpa',\n",
       " '  424  75.708943  192.168.1.2 → 192.168.1.1  DNS 86 Standard query 0x315a PTR 86.165.44.190.in-addr.arpa',\n",
       " '  425  75.708977  192.168.1.2 → 192.168.1.1  DNS 87 Standard query 0x315b PTR 168.238.130.83.in-addr.arpa',\n",
       " '  426  75.709011  192.168.1.2 → 192.168.1.1  DNS 85 Standard query 0x315c PTR 219.146.5.83.in-addr.arpa',\n",
       " '  427  75.709046  192.168.1.2 → 192.168.1.1  DNS 87 Standard query 0x315d PTR 244.163.253.82.in-addr.arpa',\n",
       " '  428  75.709080  192.168.1.2 → 192.168.1.1  DNS 88 Standard query 0x315e PTR 147.177.139.202.in-addr.arpa',\n",
       " '  429  75.709115  192.168.1.2 → 192.168.1.1  DNS 88 Standard query 0x315f PTR 123.205.232.202.in-addr.arpa',\n",
       " '  430  75.709149  192.168.1.2 → 192.168.1.1  DNS 87 Standard query 0x3160 PTR 31.145.244.130.in-addr.arpa',\n",
       " '  431  75.709184  192.168.1.2 → 192.168.1.1  DNS 85 Standard query 0x3161 PTR 30.73.47.217.in-addr.arpa',\n",
       " '  432  75.709230  192.168.1.2 → 192.168.1.1  DNS 86 Standard query 0x3162 PTR 21.176.41.217.in-addr.arpa',\n",
       " '  433  75.709266  192.168.1.2 → 192.168.1.1  DNS 87 Standard query 0x3163 PTR 118.176.41.217.in-addr.arpa',\n",
       " '  434  75.709301  192.168.1.2 → 192.168.1.1  DNS 86 Standard query 0x3164 PTR 142.49.72.212.in-addr.arpa',\n",
       " '  435  75.709335  192.168.1.2 → 192.168.1.1  DNS 87 Standard query 0x3165 PTR 49.248.149.212.in-addr.arpa',\n",
       " '  436  75.709370  192.168.1.2 → 192.168.1.1  DNS 86 Standard query 0x3166 PTR 125.60.190.67.in-addr.arpa',\n",
       " '  437  75.709404  192.168.1.2 → 192.168.1.1  DNS 86 Standard query 0x3167 PTR 92.109.242.24.in-addr.arpa',\n",
       " '  438  75.709439  192.168.1.2 → 192.168.1.1  DNS 87 Standard query 0x3168 PTR 169.125.11.129.in-addr.arpa',\n",
       " '  439  75.709474  192.168.1.2 → 192.168.1.1  DNS 86 Standard query 0x3169 PTR 152.67.192.69.in-addr.arpa',\n",
       " '  440  75.709509  192.168.1.2 → 192.168.1.1  DNS 84 Standard query 0x316a PTR 44.61.67.66.in-addr.arpa',\n",
       " '  441  75.709543  192.168.1.2 → 192.168.1.1  DNS 83 Standard query 0x316b PTR 13.5.61.24.in-addr.arpa',\n",
       " '  442  75.709577  192.168.1.2 → 192.168.1.1  DNS 86 Standard query 0x316c PTR 82.221.107.24.in-addr.arpa',\n",
       " '  443  75.709612  192.168.1.2 → 192.168.1.1  DNS 85 Standard query 0x316d PTR 159.3.145.72.in-addr.arpa',\n",
       " '  444  76.307442  192.168.1.1 → 192.168.1.2  DNS 86 Standard query response 0x3157 PTR 141.8.215.195.in-addr.arpa',\n",
       " '  445  76.308857  192.168.1.2 → 217.41.176.118 UDP 464 60589 → 33435 Len=422',\n",
       " '  446  76.314543  192.168.1.1 → 192.168.1.2  DNS 139 Standard query response 0x3158 PTR 206.171.147.83.in-addr.arpa PTR ip-83-147-171-206.lmk.metro.digiweb.ie',\n",
       " '  447  76.339188  192.168.1.1 → 192.168.1.2  DNS 142 Standard query response 0x315d PTR 244.163.253.82.in-addr.arpa PTR lns-bzn-30-82-253-163-244.adsl.proxad.net',\n",
       " '  448  76.344776  192.168.1.1 → 192.168.1.2  DNS 87 Standard query response 0x3160 PTR 31.145.244.130.in-addr.arpa',\n",
       " '  449  76.349674  192.168.1.1 → 192.168.1.2  DNS 85 Standard query response 0x3161 PTR 30.73.47.217.in-addr.arpa',\n",
       " '  450  76.354941  192.168.1.1 → 192.168.1.2  DNS 122 Standard query response 0x3159 PTR 217.190.207.172.in-addr.arpa PTR ACCFBED9.ipt.aol.com',\n",
       " '  451  76.365911  192.168.1.1 → 192.168.1.2  DNS 128 Standard query response 0x315c PTR 219.146.5.83.in-addr.arpa PTR aapm219.neoplus.adsl.tpnet.pl',\n",
       " '  452  76.371116  192.168.1.1 → 192.168.1.2  DNS 86 Standard query response 0x3162 PTR 21.176.41.217.in-addr.arpa',\n",
       " '  453  76.375539  192.168.1.1 → 192.168.1.2  DNS 87 Standard query response 0x3163 PTR 118.176.41.217.in-addr.arpa',\n",
       " '  454  76.380209  192.168.1.1 → 192.168.1.2  DNS 133 Standard query response 0x315b PTR 168.238.130.83.in-addr.arpa PTR IGLD-83-130-238-168.inter.net.il',\n",
       " '  455  76.385190  192.168.1.1 → 192.168.1.2  DNS 86 Standard query response 0x315a PTR 86.165.44.190.in-addr.arpa',\n",
       " '  456  76.389430  192.168.1.1 → 192.168.1.2  DNS 86 Standard query response 0x3164 PTR 142.49.72.212.in-addr.arpa',\n",
       " '  457  76.393624  192.168.1.1 → 192.168.1.2  DNS 134 Standard query response 0x3167 PTR 92.109.242.24.in-addr.arpa PTR cpe-24-242-109-92.sport.res.rr.com',\n",
       " '  458  76.398367  192.168.1.1 → 192.168.1.2  DNS 135 Standard query response 0x3166 PTR 125.60.190.67.in-addr.arpa PTR c-67-190-60-125.hsd1.co.comcast.net',\n",
       " '  459  76.403103  192.168.1.1 → 192.168.1.2  DNS 142 Standard query response 0x3165 PTR 49.248.149.212.in-addr.arpa PTR b-248-49.dsl.kpy.customers.dnainternet.fi',\n",
       " '  460  76.407536  192.168.1.1 → 192.168.1.2  DNS 134 Standard query response 0x316a PTR 44.61.67.66.in-addr.arpa PTR cpe-66-67-61-44.rochester.res.rr.com',\n",
       " '  461  76.411812  192.168.1.1 → 192.168.1.2  DNS 88 Standard query response 0x315e PTR 147.177.139.202.in-addr.arpa',\n",
       " '  462  76.416057  192.168.1.1 → 192.168.1.2  DNS 147 Standard query response 0x3168 PTR 169.125.11.129.in-addr.arpa PTR student-halls-boddington-pc125-169.leeds.ac.uk',\n",
       " '  463  76.420242  192.168.1.1 → 192.168.1.2  DNS 155 Standard query response 0x3169 PTR 152.67.192.69.in-addr.arpa PTR CPE0016ec35ac27-CM00159a41912e.cpe.net.cable.rogers.com',\n",
       " '  464  76.424344  192.168.1.1 → 192.168.1.2  DNS 129 Standard query response 0x316b PTR 13.5.61.24.in-addr.arpa PTR c-24-61-5-13.hsd1.ma.comcast.net',\n",
       " '  465  76.428258  192.168.1.1 → 192.168.1.2  DNS 131 Standard query response 0x316d PTR 159.3.145.72.in-addr.arpa PTR adsl-145-3-159.mia.bellsouth.net',\n",
       " '  466  76.487595  192.168.1.2 → 192.168.1.1  DNS 98 Standard query 0x316e A ip-83-147-171-206.lmk.metro.digiweb.ie',\n",
       " '  467  76.487665  192.168.1.2 → 192.168.1.1  DNS 101 Standard query 0x316f A lns-bzn-30-82-253-163-244.adsl.proxad.net',\n",
       " '  468  76.487703  192.168.1.2 → 192.168.1.1  DNS 80 Standard query 0x3170 A ACCFBED9.ipt.aol.com',\n",
       " '  469  76.487736  192.168.1.2 → 192.168.1.1  DNS 89 Standard query 0x3171 A aapm219.neoplus.adsl.tpnet.pl',\n",
       " '  470  76.487772  192.168.1.2 → 192.168.1.1  DNS 92 Standard query 0x3172 A IGLD-83-130-238-168.inter.net.il',\n",
       " '  471  76.487808  192.168.1.2 → 192.168.1.1  DNS 94 Standard query 0x3173 A cpe-24-242-109-92.sport.res.rr.com',\n",
       " '  472  76.487840  192.168.1.2 → 192.168.1.1  DNS 95 Standard query 0x3174 A c-67-190-60-125.hsd1.co.comcast.net',\n",
       " '  473  76.487874  192.168.1.2 → 192.168.1.1  DNS 101 Standard query 0x3175 A b-248-49.dsl.kpy.customers.dnainternet.fi',\n",
       " '  474  76.487906  192.168.1.2 → 192.168.1.1  DNS 96 Standard query 0x3176 A cpe-66-67-61-44.rochester.res.rr.com',\n",
       " '  475  76.487941  192.168.1.2 → 192.168.1.1  DNS 106 Standard query 0x3177 A student-halls-boddington-pc125-169.leeds.ac.uk',\n",
       " '  476  76.487974  192.168.1.2 → 192.168.1.1  DNS 115 Standard query 0x3178 A CPE0016ec35ac27-CM00159a41912e.cpe.net.cable.rogers.com',\n",
       " '  477  76.488006  192.168.1.2 → 192.168.1.1  DNS 92 Standard query 0x3179 A c-24-61-5-13.hsd1.ma.comcast.net',\n",
       " '  478  76.488038  192.168.1.2 → 192.168.1.1  DNS 92 Standard query 0x317a A adsl-145-3-159.mia.bellsouth.net',\n",
       " '  479  76.493670  192.168.1.1 → 192.168.1.2  DNS 114 Standard query response 0x316e A ip-83-147-171-206.lmk.metro.digiweb.ie A 83.147.171.206',\n",
       " '  480  76.496845  192.168.1.1 → 192.168.1.2  DNS 117 Standard query response 0x316f A lns-bzn-30-82-253-163-244.adsl.proxad.net A 82.253.163.244',\n",
       " '  481  76.499867  192.168.1.1 → 192.168.1.2  DNS 96 Standard query response 0x3170 A ACCFBED9.ipt.aol.com A 172.207.190.217',\n",
       " '  482  76.502997  192.168.1.1 → 192.168.1.2  DNS 105 Standard query response 0x3171 A aapm219.neoplus.adsl.tpnet.pl A 83.5.146.219',\n",
       " '  483  76.506197  192.168.1.1 → 192.168.1.2  DNS 108 Standard query response 0x3172 A IGLD-83-130-238-168.inter.net.il A 83.130.238.168',\n",
       " '  484  76.509241  192.168.1.1 → 192.168.1.2  DNS 110 Standard query response 0x3173 A cpe-24-242-109-92.sport.res.rr.com A 24.242.109.92',\n",
       " '  485  76.512540  192.168.1.1 → 192.168.1.2  DNS 111 Standard query response 0x3174 A c-67-190-60-125.hsd1.co.comcast.net A 67.190.60.125',\n",
       " '  486  76.515794  192.168.1.1 → 192.168.1.2  DNS 117 Standard query response 0x3175 A b-248-49.dsl.kpy.customers.dnainternet.fi A 212.149.248.49',\n",
       " '  487  76.518246  192.168.1.2 → 192.168.1.1  DNS 72 Standard query 0x9bb7 AAAA ui.skype.com',\n",
       " '  488  76.519483  192.168.1.1 → 192.168.1.2  DNS 112 Standard query response 0x3176 A cpe-66-67-61-44.rochester.res.rr.com A 66.67.61.44',\n",
       " '  489  76.522717  192.168.1.1 → 192.168.1.2  DNS 122 Standard query response 0x3177 A student-halls-boddington-pc125-169.leeds.ac.uk A 129.11.125.169',\n",
       " '  490  76.526199  192.168.1.1 → 192.168.1.2  DNS 131 Standard query response 0x3178 A CPE0016ec35ac27-CM00159a41912e.cpe.net.cable.rogers.com A 69.192.67.152',\n",
       " '  491  76.529367  192.168.1.1 → 192.168.1.2  DNS 108 Standard query response 0x3179 A c-24-61-5-13.hsd1.ma.comcast.net A 24.61.5.13',\n",
       " '  492  76.532740  192.168.1.1 → 192.168.1.2  DNS 108 Standard query response 0x317a A adsl-145-3-159.mia.bellsouth.net A 72.145.3.159',\n",
       " '  493  76.536082  192.168.1.1 → 192.168.1.2  DNS 138 Standard query response 0x316c PTR 82.221.107.24.in-addr.arpa PTR 24-107-221-82.dhcp.stls.mo.charter.com',\n",
       " '  494  76.550736  192.168.1.2 → 212.149.248.49 UDP 72 35990 → 62738 Len=30',\n",
       " '  495  76.641630  192.168.1.1 → 192.168.1.2  DNS 124 Standard query response 0x315f PTR 123.205.232.202.in-addr.arpa PTR bmdj7123.bmobile.ne.jp',\n",
       " '  496  77.254941  192.168.1.2 → 212.149.248.49 UDP 63 35990 → 62738 Len=21',\n",
       " '  497  77.262663  192.168.1.2 → 192.168.1.1  DNS 98 Standard query 0x317b A 24-107-221-82.dhcp.stls.mo.charter.com',\n",
       " '  498  77.262703  192.168.1.2 → 192.168.1.1  DNS 82 Standard query 0x317c A bmdj7123.bmobile.ne.jp',\n",
       " '  499  77.280335  192.168.1.1 → 192.168.1.2  DNS 114 Standard query response 0x317b A 24-107-221-82.dhcp.stls.mo.charter.com A 24.107.221.82',\n",
       " '  500  77.283454  192.168.1.1 → 192.168.1.2  DNS 98 Standard query response 0x317c A bmdj7123.bmobile.ne.jp A 202.232.205.123',\n",
       " '  501  77.339743  192.168.1.1 → 192.168.1.2  DNS 136 Standard query response 0x9bb7 AAAA ui.skype.com SOA ns1.skype.net',\n",
       " '  502  78.018964  192.168.1.2 → 192.168.1.1  DNS 72 Standard query 0x9bb7 AAAA ui.skype.com',\n",
       " '  503  78.354365  192.168.1.1 → 192.168.1.2  DNS 136 Standard query response 0x9bb7 AAAA ui.skype.com SOA ns1.skype.net',\n",
       " '  504  78.442236 24.177.122.79 → 192.168.1.2  ASAP 92 Unknown ASAP type [Packet size limited during capture]',\n",
       " '  505  78.442286  192.168.1.2 → 24.177.122.79 TCP 66 3863 → 8022 [ACK] Seq=77 Ack=128 Win=761 Len=0 TSval=14294206 TSecr=3340539',\n",
       " '  506  79.303387 172.200.160.242 → 192.168.1.2  TCP 109 11352 → 4984 [PSH, ACK] Seq=304 Ack=76 Win=65052 Len=43 TSval=1745375 TSecr=14283040',\n",
       " '  507  79.303436  192.168.1.2 → 172.200.160.242 TCP 66 4984 → 11352 [ACK] Seq=76 Ack=347 Win=756 Len=0 TSval=14295067 TSecr=1745375',\n",
       " '  508  79.357523  192.168.1.2 → 217.41.176.118 UDP 464 60592 → 33435 Len=422',\n",
       " '  509  79.519719  192.168.1.2 → 192.168.1.1  DNS 72 Standard query 0x9bb7 AAAA ui.skype.com',\n",
       " '  510  80.008776  192.168.1.1 → 192.168.1.2  DNS 127 Standard query response 0x9bb7 AAAA ui.skype.com SOA ns1.skype.net',\n",
       " '  511  80.009134  192.168.1.2 → 192.168.1.1  DNS 72 Standard query 0x9bb8 AAAA ui.skype.com',\n",
       " '  512  80.497511  192.168.1.1 → 192.168.1.2  DNS 127 Standard query response 0x9bb8 AAAA ui.skype.com SOA ns1.skype.net',\n",
       " '  513  80.558648  192.168.1.2 → 212.149.248.49 UDP 72 35990 → 62738 Len=30',\n",
       " '  514  80.612716  192.168.1.2 → 212.204.214.114 IRC 96 Request (ISON)',\n",
       " '  515  80.679902 212.204.214.114 → 192.168.1.2  IRC 112 Response (303)',\n",
       " '  516  80.679959  192.168.1.2 → 212.204.214.114 TCP 66 2848 → 6667 [ACK] Seq=179 Ack=25313 Win=8011 Len=0 TSval=14296444 TSecr=2196044619',\n",
       " '  517  81.258524  192.168.1.2 → 212.149.248.49 UDP 63 35990 → 62738 Len=21',\n",
       " '  518  81.364477  192.168.1.2 → 217.41.176.118 UDP 464 60595 → 33435 Len=422',\n",
       " '  519  82.191476 71.10.179.129 → 192.168.1.2  TCP 108 14232 → 4026 [PSH, ACK] Seq=311 Ack=75 Win=63733 Len=42 TSval=1888736 TSecr=14285901',\n",
       " '  520  82.191522  192.168.1.2 → 71.10.179.129 TCP 66 4026 → 14232 [ACK] Seq=75 Ack=353 Win=751 Len=0 TSval=14297956 TSecr=1888736',\n",
       " '  521  83.194062 212.204.214.114 → 192.168.1.2  IRC 267 Response (PRIVMSG)',\n",
       " '  522  83.194125  192.168.1.2 → 212.204.214.114 TCP 66 2848 → 6667 [ACK] Seq=179 Ack=25514 Win=8011 Len=0 TSval=14298959 TSecr=2196044870',\n",
       " '  523  83.764906 193.150.239.120 → 192.168.1.2  TCP 231 11421 → 3544 [PSH, ACK] Seq=1 Ack=1 Win=65422 Len=165 TSval=98347 TSecr=14019711',\n",
       " '  524  83.764959  192.168.1.2 → 193.150.239.120 TCP 66 3544 → 11421 [ACK] Seq=1 Ack=166 Win=998 Len=0 TSval=14299529 TSecr=98347',\n",
       " '  525  84.102096  192.168.1.2 → 192.168.1.1  DNS 88 Standard query 0x317d PTR 120.239.150.193.in-addr.arpa',\n",
       " '  526  84.156309  192.168.1.1 → 192.168.1.2  DNS 135 Standard query response 0x317d PTR 120.239.150.193.in-addr.arpa PTR c193-150-239-120.cm-upc.chello.se',\n",
       " '  527  84.851915  192.168.1.2 → 192.168.1.1  DNS 93 Standard query 0x317e A c193-150-239-120.cm-upc.chello.se',\n",
       " '  528  84.855116  192.168.1.1 → 192.168.1.2  DNS 109 Standard query response 0x317e A c193-150-239-120.cm-upc.chello.se A 193.150.239.120',\n",
       " '  529  85.267187  192.168.1.2 → 24.107.221.82 UDP 63 35990 → 55335 Len=21',\n",
       " '  530  85.397481 24.107.221.82 → 192.168.1.2  UDP 118 55335 → 35990 Len=76',\n",
       " '  531  85.398576  192.168.1.2 → 68.84.140.103 UDP 72 35990 → 47070 Len=30',\n",
       " '  532  85.398617  192.168.1.2 → 72.181.61.199 UDP 72 35990 → 7150 Len=30',\n",
       " '  533  85.398665  192.168.1.2 → 24.225.155.47 UDP 72 35990 → 53311 Len=30',\n",
       " '  534  85.511109 24.225.155.47 → 192.168.1.2  UDP 60 53311 → 35990 Len=18',\n",
       " '  535  85.538882 68.84.140.103 → 192.168.1.2  UDP 60 47070 → 35990 Len=18',\n",
       " '  536  85.558095  192.168.1.2 → 82.216.129.118 UDP 72 35990 → 39085 Len=30',\n",
       " '  537  85.558532  192.168.1.2 → 24.243.179.113 UDP 72 35990 → 56792 Len=30',\n",
       " '  538  85.566065 72.181.61.199 → 192.168.1.2  UDP 60 7150 → 35990 Len=18',\n",
       " '  539  85.567201  192.168.1.2 → 67.162.133.209 UDP 72 35990 → 56626 Len=30',\n",
       " '  540  85.604441 82.216.129.118 → 192.168.1.2  UDP 60 39085 → 35990 Len=18',\n",
       " '  541  85.604924  192.168.1.2 → 212.30.7.170 UDP 72 35990 → 30241 Len=30',\n",
       " '  542  85.664092 212.30.7.170 → 192.168.1.2  UDP 60 30241 → 35990 Len=18',\n",
       " '  543  85.733021 67.162.133.209 → 192.168.1.2  UDP 60 56626 → 35990 Len=18',\n",
       " '  544  85.735519 24.243.179.113 → 192.168.1.2  UDP 60 56792 → 35990 Len=18',\n",
       " '  545  85.736202  192.168.1.2 → 67.162.133.209 UDP 388 35990 → 56626 Len=346',\n",
       " '  546  85.736275  192.168.1.2 → 82.216.129.118 UDP 388 35990 → 39085 Len=346',\n",
       " '  547  85.736318  192.168.1.2 → 72.181.61.199 UDP 388 35990 → 7150 Len=346',\n",
       " '  548  85.736361  192.168.1.2 → 68.84.140.103 UDP 388 35990 → 47070 Len=346',\n",
       " '  549  85.736390  192.168.1.2 → 24.107.221.82 UDP 388 35990 → 55335 Len=346',\n",
       " '  550  85.736439  192.168.1.2 → 66.67.61.44  UDP 388 35990 → 58546 Len=346',\n",
       " '  551  85.736488  192.168.1.2 → 24.242.109.92 UDP 388 35990 → 44872 Len=346',\n",
       " '  552  85.736574  192.168.1.2 → 67.190.60.125 UDP 388 35990 → 3944 Len=346',\n",
       " '  553  85.803409 82.216.129.118 → 192.168.1.2  UDP 60 39085 → 35990 Len=11',\n",
       " '  554  85.912364 67.162.133.209 → 192.168.1.2  UDP 60 56626 → 35990 Len=11',\n",
       " '  555  85.915983 68.84.140.103 → 192.168.1.2  UDP 60 47070 → 35990 Len=11',\n",
       " '  556  85.924372 24.107.221.82 → 192.168.1.2  UDP 60 55335 → 35990 Len=11',\n",
       " '  557  85.935467 72.181.61.199 → 192.168.1.2  UDP 60 7150 → 35990 Len=11',\n",
       " '  558  85.937936  66.67.61.44 → 192.168.1.2  UDP 60 58546 → 35990 Len=11',\n",
       " '  559  85.963366 24.242.109.92 → 192.168.1.2  UDP 60 44872 → 35990 Len=11',\n",
       " '  560  86.002955 67.190.60.125 → 192.168.1.2  UDP 60 3944 → 35990 Len=11',\n",
       " '  561  89.963533 130.117.72.70 → 192.168.1.2  UDP 63 51318 → 35990 Len=21',\n",
       " '  562  89.963826  192.168.1.2 → 130.117.72.70 UDP 53 35990 → 51318 Len=11',\n",
       " '  563  90.028395  192.168.1.2 → 212.72.49.142 UDP 69 35990 → 12350 Len=27',\n",
       " '  564  90.105133  192.168.1.2 → 192.168.1.1  DNS 86 Standard query 0x317f PTR 103.140.84.68.in-addr.arpa',\n",
       " '  565  90.105183  192.168.1.2 → 192.168.1.1  DNS 86 Standard query 0x3180 PTR 199.61.181.72.in-addr.arpa',\n",
       " '  566  90.105211  192.168.1.2 → 192.168.1.1  DNS 86 Standard query 0x3181 PTR 47.155.225.24.in-addr.arpa',\n",
       " '  567  90.105238  192.168.1.2 → 192.168.1.1  DNS 87 Standard query 0x3182 PTR 118.129.216.82.in-addr.arpa',\n",
       " '  568  90.105265  192.168.1.2 → 192.168.1.1  DNS 87 Standard query 0x3183 PTR 113.179.243.24.in-addr.arpa',\n",
       " '  569  90.105292  192.168.1.2 → 192.168.1.1  DNS 87 Standard query 0x3184 PTR 209.133.162.67.in-addr.arpa',\n",
       " '  570  90.105318  192.168.1.2 → 192.168.1.1  DNS 85 Standard query 0x3185 PTR 170.7.30.212.in-addr.arpa',\n",
       " '  571  90.105345  192.168.1.2 → 192.168.1.1  DNS 86 Standard query 0x3186 PTR 70.72.117.130.in-addr.arpa',\n",
       " '  572  90.124580 212.72.49.142 → 192.168.1.2  UDP 64 12350 → 35990 Len=22',\n",
       " '  573  90.124947  192.168.1.2 → 212.72.49.142 TCP 74 2576 → 12350 [SYN] Seq=0 Win=5840 Len=0 MSS=1460 SACK_PERM=1 TSval=14305890 TSecr=0 WS=8',\n",
       " '  574  90.168698 212.72.49.142 → 192.168.1.2  TCP 74 12350 → 2576 [SYN, ACK] Seq=0 Ack=1 Win=5792 Len=0 MSS=1460 SACK_PERM=1 TSval=132450189 TSecr=14305890 WS=1',\n",
       " '  575  90.168751  192.168.1.2 → 212.72.49.142 TCP 66 2576 → 12350 [ACK] Seq=1 Ack=1 Win=5840 Len=0 TSval=14305934 TSecr=132450189',\n",
       " '  576  90.168874  192.168.1.2 → 212.72.49.142 TCP 71 2576 → 12350 [PSH, ACK] Seq=1 Ack=1 Win=5840 Len=5 TSval=14305934 TSecr=132450189',\n",
       " '  577  90.185704  192.168.1.1 → 192.168.1.2  DNS 141 Standard query response 0x3182 PTR 118.129.216.82.in-addr.arpa PTR ip-118.net-82-216-129.rev.numericable.fr',\n",
       " '  578  90.203297  192.168.1.1 → 192.168.1.2  DNS 86 Standard query response 0x3186 PTR 70.72.117.130.in-addr.arpa',\n",
       " '  579  90.214508 212.72.49.142 → 192.168.1.2  TCP 66 12350 → 2576 [ACK] Seq=1 Ack=6 Win=5792 Len=0 TSval=132450193 TSecr=14305934',\n",
       " '  580  90.215657  192.168.1.1 → 192.168.1.2  DNS 135 Standard query response 0x317f PTR 103.140.84.68.in-addr.arpa PTR c-68-84-140-103.hsd1.md.comcast.net',\n",
       " '  581  90.229845  192.168.1.1 → 192.168.1.2  DNS 136 Standard query response 0x3180 PTR 199.61.181.72.in-addr.arpa PTR cpe-72-181-61-199.houston.res.rr.com',\n",
       " '  582  90.233751  192.168.1.1 → 192.168.1.2  DNS 120 Standard query response 0x3185 PTR 170.7.30.212.in-addr.arpa PTR bbd933.home.cwgsy.net',\n",
       " '  583  90.247249  192.168.1.1 → 192.168.1.2  DNS 134 Standard query response 0x3183 PTR 113.179.243.24.in-addr.arpa PTR cpe-24-243-179-113.hot.res.rr.com',\n",
       " '  584  90.251579  192.168.1.1 → 192.168.1.2  DNS 137 Standard query response 0x3184 PTR 209.133.162.67.in-addr.arpa PTR c-67-162-133-209.hsd1.co.comcast.net',\n",
       " '  585  90.319206 212.72.49.142 → 192.168.1.2  TCP 71 12350 → 2576 [PSH, ACK] Seq=1 Ack=6 Win=5792 Len=5 TSval=132450204 TSecr=14305934',\n",
       " '  586  90.319256  192.168.1.2 → 212.72.49.142 TCP 66 2576 → 12350 [ACK] Seq=6 Ack=6 Win=5840 Len=0 TSval=14306085 TSecr=132450204',\n",
       " '  587  90.320290  192.168.1.2 → 212.72.49.142 TCP 326 2576 → 12350 [PSH, ACK] Seq=6 Ack=6 Win=5840 Len=260 TSval=14306086 TSecr=132450204',\n",
       " '  588  90.324366  192.168.1.1 → 192.168.1.2  DNS 131 Standard query response 0x3181 PTR 47.155.225.24.in-addr.arpa PTR host-24-225-155-47.patmedia.net',\n",
       " '  589  90.373699 212.72.49.142 → 192.168.1.2  TCP 66 12350 → 2576 [ACK] Seq=6 Ack=266 Win=6432 Len=0 TSval=132450209 TSecr=14306086',\n",
       " '  590  90.478625 212.72.49.142 → 192.168.1.2  TCP 82 12350 → 2576 [PSH, ACK] Seq=6 Ack=266 Win=6432 Len=16 TSval=132450220 TSecr=14306086',\n",
       " '  591  90.518005  192.168.1.2 → 212.72.49.142 TCP 66 2576 → 12350 [ACK] Seq=266 Ack=22 Win=5840 Len=0 TSval=14306284 TSecr=132450220',\n",
       " '  592  90.562099 212.72.49.142 → 192.168.1.2  TCP 134 12350 → 2576 [PSH, ACK] Seq=22 Ack=266 Win=6432 Len=68 TSval=132450228 TSecr=14306284',\n",
       " '  593  90.562150  192.168.1.2 → 212.72.49.142 TCP 66 2576 → 12350 [ACK] Seq=266 Ack=90 Win=5840 Len=0 TSval=14306328 TSecr=132450228',\n",
       " '  594  90.570408  192.168.1.2 → 212.72.49.142 TCP 91 2576 → 12350 [PSH, ACK] Seq=266 Ack=90 Win=5840 Len=25 TSval=14306336 TSecr=132450228',\n",
       " '  595  90.640703 212.72.49.142 → 192.168.1.2  TCP 66 12350 → 2576 [ACK] Seq=90 Ack=291 Win=6432 Len=0 TSval=132450236 TSecr=14306336',\n",
       " '  596  90.681556 212.72.49.142 → 192.168.1.2  TCP 87 12350 → 2576 [PSH, ACK] Seq=90 Ack=291 Win=6432 Len=21 TSval=132450240 TSecr=14306336',\n",
       " '  597  90.720974  192.168.1.2 → 212.72.49.142 TCP 66 2576 → 12350 [ACK] Seq=291 Ack=111 Win=5840 Len=0 TSval=14306487 TSecr=132450240',\n",
       " '  598  90.866992  192.168.1.2 → 192.168.1.1  DNS 100 Standard query 0x3187 A ip-118.net-82-216-129.rev.numericable.fr',\n",
       " '  599  90.867037  192.168.1.2 → 192.168.1.1  DNS 95 Standard query 0x3188 A c-68-84-140-103.hsd1.md.comcast.net',\n",
       " '  600  90.867061  192.168.1.2 → 192.168.1.1  DNS 96 Standard query 0x3189 A cpe-72-181-61-199.houston.res.rr.com',\n",
       " '  601  90.867085  192.168.1.2 → 192.168.1.1  DNS 81 Standard query 0x318a A bbd933.home.cwgsy.net',\n",
       " '  602  90.867109  192.168.1.2 → 192.168.1.1  DNS 93 Standard query 0x318b A cpe-24-243-179-113.hot.res.rr.com',\n",
       " '  603  90.867134  192.168.1.2 → 192.168.1.1  DNS 96 Standard query 0x318c A c-67-162-133-209.hsd1.co.comcast.net',\n",
       " '  604  90.867157  192.168.1.2 → 192.168.1.1  DNS 91 Standard query 0x318d A host-24-225-155-47.patmedia.net',\n",
       " '  605  90.871388  192.168.1.1 → 192.168.1.2  DNS 116 Standard query response 0x3187 A ip-118.net-82-216-129.rev.numericable.fr A 82.216.129.118',\n",
       " '  606  90.874401  192.168.1.1 → 192.168.1.2  DNS 111 Standard query response 0x3188 A c-68-84-140-103.hsd1.md.comcast.net A 68.84.140.103',\n",
       " '  607  90.877360  192.168.1.1 → 192.168.1.2  DNS 112 Standard query response 0x3189 A cpe-72-181-61-199.houston.res.rr.com A 72.181.61.199',\n",
       " '  608  90.880212  192.168.1.1 → 192.168.1.2  DNS 97 Standard query response 0x318a A bbd933.home.cwgsy.net A 212.30.7.170',\n",
       " '  609  90.883257  192.168.1.1 → 192.168.1.2  DNS 109 Standard query response 0x318b A cpe-24-243-179-113.hot.res.rr.com A 24.243.179.113',\n",
       " '  610  90.886255  192.168.1.1 → 192.168.1.2  DNS 112 Standard query response 0x318c A c-67-162-133-209.hsd1.co.comcast.net A 67.162.133.209',\n",
       " '  611  90.889141  192.168.1.1 → 192.168.1.2  DNS 107 Standard query response 0x318d A host-24-225-155-47.patmedia.net A 24.225.155.47',\n",
       " '  612  91.359191 172.200.160.242 → 192.168.1.2  TCP 110 11352 → 4984 [PSH, ACK] Seq=347 Ack=76 Win=65052 Len=44 TSval=1745495 TSecr=14295067',\n",
       " '  613  91.359259  192.168.1.2 → 172.200.160.242 TCP 66 4984 → 11352 [ACK] Seq=76 Ack=391 Win=751 Len=0 TSval=14307125 TSecr=1745495',\n",
       " '  614  93.366228 71.10.179.129 → 192.168.1.2  TCP 92 14232 → 4026 [PSH, ACK] Seq=353 Ack=75 Win=63733 Len=26 TSval=1888847 TSecr=14297956',\n",
       " '  615  93.366294  192.168.1.2 → 71.10.179.129 TCP 66 4026 → 14232 [ACK] Seq=75 Ack=379 Win=748 Len=0 TSval=14309132 TSecr=1888847',\n",
       " '  616  93.488632 24.177.122.79 → 192.168.1.2  ASAP 91 Unknown ASAP type [Packet size limited during capture]',\n",
       " '  617  93.488694  192.168.1.2 → 24.177.122.79 TCP 66 3863 → 8022 [ACK] Seq=77 Ack=153 Win=758 Len=0 TSval=14309255 TSecr=3340690',\n",
       " '  618  93.565632  192.168.1.2 → 71.10.179.129 TCP 90 4026 → 14232 [PSH, ACK] Seq=75 Ack=379 Win=768 Len=24 TSval=14309332 TSecr=1888847',\n",
       " '  619  93.688606  192.168.1.2 → 24.177.122.79 ASAP 91 Unknown ASAP type [Packet size limited during capture]',\n",
       " '  620  93.874732 71.10.179.129 → 192.168.1.2  TCP 66 14232 → 4026 [ACK] Seq=379 Ack=99 Win=63709 Len=0 TSval=1888853 TSecr=14309332',\n",
       " '  621  93.962697 24.177.122.79 → 192.168.1.2  TCP 66 8022 → 3863 [ACK] Seq=153 Ack=102 Win=16220 Len=0 TSval=3340696 TSecr=14309455',\n",
       " '  622  94.178774 71.10.179.129 → 192.168.1.2  TCP 109 14232 → 4026 [PSH, ACK] Seq=379 Ack=99 Win=63709 Len=43 TSval=1888855 TSecr=14309332',\n",
       " '  623  94.178824  192.168.1.2 → 71.10.179.129 TCP 66 4026 → 14232 [ACK] Seq=99 Ack=422 Win=762 Len=0 TSval=14309945 TSecr=1888855',\n",
       " '  624  95.657407 212.204.214.114 → 192.168.1.2  IRC 168 Response (PRIVMSG)',\n",
       " '  625  95.657472  192.168.1.2 → 212.204.214.114 TCP 66 2848 → 6667 [ACK] Seq=179 Ack=25616 Win=8011 Len=0 TSval=14311424 TSecr=2196046117',\n",
       " '  626  98.021024  192.168.1.1 → 224.0.0.1    IGMPv2 60 Membership Query, general',\n",
       " '  627  98.395860  192.168.1.2 → 192.168.1.1  DNS 82 Standard query 0x318e PTR 1.0.0.224.in-addr.arpa',\n",
       " '  628  98.465162  192.168.1.1 → 192.168.1.2  DNS 117 Standard query response 0x318e PTR 1.0.0.224.in-addr.arpa PTR ALL-SYSTEMS.MCAST.NET',\n",
       " '  629  99.145847  192.168.1.2 → 192.168.1.1  DNS 81 Standard query 0x318f A ALL-SYSTEMS.MCAST.NET',\n",
       " '  630  99.149064  192.168.1.1 → 192.168.1.2  DNS 97 Standard query response 0x318f A ALL-SYSTEMS.MCAST.NET A 224.0.0.1',\n",
       " '  631 100.743665  192.168.1.2 → 212.204.214.114 IRC 96 Request (ISON)',\n",
       " '  632 100.819343 212.204.214.114 → 192.168.1.2  IRC 112 Response (303)',\n",
       " '  633 100.819396  192.168.1.2 → 212.204.214.114 TCP 66 2848 → 6667 [ACK] Seq=209 Ack=25662 Win=8011 Len=0 TSval=14316586 TSecr=2196046633',\n",
       " '  634 102.873476 172.200.160.242 → 192.168.1.2  TCP 93 11352 → 4984 [PSH, ACK] Seq=391 Ack=76 Win=65052 Len=27 TSval=1745611 TSecr=14307125',\n",
       " '  635 102.873526  192.168.1.2 → 172.200.160.242 TCP 66 4984 → 11352 [ACK] Seq=76 Ack=418 Win=748 Len=0 TSval=14318641 TSecr=1745611',\n",
       " '  636 103.072189  192.168.1.2 → 172.200.160.242 TCP 90 4984 → 11352 [PSH, ACK] Seq=76 Ack=418 Win=768 Len=24 TSval=14318840 TSecr=1745611',\n",
       " '  637 103.315468 172.200.160.242 → 192.168.1.2  TCP 66 11352 → 4984 [ACK] Seq=418 Ack=100 Win=65028 Len=0 TSval=1745616 TSecr=14318840',\n",
       " '  638 103.406337 172.200.160.242 → 192.168.1.2  TCP 107 11352 → 4984 [PSH, ACK] Seq=418 Ack=100 Win=65028 Len=41 TSval=1745616 TSecr=14318840',\n",
       " '  639 103.406382  192.168.1.2 → 172.200.160.242 TCP 66 4984 → 11352 [ACK] Seq=100 Ack=459 Win=762 Len=0 TSval=14319174 TSecr=1745616',\n",
       " '  640 104.480031  192.168.1.2 → 195.215.8.141 TCP 66 1325 → 33033 [FIN, ACK] Seq=475 Ack=305 Win=6912 Len=0 TSval=14320248 TSecr=1049909411',\n",
       " '  641 104.487480 195.215.8.141 → 192.168.1.2  TCP 66 33033 → 1325 [FIN, ACK] Seq=305 Ack=475 Win=6432 Len=0 TSval=1049912414 TSecr=14290261',\n",
       " '  642 104.487545  192.168.1.2 → 195.215.8.141 TCP 66 1325 → 33033 [ACK] Seq=476 Ack=306 Win=6912 Len=0 TSval=14320255 TSecr=1049912414',\n",
       " '  643 104.552536 195.215.8.141 → 192.168.1.2  TCP 66 33033 → 1325 [ACK] Seq=306 Ack=476 Win=6432 Len=0 TSval=1049912420 TSecr=14320248',\n",
       " '  644 105.803854  192.168.1.2 → 212.204.214.114 IRC 82 Request (WHO)',\n",
       " '  645 105.929250 212.204.214.114 → 192.168.1.2  IRC 1090 Response (352) (352) (352) (352) (352) (352) (352) (352)',\n",
       " '  646 105.929307  192.168.1.2 → 212.204.214.114 TCP 66 2848 → 6667 [ACK] Seq=225 Ack=26686 Win=8011 Len=0 TSval=14321697 TSecr=2196047144',\n",
       " '  647 105.965731 212.204.214.114 → 192.168.1.2  IRC 1152 Response (aul) (352) (352) (352) (352) (352) (352) (352) (352) (315)',\n",
       " '  648 105.965781  192.168.1.2 → 212.204.214.114 TCP 66 2848 → 6667 [ACK] Seq=225 Ack=27772 Win=8011 Len=0 TSval=14321734 TSecr=2196047147',\n",
       " '  649 106.705057 71.10.179.129 → 192.168.1.2  TCP 109 14232 → 4026 [PSH, ACK] Seq=422 Ack=99 Win=63709 Len=43 TSval=1888976 TSecr=14309945',\n",
       " '  650 106.705106  192.168.1.2 → 71.10.179.129 TCP 66 4026 → 14232 [ACK] Seq=99 Ack=465 Win=757 Len=0 TSval=14322473 TSecr=1888976',\n",
       " '  651 106.705386 71.10.179.129 → 192.168.1.2  TCP 109 [TCP Spurious Retransmission] 14232 → 4026 [PSH, ACK] Seq=422 Ack=99 Win=63709 Len=43 TSval=1888982 TSecr=14309945',\n",
       " '  652 106.705407  192.168.1.2 → 71.10.179.129 TCP 78 [TCP Window Update] 4026 → 14232 [ACK] Seq=99 Ack=465 Win=768 Len=0 TSval=14322473 TSecr=1888982 SLE=422 SRE=465',\n",
       " '  653 108.280177 212.204.214.114 → 192.168.1.2  IRC 156 Response (QUIT)',\n",
       " '  654 108.280231  192.168.1.2 → 212.204.214.114 TCP 66 2848 → 6667 [ACK] Seq=225 Ack=27862 Win=8011 Len=0 TSval=14324048 TSecr=2196047379',\n",
       " '  655 115.420367 172.200.160.242 → 192.168.1.2  TCP 111 11352 → 4984 [PSH, ACK] Seq=459 Ack=100 Win=65028 Len=45 TSval=1745736 TSecr=14319174',\n",
       " '  656 115.420420  192.168.1.2 → 172.200.160.242 TCP 66 4984 → 11352 [ACK] Seq=100 Ack=504 Win=757 Len=0 TSval=14331190 TSecr=1745736',\n",
       " '  657 116.233946 212.204.214.114 → 192.168.1.2  IRC 158 Response (PRIVMSG)',\n",
       " '  658 116.233994  192.168.1.2 → 212.204.214.114 TCP 66 2848 → 6667 [ACK] Seq=225 Ack=27954 Win=8011 Len=0 TSval=14332003 TSecr=2196048175',\n",
       " '  659 118.311437 71.10.179.129 → 192.168.1.2  TCP 110 14232 → 4026 [PSH, ACK] Seq=465 Ack=99 Win=63709 Len=44 TSval=1889097 TSecr=14322473',\n",
       " '  660 118.311483  192.168.1.2 → 71.10.179.129 TCP 66 4026 → 14232 [ACK] Seq=99 Ack=509 Win=762 Len=0 TSval=14334081 TSecr=1889097',\n",
       " '  661 118.759630 212.204.214.114 → 192.168.1.2  IRC 203 Response (PRIVMSG)',\n",
       " '  662 118.759686  192.168.1.2 → 212.204.214.114 TCP 66 2848 → 6667 [ACK] Seq=225 Ack=28091 Win=8011 Len=0 TSval=14334529 TSecr=2196048427',\n",
       " '  663 119.995277  192.168.1.2 → 67.162.133.209 UDP 388 35990 → 56626 Len=346',\n",
       " '  664 119.995351  192.168.1.2 → 82.216.129.118 UDP 388 35990 → 39085 Len=346',\n",
       " '  665 119.995393  192.168.1.2 → 72.181.61.199 UDP 388 35990 → 7150 Len=346',\n",
       " '  666 119.995468  192.168.1.2 → 68.84.140.103 UDP 388 35990 → 47070 Len=346',\n",
       " '  667 119.995522  192.168.1.2 → 24.107.221.82 UDP 388 35990 → 55335 Len=346',\n",
       " '  668 119.995595  192.168.1.2 → 66.67.61.44  UDP 388 35990 → 58546 Len=346',\n",
       " '  669 119.995643  192.168.1.2 → 24.242.109.92 UDP 388 35990 → 44872 Len=346',\n",
       " '  670 119.995687  192.168.1.2 → 67.190.60.125 UDP 388 35990 → 3944 Len=346',\n",
       " '  671 119.995855  192.168.1.2 → 68.206.150.243 TCP 79 1312 → 57322 [PSH, ACK] Seq=138 Ack=1728 Win=9512 Len=13 TSval=14335766 TSecr=2294372',\n",
       " '  672 120.060452 82.216.129.118 → 192.168.1.2  UDP 60 39085 → 35990 Len=11',\n",
       " '  673 120.169387 67.162.133.209 → 192.168.1.2  UDP 60 56626 → 35990 Len=11',\n",
       " '  674 120.176028 68.84.140.103 → 192.168.1.2  UDP 60 47070 → 35990 Len=11',\n",
       " '  675 120.183411 24.107.221.82 → 192.168.1.2  UDP 60 55335 → 35990 Len=11',\n",
       " '  676 120.194977  66.67.61.44 → 192.168.1.2  UDP 60 58546 → 35990 Len=11',\n",
       " '  677 120.196914 72.181.61.199 → 192.168.1.2  UDP 60 7150 → 35990 Len=11',\n",
       " '  678 120.231919 24.242.109.92 → 192.168.1.2  UDP 60 44872 → 35990 Len=11',\n",
       " '  679 120.237354 68.206.150.243 → 192.168.1.2  TCP 114 57322 → 1312 [PSH, ACK] Seq=1728 Ack=151 Win=65385 Len=48 TSval=2294826 TSecr=14335766',\n",
       " '  680 120.237391  192.168.1.2 → 68.206.150.243 TCP 66 1312 → 57322 [ACK] Seq=151 Ack=1776 Win=9512 Len=0 TSval=14336007 TSecr=2294826',\n",
       " '  681 120.240269  192.168.1.2 → 67.190.177.7 UDP 388 35990 → 10421 Len=346',\n",
       " '  682 120.240388  192.168.1.2 → 24.50.144.100 UDP 388 35990 → 57683 Len=346',\n",
       " '  683 120.240443  192.168.1.2 → 88.134.27.180 UDP 388 35990 → 23830 Len=346',\n",
       " '  684 120.240507  192.168.1.2 → 24.93.232.92 UDP 388 35990 → 11827 Len=346',\n",
       " '  685 120.263511 67.190.60.125 → 192.168.1.2  UDP 60 3944 → 35990 Len=11',\n",
       " '  686 120.348028 88.134.27.180 → 192.168.1.2  UDP 60 23830 → 35990 Len=11',\n",
       " '  687 120.404470 67.190.177.7 → 192.168.1.2  UDP 60 10421 → 35990 Len=11',\n",
       " '  688 120.409666 24.50.144.100 → 192.168.1.2  UDP 60 57683 → 35990 Len=11',\n",
       " '  689 120.415981 AskeyCom_19:27:15 → 3Com_96:7b:da ARP 60 Who has 192.168.1.2? Tell 192.168.1.1',\n",
       " '  690 120.415998 3Com_96:7b:da → AskeyCom_19:27:15 ARP 42 192.168.1.2 is at 00:04:76:96:7b:da',\n",
       " '  691 120.429622 24.93.232.92 → 192.168.1.2  UDP 60 11827 → 35990 Len=11',\n",
       " '  692 120.679544  192.168.1.2 → 212.72.49.142 TCP 66 2576 → 12350 [FIN, ACK] Seq=291 Ack=111 Win=5840 Len=0 TSval=14336450 TSecr=132450240',\n",
       " '  693 120.740451 212.72.49.142 → 192.168.1.2  TCP 66 12350 → 2576 [FIN, ACK] Seq=111 Ack=292 Win=6432 Len=0 TSval=132453246 TSecr=14336450',\n",
       " '  694 120.740500  192.168.1.2 → 212.72.49.142 TCP 66 2576 → 12350 [ACK] Seq=292 Ack=112 Win=5840 Len=0 TSval=14336511 TSecr=132453246',\n",
       " '  695 120.874578  192.168.1.2 → 212.204.214.114 IRC 96 Request (ISON)',\n",
       " '  696 120.919712 212.204.214.114 → 192.168.1.2  IRC 112 Response (303)',\n",
       " '  697 120.919752  192.168.1.2 → 212.204.214.114 TCP 66 2848 → 6667 [ACK] Seq=255 Ack=28137 Win=8011 Len=0 TSval=14336690 TSecr=2196048643',\n",
       " '  698 120.921424  192.168.1.2 → 192.168.1.1  DNS 85 Standard query 0x3190 PTR 7.177.190.67.in-addr.arpa',\n",
       " '  699 120.921472  192.168.1.2 → 192.168.1.1  DNS 86 Standard query 0x3191 PTR 100.144.50.24.in-addr.arpa',\n",
       " '  700 120.921500  192.168.1.2 → 192.168.1.1  DNS 86 Standard query 0x3192 PTR 180.27.134.88.in-addr.arpa',\n",
       " '  701 120.921526  192.168.1.2 → 192.168.1.1  DNS 85 Standard query 0x3193 PTR 92.232.93.24.in-addr.arpa',\n",
       " '  702 120.977761  192.168.1.1 → 192.168.1.2  DNS 130 Standard query response 0x3193 PTR 92.232.93.24.in-addr.arpa PTR cpe-24-93-232-92.neo.res.rr.com',\n",
       " '  703 121.005244  192.168.1.1 → 192.168.1.2  DNS 133 Standard query response 0x3192 PTR 180.27.134.88.in-addr.arpa PTR 88-134-27-180-dynip.superkabel.de',\n",
       " '  704 121.029106  192.168.1.1 → 192.168.1.2  DNS 133 Standard query response 0x3190 PTR 7.177.190.67.in-addr.arpa PTR c-67-190-177-7.hsd1.co.comcast.net',\n",
       " '  705 121.055216  192.168.1.1 → 192.168.1.2  DNS 152 Standard query response 0x3191 PTR 100.144.50.24.in-addr.arpa PTR montpeliervt-cuda1-24-50-144-100.sbtnvt.adelphia.net',\n",
       " '  706 121.671417  192.168.1.2 → 192.168.1.1  DNS 91 Standard query 0x3194 A cpe-24-93-232-92.neo.res.rr.com',\n",
       " '  707 121.671456  192.168.1.2 → 192.168.1.1  DNS 93 Standard query 0x3195 A 88-134-27-180-dynip.superkabel.de',\n",
       " '  708 121.671481  192.168.1.2 → 192.168.1.1  DNS 94 Standard query 0x3196 A c-67-190-177-7.hsd1.co.comcast.net',\n",
       " '  709 121.671504  192.168.1.2 → 192.168.1.1  DNS 112 Standard query 0x3197 A montpeliervt-cuda1-24-50-144-100.sbtnvt.adelphia.net',\n",
       " '  710 121.675257  192.168.1.1 → 192.168.1.2  DNS 107 Standard query response 0x3194 A cpe-24-93-232-92.neo.res.rr.com A 24.93.232.92',\n",
       " '  711 121.678313  192.168.1.1 → 192.168.1.2  DNS 109 Standard query response 0x3195 A 88-134-27-180-dynip.superkabel.de A 88.134.27.180',\n",
       " '  712 121.681409  192.168.1.1 → 192.168.1.2  DNS 110 Standard query response 0x3196 A c-67-190-177-7.hsd1.co.comcast.net A 67.190.177.7',\n",
       " '  713 121.684399  192.168.1.1 → 192.168.1.2  DNS 128 Standard query response 0x3197 A montpeliervt-cuda1-24-50-144-100.sbtnvt.adelphia.net A 24.50.144.100',\n",
       " '  714 123.000156 212.204.214.114 → 192.168.1.2  IRC 135 Response (PRIVMSG)',\n",
       " '  715 123.000206  192.168.1.2 → 212.204.214.114 TCP 66 2848 → 6667 [ACK] Seq=255 Ack=28206 Win=8011 Len=0 TSval=14338771 TSecr=2196048851',\n",
       " '  716 125.513220 24.177.122.79 → 192.168.1.2  ASAP 91 Unknown ASAP type [Packet size limited during capture]',\n",
       " '  717 125.513271  192.168.1.2 → 24.177.122.79 TCP 66 3863 → 8022 [ACK] Seq=102 Ack=178 Win=764 Len=0 TSval=14341284 TSecr=3341011',\n",
       " '  718 125.711743  192.168.1.2 → 24.177.122.79 ASAP 91 Unknown ASAP type [Packet size limited during capture]',\n",
       " '  719 125.963558 24.177.122.79 → 192.168.1.2  TCP 66 8022 → 3863 [ACK] Seq=178 Ack=127 Win=16195 Len=0 TSval=3341016 TSecr=14341483',\n",
       " '  720 126.269158 212.204.214.114 → 192.168.1.2  IRC 164 Response (PRIVMSG)',\n",
       " '  721 126.269204  192.168.1.2 → 212.204.214.114 TCP 66 2848 → 6667 [ACK] Seq=255 Ack=28304 Win=8011 Len=0 TSval=14342040 TSecr=2196049178',\n",
       " '  722 127.423200 172.200.160.242 → 192.168.1.2  TCP 109 11352 → 4984 [PSH, ACK] Seq=504 Ack=100 Win=65028 Len=43 TSval=1745857 TSecr=14331190',\n",
       " '  723 127.423246  192.168.1.2 → 172.200.160.242 TCP 66 4984 → 11352 [ACK] Seq=100 Ack=547 Win=751 Len=0 TSval=14343194 TSecr=1745857',\n",
       " '  724 128.905308  192.168.1.2 → 212.204.214.114 IRC 78 Request (WHO)',\n",
       " '  725 128.977507 212.204.214.114 → 192.168.1.2  IRC 1090 Response (352) (352) (352) (352) (352) (352) (352) (352)',\n",
       " '  726 128.977560  192.168.1.2 → 212.204.214.114 TCP 66 2848 → 6667 [ACK] Seq=267 Ack=29328 Win=8011 Len=0 TSval=14344749 TSecr=2196049449',\n",
       " '  727 128.983470 212.204.214.114 → 192.168.1.2  IRC 1514 Response (t) (352) (352) (352) (352) (352) (352) (352) (352) (352) (352) (352) (352)',\n",
       " '  728 128.983499  192.168.1.2 → 212.204.214.114 TCP 66 2848 → 6667 [ACK] Seq=267 Ack=30776 Win=8011 Len=0 TSval=14344755 TSecr=2196049449',\n",
       " '  729 129.016514 212.204.214.114 → 192.168.1.2  IRC 1514 Response (216-054-105.hsi.kabelbw.de) (352) (352) (352) (352) (352) (352) (352) (352) (352) (352) (352)',\n",
       " '  730 129.016555  192.168.1.2 → 212.204.214.114 TCP 66 2848 → 6667 [ACK] Seq=267 Ack=32224 Win=8011 Len=0 TSval=14344788 TSecr=2196049452',\n",
       " '  731 129.022412 212.204.214.114 → 192.168.1.2  IRC 1514 Response (g.freenode.net) (352) (352) (352) (352) (352) (352) (352) (352) (352) (352) (352)',\n",
       " '  732 129.022456  192.168.1.2 → 212.204.214.114 TCP 66 2848 → 6667 [ACK] Seq=267 Ack=33672 Win=8011 Len=0 TSval=14344794 TSecr=2196049452',\n",
       " '  733 129.028564 212.204.214.114 → 192.168.1.2  IRC 1514 Response (spisaacs) (352) (352) (352) (352) (352) (352) (352) (352) (352) (352) (352) (352)',\n",
       " '  734 129.028592  192.168.1.2 → 212.204.214.114 TCP 66 2848 → 6667 [ACK] Seq=267 Ack=35120 Win=8011 Len=0 TSval=14344800 TSecr=2196049453',\n",
       " '  735 129.055926 212.204.214.114 → 192.168.1.2  IRC 1514 Response (amarok) (352) (352) (352) (352) (352) (352) (352) (352) (352) (352) (352) (352)',\n",
       " '  736 129.055957  192.168.1.2 → 212.204.214.114 TCP 66 2848 → 6667 [ACK] Seq=267 Ack=36568 Win=8011 Len=0 TSval=14344827 TSecr=2196049456',\n",
       " '  737 129.062157 212.204.214.114 → 192.168.1.2  IRC 1514 Response (marok) (352) (352) (352) (352) (352) (352) (352) (352) (352) (352) (352)',\n",
       " '  738 129.062186  192.168.1.2 → 212.204.214.114 TCP 66 2848 → 6667 [ACK] Seq=267 Ack=38016 Win=8011 Len=0 TSval=14344834 TSecr=2196049457',\n",
       " '  739 129.068569 212.204.214.114 → 192.168.1.2  IRC 1514 Response (is_) (352) (352) (352) (352) (352) (352) (352) (352) (352) (352) (352)',\n",
       " '  740 129.068590  192.168.1.2 → 212.204.214.114 TCP 66 2848 → 6667 [ACK] Seq=267 Ack=39464 Win=8011 Len=0 TSval=14344840 TSecr=2196049457',\n",
       " '  741 129.074467 212.204.214.114 → 192.168.1.2  IRC 1514 Response (ode.net) (352) (352) (352) (352) (352) (352) (352) (352) (352) (352) (352) (352)',\n",
       " '  742 129.074498  192.168.1.2 → 212.204.214.114 TCP 66 2848 → 6667 [ACK] Seq=267 Ack=40912 Win=8011 Len=0 TSval=14344846 TSecr=2196049457',\n",
       " '  743 129.096129 212.204.214.114 → 192.168.1.2  IRC 1514 Response (t) (352) (352) (352) (352) (352) (352) (352) (352) (352) (352) (352) (352) (352)',\n",
       " '  744 129.096167  192.168.1.2 → 212.204.214.114 TCP 66 2848 → 6667 [ACK] Seq=267 Ack=42360 Win=8011 Len=0 TSval=14344868 TSecr=2196049460',\n",
       " '  745 129.102493 212.204.214.114 → 192.168.1.2  IRC 1514 Response (nsinns.de) (352) (352) (352) (352) (352) (352) (352) (352) (352) (352) (352) (352)',\n",
       " '  746 129.102517  192.168.1.2 → 212.204.214.114 TCP 66 2848 → 6667 [ACK] Seq=267 Ack=43808 Win=8011 Len=0 TSval=14344874 TSecr=2196049461',\n",
       " '  747 129.108400 212.204.214.114 → 192.168.1.2  IRC 1514 Response (.net) (352) (352) (352) (352) (352) (352) (352) (352) (352) (352) (352) (352)',\n",
       " '  748 129.108428  192.168.1.2 → 212.204.214.114 TCP 66 2848 → 6667 [ACK] Seq=267 Ack=45256 Win=8011 Len=0 TSval=14344880 TSecr=2196049461',\n",
       " '  749 129.114557 212.204.214.114 → 192.168.1.2  IRC 1514 Response (n) (352) (352) (352) (352) (352) (352) (352) (352) (352) (352) (352) (352)',\n",
       " '  750 129.114584  192.168.1.2 → 212.204.214.114 TCP 66 2848 → 6667 [ACK] Seq=267 Ack=46704 Win=8011 Len=0 TSval=14344886 TSecr=2196049462',\n",
       " '  751 129.120463 212.204.214.114 → 192.168.1.2  IRC 1514 Response (KiLL) (352) (352) (352) (352) (352) (352) (352) (352) (352) (352) (352) (352) (352)',\n",
       " '  752 129.120500  192.168.1.2 → 212.204.214.114 TCP 66 2848 → 6667 [ACK] Seq=267 Ack=48152 Win=8011 Len=0 TSval=14344892 TSecr=2196049462',\n",
       " '  753 129.136011 212.204.214.114 → 192.168.1.2  IRC 1514 Response (vmlemon) (352) (352) (352) (352) (352) (352) (352) (352) (352) (352) (352) (352) (35)',\n",
       " '  754 129.136040  192.168.1.2 → 212.204.214.114 TCP 66 2848 → 6667 [ACK] Seq=267 Ack=49600 Win=8011 Len=0 TSval=14344907 TSecr=2196049464',\n",
       " '  755 129.171894 212.204.214.114 → 192.168.1.2  IRC 737 Response (2) (352) (352) (352) (352) (315)',\n",
       " '  756 129.171933  192.168.1.2 → 212.204.214.114 TCP 66 2848 → 6667 [ACK] Seq=267 Ack=50271 Win=8011 Len=0 TSval=14344943 TSecr=2196049468',\n",
       " '  757 129.221281  192.168.1.2 → 212.72.49.142 TCP 74 2577 → 12350 [SYN] Seq=0 Win=5840 Len=0 MSS=1460 SACK_PERM=1 TSval=14344993 TSecr=0 WS=8',\n",
       " '  758 129.264143 212.72.49.142 → 192.168.1.2  TCP 74 12350 → 2577 [SYN, ACK] Seq=0 Ack=1 Win=5792 Len=0 MSS=1460 SACK_PERM=1 TSval=132454098 TSecr=14344993 WS=1',\n",
       " '  759 129.264189  192.168.1.2 → 212.72.49.142 TCP 66 2577 → 12350 [ACK] Seq=1 Ack=1 Win=5840 Len=0 TSval=14345036 TSecr=132454098',\n",
       " '  760 129.264282  192.168.1.2 → 212.72.49.142 TCP 71 2577 → 12350 [PSH, ACK] Seq=1 Ack=1 Win=5840 Len=5 TSval=14345036 TSecr=132454098',\n",
       " '  761 129.310179 212.72.49.142 → 192.168.1.2  TCP 66 12350 → 2577 [ACK] Seq=1 Ack=6 Win=5792 Len=0 TSval=132454103 TSecr=14345036',\n",
       " '  762 129.382097 212.72.49.142 → 192.168.1.2  TCP 71 12350 → 2577 [PSH, ACK] Seq=1 Ack=6 Win=5792 Len=5 TSval=132454110 TSecr=14345036',\n",
       " '  763 129.382140  192.168.1.2 → 212.72.49.142 TCP 66 2577 → 12350 [ACK] Seq=6 Ack=6 Win=5840 Len=0 TSval=14345154 TSecr=132454110',\n",
       " '  764 129.383240  192.168.1.2 → 212.72.49.142 TCP 323 2577 → 12350 [PSH, ACK] Seq=6 Ack=6 Win=5840 Len=257 TSval=14345155 TSecr=132454110',\n",
       " '  765 129.435380 212.72.49.142 → 192.168.1.2  TCP 66 12350 → 2577 [ACK] Seq=6 Ack=263 Win=6432 Len=0 TSval=132454115 TSecr=14345155',\n",
       " '  766 129.542754 212.72.49.142 → 192.168.1.2  TCP 82 12350 → 2577 [PSH, ACK] Seq=6 Ack=263 Win=6432 Len=16 TSval=132454126 TSecr=14345155',\n",
       " '  767 129.582058  192.168.1.2 → 212.72.49.142 TCP 66 2577 → 12350 [ACK] Seq=263 Ack=22 Win=5840 Len=0 TSval=14345354 TSecr=132454126',\n",
       " '  768 129.721722 212.72.49.142 → 192.168.1.2  TCP 90 12350 → 2577 [PSH, ACK] Seq=22 Ack=263 Win=6432 Len=24 TSval=132454144 TSecr=14345354',\n",
       " '  769 129.721777  192.168.1.2 → 212.72.49.142 TCP 66 2577 → 12350 [ACK] Seq=263 Ack=46 Win=5840 Len=0 TSval=14345493 TSecr=132454144',\n",
       " '  770 130.276357 71.10.179.129 → 192.168.1.2  TCP 108 14232 → 4026 [PSH, ACK] Seq=509 Ack=99 Win=63709 Len=42 TSval=1889217 TSecr=14334081',\n",
       " '  771 130.276407  192.168.1.2 → 71.10.179.129 TCP 66 4026 → 14232 [ACK] Seq=99 Ack=551 Win=757 Len=0 TSval=14346048 TSecr=1889217',\n",
       " '  772 130.631919 3Com_96:7b:da → Broadcast    AoE 32 Query Config Information Request',\n",
       " '  773 133.277752  192.168.1.2 → 68.206.150.243 TCP 123 1312 → 57322 [PSH, ACK] Seq=151 Ack=1776 Win=9512 Len=57 TSval=14349050 TSecr=2294826',\n",
       " '  774 133.566079 84.228.208.91 → 192.168.1.2  UDP 62 22619 → 35990 Len=20',\n",
       " '  775 133.566316  192.168.1.2 → 84.228.208.91 UDP 53 35990 → 22619 Len=11',\n",
       " '  776 133.566415  192.168.1.2 → 212.72.49.142 TCP 97 2577 → 12350 [PSH, ACK] Seq=263 Ack=46 Win=5840 Len=31 TSval=14349338 TSecr=132454144',\n",
       " '  777 133.603994 68.206.150.243 → 192.168.1.2  TCP 66 57322 → 1312 [ACK] Seq=1776 Ack=208 Win=65328 Len=0 TSval=2294960 TSecr=14349050',\n",
       " '  778 133.611807 212.72.49.142 → 192.168.1.2  TCP 66 12350 → 2577 [ACK] Seq=46 Ack=294 Win=6432 Len=0 TSval=132454533 TSecr=14349338',\n",
       " '  779 133.697619 84.228.208.91 → 192.168.1.2  TCP 66 4464 → 35990 [SYN] Seq=0 Win=65535 Len=0 MSS=1408 WS=8 SACK_PERM=1',\n",
       " '  780 133.697697  192.168.1.2 → 84.228.208.91 TCP 66 35990 → 4464 [SYN, ACK] Seq=0 Ack=1 Win=5840 Len=0 MSS=1460 SACK_PERM=1 WS=8',\n",
       " '  781 133.698204 68.206.150.243 → 192.168.1.2  TCP 87 57322 → 1312 [PSH, ACK] Seq=1776 Ack=208 Win=65328 Len=21 TSval=2294960 TSecr=14349050',\n",
       " '  782 133.698246  192.168.1.2 → 68.206.150.243 TCP 66 1312 → 57322 [ACK] Seq=208 Ack=1797 Win=9512 Len=0 TSval=14349470 TSecr=2294960',\n",
       " '  783 133.701328 212.72.49.142 → 192.168.1.2  TCP 84 12350 → 2577 [PSH, ACK] Seq=46 Ack=294 Win=6432 Len=18 TSval=132454542 TSecr=14349338',\n",
       " '  784 133.701377  192.168.1.2 → 212.72.49.142 TCP 66 2577 → 12350 [ACK] Seq=294 Ack=64 Win=5840 Len=0 TSval=14349473 TSecr=132454542',\n",
       " '  785 133.711044  192.168.1.2 → 192.168.1.1  DNS 86 Standard query 0x3198 PTR 91.208.228.84.in-addr.arpa',\n",
       " '  786 133.753534  192.168.1.1 → 192.168.1.2  DNS 86 Standard query response 0x3198 PTR 91.208.228.84.in-addr.arpa',\n",
       " '  787 134.052404 84.228.208.91 → 192.168.1.2  TCP 60 4464 → 35990 [ACK] Seq=1 Ack=1 Win=109824 Len=0',\n",
       " '  788 134.088293 84.228.208.91 → 192.168.1.2  TCP 83 4464 → 35990 [PSH, ACK] Seq=1 Ack=1 Win=109824 Len=29',\n",
       " '  789 134.088355  192.168.1.2 → 84.228.208.91 TCP 54 35990 → 4464 [ACK] Seq=1 Ack=30 Win=5840 Len=0',\n",
       " '  790 134.088690  192.168.1.2 → 84.228.208.91 TCP 68 35990 → 4464 [PSH, ACK] Seq=1 Ack=30 Win=5840 Len=14',\n",
       " '  791 134.390929 84.228.208.91 → 192.168.1.2  TCP 66 4464 → 35990 [PSH, ACK] Seq=30 Ack=15 Win=109824 Len=12',\n",
       " '  792 134.391160  192.168.1.2 → 84.228.208.91 TCP 58 35990 → 4464 [PSH, ACK] Seq=15 Ack=42 Win=5840 Len=4',\n",
       " '  793 134.638525 84.228.208.91 → 192.168.1.2  TCP 60 4464 → 35990 [FIN, ACK] Seq=42 Ack=15 Win=109824 Len=0',\n",
       " '  794 134.638673  192.168.1.2 → 84.228.208.91 TCP 54 35990 → 4464 [FIN, ACK] Seq=19 Ack=43 Win=5840 Len=0',\n",
       " '  795 134.770862 84.228.208.91 → 192.168.1.2  TCP 60 4464 → 35990 [RST, ACK] Seq=43 Ack=19 Win=0 Len=0',\n",
       " '  796 135.035887 84.228.208.91 → 192.168.1.2  TCP 60 4464 → 35990 [RST] Seq=43 Win=0 Len=0',\n",
       " '  797 138.404060 71.10.179.129 → 192.168.1.2  TCP 93 14232 → 4026 [PSH, ACK] Seq=551 Ack=99 Win=63709 Len=27 TSval=1889298 TSecr=14346048',\n",
       " '  798 138.404108  192.168.1.2 → 71.10.179.129 TCP 66 4026 → 14232 [ACK] Seq=99 Ack=578 Win=753 Len=0 TSval=14354177 TSecr=1889298',\n",
       " '  799 138.602780  192.168.1.2 → 71.10.179.129 TCP 90 4026 → 14232 [PSH, ACK] Seq=99 Ack=578 Win=768 Len=24 TSval=14354376 TSecr=1889298',\n",
       " '  800 138.836672 71.10.179.129 → 192.168.1.2  TCP 66 14232 → 4026 [ACK] Seq=578 Ack=123 Win=63685 Len=0 TSval=1889303 TSecr=14354376',\n",
       " '  801 139.484691 172.200.160.242 → 192.168.1.2  TCP 108 11352 → 4984 [PSH, ACK] Seq=547 Ack=100 Win=65028 Len=42 TSval=1745977 TSecr=14343194',\n",
       " '  802 139.484737  192.168.1.2 → 172.200.160.242 TCP 66 4984 → 11352 [ACK] Seq=100 Ack=589 Win=746 Len=0 TSval=14355258 TSecr=1745977',\n",
       " '  803 141.005520  192.168.1.2 → 212.204.214.114 IRC 96 Request (ISON)',\n",
       " '  804 141.130522 212.204.214.114 → 192.168.1.2  IRC 112 Response (303)',\n",
       " '  805 141.130573  192.168.1.2 → 212.204.214.114 TCP 66 2848 → 6667 [ACK] Seq=297 Ack=50317 Win=8011 Len=0 TSval=14356904 TSecr=2196050664',\n",
       " '  806 143.614848 71.10.179.129 → 192.168.1.2  TCP 106 14232 → 4026 [PSH, ACK] Seq=578 Ack=123 Win=63685 Len=40 TSval=1889350 TSecr=14354376',\n",
       " '  807 143.614907  192.168.1.2 → 71.10.179.129 TCP 66 4026 → 14232 [ACK] Seq=123 Ack=618 Win=763 Len=0 TSval=14359388 TSecr=1889350',\n",
       " '  808 147.917940 172.200.160.242 → 192.168.1.2  TCP 93 11352 → 4984 [PSH, ACK] Seq=589 Ack=100 Win=65028 Len=27 TSval=1746062 TSecr=14355258',\n",
       " '  809 147.917989  192.168.1.2 → 172.200.160.242 TCP 66 4984 → 11352 [ACK] Seq=100 Ack=616 Win=743 Len=0 TSval=14363692 TSecr=1746062',\n",
       " '  810 148.117334  192.168.1.2 → 172.200.160.242 TCP 90 4984 → 11352 [PSH, ACK] Seq=100 Ack=616 Win=768 Len=24 TSval=14363892 TSecr=1746062',\n",
       " '  811 148.124873 212.204.214.114 → 192.168.1.2  IRC 173 Response (PRIVMSG)',\n",
       " '  812 148.124904  192.168.1.2 → 212.204.214.114 TCP 66 2848 → 6667 [ACK] Seq=297 Ack=50424 Win=8011 Len=0 TSval=14363899 TSecr=2196051364',\n",
       " '  813 148.272466 172.200.160.242 → 192.168.1.2  TCP 66 11352 → 4984 [ACK] Seq=616 Ack=124 Win=65004 Len=0 TSval=1746066 TSecr=14363892',\n",
       " '  814 148.328494  192.168.1.2 → 68.32.70.119 TCP 70 3563 → 1215 [PSH, ACK] Seq=9 Ack=21 Win=864 Len=4 TSval=14364103 TSecr=14269407',\n",
       " '  815 148.456805 68.32.70.119 → 192.168.1.2  TCP 82 1215 → 3563 [PSH, ACK] Seq=21 Ack=13 Win=16316 Len=16 TSval=14270605 TSecr=14364103',\n",
       " '  816 148.456876  192.168.1.2 → 68.32.70.119 TCP 70 3563 → 1215 [PSH, ACK] Seq=13 Ack=37 Win=864 Len=4 TSval=14364231 TSecr=14270605',\n",
       " '  817 148.585821 68.32.70.119 → 192.168.1.2  TCP 70 1215 → 3563 [PSH, ACK] Seq=37 Ack=17 Win=16312 Len=4 TSval=14270607 TSecr=14364231',\n",
       " '  818 148.625164  192.168.1.2 → 68.32.70.119 TCP 66 3563 → 1215 [ACK] Seq=17 Ack=41 Win=864 Len=0 TSval=14364400 TSecr=14270607',\n",
       " '  819 151.555552 172.200.160.242 → 192.168.1.2  TCP 107 11352 → 4984 [PSH, ACK] Seq=616 Ack=124 Win=65004 Len=41 TSval=1746098 TSecr=14363892',\n",
       " '  820 151.555607  192.168.1.2 → 172.200.160.242 TCP 66 4984 → 11352 [ACK] Seq=124 Ack=657 Win=762 Len=0 TSval=14367330 TSecr=1746098',\n",
       " '  821 152.529057 212.204.214.114 → 192.168.1.2  IRC 154 Response (PRIVMSG)',\n",
       " '  822 152.529104  192.168.1.2 → 212.204.214.114 TCP 66 2848 → 6667 [ACK] Seq=297 Ack=50512 Win=8011 Len=0 TSval=14368304 TSecr=2196051804',\n",
       " '  823 155.787206 71.10.179.129 → 192.168.1.2  TCP 112 14232 → 4026 [PSH, ACK] Seq=618 Ack=123 Win=63685 Len=46 TSval=1889472 TSecr=14359388',\n",
       " '  824 155.787256  192.168.1.2 → 71.10.179.129 TCP 66 4026 → 14232 [ACK] Seq=123 Ack=664 Win=757 Len=0 TSval=14371563 TSecr=1889472',\n",
       " '  825 157.569536 24.177.122.79 → 192.168.1.2  ASAP 91 Unknown ASAP type [Packet size limited during capture]',\n",
       " '  826 157.569591  192.168.1.2 → 24.177.122.79 TCP 66 3863 → 8022 [ACK] Seq=127 Ack=203 Win=764 Len=0 TSval=14373345 TSecr=3341331',\n",
       " '  827 157.768880  192.168.1.2 → 24.177.122.79 ASAP 91 Unknown ASAP type [Packet size limited during capture]',\n",
       " '  828 158.070156 24.177.122.79 → 192.168.1.2  TCP 66 8022 → 3863 [ACK] Seq=203 Ack=152 Win=16170 Len=0 TSval=3341337 TSecr=14373545',\n",
       " '  829 158.440731  192.168.1.2 → 68.95.198.126 TCP 67 2996 → 1928 [PSH, ACK] Seq=2 Ack=9 Win=1452 Len=1 TSval=14374217 TSecr=71567',\n",
       " '  830 158.966598  192.168.1.2 → 68.95.198.126 TCP 67 [TCP Keep-Alive] 2996 → 1928 [PSH, ACK] Seq=2 Ack=9 Win=1452 Len=1 TSval=14374743 TSecr=71567',\n",
       " '  831 160.018436  192.168.1.2 → 68.95.198.126 TCP 67 [TCP Keep-Alive] 2996 → 1928 [PSH, ACK] Seq=2 Ack=9 Win=1452 Len=1 TSval=14375795 TSecr=71567',\n",
       " '  832 161.136412  192.168.1.2 → 212.204.214.114 IRC 96 Request (ISON)',\n",
       " '  833 161.261329 212.204.214.114 → 192.168.1.2  TCP 66 6667 → 2848 [ACK] Seq=50512 Ack=327 Win=57890 Len=0 TSval=2196052678 TSecr=14376913',\n",
       " '  834 161.305167 212.204.214.114 → 192.168.1.2  IRC 112 Response (303)',\n",
       " '  835 161.305189  192.168.1.2 → 212.204.214.114 TCP 66 2848 → 6667 [ACK] Seq=327 Ack=50558 Win=8011 Len=0 TSval=14377081 TSecr=2196052682',\n",
       " '  836 162.122116  192.168.1.2 → 68.95.198.126 TCP 67 [TCP Keep-Alive] 2996 → 1928 [PSH, ACK] Seq=2 Ack=9 Win=1452 Len=1 TSval=14377899 TSecr=71567',\n",
       " '  837 163.310009  192.168.1.2 → 84.228.208.91 UDP 60 35990 → 22619 Len=18',\n",
       " '  838 163.451177 84.228.208.91 → 192.168.1.2  UDP 68 22619 → 35990 Len=26',\n",
       " '  839 163.573972 172.200.160.242 → 192.168.1.2  TCP 106 11352 → 4984 [PSH, ACK] Seq=657 Ack=124 Win=65004 Len=40 TSval=1746218 TSecr=14367330',\n",
       " '  840 163.574022  192.168.1.2 → 172.200.160.242 TCP 66 4984 → 11352 [ACK] Seq=124 Ack=697 Win=757 Len=0 TSval=14379351 TSecr=1746218',\n",
       " '  841 163.751016  192.168.1.2 → 212.72.49.142 TCP 66 2577 → 12350 [FIN, ACK] Seq=294 Ack=64 Win=5840 Len=0 TSval=14379528 TSecr=132454542',\n",
       " '  842 163.812894 212.72.49.142 → 192.168.1.2  TCP 66 12350 → 2577 [FIN, ACK] Seq=64 Ack=295 Win=6432 Len=0 TSval=132457553 TSecr=14379528',\n",
       " '  843 163.812945  192.168.1.2 → 212.72.49.142 TCP 66 2577 → 12350 [ACK] Seq=295 Ack=65 Win=5840 Len=0 TSval=14379590 TSecr=132457553',\n",
       " '  844 165.763297 69.205.247.140 → 192.168.1.2  TCP 66 9908 → 1782 [FIN, ACK] Seq=1 Ack=1 Win=65374 Len=0 TSval=142167 TSecr=14087006',\n",
       " '  845 165.763592  192.168.1.2 → 69.205.247.140 TCP 66 1782 → 9908 [FIN, ACK] Seq=1 Ack=2 Win=864 Len=0 TSval=14381541 TSecr=142167',\n",
       " '  846 165.763794  192.168.1.2 → 69.205.247.140 TCP 74 1630 → 9908 [SYN] Seq=0 Win=5840 Len=0 MSS=1460 SACK_PERM=1 TSval=14381541 TSecr=0 WS=8',\n",
       " '  847 165.763873  192.168.1.2 → 81.184.127.148 TCP 74 1367 → 29344 [SYN] Seq=0 Win=5840 Len=0 MSS=1460 SACK_PERM=1 TSval=14381541 TSecr=0 WS=8',\n",
       " '  848 165.763937  192.168.1.2 → 66.161.193.72 TCP 74 1040 → 33155 [SYN] Seq=0 Win=5840 Len=0 MSS=1460 SACK_PERM=1 TSval=14381541 TSecr=0 WS=8',\n",
       " '  849 165.764010  192.168.1.2 → 200.55.99.252 TCP 74 2533 → 59605 [SYN] Seq=0 Win=5840 Len=0 MSS=1460 SACK_PERM=1 TSval=14381541 TSecr=0 WS=8',\n",
       " '  850 165.764079  192.168.1.2 → 68.74.190.205 TCP 74 4264 → 18050 [SYN] Seq=0 Win=5840 Len=0 MSS=1460 SACK_PERM=1 TSval=14381541 TSecr=0 WS=8',\n",
       " '  851 165.764143  192.168.1.2 → 74.130.44.22 TCP 74 1136 → 33667 [SYN] Seq=0 Win=5840 Len=0 MSS=1460 SACK_PERM=1 TSval=14381541 TSecr=0 WS=8',\n",
       " '  852 165.764205  192.168.1.2 → 196.40.10.146 TCP 74 2327 → 29832 [SYN] Seq=0 Win=5840 Len=0 MSS=1460 SACK_PERM=1 TSval=14381541 TSecr=0 WS=8',\n",
       " '  853 165.764269  192.168.1.2 → 84.121.82.31 TCP 74 2946 → 32333 [SYN] Seq=0 Win=5840 Len=0 MSS=1460 SACK_PERM=1 TSval=14381541 TSecr=0 WS=8',\n",
       " '  854 165.764338  192.168.1.2 → 213.165.187.162 TCP 74 2627 → 60229 [SYN] Seq=0 Win=5840 Len=0 MSS=1460 SACK_PERM=1 TSval=14381541 TSecr=0 WS=8',\n",
       " '  855 165.764404  192.168.1.2 → 218.111.60.108 TCP 74 2167 → 17197 [SYN] Seq=0 Win=5840 Len=0 MSS=1460 SACK_PERM=1 TSval=14381541 TSecr=0 WS=8',\n",
       " '  856 165.905046 68.74.190.205 → 192.168.1.2  TCP 78 18050 → 4264 [SYN, ACK] Seq=0 Ack=1 Win=17424 Len=0 MSS=1452 WS=1 TSval=0 TSecr=0 SACK_PERM=1',\n",
       " '  857 165.905116  192.168.1.2 → 68.74.190.205 TCP 66 4264 → 18050 [ACK] Seq=1 Ack=1 Win=5840 Len=0 TSval=14381682 TSecr=0',\n",
       " '  858 165.905374  192.168.1.2 → 68.74.190.205 TCP 72 4264 → 18050 [PSH, ACK] Seq=1 Ack=1 Win=5840 Len=6 TSval=14381682 TSecr=0',\n",
       " '  859 165.928434 213.165.187.162 → 192.168.1.2  TCP 78 60229 → 2627 [SYN, ACK] Seq=0 Ack=1 Win=65535 Len=0 MSS=1460 WS=1 TSval=0 TSecr=0 SACK_PERM=1',\n",
       " '  860 165.928492  192.168.1.2 → 213.165.187.162 TCP 66 2627 → 60229 [ACK] Seq=1 Ack=1 Win=5840 Len=0 TSval=14381705 TSecr=0',\n",
       " '  861 165.928712  192.168.1.2 → 213.165.187.162 TCP 72 2627 → 60229 [PSH, ACK] Seq=1 Ack=1 Win=5840 Len=6 TSval=14381706 TSecr=0',\n",
       " '  862 165.930347 81.184.127.148 → 192.168.1.2  TCP 78 29344 → 1367 [SYN, ACK] Seq=0 Ack=1 Win=65535 Len=0 MSS=1452 WS=1 TSval=0 TSecr=0 SACK_PERM=1',\n",
       " '  863 165.930370  192.168.1.2 → 81.184.127.148 TCP 66 1367 → 29344 [ACK] Seq=1 Ack=1 Win=5840 Len=0 TSval=14381707 TSecr=0',\n",
       " '  864 165.930463  192.168.1.2 → 81.184.127.148 TCP 72 1367 → 29344 [PSH, ACK] Seq=1 Ack=1 Win=5840 Len=6 TSval=14381707 TSecr=0',\n",
       " '  865 165.935490 69.205.247.140 → 192.168.1.2  TCP 78 9908 → 1630 [SYN, ACK] Seq=0 Ack=1 Win=65535 Len=0 MSS=1460 WS=1 TSval=0 TSecr=0 SACK_PERM=1',\n",
       " '  866 165.935516  192.168.1.2 → 69.205.247.140 TCP 66 1630 → 9908 [ACK] Seq=1 Ack=1 Win=5840 Len=0 TSval=14381713 TSecr=0',\n",
       " '  867 165.935612  192.168.1.2 → 69.205.247.140 TCP 72 1630 → 9908 [PSH, ACK] Seq=1 Ack=1 Win=5840 Len=6 TSval=14381713 TSecr=0',\n",
       " '  868 165.936095 69.205.247.140 → 192.168.1.2  TCP 66 9908 → 1782 [ACK] Seq=2 Ack=2 Win=65374 Len=0 TSval=142172 TSecr=14381541',\n",
       " '  869 166.062559  192.168.1.2 → 192.168.1.1  DNS 87 Standard query 0x3199 PTR 140.247.205.69.in-addr.arpa',\n",
       " '  870 166.077986 84.121.82.31 → 192.168.1.2  TCP 60 32333 → 2946 [RST, ACK] Seq=1 Ack=1 Win=0 Len=0',\n",
       " '  871 166.078269  192.168.1.2 → 190.37.32.155 TCP 74 4244 → 8075 [SYN] Seq=0 Win=5840 Len=0 MSS=1460 SACK_PERM=1 TSval=14381855 TSecr=0 WS=8',\n",
       " '  872 166.109933 68.74.190.205 → 192.168.1.2  TCP 204 18050 → 4264 [PSH, ACK] Seq=1 Ack=7 Win=17418 Len=138 TSval=54774 TSecr=14381682',\n",
       " '  873 166.109976  192.168.1.2 → 68.74.190.205 TCP 66 4264 → 18050 [ACK] Seq=7 Ack=139 Win=6912 Len=0 TSval=14381887 TSecr=54774',\n",
       " '  874 166.110637  192.168.1.2 → 213.165.187.162 TCP 66 2627 → 60229 [FIN, ACK] Seq=7 Ack=1 Win=5840 Len=0 TSval=14381888 TSecr=0',\n",
       " '  875 166.110750  192.168.1.2 → 81.184.127.148 TCP 66 1367 → 29344 [FIN, ACK] Seq=7 Ack=1 Win=5840 Len=0 TSval=14381888 TSecr=0',\n",
       " '  876 166.110782  192.168.1.2 → 69.205.247.140 TCP 66 1630 → 9908 [FIN, ACK] Seq=7 Ack=1 Win=5840 Len=0 TSval=14381888 TSecr=0',\n",
       " '  877 166.110843  192.168.1.2 → 68.74.190.205 TCP 125 4264 → 18050 [PSH, ACK] Seq=7 Ack=139 Win=6912 Len=59 TSval=14381888 TSecr=54774',\n",
       " '  878 166.142500 81.184.127.148 → 192.168.1.2  TCP 204 29344 → 1367 [PSH, ACK] Seq=1 Ack=7 Win=65529 Len=138 TSval=956892 TSecr=14381707',\n",
       " '  879 166.142547  192.168.1.2 → 81.184.127.148 TCP 54 1367 → 29344 [RST] Seq=7 Win=0 Len=0',\n",
       " '  880 166.173817  192.168.1.1 → 192.168.1.2  DNS 135 Standard query response 0x3199 PTR 140.247.205.69.in-addr.arpa PTR cpe-69-205-247-140.stny.res.rr.com',\n",
       " '  881 166.221846 213.165.187.162 → 192.168.1.2  TCP 66 [TCP Previous segment not captured] 60229 → 2627 [ACK] Seq=139 Ack=8 Win=65529 Len=0 TSval=698366 TSecr=14381888',\n",
       " '  882 166.235300 213.165.187.162 → 192.168.1.2  TCP 66 60229 → 2627 [FIN, ACK] Seq=139 Ack=8 Win=65529 Len=0 TSval=698366 TSecr=14381888',\n",
       " '  883 166.235321  192.168.1.2 → 213.165.187.162 TCP 54 2627 → 60229 [RST] Seq=8 Win=0 Len=0',\n",
       " '  884 166.237285 81.184.127.148 → 192.168.1.2  TCP 66 29344 → 1367 [ACK] Seq=139 Ack=8 Win=65529 Len=0 TSval=956893 TSecr=14381888',\n",
       " '  885 166.237297  192.168.1.2 → 81.184.127.148 TCP 54 1367 → 29344 [RST] Seq=8 Win=0 Len=0',\n",
       " '  886 166.238372 81.184.127.148 → 192.168.1.2  TCP 66 29344 → 1367 [FIN, ACK] Seq=139 Ack=8 Win=65529 Len=0 TSval=956893 TSecr=14381888',\n",
       " '  887 166.238382  192.168.1.2 → 81.184.127.148 TCP 54 1367 → 29344 [RST] Seq=8 Win=0 Len=0',\n",
       " '  888 166.300841 69.205.247.140 → 192.168.1.2  TCP 66 [TCP Previous segment not captured] 9908 → 1630 [ACK] Seq=139 Ack=8 Win=65529 Len=0 TSval=142176 TSecr=14381888',\n",
       " '  889 166.301317 69.205.247.140 → 192.168.1.2  TCP 66 9908 → 1630 [FIN, ACK] Seq=139 Ack=8 Win=65529 Len=0 TSval=142176 TSecr=14381888',\n",
       " '  890 166.301337  192.168.1.2 → 69.205.247.140 TCP 54 1630 → 9908 [RST] Seq=8 Win=0 Len=0',\n",
       " '  891 166.323753 68.74.190.205 → 192.168.1.2  TCP 81 18050 → 4264 [PSH, ACK] Seq=139 Ack=66 Win=17359 Len=15 TSval=54777 TSecr=14381888',\n",
       " '  892 166.329462  192.168.1.2 → 68.95.198.126 TCP 67 [TCP Keep-Alive] 2996 → 1928 [PSH, ACK] Seq=2 Ack=9 Win=1452 Len=1 TSval=14382107 TSecr=71567',\n",
       " '  893 166.363453  192.168.1.2 → 68.74.190.205 TCP 66 4264 → 18050 [ACK] Seq=66 Ack=154 Win=6912 Len=0 TSval=14382141 TSecr=54777',\n",
       " '  894 166.396594 196.40.10.146 → 192.168.1.2  TCP 78 29832 → 2327 [SYN, ACK] Seq=0 Ack=1 Win=65535 Len=0 MSS=1460 WS=1 TSval=0 TSecr=0 SACK_PERM=1',\n",
       " '  895 166.396650  192.168.1.2 → 196.40.10.146 TCP 54 2327 → 29832 [RST] Seq=1 Win=0 Len=0',\n",
       " '  896 166.467068 74.130.44.22 → 192.168.1.2  TCP 78 33667 → 1136 [SYN, ACK] Seq=0 Ack=1 Win=65535 Len=0 MSS=1460 WS=1 TSval=0 TSecr=0 SACK_PERM=1',\n",
       " '  897 166.467124  192.168.1.2 → 74.130.44.22 TCP 54 1136 → 33667 [RST] Seq=1 Win=0 Len=0',\n",
       " '  898 166.489826 68.74.190.205 → 192.168.1.2  TCP 97 18050 → 4264 [PSH, ACK] Seq=154 Ack=66 Win=17359 Len=31 TSval=54779 TSecr=14382141',\n",
       " '  899 166.489877  192.168.1.2 → 68.74.190.205 TCP 66 4264 → 18050 [ACK] Seq=66 Ack=185 Win=6912 Len=0 TSval=14382267 TSecr=54779',\n",
       " '  900 166.561397 218.111.60.108 → 192.168.1.2  TCP 78 17197 → 2167 [SYN, ACK] Seq=0 Ack=1 Win=65535 Len=0 MSS=1440 WS=1 TSval=0 TSecr=0 SACK_PERM=1',\n",
       " '  901 166.561465  192.168.1.2 → 218.111.60.108 TCP 54 2167 → 17197 [RST] Seq=1 Win=0 Len=0',\n",
       " '  902 166.685064 69.205.247.140 → 192.168.1.2  TCP 204 [TCP Retransmission] 9908 → 1630 [PSH, ACK] Seq=1 Ack=7 Win=65529 Len=138 TSval=142175 TSecr=14381713',\n",
       " '  903 166.685112  192.168.1.2 → 69.205.247.140 TCP 54 1630 → 9908 [RST] Seq=7 Win=0 Len=0',\n",
       " '  904 166.812441  192.168.1.2 → 192.168.1.1  DNS 87 Standard query 0x319a PTR 148.127.184.81.in-addr.arpa',\n",
       " '  905 166.812502  192.168.1.2 → 192.168.1.1  DNS 94 Standard query 0x319b A cpe-69-205-247-140.stny.res.rr.com',\n",
       " '  906 166.812526  192.168.1.2 → 192.168.1.1  DNS 86 Standard query 0x319c PTR 72.193.161.66.in-addr.arpa',\n",
       " '  907 166.812553  192.168.1.2 → 192.168.1.1  DNS 86 Standard query 0x319d PTR 252.99.55.200.in-addr.arpa',\n",
       " '  908 166.812580  192.168.1.2 → 192.168.1.1  DNS 86 Standard query 0x319e PTR 205.190.74.68.in-addr.arpa',\n",
       " '  909 166.812607  192.168.1.2 → 192.168.1.1  DNS 85 Standard query 0x319f PTR 22.44.130.74.in-addr.arpa',\n",
       " '  910 166.812634  192.168.1.2 → 192.168.1.1  DNS 86 Standard query 0x31a0 PTR 146.10.40.196.in-addr.arpa',\n",
       " '  911 166.812661  192.168.1.2 → 192.168.1.1  DNS 85 Standard query 0x31a1 PTR 31.82.121.84.in-addr.arpa',\n",
       " '  912 166.812687  192.168.1.2 → 192.168.1.1  DNS 88 Standard query 0x31a2 PTR 162.187.165.213.in-addr.arpa',\n",
       " '  913 166.812714  192.168.1.2 → 192.168.1.1  DNS 87 Standard query 0x31a3 PTR 108.60.111.218.in-addr.arpa',\n",
       " '  914 166.812741  192.168.1.2 → 192.168.1.1  DNS 86 Standard query 0x31a4 PTR 155.32.37.190.in-addr.arpa',\n",
       " '  915 166.824955  192.168.1.1 → 192.168.1.2  DNS 110 Standard query response 0x319b A cpe-69-205-247-140.stny.res.rr.com A 69.205.247.140',\n",
       " '  916 166.898125  192.168.1.1 → 192.168.1.2  DNS 133 Standard query response 0x319a PTR 148.127.184.81.in-addr.arpa PTR 148.red-81-184-127.user.auna.net',\n",
       " '  917 166.929555  192.168.1.1 → 192.168.1.2  DNS 86 Standard query response 0x31a4 PTR 155.32.37.190.in-addr.arpa',\n",
       " '  918 166.939330  192.168.1.1 → 192.168.1.2  DNS 128 Standard query response 0x31a1 PTR 31.82.121.84.in-addr.arpa PTR 84-121-82-31.onocable.ono.com',\n",
       " '  919 166.967474  192.168.1.1 → 192.168.1.2  DNS 143 Standard query response 0x319e PTR 205.190.74.68.in-addr.arpa PTR adsl-68-74-190-205.dsl.emhril.ameritech.net',\n",
       " '  920 166.972704 190.37.32.155 → 192.168.1.2  TCP 78 8075 → 4244 [SYN, ACK] Seq=0 Ack=1 Win=17520 Len=0 MSS=1460 WS=1 TSval=0 TSecr=0 SACK_PERM=1',\n",
       " '  921 166.972758  192.168.1.2 → 190.37.32.155 TCP 54 4244 → 8075 [RST] Seq=1 Win=0 Len=0',\n",
       " '  922 166.977754  192.168.1.1 → 192.168.1.2  DNS 126 Standard query response 0x31a2 PTR 162.187.165.213.in-addr.arpa PTR c187-162.i02-7.onvol.net',\n",
       " '  923 166.993707 86.128.194.14 → 192.168.1.2  TCP 78 1845 → 445 [SYN] Seq=0 Win=53760 Len=0 MSS=1452 WS=8 TSval=0 TSecr=0 SACK_PERM=1',\n",
       " '  924 166.993764  192.168.1.2 → 86.128.194.14 TCP 54 445 → 1845 [RST, ACK] Seq=1 Ack=1 Win=0 Len=0',\n",
       " '  925 166.998197  192.168.1.1 → 192.168.1.2  DNS 130 Standard query response 0x319f PTR 22.44.130.74.in-addr.arpa PTR DHCP-74-130-44-22.insightbb.com',\n",
       " '  926 167.042434  192.168.1.1 → 192.168.1.2  DNS 117 Standard query response 0x31a0 PTR 146.10.40.196.in-addr.arpa PTR ip146-10.ct.co.cr',\n",
       " '  927 167.047109  192.168.1.1 → 192.168.1.2  DNS 127 Standard query response 0x319c PTR 72.193.161.66.in-addr.arpa PTR nr14-66-161-193-72.fuse.net',\n",
       " '  928 167.069897  192.168.1.1 → 192.168.1.2  DNS 130 Standard query response 0x319d PTR 252.99.55.200.in-addr.arpa PTR 200-55-99-252.dsl.prima.net.ar',\n",
       " '  929 167.277701  192.168.1.1 → 192.168.1.2  DNS 110 Standard query response 0x31a3 PTR 108.60.111.218.in-addr.arpa PTR tm.net.my',\n",
       " '  930 167.438183 86.128.194.14 → 192.168.1.2  TCP 78 [TCP Retransmission] 1845 → 445 [SYN] Seq=0 Win=53760 Len=0 MSS=1452 WS=8 TSval=0 TSecr=0 SACK_PERM=1',\n",
       " '  931 167.438231  192.168.1.2 → 86.128.194.14 TCP 54 445 → 1845 [RST, ACK] Seq=1 Ack=1 Win=0 Len=0',\n",
       " '  932 167.470278 190.38.33.17 → 192.168.1.2  TCP 62 2201 → 59049 [SYN] Seq=0 Win=65535 Len=0 MSS=1460 SACK_PERM=1',\n",
       " '  933 167.470359  192.168.1.2 → 190.38.33.17 TCP 62 59049 → 2201 [SYN, ACK] Seq=0 Ack=1 Win=5840 Len=0 MSS=1460 SACK_PERM=1',\n",
       " '  934 167.485076 200.55.99.252 → 192.168.1.2  TCP 78 59605 → 2533 [SYN, ACK] Seq=0 Ack=1 Win=17328 Len=0 MSS=1444 WS=1 TSval=0 TSecr=0 SACK_PERM=1',\n",
       " '  935 167.485124  192.168.1.2 → 200.55.99.252 TCP 54 2533 → 59605 [RST] Seq=1 Win=0 Len=0',\n",
       " '  936 167.562336  192.168.1.2 → 192.168.1.1  DNS 86 Standard query 0x31a5 PTR 14.194.128.86.in-addr.arpa',\n",
       " '  937 167.562407  192.168.1.2 → 192.168.1.1  DNS 92 Standard query 0x31a6 A 148.red-81-184-127.user.auna.net',\n",
       " '  938 167.562435  192.168.1.2 → 192.168.1.1  DNS 89 Standard query 0x31a7 A 84-121-82-31.onocable.ono.com',\n",
       " '  939 167.562459  192.168.1.2 → 192.168.1.1  DNS 103 Standard query 0x31a8 A adsl-68-74-190-205.dsl.emhril.ameritech.net',\n",
       " '  940 167.562483  192.168.1.2 → 192.168.1.1  DNS 84 Standard query 0x31a9 A c187-162.i02-7.onvol.net',\n",
       " '  941 167.562507  192.168.1.2 → 192.168.1.1  DNS 91 Standard query 0x31aa A DHCP-74-130-44-22.insightbb.com',\n",
       " '  942 167.562531  192.168.1.2 → 192.168.1.1  DNS 77 Standard query 0x31ab A ip146-10.ct.co.cr',\n",
       " '  943 167.562555  192.168.1.2 → 192.168.1.1  DNS 87 Standard query 0x31ac A nr14-66-161-193-72.fuse.net',\n",
       " '  944 167.562578  192.168.1.2 → 192.168.1.1  DNS 90 Standard query 0x31ad A 200-55-99-252.dsl.prima.net.ar',\n",
       " '  945 167.562601  192.168.1.2 → 192.168.1.1  DNS 69 Standard query 0x31ae A tm.net.my',\n",
       " '  946 167.574768  192.168.1.1 → 192.168.1.2  DNS 108 Standard query response 0x31a6 A 148.red-81-184-127.user.auna.net A 81.184.127.148',\n",
       " '  947 167.578022  192.168.1.1 → 192.168.1.2  DNS 105 Standard query response 0x31a7 A 84-121-82-31.onocable.ono.com A 84.121.82.31',\n",
       " '  948 167.581307  192.168.1.1 → 192.168.1.2  DNS 119 Standard query response 0x31a8 A adsl-68-74-190-205.dsl.emhril.ameritech.net A 68.74.190.205',\n",
       " '  949 167.584546  192.168.1.1 → 192.168.1.2  DNS 100 Standard query response 0x31a9 A c187-162.i02-7.onvol.net A 213.165.187.162',\n",
       " '  950 167.587950  192.168.1.1 → 192.168.1.2  DNS 107 Standard query response 0x31aa A DHCP-74-130-44-22.insightbb.com A 74.130.44.22',\n",
       " '  951 167.591171  192.168.1.1 → 192.168.1.2  DNS 93 Standard query response 0x31ab A ip146-10.ct.co.cr A 196.40.10.146',\n",
       " '  952 167.594583  192.168.1.1 → 192.168.1.2  DNS 103 Standard query response 0x31ac A nr14-66-161-193-72.fuse.net A 66.161.193.72',\n",
       " '  953 167.598314  192.168.1.1 → 192.168.1.2  DNS 106 Standard query response 0x31ad A 200-55-99-252.dsl.prima.net.ar A 200.55.99.252',\n",
       " '  954 167.601562  192.168.1.1 → 192.168.1.2  DNS 85 Standard query response 0x31ae A tm.net.my A 218.111.60.108',\n",
       " '  955 167.604693  192.168.1.1 → 192.168.1.2  DNS 147 Standard query response 0x31a5 PTR 14.194.128.86.in-addr.arpa PTR host86-128-194-14.range86-128.btcentralplus.com',\n",
       " '  956 168.312291  192.168.1.2 → 192.168.1.1  DNS 107 Standard query 0x31af A host86-128-194-14.range86-128.btcentralplus.com',\n",
       " '  957 168.315868  192.168.1.1 → 192.168.1.2  DNS 123 Standard query response 0x31af A host86-128-194-14.range86-128.btcentralplus.com A 86.128.194.14',\n",
       " '  958 168.829550 190.38.33.17 → 192.168.1.2  TCP 60 2201 → 59049 [ACK] Seq=1 Ack=1 Win=65535 Len=0',\n",
       " '  959 169.062120  192.168.1.2 → 192.168.1.1  DNS 85 Standard query 0x31b0 PTR 17.33.38.190.in-addr.arpa',\n",
       " '  960 169.097591 190.38.33.17 → 192.168.1.2  TCP 60 2201 → 59049 [FIN, ACK] Seq=1 Ack=1 Win=65535 Len=0',\n",
       " '  961 169.097777  192.168.1.2 → 190.38.33.17 TCP 54 59049 → 2201 [FIN, ACK] Seq=1 Ack=2 Win=5840 Len=0',\n",
       " '  962 169.103681  192.168.1.1 → 192.168.1.2  DNS 85 Standard query response 0x31b0 PTR 17.33.38.190.in-addr.arpa',\n",
       " '  963 169.140982 68.74.190.205 → 192.168.1.2  TCP 72 18050 → 4264 [PSH, ACK] Seq=185 Ack=66 Win=17359 Len=6 TSval=54805 TSecr=14382267',\n",
       " '  964 169.141009  192.168.1.2 → 68.74.190.205 TCP 66 4264 → 18050 [ACK] Seq=66 Ack=191 Win=6912 Len=0 TSval=14384918 TSecr=54805',\n",
       " '  965 169.302593 71.10.179.129 → 192.168.1.2  TCP 109 14232 → 4026 [PSH, ACK] Seq=664 Ack=123 Win=63685 Len=43 TSval=1889607 TSecr=14371563',\n",
       " '  966 169.302642  192.168.1.2 → 71.10.179.129 TCP 66 4026 → 14232 [ACK] Seq=123 Ack=707 Win=751 Len=0 TSval=14385080 TSecr=1889607',\n",
       " '  967 170.687541 190.38.33.17 → 192.168.1.2  TCP 60 2201 → 59049 [ACK] Seq=2 Ack=2 Win=65535 Len=0',\n",
       " '  968 173.870687 69.248.108.13 → 192.168.1.2  TCP 151 22960 → 3663 [PSH, ACK] Seq=1 Ack=1 Win=65470 Len=85 TSval=540366 TSecr=14025903',\n",
       " '  969 173.870754  192.168.1.2 → 69.248.108.13 TCP 66 3663 → 22960 [ACK] Seq=1 Ack=86 Win=864 Len=0 TSval=14389649 TSecr=540366',\n",
       " '  970 174.324316  192.168.1.2 → 192.168.1.1  DNS 86 Standard query 0x31b1 PTR 13.108.248.69.in-addr.arpa',\n",
       " '  971 174.487012  192.168.1.1 → 192.168.1.2  DNS 135 Standard query response 0x31b1 PTR 13.108.248.69.in-addr.arpa PTR c-69-248-108-13.hsd1.pa.comcast.net',\n",
       " '  972 174.744204  192.168.1.2 → 68.95.198.126 TCP 67 [TCP Keep-Alive] 2996 → 1928 [PSH, ACK] Seq=2 Ack=9 Win=1452 Len=1 TSval=14390523 TSecr=71567',\n",
       " '  973 174.835724 212.204.214.114 → 192.168.1.2  IRC 132 Response (PRIVMSG)',\n",
       " '  974 174.835783  192.168.1.2 → 212.204.214.114 TCP 66 2848 → 6667 [ACK] Seq=327 Ack=50624 Win=8011 Len=0 TSval=14390614 TSecr=2196054035',\n",
       " '  975 175.090886  192.168.1.2 → 192.168.1.1  DNS 95 Standard query 0x31b2 A c-69-248-108-13.hsd1.pa.comcast.net',\n",
       " '  976 175.094619  192.168.1.1 → 192.168.1.2  DNS 111 Standard query response 0x31b2 A c-69-248-108-13.hsd1.pa.comcast.net A 69.248.108.13',\n",
       " '  977 177.555745 172.200.160.242 → 192.168.1.2  TCP 100 11352 → 4984 [PSH, ACK] Seq=697 Ack=124 Win=65004 Len=34 TSval=1746357 TSecr=14379351',\n",
       " '  978 177.555796  192.168.1.2 → 172.200.160.242 TCP 66 4984 → 11352 [ACK] Seq=124 Ack=731 Win=753 Len=0 TSval=14393335 TSecr=1746357',\n",
       " '  979 177.878804 212.204.214.114 → 192.168.1.2  IRC 217 Response (PRIVMSG)',\n",
       " '  980 177.878853  192.168.1.2 → 212.204.214.114 TCP 66 2848 → 6667 [ACK] Seq=327 Ack=50775 Win=8011 Len=0 TSval=14393658 TSecr=2196054339',\n",
       " '  981 178.440768  192.168.1.2 → 68.95.198.126 TCP 66 2996 → 1928 [FIN, ACK] Seq=3 Ack=9 Win=1452 Len=0 TSval=14394220 TSecr=71567',\n",
       " '  982 178.441275  192.168.1.2 → 70.161.237.88 TCP 74 2015 → 1546 [SYN] Seq=0 Win=5840 Len=0 MSS=1460 SACK_PERM=1 TSval=14394220 TSecr=0 WS=8',\n",
       " '  983 178.441447  192.168.1.2 → 24.48.150.22 TCP 74 1113 → 2023 [SYN] Seq=0 Win=5840 Len=0 MSS=1460 SACK_PERM=1 TSval=14394220 TSecr=0 WS=8',\n",
       " '  984 178.441592  192.168.1.2 → 70.181.220.80 TCP 74 3938 → 3336 [SYN] Seq=0 Win=5840 Len=0 MSS=1460 SACK_PERM=1 TSval=14394220 TSecr=0 WS=8',\n",
       " '  985 178.441752  192.168.1.2 → 24.191.115.185 TCP 74 1531 → 3315 [SYN] Seq=0 Win=5840 Len=0 MSS=1460 SACK_PERM=1 TSval=14394221 TSecr=0 WS=8',\n",
       " '  986 178.441897  192.168.1.2 → 70.160.92.135 TCP 74 3445 → 2267 [SYN] Seq=0 Win=5840 Len=0 MSS=1460 SACK_PERM=1 TSval=14394221 TSecr=0 WS=8',\n",
       " '  987 178.442007  192.168.1.2 → 70.160.94.139 UDP 54 1214 → 2362 Len=12',\n",
       " '  988 178.442038  192.168.1.2 → 69.174.241.72 H.248 54 1214 → 2945 Len=12',\n",
       " '  989 178.442061  192.168.1.2 → 70.36.75.98  UDP 54 1214 → 1214 Len=12',\n",
       " '  990 178.442083  192.168.1.2 → 24.22.73.206 UDP 54 1214 → 1742 Len=12',\n",
       " '  991 178.442104  192.168.1.2 → 82.40.35.124 UDP 54 1214 → 2133 Len=12',\n",
       " '  992 178.442126  192.168.1.2 → 24.247.87.5  UDP 54 1214 → 2680 Len=12',\n",
       " '  993 178.442148  192.168.1.2 → 69.160.6.18  UDP 54 1214 → 3908 Len=12',\n",
       " '  994 178.442171  192.168.1.2 → 69.114.183.8 UDP 54 1214 → 2997 Len=12',\n",
       " '  995 178.442193  192.168.1.2 → 69.160.83.193 UDP 54 1214 → 1325 Len=12',\n",
       " '  996 178.442216  192.168.1.2 → 72.40.37.213 UDP 54 1214 → 1759 Len=12',\n",
       " '  997 178.557371 70.161.237.88 → 192.168.1.2  TCP 78 1546 → 2015 [SYN, ACK] Seq=0 Ack=1 Win=65535 Len=0 MSS=1460 WS=1 TSval=0 TSecr=0 SACK_PERM=1',\n",
       " '  998 178.557440  192.168.1.2 → 70.161.237.88 TCP 66 2015 → 1546 [ACK] Seq=1 Ack=1 Win=5840 Len=0 TSval=14394336 TSecr=0',\n",
       " '  999 178.557668  192.168.1.2 → 70.161.237.88 TCP 78 2015 → 1546 [PSH, ACK] Seq=1 Ack=1 Win=5840 Len=12 TSval=14394337 TSecr=0',\n",
       " ' 1000 178.567932 70.160.92.135 → 192.168.1.2  TCP 78 2267 → 3445 [SYN, ACK] Seq=0 Ack=1 Win=65535 Len=0 MSS=1460 WS=1 TSval=0 TSecr=0 SACK_PERM=1',\n",
       " ...]"
      ]
     },
     "execution_count": 15,
     "metadata": {},
     "output_type": "execute_result"
    }
   ],
   "source": [
    "contents = []\n",
    "with gzip.open('SkypeIRC.txt.gz', 'r') as f1:\n",
    "    con = f1.readlines()\n",
    "    for line in con:\n",
    "        contents.append(''.join(re.findall(r'.+', line.decode('utf-8'))))\n",
    "contents\n"
   ]
  },
  {
   "cell_type": "code",
   "execution_count": 16,
   "id": "6962cdde",
   "metadata": {
    "deletable": false,
    "editable": false
   },
   "outputs": [
    {
     "data": {
      "text/html": [
       "<p><strong><pre style='display: inline;'>q2a</pre></strong> passed!</p>"
      ],
      "text/plain": [
       "q2a results: All test cases passed!"
      ]
     },
     "execution_count": 16,
     "metadata": {},
     "output_type": "execute_result"
    }
   ],
   "source": [
    "grader.check(\"q2a\")\n"
   ]
  },
  {
   "cell_type": "markdown",
   "id": "d6ec2a66",
   "metadata": {},
   "source": [
    "**2(b)** (2 pts) Using your solution in the previous step, build a regular expression named `ip` that matches IP addresses. For the purpose of this exercise, we will define an IP address to be a string of the form `A.B.C.D`, where $A$, $B$, $C$, and $D$ are numbers between 0 and 255."
   ]
  },
  {
   "cell_type": "code",
   "execution_count": 17,
   "id": "d6f03b9b",
   "metadata": {
    "tags": []
   },
   "outputs": [],
   "source": [
    "ip = zero_to_255+'\\.'+zero_to_255+'\\.'+zero_to_255+'\\.'+zero_to_255\n"
   ]
  },
  {
   "cell_type": "code",
   "execution_count": 18,
   "id": "74159950",
   "metadata": {
    "deletable": false,
    "editable": false
   },
   "outputs": [
    {
     "data": {
      "text/html": [
       "<p><strong><pre style='display: inline;'>q2b</pre></strong> passed!</p>"
      ],
      "text/plain": [
       "q2b results: All test cases passed!"
      ]
     },
     "execution_count": 18,
     "metadata": {},
     "output_type": "execute_result"
    }
   ],
   "source": [
    "grader.check(\"q2b\")\n"
   ]
  },
  {
   "cell_type": "markdown",
   "id": "bd8e2924",
   "metadata": {},
   "source": [
    "**2(c)** (2 pts) Create a regular expression that extracts the sender and receiever IP addresses from each line of the SkypeIRC log file, and use a `collections.Counter` to count up all the unique sender and receiver addresses in the data. What do you think is the IP address of the laptop on which the capture was performed?"
   ]
  },
  {
   "cell_type": "markdown",
   "id": "7b66c589",
   "metadata": {},
   "source": [
    "192.168.1.2"
   ]
  },
  {
   "cell_type": "code",
   "execution_count": 19,
   "id": "ce0f180c",
   "metadata": {
    "tags": []
   },
   "outputs": [
    {
     "data": {
      "text/plain": [
       "Counter({'212.204.214.114': 159,\n",
       "         '192.168.1.2': 1068,\n",
       "         '192.168.1.1': 359,\n",
       "         '71.10.179.129': 43,\n",
       "         '172.200.160.242': 41,\n",
       "         '86.128.100.24': 1,\n",
       "         '68.95.198.126': 13,\n",
       "         '86.128.187.110': 2,\n",
       "         '24.177.122.79': 27,\n",
       "         '68.32.70.119': 9,\n",
       "         '86.197.95.238': 2,\n",
       "         '86.31.70.81': 2,\n",
       "         '86.220.100.25': 2,\n",
       "         '86.130.63.111': 1,\n",
       "         '80.216.195.140': 1,\n",
       "         '65.190.6.124': 4,\n",
       "         '165.124.253.241': 2,\n",
       "         '81.236.228.111': 1,\n",
       "         '86.142.117.124': 1,\n",
       "         '86.142.178.222': 1,\n",
       "         '86.128.163.125': 1,\n",
       "         '86.134.79.66': 1,\n",
       "         '86.136.192.70': 1,\n",
       "         '80.186.57.176': 1,\n",
       "         '68.206.150.243': 29,\n",
       "         '82.128.194.105': 1,\n",
       "         '204.152.205.205': 4,\n",
       "         '195.215.8.141': 9,\n",
       "         '83.147.171.206': 1,\n",
       "         '172.207.190.217': 1,\n",
       "         '190.44.165.86': 5,\n",
       "         '83.130.238.168': 5,\n",
       "         '83.5.146.219': 1,\n",
       "         '82.253.163.244': 1,\n",
       "         '202.139.177.147': 4,\n",
       "         '202.232.205.123': 4,\n",
       "         '130.244.145.31': 4,\n",
       "         '217.41.176.118': 4,\n",
       "         '212.72.49.142': 24,\n",
       "         '212.149.248.49': 6,\n",
       "         '67.190.60.125': 5,\n",
       "         '24.242.109.92': 5,\n",
       "         '129.11.125.169': 1,\n",
       "         '69.192.67.152': 1,\n",
       "         '66.67.61.44': 6,\n",
       "         '24.61.5.13': 1,\n",
       "         '212.72.49.131': 10,\n",
       "         '24.107.221.82': 5,\n",
       "         '72.145.3.159': 2,\n",
       "         '193.150.239.120': 3,\n",
       "         '68.84.140.103': 4,\n",
       "         '72.181.61.199': 4,\n",
       "         '24.225.155.47': 1,\n",
       "         '82.216.129.118': 5,\n",
       "         '24.243.179.113': 1,\n",
       "         '67.162.133.209': 4,\n",
       "         '212.30.7.170': 1,\n",
       "         '130.117.72.70': 1,\n",
       "         '224.0.0.1': 2,\n",
       "         '67.190.177.7': 2,\n",
       "         '24.50.144.100': 2,\n",
       "         '88.134.27.180': 1,\n",
       "         '24.93.232.92': 1,\n",
       "         '84.228.208.91': 7,\n",
       "         '69.205.247.140': 7,\n",
       "         '81.184.127.148': 7,\n",
       "         '66.161.193.72': 1,\n",
       "         '200.55.99.252': 2,\n",
       "         '68.74.190.205': 8,\n",
       "         '74.130.44.22': 2,\n",
       "         '196.40.10.146': 2,\n",
       "         '84.121.82.31': 1,\n",
       "         '213.165.187.162': 5,\n",
       "         '218.111.60.108': 2,\n",
       "         '190.37.32.155': 2,\n",
       "         '86.128.194.14': 2,\n",
       "         '190.38.33.17': 2,\n",
       "         '69.248.108.13': 3,\n",
       "         '70.161.237.88': 3,\n",
       "         '24.48.150.22': 3,\n",
       "         '70.181.220.80': 3,\n",
       "         '24.191.115.185': 3,\n",
       "         '70.160.92.135': 3,\n",
       "         '70.160.94.139': 4,\n",
       "         '69.174.241.72': 4,\n",
       "         '70.36.75.98': 4,\n",
       "         '24.22.73.206': 2,\n",
       "         '82.40.35.124': 8,\n",
       "         '24.247.87.5': 2,\n",
       "         '69.160.6.18': 16,\n",
       "         '69.114.183.8': 2,\n",
       "         '69.160.83.193': 1,\n",
       "         '72.40.37.213': 1,\n",
       "         '68.55.27.139': 3,\n",
       "         '71.196.236.185': 3,\n",
       "         '72.197.60.203': 6,\n",
       "         '69.141.46.5': 6,\n",
       "         '24.125.186.144': 3,\n",
       "         '172.164.231.151': 1,\n",
       "         '68.56.113.162': 3,\n",
       "         '67.165.90.216': 3,\n",
       "         '69.250.183.56': 3,\n",
       "         '82.235.241.187': 3,\n",
       "         '68.224.143.119': 3,\n",
       "         '86.128.79.38': 1,\n",
       "         '80.73.178.211': 1,\n",
       "         '24.28.248.6': 1,\n",
       "         '67.163.96.170': 1,\n",
       "         '69.244.172.248': 3,\n",
       "         '84.25.172.195': 1,\n",
       "         '68.38.164.187': 4,\n",
       "         '86.128.191.16': 3,\n",
       "         '172.210.225.34': 1,\n",
       "         '82.135.226.115': 1,\n",
       "         '82.238.159.78': 1,\n",
       "         '201.66.132.24': 1,\n",
       "         '154.20.232.87': 1,\n",
       "         '83.227.99.222': 2,\n",
       "         '87.254.76.214': 1,\n",
       "         '87.110.172.158': 1,\n",
       "         '68.53.93.55': 1,\n",
       "         '209.6.110.105': 1,\n",
       "         '68.184.180.170': 1,\n",
       "         '35.10.92.61': 3,\n",
       "         '24.224.190.149': 4,\n",
       "         '69.116.18.137': 1,\n",
       "         '217.8.201.21': 3,\n",
       "         '213.112.53.77': 1,\n",
       "         '192.208.132.217': 2,\n",
       "         '85.165.0.55': 1,\n",
       "         '88.108.131.46': 1,\n",
       "         '67.71.69.121': 23,\n",
       "         '202.97.238.204': 2,\n",
       "         '86.128.67.61': 2,\n",
       "         '68.51.91.234': 3,\n",
       "         '67.163.59.104': 4,\n",
       "         '67.175.21.149': 1,\n",
       "         '86.3.249.41': 1,\n",
       "         '71.228.44.157': 3,\n",
       "         '69.175.213.26': 3,\n",
       "         '70.34.2.250': 3,\n",
       "         '86.128.116.241': 2,\n",
       "         '74.134.164.121': 2,\n",
       "         '68.70.72.32': 3,\n",
       "         '83.87.11.43': 3,\n",
       "         '24.185.17.200': 1,\n",
       "         '24.52.71.135': 3,\n",
       "         '67.84.43.172': 1,\n",
       "         '24.187.107.99': 3,\n",
       "         '24.53.74.129': 3,\n",
       "         '66.61.38.114': 4,\n",
       "         '68.195.103.120': 3,\n",
       "         '68.171.31.88': 3,\n",
       "         '24.200.254.253': 1,\n",
       "         '208.2.71.2': 2,\n",
       "         '68.0.172.33': 3,\n",
       "         '72.201.60.177': 3,\n",
       "         '72.40.133.78': 3,\n",
       "         '67.84.148.173': 3,\n",
       "         '24.74.180.249': 3,\n",
       "         '67.80.71.219': 3,\n",
       "         '212.72.49.141': 8,\n",
       "         '86.20.229.242': 1,\n",
       "         '137.99.56.10': 2,\n",
       "         '194.46.185.158': 5,\n",
       "         '89.0.195.189': 5,\n",
       "         '88.109.227.83': 1,\n",
       "         '84.194.56.104': 1,\n",
       "         '67.188.114.72': 1,\n",
       "         '62.30.220.30': 1,\n",
       "         '70.173.223.82': 1,\n",
       "         '65.196.74.236': 3,\n",
       "         '189.132.176.243': 7,\n",
       "         '69.113.180.235': 3,\n",
       "         '68.234.20.58': 1,\n",
       "         '24.188.222.16': 3,\n",
       "         '24.242.44.13': 2,\n",
       "         '68.47.20.134': 1,\n",
       "         '69.164.189.12': 3})"
      ]
     },
     "execution_count": 19,
     "metadata": {},
     "output_type": "execute_result"
    }
   ],
   "source": [
    "from collections import Counter\n",
    "senders = Counter()\n",
    "receivers = Counter()\n",
    "contents = []\n",
    "\n",
    "with gzip.open('SkypeIRC.txt.gz', 'r') as f1:\n",
    "    con = f1.readlines()\n",
    "    for line in con:\n",
    "        contents.append(''.join(re.findall(r'.+', line.decode('utf-8'))))\n",
    "s_list = []\n",
    "r_list = []\n",
    "\n",
    "\n",
    "for element in contents:\n",
    "    temp = re.findall(ip, element)\n",
    "    if len(temp) >= 2:\n",
    "        s1, s2, s3, s4 = temp[0]\n",
    "        str_temp1 = s1 + \".\" + s2 + \".\" + s3 + \".\" + s4\n",
    "        s_list.append(str_temp1)\n",
    "        r1, r2, r3, r4 = temp[1]\n",
    "        str_temp2 = r1 + \".\" + r2 + \".\" + r3 + \".\" + r4\n",
    "        r_list.append(str_temp2)\n",
    "\n",
    "senders = Counter(s_list)\n",
    "receivers = Counter(r_list)\n",
    "receivers\n"
   ]
  },
  {
   "cell_type": "code",
   "execution_count": 20,
   "id": "658832be",
   "metadata": {},
   "outputs": [
    {
     "data": {
      "text/plain": [
       "Counter({1: 1, 2: 1, 3: 1})"
      ]
     },
     "execution_count": 20,
     "metadata": {},
     "output_type": "execute_result"
    }
   ],
   "source": [
    "Counter([1, 2, 3])\n"
   ]
  },
  {
   "cell_type": "code",
   "execution_count": 21,
   "id": "63080281",
   "metadata": {
    "deletable": false,
    "editable": false
   },
   "outputs": [
    {
     "data": {
      "text/html": [
       "<p><strong><pre style='display: inline;'>q2c</pre></strong> passed!</p>"
      ],
      "text/plain": [
       "q2c results: All test cases passed!"
      ]
     },
     "execution_count": 21,
     "metadata": {},
     "output_type": "execute_result"
    }
   ],
   "source": [
    "grader.check(\"q2c\")\n"
   ]
  },
  {
   "cell_type": "markdown",
   "id": "e9564758",
   "metadata": {
    "deletable": false,
    "editable": false
   },
   "source": [
    "---\n",
    "\n",
    "To double-check your work, the cell below will rerun all of the autograder tests."
   ]
  },
  {
   "cell_type": "code",
   "execution_count": 22,
   "id": "811dccf6",
   "metadata": {
    "deletable": false,
    "editable": false
   },
   "outputs": [
    {
     "data": {
      "text/plain": [
       "q1a results: All test cases passed!\n",
       "\n",
       "q1b results: All test cases passed!\n",
       "\n",
       "q1c results: All test cases passed!\n",
       "\n",
       "q1d results: All test cases passed!\n",
       "\n",
       "q1e results: All test cases passed!\n",
       "\n",
       "q2a results: All test cases passed!\n",
       "\n",
       "q2b results: All test cases passed!\n",
       "\n",
       "q2c results: All test cases passed!"
      ]
     },
     "execution_count": 22,
     "metadata": {},
     "output_type": "execute_result"
    }
   ],
   "source": [
    "grader.check_all()\n"
   ]
  },
  {
   "cell_type": "markdown",
   "id": "da66ff79",
   "metadata": {
    "deletable": false,
    "editable": false
   },
   "source": [
    "## Submission\n",
    "\n",
    "Make sure you have run all cells in your notebook in order before running the cell below, so that all images/graphs appear in the output. The cell below will generate a zip file for you to submit. **Please save before exporting!**\n",
    "\n",
    "Upload this .zip file to Gradescope for grading."
   ]
  },
  {
   "cell_type": "code",
   "execution_count": 23,
   "id": "e0cc27cf",
   "metadata": {
    "deletable": false,
    "editable": false
   },
   "outputs": [
    {
     "data": {
      "text/html": [
       "\n",
       "            <p>Your submission has been exported. Click <a href=\"ps7_2022_03_13T21_51_16_213823.zip\" download=\"ps7_2022_03_13T21_51_16_213823.zip\" target=\"_blank\">here</a>\n",
       "            to download the zip file.</p>\n",
       "            "
      ],
      "text/plain": [
       "<IPython.core.display.HTML object>"
      ]
     },
     "metadata": {},
     "output_type": "display_data"
    }
   ],
   "source": [
    "# Save your notebook first, then run this cell to export your submission.\n",
    "grader.export(pdf=False)\n"
   ]
  },
  {
   "cell_type": "markdown",
   "id": "da1a1427",
   "metadata": {},
   "source": [
    " "
   ]
  }
 ],
 "metadata": {
  "kernelspec": {
   "display_name": "Python 3 (ipykernel)",
   "language": "python",
   "name": "python3"
  },
  "language_info": {
   "codemirror_mode": {
    "name": "ipython",
    "version": 3
   },
   "file_extension": ".py",
   "mimetype": "text/x-python",
   "name": "python",
   "nbconvert_exporter": "python",
   "pygments_lexer": "ipython3",
   "version": "3.8.12"
  },
  "otter": {
   "tests": {
    "q1a": {
     "name": "q1a",
     "points": 2,
     "suites": [
      {
       "cases": [
        {
         "code": ">>> assert len(words) == 113809\n",
         "hidden": false,
         "locked": false
        }
       ],
       "scored": true,
       "setup": "",
       "teardown": "",
       "type": "doctest"
      }
     ]
    },
    "q1b": {
     "name": "q1b",
     "points": 2,
     "suites": [
      {
       "cases": [
        {
         "code": ">>> assert len(three_vowels) == 19\n",
         "hidden": false,
         "locked": false
        },
        {
         "code": ">>> assert \"oeillade\" in three_vowels\n",
         "hidden": false,
         "locked": false
        },
        {
         "code": ">>> three_vowels_soln = set([w for w in words if re.match(r\"[aeuio]{3}\", w)])\n>>> assert set(three_vowels) == set(three_vowels_soln)\n",
         "hidden": false,
         "locked": false
        }
       ],
       "scored": true,
       "setup": "",
       "teardown": "",
       "type": "doctest"
      }
     ]
    },
    "q1c": {
     "name": "q1c",
     "points": 2,
     "suites": [
      {
       "cases": [
        {
         "code": ">>> assert \"eye\" in even_e\n>>> assert \"eels\" in even_e\n>>> assert \"storekeeper\" in even_e\n>>> assert \"bird\" not in even_e\n>>> assert \"fed\" not in even_e\n>>> assert \"eleven\" not in even_e\n",
         "hidden": false,
         "locked": false
        }
       ],
       "scored": true,
       "setup": "",
       "teardown": "",
       "type": "doctest"
      }
     ]
    },
    "q1d": {
     "name": "q1d",
     "points": 2,
     "suites": [
      {
       "cases": [
        {
         "code": ">>> assert isinstance(consonants_begin_end, str)\n",
         "hidden": false,
         "locked": false
        },
        {
         "code": ">>> regexp = re.compile(consonants_begin_end)\n>>> assert regexp.match(\"dad\")\n>>> assert regexp.match(\"doom\")\n>>> assert regexp.match(\"mom\")\n>>> assert regexp.match(\"me ad\")\n>>> assert regexp.match(\"woooo!!!!! ah\")\n>>> assert not regexp.match(\"\")\n>>> assert not regexp.match(\"dad & mom\")\n>>> assert not regexp.match(\"dune\")\n",
         "hidden": false,
         "locked": false
        }
       ],
       "scored": true,
       "setup": "",
       "teardown": "",
       "type": "doctest"
      }
     ]
    },
    "q1e": {
     "name": "q1e",
     "points": 2,
     "suites": [
      {
       "cases": [
        {
         "code": ">>> assert \"cardiac\" in fwd_2_rev\n>>> assert \"defeated\" in fwd_2_rev\n>>> assert \"sees\" in fwd_2_rev\n",
         "hidden": false,
         "locked": false
        }
       ],
       "scored": true,
       "setup": "",
       "teardown": "",
       "type": "doctest"
      }
     ]
    },
    "q2a": {
     "name": "q2a",
     "points": 2,
     "suites": [
      {
       "cases": [
        {
         "code": ">>> assert isinstance(zero_to_255, str)\n>>> regexp = re.compile(r\"^\" + zero_to_255 + \"$\")\n>>> assert not regexp.match(\"001\")\n>>> assert not regexp.match(\"123 234\")\n>>> for i in range(256):\n...     assert regexp.match(str(i)), f\"{str(i)} did not match\"\n...     assert regexp.match(str(i)).groups() == (str(i), ), f\"{str(i)} should match exactly once\"\n",
         "hidden": false,
         "locked": false
        }
       ],
       "scored": true,
       "setup": "",
       "teardown": "",
       "type": "doctest"
      }
     ]
    },
    "q2b": {
     "name": "q2b",
     "points": 2,
     "suites": [
      {
       "cases": [
        {
         "code": ">>> assert isinstance(ip, str)\n>>> regexp = re.compile(r\"^\" + ip + r\"$\")\n>>> assert regexp.match(\"127.0.0.1\")\n>>> assert regexp.match(\"172.217.2.36\")\n>>> assert regexp.match(\"141.211.243.251\")\n>>> assert not regexp.match(\"1.2.3.400\")\n>>> assert not regexp.match(\"1.2.3.4.5\")\n",
         "hidden": false,
         "locked": false
        }
       ],
       "scored": true,
       "setup": "",
       "teardown": "",
       "type": "doctest"
      }
     ]
    },
    "q2c": {
     "name": "q2c",
     "points": 2,
     "suites": [
      {
       "cases": [
        {
         "code": ">>> assert senders['212.204.214.114'] == 141\n",
         "hidden": false,
         "locked": false
        },
        {
         "code": ">>> assert receivers['212.204.214.114'] == 159\n",
         "hidden": false,
         "locked": false
        }
       ],
       "scored": true,
       "setup": "",
       "teardown": "",
       "type": "doctest"
      }
     ]
    }
   }
  }
 },
 "nbformat": 4,
 "nbformat_minor": 5
}
