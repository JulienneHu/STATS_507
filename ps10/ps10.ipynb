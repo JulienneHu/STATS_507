{
 "cells": [
  {
   "cell_type": "code",
   "execution_count": 1,
   "id": "c392dfac",
   "metadata": {
    "deletable": false,
    "editable": false
   },
   "outputs": [],
   "source": [
    "# Initialize Otter\n",
    "import otter\n",
    "grader = otter.Notebook(\"ps10.ipynb\")\n"
   ]
  },
  {
   "cell_type": "markdown",
   "id": "dc96f043",
   "metadata": {},
   "source": [
    "# Problem Set 10\n",
    "## Logistic regression, automatic differentiation, and neural networks"
   ]
  },
  {
   "cell_type": "markdown",
   "id": "180b5d04",
   "metadata": {},
   "source": [
    "In this problem set you will study binary classification, logistic regression, and implement a simple neural network with one hidden layer.\n",
    "\n",
    "For data in this problem set, we will use the MNIST data set which we saw on problem set 6. To make things run faster, we will only use the first 1000 images in the data set:"
   ]
  },
  {
   "cell_type": "code",
   "execution_count": 2,
   "id": "1098f60b",
   "metadata": {},
   "outputs": [],
   "source": [
    "import numpy\n",
    "mnist = numpy.load('mnist.npz')\n",
    "X = mnist['images'][:1000]\n",
    "y = mnist['labels'][:1000]\n",
    "n, p = X.shape\n"
   ]
  },
  {
   "cell_type": "markdown",
   "id": "6ae14e6f",
   "metadata": {},
   "source": [
    "## Question 1: Binary classification\n",
    "\n",
    "In this exercise you will use `sklearn` to build a binary classifier."
   ]
  },
  {
   "cell_type": "code",
   "execution_count": 3,
   "id": "01ac9a9b",
   "metadata": {},
   "outputs": [],
   "source": [
    "import sklearn\n",
    "import sklearn.preprocessing\n",
    "import sklearn.model_selection\n",
    "import sklearn.linear_model\n",
    "import numpy as np\n"
   ]
  },
  {
   "cell_type": "markdown",
   "id": "a35c3649",
   "metadata": {},
   "source": [
    "The classifier will take as input a $28\\times 28$ grayscale MNIST image, and return `1` if the image represents the number 5, and `0` otherwise.\n",
    "\n",
    "*Note*: various algorithms implemented in `sklearn` are randomized. To utilize the same randomness as we did when generating the solutions (and hence, to ensure that your output passes the test cases), use `random_state=1` wherever necessary when calling `sklearn` methods."
   ]
  },
  {
   "cell_type": "markdown",
   "id": "9ca72f48",
   "metadata": {},
   "source": [
    "**1(a)** (1 pt) Using the `mnist` data loaded above, create a standardized version of `X` where each column has zero mean and variance one. (Hint: use the `sklearn.preprocessing` module.)"
   ]
  },
  {
   "cell_type": "code",
   "execution_count": 88,
   "id": "ce048973",
   "metadata": {
    "tags": []
   },
   "outputs": [],
   "source": [
    "from sklearn.preprocessing import StandardScaler\n",
    "scaler = StandardScaler().fit(X)\n",
    "Xs = scaler.transform(X)"
   ]
  },
  {
   "cell_type": "code",
   "execution_count": 90,
   "id": "754158d7",
   "metadata": {
    "deletable": false,
    "editable": false
   },
   "outputs": [
    {
     "data": {
      "text/html": [
       "<p><strong><pre style='display: inline;'>1a</pre></strong> passed!</p>"
      ],
      "text/plain": [
       "1a results: All test cases passed!"
      ]
     },
     "execution_count": 90,
     "metadata": {},
     "output_type": "execute_result"
    }
   ],
   "source": [
    "grader.check(\"1a\")\n"
   ]
  },
  {
   "cell_type": "markdown",
   "id": "9e37a665",
   "metadata": {},
   "source": [
    "**1(b)** (1 pt) Using the `mnist` data loaded above, create a vector `y5` which equals `1` if the the corresponding MINST image equals is of the number 5, and `0` otherwise."
   ]
  },
  {
   "cell_type": "code",
   "execution_count": 91,
   "id": "928ef873",
   "metadata": {
    "tags": []
   },
   "outputs": [],
   "source": [
    "y5 = (y == 5).astype(int)"
   ]
  },
  {
   "cell_type": "code",
   "execution_count": 92,
   "id": "af6457ff",
   "metadata": {
    "deletable": false,
    "editable": false
   },
   "outputs": [
    {
     "data": {
      "text/html": [
       "<p><strong><pre style='display: inline;'>1b</pre></strong> passed!</p>"
      ],
      "text/plain": [
       "1b results: All test cases passed!"
      ]
     },
     "execution_count": 92,
     "metadata": {},
     "output_type": "execute_result"
    }
   ],
   "source": [
    "grader.check(\"1b\")\n"
   ]
  },
  {
   "cell_type": "markdown",
   "id": "2cb72964",
   "metadata": {},
   "source": [
    "**1(c)**(1pt) Using `sklearn.model_selection.train_test_split`, divide the data into 70% training data and 30% test data. To ensure that your output matches our tests, pass the option `random_state=1` into the method."
   ]
  },
  {
   "cell_type": "code",
   "execution_count": 93,
   "id": "3505177f",
   "metadata": {},
   "outputs": [],
   "source": [
    "from sklearn.model_selection import train_test_split\n",
    "X_train, X_test, y_train, y_test = sklearn.model_selection.train_test_split(\n",
    "    Xs, y5, random_state=1, test_size=0.3)\n"
   ]
  },
  {
   "cell_type": "code",
   "execution_count": 94,
   "id": "a0889a7d",
   "metadata": {
    "deletable": false,
    "editable": false
   },
   "outputs": [
    {
     "data": {
      "text/html": [
       "<p><strong><pre style='display: inline;'>1c</pre></strong> passed!</p>"
      ],
      "text/plain": [
       "1c results: All test cases passed!"
      ]
     },
     "execution_count": 94,
     "metadata": {},
     "output_type": "execute_result"
    }
   ],
   "source": [
    "grader.check(\"1c\")\n"
   ]
  },
  {
   "cell_type": "markdown",
   "id": "9ca51e37",
   "metadata": {},
   "source": [
    "**1(d)**(2pt) Use `sklearn.linear_model.LogisticRegression` to train a binary classifier on the *training data only*. "
   ]
  },
  {
   "cell_type": "code",
   "execution_count": 95,
   "id": "2cd59447",
   "metadata": {
    "tags": []
   },
   "outputs": [
    {
     "data": {
      "text/plain": [
       "LogisticRegression()"
      ]
     },
     "execution_count": 95,
     "metadata": {},
     "output_type": "execute_result"
    }
   ],
   "source": [
    "from sklearn.linear_model import LogisticRegression\n",
    "clf = LogisticRegression(penalty=\"l2\")\n",
    "clf.fit(X_train,y_train)"
   ]
  },
  {
   "cell_type": "code",
   "execution_count": 96,
   "id": "d44fd382",
   "metadata": {
    "deletable": false,
    "editable": false
   },
   "outputs": [
    {
     "data": {
      "text/html": [
       "<p><strong><pre style='display: inline;'>1d</pre></strong> passed!</p>"
      ],
      "text/plain": [
       "1d results: All test cases passed!"
      ]
     },
     "execution_count": 96,
     "metadata": {},
     "output_type": "execute_result"
    }
   ],
   "source": [
    "grader.check(\"1d\")"
   ]
  },
  {
   "cell_type": "markdown",
   "id": "e756b3f5",
   "metadata": {},
   "source": [
    "<!-- BEGIN QUESTION -->\n",
    "\n",
    "**1(e)**(1pt) How accurate is your trained classifier on `X_train`/`y_train`? How accurate is it on `X_test`/`y_test`? (Use whatever measure of accuracy you think is appropriate.)"
   ]
  },
  {
   "cell_type": "code",
   "execution_count": 97,
   "id": "62f720b9",
   "metadata": {},
   "outputs": [
    {
     "name": "stdout",
     "output_type": "stream",
     "text": [
      "1.0\n",
      "0.9466666666666667\n"
     ]
    }
   ],
   "source": [
    "print(clf.score(X_train, y_train))\n",
    "print(clf.score(X_test, y_test))"
   ]
  },
  {
   "cell_type": "code",
   "execution_count": 98,
   "id": "c118641a",
   "metadata": {},
   "outputs": [
    {
     "name": "stdout",
     "output_type": "stream",
     "text": [
      "0.0\n",
      "0.053333333333333344\n"
     ]
    }
   ],
   "source": [
    "from sklearn.metrics import zero_one_loss\n",
    "\n",
    "print(zero_one_loss(clf.predict(X_train), y_train))\n",
    "print(zero_one_loss(clf.predict(X_test), y_test))"
   ]
  },
  {
   "cell_type": "markdown",
   "id": "089b4011",
   "metadata": {},
   "source": [
    "Using log-loss to check the accuracy, for X_train/y_train, it's 0 misclassification rate.  for X_test/y_test, it's about five-percent misclassification rate. "
   ]
  },
  {
   "cell_type": "markdown",
   "id": "f349b929",
   "metadata": {},
   "source": [
    "<!-- END QUESTION -->\n",
    "\n",
    "<!-- BEGIN QUESTION -->\n",
    "\n",
    "**1(f)**(2pt) The regularization parameter can be varied by setting `LogisticRegression(C=C)` , where `C` is the value of the regularization penalty. What happens to the test error that you computed in the previous step as you vary `C`? Can you find a setting of `C` that results in lower test error than the default value `C=1`?"
   ]
  },
  {
   "cell_type": "markdown",
   "id": "39dacd71",
   "metadata": {},
   "source": [
    "The C parameter controls the amount of regularization in the LogisticRegression object: a large value for C results in less regularization.  A high value of C tells the model to give high weight to the training data, and a lower weight to the complexity penalty. A low value tells the model to give more weight to this complexity penalty at the expense of fitting to the training data. "
   ]
  },
  {
   "cell_type": "markdown",
   "id": "e385ba6e",
   "metadata": {},
   "source": [
    "Based on the figure below, when C=0.1, the test error is lower than C=1."
   ]
  },
  {
   "cell_type": "code",
   "execution_count": 99,
   "id": "246d8908",
   "metadata": {},
   "outputs": [
    {
     "data": {
      "image/png": "[encoded data removed]",
      "text/plain": [
       "<Figure size 432x288 with 1 Axes>"
      ]
     },
     "metadata": {
      "needs_background": "light"
     },
     "output_type": "display_data"
    },
    {
     "name": "stdout",
     "output_type": "stream",
     "text": [
      "[0.09333333333333338, 0.046666666666666634, 0.050000000000000044, 0.053333333333333344, 0.05666666666666664, 0.05666666666666664]\n"
     ]
    }
   ],
   "source": [
    "import matplotlib.pyplot as plt\n",
    "C_list = np.logspace(-3,3,num=6)\n",
    "train = []\n",
    "test = []\n",
    "for i in C_list:\n",
    "  clf = sklearn.linear_model.LogisticRegression(C=i)\n",
    "  clf.fit(X_train, y_train)\n",
    "\n",
    "\n",
    "  train.append( 1-clf.score(X_train, y_train) )\n",
    "  test.append( 1-clf.score(X_test, y_test) )\n",
    "\n",
    "\n",
    "plt.semilogx(C_list, train, label='Train')\n",
    "plt.semilogx(C_list, test, label='Test')\n",
    "plt.legend()\n",
    "plt.show()\n",
    "\n",
    "print(test)"
   ]
  },
  {
   "cell_type": "markdown",
   "id": "59021877",
   "metadata": {},
   "source": [
    "<!-- END QUESTION -->\n",
    "\n",
    "## Question 2\n",
    "In lecture we learned that logistic regression assumes the probability model \n",
    "\n",
    "$$\\mathbb{P}(y_i=1\\mid \\mathbf{x}_i) = \\sigma(\\mathbf{x}_i^T\\boldsymbol{\\beta}),$$ \n",
    "\n",
    "where $\\mathbf{x}_i$ are rows of the data matrix $\\mathbf{X}\\in\\mathbb{R}^{n\\times p}$, $\\mathbf{y}\\in\\{0,1\\}^n$ is a vector of binary responses, and\n",
    "\n",
    "$$\\sigma(a)=\\frac{1}{1+\\exp(-a)}$$ \n",
    "\n",
    "is a *sigmoid* function which maps  real numbers into the interval $[0,1]$."
   ]
  },
  {
   "cell_type": "markdown",
   "id": "1204fcdc",
   "metadata": {},
   "source": [
    "Logistic regression tries to find $\\hat{\\boldsymbol{\\beta}}$ that maximizes the (log)likelihood of the data. However, in complex data sets, the linear mapping $\\mathbf{x}_i\\mapsto \\mathbf{x}_i^T \\boldsymbol{\\beta}$ may not be complex enough to form a good classifier. \n",
    "\n",
    "This exercise will walk you through the process of building a more complex classifier: a one-layer feedforward neural network, known as a [multilayer perceptron](https://en.wikipedia.org/wiki/Multilayer_perceptron). To implement this, we will use the machine learning library JAX:"
   ]
  },
  {
   "cell_type": "code",
   "execution_count": 100,
   "id": "bbf07195",
   "metadata": {},
   "outputs": [],
   "source": [
    "import jax"
   ]
  },
  {
   "cell_type": "markdown",
   "id": "c75aa548",
   "metadata": {},
   "source": [
    "JAX includes a Numpy-like interface:"
   ]
  },
  {
   "cell_type": "code",
   "execution_count": 101,
   "id": "a246bace",
   "metadata": {},
   "outputs": [],
   "source": [
    "import jax.numpy as jnp\n"
   ]
  },
  {
   "cell_type": "markdown",
   "id": "e2094fa8",
   "metadata": {},
   "source": [
    "You should use the `jnp` library for all array manipulations in this question."
   ]
  },
  {
   "cell_type": "markdown",
   "id": "9b63b2f4",
   "metadata": {},
   "source": [
    "**2(a)**(2pt) Define a *neuron* to be a function that takes three arguments: an *input* vector $x\\in\\mathbb{R}^p$, a *weight vector* $w \\in \\mathbb{R}^p$, and a *bias* $b\\in \\mathbb{R}$. The neuron should return `1` if $w^T x > b$ and `0` otherwise."
   ]
  },
  {
   "cell_type": "code",
   "execution_count": 102,
   "id": "8cc7dc05",
   "metadata": {
    "tags": []
   },
   "outputs": [],
   "source": [
    "def neuron(x, w, b):\n",
    "    return (w.dot(x)-b>0).astype(int)\n"
   ]
  },
  {
   "cell_type": "code",
   "execution_count": 103,
   "id": "6af235a4",
   "metadata": {
    "deletable": false,
    "editable": false
   },
   "outputs": [
    {
     "data": {
      "text/html": [
       "<p><strong><pre style='display: inline;'>2a</pre></strong> passed!</p>"
      ],
      "text/plain": [
       "2a results: All test cases passed!"
      ]
     },
     "execution_count": 103,
     "metadata": {},
     "output_type": "execute_result"
    }
   ],
   "source": [
    "grader.check(\"2a\")\n"
   ]
  },
  {
   "cell_type": "markdown",
   "id": "af76c4fa",
   "metadata": {},
   "source": [
    "**2(b)**(2pt) The `neuron()` function you wrote in the previous step models the behavior of an actual neuron in the brain. However, it is difficult to work with computationally because it jumps suddenly from 0 to 1 as soon as $w^Tx-b>0$. \n",
    "\n",
    "Define a second function, `smooth_neuron(x, w, b)`, which takes the same arguments and returns $\\sigma(x^T w - b)$, where $\\sigma$ is the sigmoid function defined above. In what sense is the `smooth_neuron` function an approximation to `neuron` function?"
   ]
  },
  {
   "cell_type": "code",
   "execution_count": 104,
   "id": "73aa4549",
   "metadata": {
    "tags": []
   },
   "outputs": [],
   "source": [
    "def smooth_neuron(x, w, b):\n",
    "    return jax.nn.sigmoid(w.dot(x)-b)\n"
   ]
  },
  {
   "cell_type": "code",
   "execution_count": 105,
   "id": "2fc18b0a",
   "metadata": {
    "deletable": false,
    "editable": false
   },
   "outputs": [
    {
     "data": {
      "text/html": [
       "<p><strong><pre style='display: inline;'>2b</pre></strong> passed!</p>"
      ],
      "text/plain": [
       "2b results: All test cases passed!"
      ]
     },
     "execution_count": 105,
     "metadata": {},
     "output_type": "execute_result"
    }
   ],
   "source": [
    "grader.check(\"2b\")\n"
   ]
  },
  {
   "cell_type": "markdown",
   "id": "5c3a4dc6",
   "metadata": {},
   "source": [
    "**2(c)**(2pt) Define function `hidden_layer(x, W, b)` which accepts three parameters:\n",
    "  - An input vector $x\\in\\mathbb{R}^p$;\n",
    "  - A weight matrix $W\\in\\mathbb{R}^{K\\times p}$\n",
    "  - A bias vector $b \\in \\mathbb{R}^{K}$.\n",
    "The output of `hidden_layer(x, W, b)` should be a vector `h` of dimension `K`, whose `i`-th entry is:\n",
    "```\n",
    "h[i] = smooth_neuron(x, w[i], b[i]).\n",
    "```\n",
    "\n",
    "*Note*: don't use for loops in your implementation. Instead, use `jax.vmap` as shown in lecture."
   ]
  },
  {
   "cell_type": "code",
   "execution_count": 106,
   "id": "72b298b4",
   "metadata": {},
   "outputs": [],
   "source": [
    "from jax import vmap"
   ]
  },
  {
   "cell_type": "code",
   "execution_count": 107,
   "id": "4aec51ab",
   "metadata": {
    "tags": []
   },
   "outputs": [],
   "source": [
    "def hidden_layer(x, W, b):\n",
    "    f = vmap(smooth_neuron, in_axes=(None, 0, 0))\n",
    "    return f(x, W, b)\n"
   ]
  },
  {
   "cell_type": "code",
   "execution_count": 108,
   "id": "3aa358eb",
   "metadata": {
    "deletable": false,
    "editable": false
   },
   "outputs": [
    {
     "data": {
      "text/html": [
       "<p><strong><pre style='display: inline;'>2c</pre></strong> passed!</p>"
      ],
      "text/plain": [
       "2c results: All test cases passed!"
      ]
     },
     "execution_count": 108,
     "metadata": {},
     "output_type": "execute_result"
    }
   ],
   "source": [
    "grader.check(\"2c\")\n"
   ]
  },
  {
   "cell_type": "markdown",
   "id": "45bfc174",
   "metadata": {},
   "source": [
    "**2(d)**(2pt)\n",
    "The MLP is completed by passing the output of the hidden layer through a final neuron. Mathematically, given the $h$ vector returned from the `hidden_layer` function defined above, the MLP returns \n",
    "\n",
    "$$\\text{mlp}(x) = \\sigma(h^T w_0 + b_0),$$\n",
    "\n",
    "where $w_0\\in\\mathbb{R}^K$ and $b_0\\in\\mathbb{R}$"
   ]
  },
  {
   "cell_type": "code",
   "execution_count": 109,
   "id": "ff605ec2",
   "metadata": {
    "tags": []
   },
   "outputs": [],
   "source": [
    "def mlp(params, x):\n",
    "    '''\n",
    "    Multi-layer perceptron.\n",
    "\n",
    "    Args:\n",
    "        params: a dict with four entries:\n",
    "            W, b: arguments to the `hidden_layer` function.\n",
    "            w0, b0: K-dimensional arguments to the smooth_neuron function\n",
    "        x: the input\n",
    "\n",
    "    Returns:\n",
    "        mlp evaluated on input x, i.e. the probability that the class label y=1 given x.\n",
    "\n",
    "    Note:\n",
    "        The number of hidden units is controlled by the dimension of W, b, w0, b0.\n",
    "    '''\n",
    "    h = hidden_layer(x, params['W'], params['b'])\n",
    "    return jax.nn.sigmoid(h.dot(params['w0'])-params['b0'])\n"
   ]
  },
  {
   "cell_type": "code",
   "execution_count": 110,
   "id": "0648f778",
   "metadata": {
    "deletable": false,
    "editable": false
   },
   "outputs": [
    {
     "data": {
      "text/html": [
       "<p><strong><pre style='display: inline;'>2d</pre></strong> passed!</p>"
      ],
      "text/plain": [
       "2d results: All test cases passed!"
      ]
     },
     "execution_count": 110,
     "metadata": {},
     "output_type": "execute_result"
    }
   ],
   "source": [
    "grader.check(\"2d\")\n"
   ]
  },
  {
   "cell_type": "markdown",
   "id": "919708e1",
   "metadata": {},
   "source": [
    "**2(e)**(4pt) Define a function `mlp_loss(params, X, y)` which takes three arguments: a `params` dict, which will be passed to the `mlp` function, a matrix $X$ of features, and a vector $y\\in\\{0,1\\}$ of class labels. The function should return the negative log-likelihood of the data when they are classified using the a binary classifier based on the given MLP."
   ]
  },
  {
   "cell_type": "code",
   "execution_count": 111,
   "id": "1e3fd1bf",
   "metadata": {},
   "outputs": [],
   "source": [
    "from jax.scipy.special import xlogy, xlog1py"
   ]
  },
  {
   "cell_type": "code",
   "execution_count": 112,
   "id": "20059f47",
   "metadata": {
    "tags": []
   },
   "outputs": [],
   "source": [
    "def mlp_loss(params, X, y):\n",
    "  vmlp = jax.vmap(mlp, in_axes=[None,0])\n",
    "  p = jnp.clip(vmlp(params, X), 1e-8, 1-1e-8)\n",
    "  loss = -jnp.sum(xlogy(y, p) + xlog1py(1 - y, -p))\n",
    "  return loss"
   ]
  },
  {
   "cell_type": "code",
   "execution_count": 113,
   "id": "9c4ca72a",
   "metadata": {
    "deletable": false,
    "editable": false
   },
   "outputs": [
    {
     "data": {
      "text/html": [
       "<p><strong><pre style='display: inline;'>2e</pre></strong> passed!</p>"
      ],
      "text/plain": [
       "2e results: All test cases passed!"
      ]
     },
     "execution_count": 113,
     "metadata": {},
     "output_type": "execute_result"
    }
   ],
   "source": [
    "grader.check(\"2e\")\n"
   ]
  },
  {
   "cell_type": "markdown",
   "id": "cef76b99",
   "metadata": {},
   "source": [
    "<!-- BEGIN QUESTION -->\n",
    "\n",
    "**2(f)** How long does it take you to evaluate `mlp_loss` for the entire MNIST dataset? What about if you transform `mlp_loss` using `@jax.jit` first?"
   ]
  },
  {
   "cell_type": "code",
   "execution_count": 114,
   "id": "f0d7489e",
   "metadata": {},
   "outputs": [],
   "source": [
    "X = mnist['images']\n",
    "y = mnist['labels']\n",
    "params = {'W' : jnp.array([[1.0], [2.0], [3.0], [4.0]]), \n",
    "                      'b' : jnp.array([13.0, -8.0, 10.5, 1.0]), \n",
    "                      'w0' : jnp.array([1.0, -1.0, 0.0, 0.0]), \n",
    "                      'b0' : 3.0}\n",
    "\n",
    "params['W'] = jnp.tile(params['W'], (1, X.shape[1]))"
   ]
  },
  {
   "cell_type": "code",
   "execution_count": 115,
   "id": "ddc10770",
   "metadata": {},
   "outputs": [
    {
     "name": "stdout",
     "output_type": "stream",
     "text": [
      "CPU times: user 106 ms, sys: 95.1 ms, total: 201 ms\n",
      "Wall time: 95.6 ms\n"
     ]
    },
    {
     "data": {
      "text/plain": [
       "DeviceArray(1393392.5, dtype=float32)"
      ]
     },
     "execution_count": 115,
     "metadata": {},
     "output_type": "execute_result"
    }
   ],
   "source": [
    "%%time\n",
    "mlp_loss(params, jnp.array(X), jnp.array(y))"
   ]
  },
  {
   "cell_type": "code",
   "execution_count": 116,
   "id": "f33af542",
   "metadata": {},
   "outputs": [],
   "source": [
    "@jax.jit\n",
    "def new_mlp(params,X,y):\n",
    "    return mlp_loss(params, jnp.array(X), jnp.array(y))"
   ]
  },
  {
   "cell_type": "code",
   "execution_count": 117,
   "id": "4d08599e",
   "metadata": {},
   "outputs": [
    {
     "name": "stdout",
     "output_type": "stream",
     "text": [
      "CPU times: user 93.1 ms, sys: 7.4 ms, total: 100 ms\n",
      "Wall time: 99.6 ms\n"
     ]
    },
    {
     "data": {
      "text/plain": [
       "DeviceArray(1393392.5, dtype=float32)"
      ]
     },
     "execution_count": 117,
     "metadata": {},
     "output_type": "execute_result"
    }
   ],
   "source": [
    "%%time\n",
    "new_mlp(params,X,y)"
   ]
  },
  {
   "cell_type": "markdown",
   "id": "067a95cf",
   "metadata": {},
   "source": [
    "With @jax.jit it is much faster."
   ]
  },
  {
   "cell_type": "markdown",
   "id": "c2a83cee",
   "metadata": {},
   "source": [
    "<!-- END QUESTION -->\n",
    "\n",
    "<!-- BEGIN QUESTION -->\n",
    "\n",
    "**2(g)** (For fun) Train the multi-layer perceptron such that it has better (lower) test error on the classification problem from Question 1 compared to ordinary logistic regression.\n",
    "\n",
    "*Hints*: \n",
    "- Training will be exceptionally slow unless you make use of gradients via the `@jax.grad` and/or `@jax.value_and_grad` transformations. (Be sure to jit these calls as well.)\n",
    "- You will likely need to add a regularization term to the loss function.\n",
    "- `jax.scipy.optimize.minimize` can be used to easily train the model."
   ]
  },
  {
   "cell_type": "markdown",
   "id": "80fad34a",
   "metadata": {},
   "source": [
    "_Type your answer here, replacing this text._"
   ]
  },
  {
   "cell_type": "markdown",
   "id": "c293e081",
   "metadata": {},
   "source": [
    "<!-- END QUESTION -->\n",
    "\n"
   ]
  },
  {
   "cell_type": "markdown",
   "id": "a0148ff4",
   "metadata": {
    "deletable": false,
    "editable": false
   },
   "source": [
    "---\n",
    "\n",
    "To double-check your work, the cell below will rerun all of the autograder tests."
   ]
  },
  {
   "cell_type": "code",
   "execution_count": 118,
   "id": "0a902c2d",
   "metadata": {
    "deletable": false,
    "editable": false
   },
   "outputs": [
    {
     "data": {
      "text/plain": [
       "1a results: All test cases passed!\n",
       "\n",
       "1b results: All test cases passed!\n",
       "\n",
       "1c results: All test cases passed!\n",
       "\n",
       "1d results:\n",
       "    1d - 1 result:\n",
       "        Trying:\n",
       "            assert sum(clf.predict(X_test)) == 27\n",
       "        Expecting nothing\n",
       "        **********************************************************************\n",
       "        Line 1, in 1d 0\n",
       "        Failed example:\n",
       "            assert sum(clf.predict(X_test)) == 27\n",
       "        Exception raised:\n",
       "            Traceback (most recent call last):\n",
       "              File \"/opt/homebrew/anaconda3/envs/math/lib/python3.8/doctest.py\", line 1336, in __run\n",
       "                exec(compile(example.source, filename, \"single\",\n",
       "              File \"<doctest 1d 0[0]>\", line 1, in <module>\n",
       "                assert sum(clf.predict(X_test)) == 27\n",
       "            AssertionError\n",
       "\n",
       "2a results: All test cases passed!\n",
       "\n",
       "2b results: All test cases passed!\n",
       "\n",
       "2c results: All test cases passed!\n",
       "\n",
       "2d results: All test cases passed!\n",
       "\n",
       "2e results: All test cases passed!"
      ]
     },
     "execution_count": 118,
     "metadata": {},
     "output_type": "execute_result"
    }
   ],
   "source": [
    "grader.check_all()\n"
   ]
  },
  {
   "cell_type": "markdown",
   "id": "ce49d754",
   "metadata": {
    "deletable": false,
    "editable": false
   },
   "source": [
    "## Submission\n",
    "\n",
    "Make sure you have run all cells in your notebook in order before running the cell below, so that all images/graphs appear in the output. The cell below will generate a zip file for you to submit. **Please save before exporting!**\n",
    "\n",
    "Upload this .zip file to Gradescope for grading."
   ]
  },
  {
   "cell_type": "code",
   "execution_count": 119,
   "id": "405f7da2",
   "metadata": {
    "deletable": false,
    "editable": false
   },
   "outputs": [
    {
     "data": {
      "text/html": [
       "\n",
       "            <p>Your submission has been exported. Click <a href=\"ps10_2022_04_10T17_17_34_228537.zip\" download=\"ps10_2022_04_10T17_17_34_228537.zip\" target=\"_blank\">here</a>\n",
       "            to download the zip file.</p>\n",
       "            "
      ],
      "text/plain": [
       "<IPython.core.display.HTML object>"
      ]
     },
     "metadata": {},
     "output_type": "display_data"
    }
   ],
   "source": [
    "# Save your notebook first, then run this cell to export your submission.\n",
    "grader.export(pdf=False)\n"
   ]
  },
  {
   "cell_type": "markdown",
   "id": "5557b281",
   "metadata": {},
   "source": [
    " "
   ]
  }
 ],
 "metadata": {
  "kernelspec": {
   "display_name": "Python 3 (ipykernel)",
   "language": "python",
   "name": "python3"
  },
  "language_info": {
   "codemirror_mode": {
    "name": "ipython",
    "version": 3
   },
   "file_extension": ".py",
   "mimetype": "text/x-python",
   "name": "python",
   "nbconvert_exporter": "python",
   "pygments_lexer": "ipython3",
   "version": "3.8.12"
  },
  "otter": {
   "tests": {
    "1a": {
     "name": "1a",
     "points": 1,
     "suites": [
      {
       "cases": [
        {
         "code": ">>> m = Xs.mean(axis = 0)\n>>> sd = Xs.std(axis = 0)\n>>> assert sum(abs(m)) < 1e-10\n>>> assert np.all(np.logical_or(abs(sd - 1) < 1e-10, abs(sd - 0) < 1e-10))\n",
         "hidden": false,
         "locked": false
        }
       ],
       "scored": true,
       "setup": "",
       "teardown": "",
       "type": "doctest"
      }
     ]
    },
    "1b": {
     "name": "1b",
     "points": 1,
     "suites": [
      {
       "cases": [
        {
         "code": ">>> place = np.where(y5 == 1)[0]\n>>> assert len(place) == 92\n",
         "hidden": false,
         "locked": false
        }
       ],
       "scored": true,
       "setup": "",
       "teardown": "",
       "type": "doctest"
      }
     ]
    },
    "1c": {
     "name": "1c",
     "points": 1,
     "suites": [
      {
       "cases": [
        {
         "code": ">>> assert X_train.shape[0] == 700\n>>> assert y_train.shape[0] == 700\n>>> assert X_test.shape[0] == 300\n>>> assert y_test.shape[0] == 300\n",
         "hidden": false,
         "locked": false
        }
       ],
       "scored": true,
       "setup": "",
       "teardown": "",
       "type": "doctest"
      }
     ]
    },
    "1d": {
     "name": "1d",
     "points": 2,
     "suites": [
      {
       "cases": [
        {
         "code": ">>> assert sum(clf.predict(X_test)) == 27\n",
         "hidden": false,
         "locked": false
        }
       ],
       "scored": true,
       "setup": "",
       "teardown": "",
       "type": "doctest"
      }
     ]
    },
    "2a": {
     "name": "2a",
     "points": 2,
     "suites": [
      {
       "cases": [
        {
         "code": ">>> x = jnp.array([1.0,2.0,3.0])\n>>> w = jnp.array([4.0,5.0,6.0])\n>>> b1 = 33.0\n>>> b2 = 32.0\n>>> b3 = 31.0\n>>> assert neuron(x,w,b1) == 0\n>>> assert neuron(x,w,b2) == 0\n>>> assert neuron(x,w,b3) == 1\n",
         "hidden": false,
         "locked": false
        }
       ],
       "scored": true,
       "setup": "",
       "teardown": "",
       "type": "doctest"
      }
     ]
    },
    "2b": {
     "name": "2b",
     "points": 2,
     "suites": [
      {
       "cases": [
        {
         "code": ">>> x = jnp.array([1.0,2.0,3.0])\n>>> w = jnp.array([4.0,5.0,6.0])\n>>> b1 = 39.0\n>>> b2 = 32.0\n>>> b3 = 33.0\n>>> assert abs(smooth_neuron(x,w,b1)-0.00091105)<1e-7\n>>> assert abs(smooth_neuron(x,w,b2)-0.5) < 1e-7\n>>> assert abs(smooth_neuron(x,w,b3)-0.26894143)<1e-7\n",
         "hidden": false,
         "locked": false
        }
       ],
       "scored": true,
       "setup": "",
       "teardown": "",
       "type": "doctest"
      }
     ]
    },
    "2c": {
     "name": "2c",
     "points": 2,
     "suites": [
      {
       "cases": [
        {
         "code": ">>> x = jnp.array([1.0,2.0, 3.0])\n>>> w = jnp.array([[1.0, 2.0, 3.0], [-1.0, 2.0, -4.0], [-1.0, -2.0, 5.0], [0.0,0.0,0.0]])\n>>> b = jnp.array([13.0, -8.0, 10.5, 1.0])\n>>> assert sum(abs(hidden_layer(x,w,b)-jnp.array([0.7310586, 0.26894143, 0.37754068, 0.26894143])))<1e-5\n",
         "hidden": false,
         "locked": false
        }
       ],
       "scored": true,
       "setup": "",
       "teardown": "",
       "type": "doctest"
      }
     ]
    },
    "2d": {
     "name": "2d",
     "points": 2,
     "suites": [
      {
       "cases": [
        {
         "code": ">>> x = jnp.array([1.0, 2.0, 3.0])\n>>> params = {'W' : jnp.array([[1.0, 2.0, 3.0], [-1.0, 2.0, -4.0], [-1.0, -2.0, 5.0], [0.0,0.0,0.0]]), \n...               'b' : jnp.array([13.0, -8.0, 10.5, 1.0]), \n...               'w0' : jnp.array([1.0, -1.0, 0.0,0.0]), \n...               'b0' : 3.0}\n>>> assert abs(mlp(params, x)-0.07324476)<1e-5\n",
         "hidden": false,
         "locked": false
        }
       ],
       "scored": true,
       "setup": "",
       "teardown": "",
       "type": "doctest"
      }
     ]
    },
    "2e": {
     "name": "2e",
     "points": 4,
     "suites": [
      {
       "cases": [
        {
         "code": ">>> X = jnp.array([[1.0, 2.0, 3.0], [2.0,3.0,4.0],[3.0,4.0,5.0], [5.0,6.0,7.0], [0.0,1.0,2.0]])\n>>> params = {'W' : jnp.array([[1.0, 2.0, 3.0], [-1.0, 2.0, -4.0], [-1.0, -2.0, 5.0], [0.0,0.0,0.0]]), \n...               'b' : jnp.array([13.0, -8.0, 10.5, 1.0]), \n...               'w0' : jnp.array([1.0, -1.0, 0.0,0.0]), \n...               'b0' : 3.0}\n>>> y = jnp.array([0,1,0,0,1])\n>>> assert abs(mlp_loss(params,X,y)-6.3680687)<1e-4\n",
         "hidden": false,
         "locked": false
        }
       ],
       "scored": true,
       "setup": "",
       "teardown": "",
       "type": "doctest"
      }
     ]
    }
   }
  }
 },
 "nbformat": 4,
 "nbformat_minor": 5
}
