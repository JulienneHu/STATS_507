{
 "cells": [
  {
   "cell_type": "code",
   "execution_count": 50,
   "id": "83f3fffa",
   "metadata": {
    "deletable": false,
    "editable": false
   },
   "outputs": [],
   "source": [
    "# Initialize Otter\n",
    "import otter\n",
    "grader = otter.Notebook(\"ps4.ipynb\")"
   ]
  },
  {
   "cell_type": "markdown",
   "id": "fbeb1d5e",
   "metadata": {},
   "source": [
    "### Question 1\n",
    "In this question you will implement a class called `Matrix`. A matrix will be modeled as a collection of vectors all of the same dimension, and you may use the `Vector` class that we created in Lecture 5 (included with this problem set as `vector.py`) to implement it:"
   ]
  },
  {
   "cell_type": "code",
   "execution_count": 51,
   "id": "bc18662e",
   "metadata": {
    "tags": []
   },
   "outputs": [],
   "source": [
    "# from vector import Vector\n",
    "# class Matrix():\n",
    "#     def __init__(self, *args):\n",
    "#         # print(args)\n",
    "#         # No args\n",
    "#         if not args:\n",
    "#             # print(\"No Data\")\n",
    "#             # self.data = None\n",
    "#             raise ValueError(\"Matrix should require at least one vector for initialization\")\n",
    "#         else:\n",
    "#             self.dimension = -1\n",
    "#             self.data = []\n",
    "#             for i, arg in enumerate(args):\n",
    "#                 # Check Type\n",
    "#                 if not isinstance(arg, Vector):\n",
    "#                     raise TypeError(\"Input arguments should be vectors\")\n",
    "#                 # Check dimensnion\n",
    "#                 if i==0:\n",
    "#                     self.dimension = len(arg)\n",
    "#                 else:\n",
    "#                     if self.dimension!=len(arg):\n",
    "#                         raise ValueError(\"Vectors should all have the same dimension\")\n",
    "#                 # Add arg to data \n",
    "#                 self.data.append(arg)\n",
    "#         self._val = tuple(list(self.data))\n",
    "#         print(self._val)\n",
    "\n",
    "\n",
    "from vector import Vector\n",
    "from numbers import Number\n",
    "\n",
    "class Matrix():\n",
    "    def __init__(self, *vectors):\n",
    "        #check if there are arguments passed\n",
    "        if not vectors:\n",
    "            raise ValueError(\"Matrix should require at least one vector for initialization\")\n",
    "        data = []\n",
    "        dimension = -1\n",
    "        for index in range(len(vectors)):\n",
    "            #check if it's Vector\n",
    "            if not isinstance(vectors[index],Vector):\n",
    "                raise TypeError(\"Input arguments should be vectors\")\n",
    "            if index == 0:\n",
    "                dimension = len(vectors[index])\n",
    "            elif not len(vectors[index]) == dimension:\n",
    "                raise ValueError(\"Vectors should all have the same dimension\")\n",
    "\n",
    "            data.append(vectors[index])\n",
    "        \n",
    "        self.data = tuple(data)\n",
    "\n",
    "    @property\n",
    "    def rows(self):\n",
    "        return len(self.data[0])\n",
    "    \n",
    "    @property\n",
    "    def cols(self):\n",
    "        return len(self.data)\n",
    "\n",
    "    def __str__(self):\n",
    "        result = ''\n",
    "        for row in range(self.rows):\n",
    "            row_string = '('\n",
    "            for col in range(self.cols):\n",
    "                row_string += (str(self.data[col][row]))\n",
    "                if (col != self.cols - 1):\n",
    "                    row_string += ', '\n",
    "            row_string += ')'\n",
    "            result += row_string\n",
    "            if row != self.rows - 1:\n",
    "                result += '\\n'\n",
    "        return result\n",
    "\n",
    "    @property\n",
    "    def dims(self):\n",
    "        return (self.rows, self.cols)\n",
    "\n",
    "    def __iter__(self):\n",
    "        for index in range(len(self.data)):\n",
    "            yield self.data[index]\n",
    "    \n",
    "    def __add__(self, otherMatrix):\n",
    "        if not self.dims == otherMatrix.dims:\n",
    "            raise ValueError('Cannot add matrices of different dimensions')\n",
    "\n",
    "        data = []\n",
    "        for index in range(len(self.data)):\n",
    "            data.append(self.data[index] + otherMatrix.data[index])\n",
    "        return Matrix(*data)\n",
    "\n",
    "    def __mul__(self, number):\n",
    "        if not isinstance(number, Number):\n",
    "            raise TypeError('...')\n",
    "\n",
    "        data = []\n",
    "        for index in range(len(self.data)):\n",
    "            data.append(self.data[index] * number)\n",
    "        return Matrix(*data)\n",
    "    \n",
    "    def __rmul__(self, number):\n",
    "        return self.__mul__(number)\n",
    "\n",
    "    def __getitem__(self, position):\n",
    "        row = position[0]\n",
    "        col = position[1]\n",
    "        if row < 0 or row > self.rows - 1:\n",
    "            raise IndexError('...')\n",
    "        if col < 0 or col > self.cols - 1:\n",
    "            raise IndexError('...')\n",
    "\n",
    "        return self.data[col][row]\n",
    "\n",
    "    def transpose(self):\n",
    "        data = []\n",
    "        for row in range(self.rows):\n",
    "            row_elements = []\n",
    "            for col in range(self.cols):\n",
    "                row_elements.append(self.data[col][row])\n",
    "            data.append(Vector(*row_elements))\n",
    "        return Matrix(*data)\n",
    "\n",
    "    def __matmul__(self, otherMatrix):\n",
    "        if not self.dims[1] == otherMatrix.dims[0]:\n",
    "            raise ValueError('Incompatible matrix dimensions')\n",
    "\n",
    "        data = []\n",
    "        for col in range(otherMatrix.cols):\n",
    "            col_elements = []\n",
    "            for row in range(self.rows):\n",
    "                col_element = 0\n",
    "                for k in range(self.cols):\n",
    "                    col_element += self.data[k][row] * otherMatrix.data[col][k]\n",
    "                col_elements.append(col_element)\n",
    "            data.append(Vector(*col_elements))\n",
    "        \n",
    "        return Matrix(*data)\n",
    "\n",
    "    def __eq__(self, otherMatrix):\n",
    "        if isinstance(otherMatrix, Number):\n",
    "            return False\n",
    "        if not self.dims == otherMatrix.dims:\n",
    "            return False\n",
    "\n",
    "        isEqual = True\n",
    "        for row in range(self.rows):\n",
    "            for col in range(self.cols):\n",
    "                if self.data[col][row] != otherMatrix.data[col][row]:\n",
    "                    isEqual = False\n",
    "        \n",
    "        return isEqual\n",
    "\n",
    "\n",
    "                "
   ]
  },
  {
   "cell_type": "markdown",
   "id": "bb8a198d",
   "metadata": {},
   "source": [
    "**1(a)** (1 pt) The constructor of `Matrix` should accept one or more `Vector` objects, which will represent the *columns* of the matrix.\n",
    "\n",
    "```\n",
    ">>> v1 = Vector(1, 2, 3)\n",
    ">>> v2 = Vector(5, 6, 7)\n",
    ">>> v3 = Vector(8, 9, 10)\n",
    ">>> Matrix(v1)\n",
    "<__main__.Matrix at 0x10efbabb0>\n",
    ">>> Matrix(v1, v2)\n",
    "<__main__.Matrix at 0x117023640>\n",
    ">>> Matrix(v1, v2, v3)\n",
    "<__main__.Matrix at 0x117023040>\n",
    "```\n",
    "\n",
    "Additionally, it should perform the following checks:\n",
    "\n",
    "1.  It should verify that each argument is of the correct type:\n",
    "    ```\n",
    "    >>> Matrix(1, \"\", v1)\n",
    "    TypeError: Input arguments should be vectors\n",
    "    ```\n",
    "    \n",
    "2.  It should verify that each argument has the same dimension.\n",
    "\n",
    "    ```\n",
    "    >>> v1 = Vector(1, 2, 3)\n",
    "    >>> v2 = Vector(5, 6)\n",
    "    >>> Matrix(v1, v2)\n",
    "    ValueError: Vectors should all have the same dimension\n",
    "    ```"
   ]
  },
  {
   "cell_type": "code",
   "execution_count": 52,
   "id": "0454532e",
   "metadata": {
    "deletable": false,
    "editable": false
   },
   "outputs": [
    {
     "data": {
      "text/html": [
       "<p><strong><pre style='display: inline;'>1a</pre></strong> passed!</p>"
      ],
      "text/plain": [
       "1a results: All test cases passed!"
      ]
     },
     "execution_count": 52,
     "metadata": {},
     "output_type": "execute_result"
    }
   ],
   "source": [
    "grader.check(\"1a\")"
   ]
  },
  {
   "cell_type": "markdown",
   "id": "d757390f",
   "metadata": {},
   "source": [
    "**1(b)** (2 pts) Calling `str` on a `Matrix` object should produce a nice looking text representation:\n",
    "\n",
    "```\n",
    ">>> v1 = Vector(1, 2, 3)\n",
    ">>> v2 = Vector(4, 5, 6)\n",
    ">>> v3 = Vector(7, 8, 9)\n",
    ">>> M = Matrix(v1, v2, v3)\n",
    ">>> print(M)\n",
    "(1, 4, 7)\n",
    "(2, 5, 8)\n",
    "(3, 6, 9)\n",
    "```"
   ]
  },
  {
   "cell_type": "code",
   "execution_count": 53,
   "id": "7b1f8695",
   "metadata": {
    "deletable": false,
    "editable": false
   },
   "outputs": [
    {
     "data": {
      "text/html": [
       "<p><strong><pre style='display: inline;'>q1b</pre></strong> passed!</p>"
      ],
      "text/plain": [
       "q1b results: All test cases passed!"
      ]
     },
     "execution_count": 53,
     "metadata": {},
     "output_type": "execute_result"
    }
   ],
   "source": [
    "grader.check(\"q1b\")"
   ]
  },
  {
   "cell_type": "markdown",
   "id": "0f9a27f3",
   "metadata": {},
   "source": [
    "**1(c)** (1 pt.) A matrix should have a attribute `dims` which returns a tuple of its dimensions (number of rows and columns):\n",
    "```\n",
    ">>> v1 = Vector(1, 2, 3)\n",
    ">>> v2 = Vector(4, 5, 6)\n",
    ">>> M = Matrix(v1, v2)\n",
    ">>> M.dims\n",
    "(3, 2)\n",
    "```"
   ]
  },
  {
   "cell_type": "code",
   "execution_count": 54,
   "id": "a9ad3ea4",
   "metadata": {
    "deletable": false,
    "editable": false
   },
   "outputs": [
    {
     "data": {
      "text/html": [
       "<p><strong><pre style='display: inline;'>q1c</pre></strong> passed!</p>"
      ],
      "text/plain": [
       "q1c results: All test cases passed!"
      ]
     },
     "execution_count": 54,
     "metadata": {},
     "output_type": "execute_result"
    }
   ],
   "source": [
    "grader.check(\"q1c\")"
   ]
  },
  {
   "cell_type": "markdown",
   "id": "b7577dc3",
   "metadata": {},
   "source": [
    "**1(d)** (1 pt.) A matrix should be iterable. Iterating over the matrix should return each of its columns as vectors.\n",
    "```\n",
    ">>> v1 = Vector(1, 2, 3)\n",
    ">>> v2 = Vector(4, 5, 6)\n",
    ">>> M = Matrix(v1, v2)\n",
    ">>> for col in M: print(col)\n",
    "(1, 2, 3)\n",
    "(4, 5, 6)\n",
    "```"
   ]
  },
  {
   "cell_type": "code",
   "execution_count": 55,
   "id": "fa475d89",
   "metadata": {
    "deletable": false,
    "editable": false
   },
   "outputs": [
    {
     "data": {
      "text/html": [
       "<p><strong><pre style='display: inline;'>q1d</pre></strong> passed!</p>"
      ],
      "text/plain": [
       "q1d results: All test cases passed!"
      ]
     },
     "execution_count": 55,
     "metadata": {},
     "output_type": "execute_result"
    }
   ],
   "source": [
    "grader.check(\"q1d\")"
   ]
  },
  {
   "cell_type": "markdown",
   "id": "1d431e5d",
   "metadata": {},
   "source": [
    "**1(e)** (2 pts) Two matrices of the same dimensions can be added together. \n",
    "```\n",
    ">>> v1 = Vector(1, 2, 3)\n",
    ">>> v2 = Vector(4, 5, 6)\n",
    ">>> M = Matrix(v1, v2)\n",
    ">>> print(M + M)\n",
    "(2, 8)\n",
    "(4, 10)\n",
    "(6, 12)\n",
    "```\n",
    "However, matrices of different dimensions cannot be added together:\n",
    "```\n",
    ">>> v1 = Vector(1, 2, 3)\n",
    ">>> v2 = Vector(4, 5, 6)\n",
    ">>> Matrix(v1) + Matrix(v1, v2)\n",
    "ValueError: Cannot add matrices of different dimensions\n",
    "```"
   ]
  },
  {
   "cell_type": "code",
   "execution_count": 56,
   "id": "eed69abf",
   "metadata": {
    "deletable": false,
    "editable": false
   },
   "outputs": [
    {
     "data": {
      "text/html": [
       "<p><strong><pre style='display: inline;'>q1e</pre></strong> passed!</p>"
      ],
      "text/plain": [
       "q1e results: All test cases passed!"
      ]
     },
     "execution_count": 56,
     "metadata": {},
     "output_type": "execute_result"
    }
   ],
   "source": [
    "grader.check(\"q1e\")"
   ]
  },
  {
   "cell_type": "markdown",
   "id": "0c32f89d",
   "metadata": {},
   "source": [
    "**1(f)** (2 pts) Matrices can be multipled by a numerical constant:\n",
    "```\n",
    ">>> v1 = Vector(1, 2, 3)\n",
    ">>> v2 = Vector(4, 5, 6)\n",
    ">>> M = Matrix(v1, v2)\n",
    ">>> print(M * 2.5)\n",
    "(2.5, 10.0)\n",
    "(5.0, 12.5)\n",
    "(7.5, 15.0)\n",
    ">>> print(\"a\" * M)\n",
    "TypeError: ...\n",
    "```"
   ]
  },
  {
   "cell_type": "code",
   "execution_count": 57,
   "id": "24dff542",
   "metadata": {
    "deletable": false,
    "editable": false
   },
   "outputs": [
    {
     "data": {
      "text/html": [
       "<p><strong><pre style='display: inline;'>q1f</pre></strong> passed!</p>"
      ],
      "text/plain": [
       "q1f results: All test cases passed!"
      ]
     },
     "execution_count": 57,
     "metadata": {},
     "output_type": "execute_result"
    }
   ],
   "source": [
    "grader.check(\"q1f\")"
   ]
  },
  {
   "cell_type": "markdown",
   "id": "dbb96b3f",
   "metadata": {},
   "source": [
    "**1(g)** (2 pts) Individual entries of a matrix can be accessed using the notation `M[i,j]`:\n",
    "```\n",
    ">>> v1 = Vector(1, 2, 3)\n",
    ">>> v2 = Vector(4, 5, 6)\n",
    ">>> M = Matrix(v1, v2)\n",
    ">>> print(M)\n",
    ">>> M[0, 0]\n",
    "1\n",
    ">>> M[2, 1]\n",
    "6\n",
    ">>> M[3, 3]\n",
    "IndexError: ...\n",
    "```"
   ]
  },
  {
   "cell_type": "code",
   "execution_count": 58,
   "id": "251c517c",
   "metadata": {
    "deletable": false,
    "editable": false
   },
   "outputs": [
    {
     "data": {
      "text/html": [
       "<p><strong><pre style='display: inline;'>q1g</pre></strong> passed!</p>"
      ],
      "text/plain": [
       "q1g results: All test cases passed!"
      ]
     },
     "execution_count": 58,
     "metadata": {},
     "output_type": "execute_result"
    }
   ],
   "source": [
    "grader.check(\"q1g\")"
   ]
  },
  {
   "cell_type": "markdown",
   "id": "0121ec05",
   "metadata": {},
   "source": [
    "**1(h)** (3 pts) A matrix can be transposed:\n",
    "```\n",
    ">>> v1 = Vector(1, 2, 3)\n",
    ">>> v2 = Vector(4, 5, 6)\n",
    ">>> M = Matrix(v1, v2)\n",
    ">>> print(M)\n",
    "(1, 4)\n",
    "(2, 5)\n",
    "(3, 6)\n",
    ">>> print(M.transpose())\n",
    "(1, 2, 3)\n",
    "(4, 5, 6)\n",
    "```"
   ]
  },
  {
   "cell_type": "code",
   "execution_count": 59,
   "id": "f4e58ed4",
   "metadata": {
    "deletable": false,
    "editable": false
   },
   "outputs": [
    {
     "data": {
      "text/html": [
       "<p><strong><pre style='display: inline;'>q1h</pre></strong> passed!</p>"
      ],
      "text/plain": [
       "q1h results: All test cases passed!"
      ]
     },
     "execution_count": 59,
     "metadata": {},
     "output_type": "execute_result"
    }
   ],
   "source": [
    "grader.check(\"q1h\")"
   ]
  },
  {
   "cell_type": "markdown",
   "id": "a9255417",
   "metadata": {},
   "source": [
    "**1(i)** (2 pts) Two matrices of conformable dimensions can be multiplied using the matrix multiplication operator (`@`):\n",
    "```\n",
    ">>> v1 = Vector(1, 2, 3)\n",
    ">>> v2 = Vector(4, 5, 6)\n",
    ">>> M = Matrix(v1, v2)\n",
    ">>> print(M @ M.transpose())\n",
    "(17, 22, 27)\n",
    "(22, 29, 36)\n",
    "(27, 36, 45)\n",
    ">>> M @ M\n",
    "ValueError: Incompatible matrix dimensions\n",
    "```"
   ]
  },
  {
   "cell_type": "code",
   "execution_count": 60,
   "id": "f7c8bbae",
   "metadata": {
    "deletable": false,
    "editable": false
   },
   "outputs": [
    {
     "data": {
      "text/html": [
       "<p><strong><pre style='display: inline;'>q1i</pre></strong> passed!</p>"
      ],
      "text/plain": [
       "q1i results: All test cases passed!"
      ]
     },
     "execution_count": 60,
     "metadata": {},
     "output_type": "execute_result"
    }
   ],
   "source": [
    "grader.check(\"q1i\")"
   ]
  },
  {
   "cell_type": "markdown",
   "id": "3c98cca8",
   "metadata": {},
   "source": [
    "**1(j)** (2 pts) Matrices can be tested for equality:\n",
    "```\n",
    ">>> v1 = Vector(1, 2, 3)\n",
    ">>> v2 = Vector(4, 5, 6)\n",
    ">>> M = Matrix(v1, v2)\n",
    ">>> M == M\n",
    "True\n",
    ">>> M == Matrix(v1)\n",
    "False\n",
    ">>> M == 1.0\n",
    "False\n",
    ">>> M == \"matrix\"\n",
    "False\n",
    "```"
   ]
  },
  {
   "cell_type": "code",
   "execution_count": 61,
   "id": "c8bbd134",
   "metadata": {
    "deletable": false,
    "editable": false
   },
   "outputs": [
    {
     "data": {
      "text/html": [
       "<p><strong><pre style='display: inline;'>q1j</pre></strong> passed!</p>"
      ],
      "text/plain": [
       "q1j results: All test cases passed!"
      ]
     },
     "execution_count": 61,
     "metadata": {},
     "output_type": "execute_result"
    }
   ],
   "source": [
    "grader.check(\"q1j\")"
   ]
  },
  {
   "cell_type": "markdown",
   "id": "74bf3b5a",
   "metadata": {},
   "source": [
    "### Question 2\n",
    "[Connect Four](https://en.wikipedia.org/wiki/Connect_Four) is a two-player game where players drop colored discs vertically into a $6\\times 7$ grid, with the object of being the first to form a horizontal, vertical, or diagonal line of four of one's own discs. If you've never played before and want to understand how the game works, [here is a free online version](https://www.cbc.ca/kids/games/play/connect-4).\n",
    "\n",
    "In this question, you will implement Connect Four as a Python class. Your implementation will be slightly more general: it will allow the user to specify the numbers of rows and columns of the grid, as well as the number $k$ of markers in a row that you need to win. So, traditional Connect Four is `ConnectK(rows=6, cols=7, k=4)` in the class shown below."
   ]
  },
  {
   "cell_type": "code",
   "execution_count": 62,
   "id": "70343795",
   "metadata": {
    "tags": []
   },
   "outputs": [],
   "source": [
    "class ConnectK:\n",
    "\n",
    "    '''\n",
    "    The game Connect K.\n",
    "    \n",
    "    Args:\n",
    "        rows, cols: the dimensions of the grid. defaults to (6, 7) if not specified.\n",
    "        k: the number of markers in a row a player needs in order to win, \n",
    "           defaults to 4 if not specified.\n",
    "        \n",
    "    Raises:\n",
    "        ValueError if rows, cols and k are not all positive integers.\n",
    "    '''\n",
    "    \n",
    "    def __init__(self, rows=6, cols=7, k=4):\n",
    "        if rows <= 0 or cols <= 0 or k <= 0:\n",
    "            raise ValueError('invalid rows, cols and/or k')\n",
    "\n",
    "        self._rows = rows\n",
    "        self._cols = cols\n",
    "        self._k = k\n",
    "\n",
    "        self._data = [['-' for col in range(cols)] for row in range(rows)]\n",
    "        self.player = 0\n",
    "\n",
    "    @property\n",
    "    def rows(self):\n",
    "        'the number of rows in the grid'\n",
    "        return self._rows\n",
    "\n",
    "    @property\n",
    "    def cols(self):\n",
    "        'the number of columns in the grid'\n",
    "        return self._cols\n",
    "\n",
    "    @property\n",
    "    def k(self):\n",
    "        'the number of markers in a row needed to win'\n",
    "        return self._k\n",
    "\n",
    "    @property\n",
    "    def possible_moves(self):\n",
    "        'a list of the currently possible moves (open columns)'\n",
    "        result = []\n",
    "        for col in range(self.cols):\n",
    "            if self._data[0][col] == '-':\n",
    "                result.append(col)\n",
    "        return result\n",
    "        \n",
    "    def move(self, i):\n",
    "        '''\n",
    "        The player whose turn it is drops their disc in column i.\n",
    "        \n",
    "        Args:\n",
    "            i: The 0-indexed column into which the player drop their disc.\n",
    "            \n",
    "        Returns:\n",
    "            If the move results in the player winning the game, this function returns 0/1 representing the winner.\n",
    "            Otherwise, it returns None.\n",
    "            \n",
    "        Raises:\n",
    "            - ValueError if the move is not valid (column is full, or a non-existent column was specified).\n",
    "        '''\n",
    "\n",
    "        if not isinstance(i, Number):\n",
    "            raise ValueError('...')\n",
    "\n",
    "        row = 0\n",
    "        while (row != self.rows and self._data[row][i] == '-'):\n",
    "            row += 1\n",
    "\n",
    "        if not row == 0:\n",
    "            self._data[row - 1][i] = str(self.player)\n",
    "        else:\n",
    "            raise ValueError('...')\n",
    "\n",
    "        # judge if player wins\n",
    "        row = row - 1\n",
    "        col = i\n",
    "\n",
    "        count = 0\n",
    "        while row - count >= 0 and self._data[row - count][col] == self._data[row][col]:\n",
    "            count += 1\n",
    "        up = count - 1\n",
    "\n",
    "        count = 0\n",
    "        while row + count <= self.rows - 1 and self._data[row + count][col] == self._data[row][col]:\n",
    "            count += 1\n",
    "        down = count - 1\n",
    "\n",
    "        count = 0\n",
    "        while col - count >= 0 and self._data[row][col - count] == self._data[row][col]:\n",
    "            count += 1\n",
    "        left = count - 1\n",
    "\n",
    "        count = 0\n",
    "        while col + count <= self.cols - 1 and self._data[row][col + count] == self._data[row][col]:\n",
    "            count += 1\n",
    "        right = count - 1\n",
    "\n",
    "        count = 0\n",
    "        while row - count >= 0 and col + count <= self.cols - 1 and self._data[row - count][col + count] == self._data[row][col]:\n",
    "            count += 1\n",
    "        right_up = count - 1\n",
    "\n",
    "        count = 0\n",
    "        while row + count <= self.rows - 1 and col + count <= self.cols - 1 and self._data[row + count][col + count] == self._data[row][col]:\n",
    "            count += 1\n",
    "        right_down = count - 1\n",
    "\n",
    "        count = 0\n",
    "        while row - count >= 0 and col - count >= 0 and self._data[row - count][col - count] == self._data[row][col]:\n",
    "            count += 1\n",
    "        left_up = count - 1\n",
    "\n",
    "        count = 0\n",
    "        while row + count <= self.rows - 1 and col - count >= 0 and self._data[row + count][col - count] == self._data[row][col]:\n",
    "            count += 1\n",
    "        left_down = count - 1\n",
    "\n",
    "        if up + down + 1 >= self.k or left + right + 1 >= self.k or left_up + right_down + 1 >= self.k or left_down + right_up + 1 >= self.k:\n",
    "            winner = self.player\n",
    "        else:\n",
    "            winner = None\n",
    "\n",
    "        if self.player == 0:\n",
    "            self.player = 1\n",
    "        else:\n",
    "            self.player = 0\n",
    "        \n",
    "        return winner\n",
    "        \n",
    "    def __repr__(self):\n",
    "        return 'ConnectK(rows=' + str(self.rows) + ', cols=' + str(self.cols) + ', k=' + str(self.k) + ')'\n",
    "\n",
    "    def __str__(self):\n",
    "        'Return a string representation of the board'\n",
    "        board = ''\n",
    "        for row in range(self.rows):\n",
    "            for col in range(self.cols):\n",
    "                board += self._data[row][col]\n",
    "            if row != self.rows - 1:\n",
    "                board += '\\n'\n",
    "        return board"
   ]
  },
  {
   "cell_type": "markdown",
   "id": "55861929",
   "metadata": {},
   "source": [
    "**2(a)** (2 pts) The constructor should accept three arguments, `rows`, `columns`, and `k`, and validate them:\n",
    "```\n",
    ">>> ConnectK(1, 2, 3)\n",
    "ConnectK(rows=1, cols=2, k=3)\n",
    ">>> ConnectK(0, 2, 3)\n",
    "ValueError: invalid rows, cols and/or k\n",
    "```\n",
    "The default arguments for rows, columns, and k should be 6, 7 and 4, respectively:\n",
    "```\n",
    ">>> ConnectK()\n",
    "ConnectK(rows=6, cols=7, k=4)\n",
    "```\n",
    "The values of each attribute should be accessible as properties:\n",
    "```\n",
    ">>> c = ConnectK(5, 6, 7)\n",
    ">>> c.rows\n",
    "5\n",
    ">>> c.cols\n",
    "6\n",
    ">>> c.k\n",
    "7\n",
    "```"
   ]
  },
  {
   "cell_type": "code",
   "execution_count": 63,
   "id": "c200d301",
   "metadata": {
    "deletable": false,
    "editable": false
   },
   "outputs": [
    {
     "data": {
      "text/html": [
       "<p><strong><pre style='display: inline;'>q2a</pre></strong> passed!</p>"
      ],
      "text/plain": [
       "q2a results: All test cases passed!"
      ]
     },
     "execution_count": 63,
     "metadata": {},
     "output_type": "execute_result"
    }
   ],
   "source": [
    "grader.check(\"q2a\")"
   ]
  },
  {
   "cell_type": "markdown",
   "id": "38f3ea0e",
   "metadata": {},
   "source": [
    "**2(b)** (3 pts) Converting a `ConnectK` game to a string should return a text representation of the grid. The first player is labeled `0`, the second player is labeled `1`, and empty grid squares are shown as a dash `-`.\n",
    "```\n",
    ">>> c = ConnectK()\n",
    ">>> print(c)\n",
    "-------\n",
    "-------\n",
    "-------\n",
    "-------\n",
    "-------\n",
    "-------\n",
    ">>> c.move(0)\n",
    ">>> c.move(1)\n",
    ">>> c.move(0)\n",
    ">>> print(c)\n",
    "-------\n",
    "-------\n",
    "-------\n",
    "-------\n",
    "0------\n",
    "01-----\n",
    "```\n"
   ]
  },
  {
   "cell_type": "code",
   "execution_count": 64,
   "id": "02f1791f",
   "metadata": {
    "deletable": false,
    "editable": false
   },
   "outputs": [
    {
     "data": {
      "text/html": [
       "<p><strong><pre style='display: inline;'>q2b</pre></strong> passed!</p>"
      ],
      "text/plain": [
       "q2b results: All test cases passed!"
      ]
     },
     "execution_count": 64,
     "metadata": {},
     "output_type": "execute_result"
    }
   ],
   "source": [
    "grader.check(\"q2b\")"
   ]
  },
  {
   "cell_type": "markdown",
   "id": "d1778cdd",
   "metadata": {},
   "source": [
    "**2(c)** (8 pts) The `move` method should accept a single argument, `i`, and simulate the player whose turn it is dropping their marker in column `i`. If the move results in the player winning the game, the method returns `0` if the first player won, and `1` if the second player won. Otherwise it returns nothing. If an invalid column is passed in, the method should raise a `ValueError`.\n",
    "```\n",
    ">>> c = ConnectK(1, 3, 2)\n",
    "ConnectK(rows=1, cols=3, k=2)\n",
    ">>> c.move(0) \n",
    ">>> c.move(2)\n",
    ">>> print(c)\n",
    "0-1\n",
    ">>> c.move(0)  # column zero is full\n",
    "ValueError: ...\n",
    ">>> c.move(\"A\")  # invalid column\n",
    "ValueError: ...\n",
    ">>> c.move(1)  # player 0 wins\n",
    "0\n",
    ">>> print(c)\n",
    "001\n",
    "```"
   ]
  },
  {
   "cell_type": "code",
   "execution_count": 65,
   "id": "3f87ae90",
   "metadata": {
    "deletable": false,
    "editable": false
   },
   "outputs": [
    {
     "data": {
      "text/html": [
       "<p><strong><pre style='display: inline;'>q2c</pre></strong> passed!</p>"
      ],
      "text/plain": [
       "q2c results: All test cases passed!"
      ]
     },
     "execution_count": 65,
     "metadata": {},
     "output_type": "execute_result"
    }
   ],
   "source": [
    "grader.check(\"q2c\")"
   ]
  },
  {
   "cell_type": "markdown",
   "id": "3bbf6145",
   "metadata": {},
   "source": [
    "**2(d)** (2 pts) The `possible_moves` property should return a list of all the possible moves for the current player. \n",
    "```\n",
    ">>> c = ConnectK(1, 3, 2)\n",
    "ConnectK(rows=1, cols=3, k=2)\n",
    ">>> c.possible_moves\n",
    "[0, 1, 2]\n",
    ">>> c.move(1)\n",
    ">>> print(c)\n",
    "-0-\n",
    ">>> c.possible_moves\n",
    "[0, 2]\n",
    ">>> c.move(2)\n",
    ">>> print(c)\n",
    "-01\n",
    ">>> c.possible_moves\n",
    "[0]\n",
    "```"
   ]
  },
  {
   "cell_type": "code",
   "execution_count": 66,
   "id": "be1979c9",
   "metadata": {
    "deletable": false,
    "editable": false
   },
   "outputs": [
    {
     "data": {
      "text/html": [
       "<p><strong><pre style='display: inline;'>q2d</pre></strong> passed!</p>"
      ],
      "text/plain": [
       "q2d results: All test cases passed!"
      ]
     },
     "execution_count": 66,
     "metadata": {},
     "output_type": "execute_result"
    }
   ],
   "source": [
    "grader.check(\"q2d\")"
   ]
  },
  {
   "cell_type": "markdown",
   "id": "b3334fca",
   "metadata": {
    "deletable": false,
    "editable": false
   },
   "source": [
    "---\n",
    "\n",
    "To double-check your work, the cell below will rerun all of the autograder tests."
   ]
  },
  {
   "cell_type": "code",
   "execution_count": 67,
   "id": "59419503",
   "metadata": {
    "deletable": false,
    "editable": false
   },
   "outputs": [
    {
     "data": {
      "text/plain": [
       "1a results: All test cases passed!\n",
       "\n",
       "q1b results: All test cases passed!\n",
       "\n",
       "q1c results: All test cases passed!\n",
       "\n",
       "q1d results: All test cases passed!\n",
       "\n",
       "q1e results: All test cases passed!\n",
       "\n",
       "q1f results: All test cases passed!\n",
       "\n",
       "q1g results: All test cases passed!\n",
       "\n",
       "q1h results: All test cases passed!\n",
       "\n",
       "q1i results: All test cases passed!\n",
       "\n",
       "q1j results: All test cases passed!\n",
       "\n",
       "q2a results: All test cases passed!\n",
       "\n",
       "q2b results: All test cases passed!\n",
       "\n",
       "q2c results: All test cases passed!\n",
       "\n",
       "q2d results: All test cases passed!"
      ]
     },
     "execution_count": 67,
     "metadata": {},
     "output_type": "execute_result"
    }
   ],
   "source": [
    "grader.check_all()"
   ]
  },
  {
   "cell_type": "markdown",
   "id": "2e12866b",
   "metadata": {
    "deletable": false,
    "editable": false
   },
   "source": [
    "## Submission\n",
    "\n",
    "Make sure you have run all cells in your notebook in order before running the cell below, so that all images/graphs appear in the output. The cell below will generate a zip file for you to submit. **Please save before exporting!**\n",
    "\n",
    "Upload this .zip file to Gradescope for grading."
   ]
  },
  {
   "cell_type": "code",
   "execution_count": 68,
   "id": "935657c6",
   "metadata": {
    "deletable": false,
    "editable": false
   },
   "outputs": [
    {
     "data": {
      "text/html": [
       "\n",
       "            <p>Your submission has been exported. Click <a href=\"ps4_2022_02_06T04_28_04_604997.zip\" download=\"ps4_2022_02_06T04_28_04_604997.zip\" target=\"_blank\">here</a>\n",
       "            to download the zip file.</p>\n",
       "            "
      ],
      "text/plain": [
       "<IPython.core.display.HTML object>"
      ]
     },
     "metadata": {},
     "output_type": "display_data"
    }
   ],
   "source": [
    "# Save your notebook first, then run this cell to export your submission.\n",
    "grader.export(pdf=False)"
   ]
  },
  {
   "cell_type": "markdown",
   "id": "0fd758ed",
   "metadata": {},
   "source": [
    " "
   ]
  }
 ],
 "metadata": {
  "kernelspec": {
   "display_name": "Python 3 (ipykernel)",
   "language": "python",
   "name": "python3"
  },
  "language_info": {
   "codemirror_mode": {
    "name": "ipython",
    "version": 3
   },
   "file_extension": ".py",
   "mimetype": "text/x-python",
   "name": "python",
   "nbconvert_exporter": "python",
   "pygments_lexer": "ipython3",
   "version": "3.7.11"
  },
  "otter": {
   "tests": {
    "1a": {
     "name": "1a",
     "points": 1,
     "suites": [
      {
       "cases": [
        {
         "code": ">>> from vector import Vector\n>>> v1 = Vector(1, 2, 3)\n>>> v2 = Vector(5, 6, 7)\n>>> v3 = Vector(8, 9, 10)\n>>> assert Matrix(v1)\n>>> assert Matrix(v1, v2)\n>>> assert Matrix(v1, v2, v3)\n",
         "hidden": false,
         "locked": false
        },
        {
         "code": ">>> try:\n...     Matrix()\n... except:\n...     pass\n... else:\n...     raise Exception(\"Matrix should require at least one vector for initialization\")\n",
         "hidden": false,
         "locked": false
        },
        {
         "code": ">>> v1 = Vector(1, 2, 3)\n>>> try:\n...     Matrix(1, '', v1)\n... except TypeError:\n...     pass\n... else:\n...     raise Exception(\"Should raise a Type Error\")\n",
         "hidden": false,
         "locked": false
        },
        {
         "code": ">>> v1 = Vector(1, 2, 3)\n>>> v2 = Vector(5, 6)\n>>> try:\n...     Matrix(v1, v2)\n... except ValueError:\n...     pass\n... else:\n...     raise Exception(\"Should raise a Value Error\")\n",
         "hidden": false,
         "locked": false
        }
       ],
       "scored": true,
       "setup": "",
       "teardown": "",
       "type": "doctest"
      }
     ]
    },
    "q1b": {
     "name": "q1b",
     "points": 2,
     "suites": [
      {
       "cases": [
        {
         "code": ">>> v1 = Vector(1, 2, 3)\n>>> v2 = Vector(4, 5, 6)\n>>> v3 = Vector(7, 8, 9)\n>>> M = Matrix(v1, v2, v3)\n>>> assert str(M).strip() == '(1, 4, 7)\\n(2, 5, 8)\\n(3, 6, 9)'\n",
         "hidden": false,
         "locked": false
        }
       ],
       "scored": true,
       "setup": "",
       "teardown": "",
       "type": "doctest"
      }
     ]
    },
    "q1c": {
     "name": "q1c",
     "points": 1,
     "suites": [
      {
       "cases": [
        {
         "code": ">>> v1 = Vector(1, 2, 3)\n>>> v2 = Vector(4, 5, 6)\n>>> M = Matrix(v1, v2)\n>>> assert M.dims == (3, 2)\n",
         "hidden": false,
         "locked": false
        }
       ],
       "scored": true,
       "setup": "",
       "teardown": "",
       "type": "doctest"
      }
     ]
    },
    "q1d": {
     "name": "q1d",
     "points": 1,
     "suites": [
      {
       "cases": [
        {
         "code": ">>> v = [Vector(1, 2, 3), Vector(4, 5, 6)]\n>>> M = Matrix(v[0], v[1])\n>>> count = 0\n>>> for col in M:\n...     assert isinstance(col, Vector)\n...     assert col == v[count]\n...     count += 1\n",
         "hidden": false,
         "locked": false
        }
       ],
       "scored": true,
       "setup": "",
       "teardown": "",
       "type": "doctest"
      }
     ]
    },
    "q1e": {
     "name": "q1e",
     "points": 2,
     "suites": [
      {
       "cases": [
        {
         "code": ">>> v1 = Vector(1, 2, 3)\n>>> v2 = Vector(4, 5, 6)\n>>> M = Matrix(v1, v2)\n>>> assert isinstance(M + M, Matrix)\n>>> assert str(M + M).strip() == '(2, 8)\\n(4, 10)\\n(6, 12)'\n",
         "hidden": false,
         "locked": false
        },
        {
         "code": ">>> v1 = Vector(1, 2, 3)\n>>> v2 = Vector(4, 5, 6)\n>>> try:\n...     Matrix(v1) + Matrix(v1, v2)\n... except ValueError:\n...     pass\n... else:\n...     raise Exception('Should raise a value error')\n",
         "hidden": false,
         "locked": false
        }
       ],
       "scored": true,
       "setup": "",
       "teardown": "",
       "type": "doctest"
      }
     ]
    },
    "q1f": {
     "name": "q1f",
     "points": 2,
     "suites": [
      {
       "cases": [
        {
         "code": ">>> v1 = Vector(1, 2, 3)\n>>> v2 = Vector(4, 5, 6)\n>>> M = Matrix(v1, v2)\n>>> assert str(M * 2.5).strip() == '(2.5, 10.0)\\n(5.0, 12.5)\\n(7.5, 15.0)'\n>>> assert str(2.5 * M).strip() == '(2.5, 10.0)\\n(5.0, 12.5)\\n(7.5, 15.0)'\n",
         "hidden": false,
         "locked": false
        },
        {
         "code": ">>> v1 = Vector(1, 2, 3)\n>>> v2 = Vector(4, 5, 6)\n>>> M = Matrix(v1, v2)\n>>> try:\n...     'a' * M\n... except TypeError:\n...     pass\n... else:\n...     raise Exception('Should raise a type error')\n",
         "hidden": false,
         "locked": false
        }
       ],
       "scored": true,
       "setup": "",
       "teardown": "",
       "type": "doctest"
      }
     ]
    },
    "q1g": {
     "name": "q1g",
     "points": 2,
     "suites": [
      {
       "cases": [
        {
         "code": ">>> v1 = Vector(1, 2, 3)\n>>> v2 = Vector(4, 5, 6)\n>>> M = Matrix(v1, v2)\n>>> assert M[0,0] == 1\n>>> assert M[2, 1] == 6\n>>> try:\n...     M[3, 3]\n... except IndexError:\n...     pass\n... else:\n...     raise Exception('Should raise an index error')\n",
         "hidden": false,
         "locked": false
        }
       ],
       "scored": true,
       "setup": "",
       "teardown": "",
       "type": "doctest"
      }
     ]
    },
    "q1h": {
     "name": "q1h",
     "points": 3,
     "suites": [
      {
       "cases": [
        {
         "code": ">>> v1 = Vector(1, 2, 3)\n>>> v2 = Vector(4, 5, 6)\n>>> M = Matrix(v1, v2)\n>>> assert str(M.transpose()).strip() == '(1, 2, 3)\\n(4, 5, 6)'\n",
         "hidden": false,
         "locked": false
        }
       ],
       "scored": true,
       "setup": "",
       "teardown": "",
       "type": "doctest"
      }
     ]
    },
    "q1i": {
     "name": "q1i",
     "points": 2,
     "suites": [
      {
       "cases": [
        {
         "code": ">>> v1 = Vector(1, 2, 3)\n>>> v2 = Vector(4, 5, 6)\n>>> M = Matrix(v1, v2)\n>>> assert str(M @ M.transpose()).strip() == '(17, 22, 27)\\n(22, 29, 36)\\n(27, 36, 45)'\n",
         "hidden": false,
         "locked": false
        },
        {
         "code": ">>> v1 = Vector(1, 2, 3)\n>>> v2 = Vector(4, 5, 6)\n>>> M = Matrix(v1, v2)\n>>> try:\n...     M @ M\n... except ValueError:\n...     pass\n... else:\n...     raise Exception('Should raise a value error')\n",
         "hidden": false,
         "locked": false
        }
       ],
       "scored": true,
       "setup": "",
       "teardown": "",
       "type": "doctest"
      }
     ]
    },
    "q1j": {
     "name": "q1j",
     "points": 2,
     "suites": [
      {
       "cases": [
        {
         "code": ">>> v1 = Vector(1, 2, 3)\n>>> v2 = Vector(4, 5, 6)\n>>> M = Matrix(v1, v2)\n>>> assert M == M\n",
         "hidden": false,
         "locked": false
        }
       ],
       "scored": true,
       "setup": "",
       "teardown": "",
       "type": "doctest"
      }
     ]
    },
    "q2a": {
     "name": "q2a",
     "points": 3,
     "suites": [
      {
       "cases": [
        {
         "code": ">>> assert ConnectK(1,2,3)\n>>> c = ConnectK(1, 2, 3)\n>>> assert c.rows == 1\n>>> assert c.cols == 2\n>>> assert c.k == 3\n>>> assert repr(c) == 'ConnectK(rows=1, cols=2, k=3)'\n>>> assert ConnectK()\n>>> c = ConnectK()\n>>> assert c.rows == 6\n>>> assert c.cols == 7\n>>> assert c.k == 4\n>>> assert repr(c) == 'ConnectK(rows=6, cols=7, k=4)'\n",
         "hidden": false,
         "locked": false
        },
        {
         "code": ">>> try:\n...     ConnectK(0, 2, 3)\n... except ValueError:\n...     pass\n... else:\n...     raise Exception('Should raise a value error')\n",
         "hidden": false,
         "locked": false
        }
       ],
       "scored": true,
       "setup": "",
       "teardown": "",
       "type": "doctest"
      }
     ]
    },
    "q2b": {
     "name": "q2b",
     "points": 3,
     "suites": [
      {
       "cases": [
        {
         "code": ">>> c = ConnectK(1,3,2)\n>>> assert str(c).strip() == '---'\n>>> assert c.move(0) is None\n>>> assert str(c).strip() == '0--'\n>>> assert c.move(2) is None\n>>> assert str(c).strip() == '0-1'\n>>> assert c.move(1) == 0\n>>> assert str(c).strip() == '001'\n",
         "hidden": false,
         "locked": false
        }
       ],
       "scored": true,
       "setup": "",
       "teardown": "",
       "type": "doctest"
      }
     ]
    },
    "q2c": {
     "name": "q2c",
     "points": 8,
     "suites": [
      {
       "cases": [
        {
         "code": ">>> c = ConnectK(2, 3, 2)\n>>> assert c.move(0) == None\n>>> assert c.move(0) == None\n>>> assert c.move(2) == None\n>>> try:\n...     c.move(0)\n... except ValueError:\n...     pass\n... else:\n...     raise Exception('Should raise a value error')\n",
         "hidden": false,
         "locked": false
        }
       ],
       "scored": true,
       "setup": "",
       "teardown": "",
       "type": "doctest"
      }
     ]
    },
    "q2d": {
     "name": "q2d",
     "points": 2,
     "suites": [
      {
       "cases": [
        {
         "code": ">>> c = ConnectK(2, 3, 2)\n>>> c.move(0)\n>>> assert c.possible_moves == [0, 1, 2]\n>>> c.move(0)\n>>> assert c.possible_moves == [1, 2]\n",
         "hidden": false,
         "locked": false
        }
       ],
       "scored": true,
       "setup": "",
       "teardown": "",
       "type": "doctest"
      }
     ]
    }
   }
  }
 },
 "nbformat": 4,
 "nbformat_minor": 5
}
