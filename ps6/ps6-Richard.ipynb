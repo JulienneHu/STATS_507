{
 "cells": [
  {
   "cell_type": "code",
   "execution_count": 150,
   "id": "379ac314",
   "metadata": {
    "deletable": false,
    "editable": false
   },
   "outputs": [],
   "source": [
    "# Initialize Otter\n",
    "import otter\n",
    "grader = otter.Notebook(\"ps6.ipynb\")"
   ]
  },
  {
   "cell_type": "code",
   "execution_count": 151,
   "id": "a8ffa562",
   "metadata": {},
   "outputs": [],
   "source": [
    "import numpy as np"
   ]
  },
  {
   "cell_type": "markdown",
   "id": "8e9fd2f8",
   "metadata": {},
   "source": [
    "## Question 1: Down with `for` loops\n",
    "Each of the problems below contains a function that uses `for` loops to perform a certain operation on arrays. Your job is to rewrite these function using only Numpy array manipulations and library functions (e.g. `np.xxx()`). Do not use any `for` or `while` loops, iterators, generators, or list comprehensions in your solutions."
   ]
  },
  {
   "cell_type": "markdown",
   "id": "c5609f6f",
   "metadata": {},
   "source": [
    "**1(a)** (3 pts) Return all of the rows of the integer matrix `A` where where each entry of the row is distinct:"
   ]
  },
  {
   "cell_type": "code",
   "execution_count": 152,
   "id": "6c5277fd",
   "metadata": {},
   "outputs": [],
   "source": [
    "def distinct_rows_py(A):\n",
    "    'Return all rows of A that have completely distinct entries.'\n",
    "    return np.array([a for a in A if len(set(a)) == len(a)])"
   ]
  },
  {
   "cell_type": "code",
   "execution_count": 153,
   "id": "6ec71b77",
   "metadata": {},
   "outputs": [
    {
     "data": {
      "text/plain": [
       "array([], dtype=float64)"
      ]
     },
     "execution_count": 153,
     "metadata": {},
     "output_type": "execute_result"
    }
   ],
   "source": [
    "A = np.eye(5)\n",
    "distinct_rows_py(A)"
   ]
  },
  {
   "cell_type": "code",
   "execution_count": 154,
   "id": "2d5141df",
   "metadata": {},
   "outputs": [
    {
     "data": {
      "text/plain": [
       "array([[0, 1, 2],\n",
       "       [3, 4, 5],\n",
       "       [6, 7, 8]])"
      ]
     },
     "execution_count": 154,
     "metadata": {},
     "output_type": "execute_result"
    }
   ],
   "source": [
    "A = np.arange(9).reshape(3, 3)\n",
    "distinct_rows_py(A)"
   ]
  },
  {
   "cell_type": "code",
   "execution_count": 155,
   "id": "4fecb365",
   "metadata": {},
   "outputs": [
    {
     "name": "stdout",
     "output_type": "stream",
     "text": [
      "1\n"
     ]
    }
   ],
   "source": [
    "if all(np.unique(A,return_counts = True, axis = 0)[1]):\n",
    "    print(1)"
   ]
  },
  {
   "cell_type": "code",
   "execution_count": 156,
   "id": "a2a671d5",
   "metadata": {},
   "outputs": [
    {
     "data": {
      "text/plain": [
       "(array([0, 1, 2, 3, 4, 5, 6, 7, 8]),\n",
       " array([0, 1, 2, 3, 4, 5, 6, 7, 8]),\n",
       " array([1, 1, 1, 1, 1, 1, 1, 1, 1]))"
      ]
     },
     "execution_count": 156,
     "metadata": {},
     "output_type": "execute_result"
    }
   ],
   "source": [
    "a = np.unique(A,return_counts = True, return_index = True)\n",
    "a"
   ]
  },
  {
   "cell_type": "code",
   "execution_count": 157,
   "id": "17988d38",
   "metadata": {},
   "outputs": [],
   "source": [
    "A = np.arange(9).reshape(3,3)"
   ]
  },
  {
   "cell_type": "code",
   "execution_count": 158,
   "id": "96a8230c",
   "metadata": {},
   "outputs": [
    {
     "data": {
      "text/plain": [
       "array([[1, 2, 3]])"
      ]
     },
     "execution_count": 158,
     "metadata": {},
     "output_type": "execute_result"
    }
   ],
   "source": [
    "A = np.array([\n",
    "    [1, 2, 3],\n",
    "    [4, 4, 4],\n",
    "    [5, 6, 6]])\n",
    "distinct_rows_py(A)"
   ]
  },
  {
   "cell_type": "code",
   "execution_count": 159,
   "id": "bd556c61",
   "metadata": {},
   "outputs": [
    {
     "data": {
      "text/plain": [
       "array([[3, 2, 1],\n",
       "       [4, 4, 4],\n",
       "       [6, 6, 5]])"
      ]
     },
     "execution_count": 159,
     "metadata": {},
     "output_type": "execute_result"
    }
   ],
   "source": [
    "A[:,::-1]"
   ]
  },
  {
   "cell_type": "code",
   "execution_count": 160,
   "id": "65c8efdb",
   "metadata": {},
   "outputs": [],
   "source": [
    "def row_unique(a):\n",
    "    unique = np.sort(a)\n",
    "    duplicates = unique[:,  1:] == unique[:, :-1]\n",
    "    \n",
    "    print(~duplicates) # the ~ is the same as the np.invert()\n",
    "    \n",
    "    unique[:, 1:][duplicates] = 0\n",
    "    allRowTrue = np.all(~duplicates ==True , axis = 1)\n",
    "    print(allRowTrue)\n",
    "    return unique[allRowTrue]"
   ]
  },
  {
   "cell_type": "code",
   "execution_count": 12,
   "id": "6d27bc08",
   "metadata": {},
   "outputs": [
    {
     "name": "stdout",
     "output_type": "stream",
     "text": [
      "[[ True  True]\n",
      " [False False]\n",
      " [ True False]]\n",
      "[ True False False]\n"
     ]
    },
    {
     "data": {
      "text/plain": [
       "array([[1, 2, 3]])"
      ]
     },
     "execution_count": 12,
     "metadata": {},
     "output_type": "execute_result"
    }
   ],
   "source": [
    "row_unique(A)"
   ]
  },
  {
   "cell_type": "code",
   "execution_count": 13,
   "id": "b8eea76c",
   "metadata": {},
   "outputs": [
    {
     "data": {
      "text/plain": [
       "(3, 3)"
      ]
     },
     "execution_count": 13,
     "metadata": {},
     "output_type": "execute_result"
    }
   ],
   "source": [
    "A.shape"
   ]
  },
  {
   "cell_type": "code",
   "execution_count": 14,
   "id": "7e02b34e",
   "metadata": {
    "tags": []
   },
   "outputs": [],
   "source": [
    "def distinct_rows_np(A):\n",
    "    repeat = A[:, 1:] != A[:, :-1]\n",
    "    allRowTrue = np.all(repeat == True, axis = 1)  # check in the horizontal direction\n",
    "    return A[allRowTrue]"
   ]
  },
  {
   "cell_type": "code",
   "execution_count": 15,
   "id": "ae12b2e3",
   "metadata": {
    "deletable": false,
    "editable": false
   },
   "outputs": [
    {
     "data": {
      "text/html": [
       "<p><strong><pre style='display: inline;'>1a</pre></strong> passed!</p>"
      ],
      "text/plain": [
       "1a results: All test cases passed!"
      ]
     },
     "execution_count": 15,
     "metadata": {},
     "output_type": "execute_result"
    }
   ],
   "source": [
    "grader.check(\"1a\")"
   ]
  },
  {
   "cell_type": "markdown",
   "id": "4f139a03",
   "metadata": {},
   "source": [
    "**1(b)** (3 pts) Given a vector $v$ of length $n$, and an integer $0<k<n$, return the matrix\n",
    "```\n",
    "[[v[0], ..., v[k-1]],\n",
    " [v[1], ..., v[k]  ],\n",
    " [v[2], ..., v[k+1]],\n",
    " [ .     .       . ],\n",
    " [ .     .       . ],\n",
    " [ .     .       . ],\n",
    " [v[n-k+1, ..., v[n]]\n",
    " ```"
   ]
  },
  {
   "cell_type": "code",
   "execution_count": 16,
   "id": "bcfc58f6",
   "metadata": {},
   "outputs": [],
   "source": [
    "def sliding_stack_py(v, k):\n",
    "    \"Stack sliding windows of v of length k.\"\n",
    "    rows = []\n",
    "    for i in range(len(v) - k + 1):\n",
    "        rows.append(v[i : (i + k)])\n",
    "    return np.array(rows)"
   ]
  },
  {
   "cell_type": "code",
   "execution_count": 17,
   "id": "3a539136",
   "metadata": {},
   "outputs": [
    {
     "data": {
      "text/plain": [
       "array([[1, 2, 3],\n",
       "       [2, 3, 4],\n",
       "       [3, 4, 5]])"
      ]
     },
     "execution_count": 17,
     "metadata": {},
     "output_type": "execute_result"
    }
   ],
   "source": [
    "sliding_stack_py(np.array([1, 2, 3, 4, 5]), 3)"
   ]
  },
  {
   "cell_type": "code",
   "execution_count": 18,
   "id": "f9d7ff54",
   "metadata": {},
   "outputs": [],
   "source": [
    "x = np.array([1,2,3,4,5])\n"
   ]
  },
  {
   "cell_type": "code",
   "execution_count": 19,
   "id": "c9570b0a",
   "metadata": {},
   "outputs": [
    {
     "data": {
      "text/plain": [
       "array([[2, 3, 4],\n",
       "       [3, 4, 5]])"
      ]
     },
     "execution_count": 19,
     "metadata": {},
     "output_type": "execute_result"
    }
   ],
   "source": [
    "x[np.array([[1,2,3],[2,3,4]])]"
   ]
  },
  {
   "cell_type": "code",
   "execution_count": 20,
   "id": "768c8d86",
   "metadata": {},
   "outputs": [
    {
     "data": {
      "text/plain": [
       "array([[0, 1, 2, 3, 4, 5]])"
      ]
     },
     "execution_count": 20,
     "metadata": {},
     "output_type": "execute_result"
    }
   ],
   "source": [
    "np.arange(6)[None, :]"
   ]
  },
  {
   "cell_type": "code",
   "execution_count": 21,
   "id": "c93ff494",
   "metadata": {},
   "outputs": [
    {
     "data": {
      "text/plain": [
       "array([[0],\n",
       "       [1],\n",
       "       [2],\n",
       "       [3]])"
      ]
     },
     "execution_count": 21,
     "metadata": {},
     "output_type": "execute_result"
    }
   ],
   "source": [
    "np.arange(4)[:, None]"
   ]
  },
  {
   "cell_type": "code",
   "execution_count": 22,
   "id": "35df3798",
   "metadata": {},
   "outputs": [
    {
     "data": {
      "text/plain": [
       "array([[0, 1, 2, 3, 4, 5],\n",
       "       [1, 2, 3, 4, 5, 6],\n",
       "       [2, 3, 4, 5, 6, 7],\n",
       "       [3, 4, 5, 6, 7, 8]])"
      ]
     },
     "execution_count": 22,
     "metadata": {},
     "output_type": "execute_result"
    }
   ],
   "source": [
    "np.arange(6)[None, :] + np.arange(4)[:, None]"
   ]
  },
  {
   "cell_type": "code",
   "execution_count": 23,
   "id": "b371929a",
   "metadata": {
    "tags": []
   },
   "outputs": [],
   "source": [
    "def sliding_stack_np(v, k):\n",
    "\n",
    "    indexArray = np.arange(k)[None, :] + np.arange(len(v) - k + 1)[:, None]  \n",
    "    return v[indexArray]"
   ]
  },
  {
   "cell_type": "code",
   "execution_count": 24,
   "id": "8dafcd88",
   "metadata": {},
   "outputs": [
    {
     "data": {
      "text/plain": [
       "array([[1, 2, 3],\n",
       "       [2, 3, 4],\n",
       "       [3, 4, 5]])"
      ]
     },
     "execution_count": 24,
     "metadata": {},
     "output_type": "execute_result"
    }
   ],
   "source": [
    "sliding_stack_np(x,3)"
   ]
  },
  {
   "cell_type": "code",
   "execution_count": 25,
   "id": "b65dcfbb",
   "metadata": {
    "deletable": false,
    "editable": false
   },
   "outputs": [
    {
     "data": {
      "text/html": [
       "<p><strong><pre style='display: inline;'>1b</pre></strong> passed!</p>"
      ],
      "text/plain": [
       "1b results: All test cases passed!"
      ]
     },
     "execution_count": 25,
     "metadata": {},
     "output_type": "execute_result"
    }
   ],
   "source": [
    "grader.check(\"1b\")"
   ]
  },
  {
   "cell_type": "markdown",
   "id": "e64f5625",
   "metadata": {},
   "source": [
    "**1(c)** (3 pts) Given a vector of non-negative integers `v`, with `max(v) = m`, return a vector `c` of length `m + 1` such that `c[i]` is the number of times that the integer `i` appears in `v`."
   ]
  },
  {
   "cell_type": "code",
   "execution_count": 26,
   "id": "dc9ada81",
   "metadata": {},
   "outputs": [],
   "source": [
    "def digit_count_py(v):\n",
    "    m = max(v)\n",
    "    ret = np.zeros(m + 1, int)\n",
    "    for vv in v:\n",
    "        ret[vv] += 1\n",
    "    return ret"
   ]
  },
  {
   "cell_type": "code",
   "execution_count": 27,
   "id": "01f8a0ca",
   "metadata": {},
   "outputs": [
    {
     "data": {
      "text/plain": [
       "array([2, 2, 3, 1, 1])"
      ]
     },
     "execution_count": 27,
     "metadata": {},
     "output_type": "execute_result"
    }
   ],
   "source": [
    "v = np.array([0, 0, 1, 1, 2, 2, 2, 3, 4])\n",
    "digit_count_py(v)"
   ]
  },
  {
   "cell_type": "code",
   "execution_count": 28,
   "id": "cde6c729",
   "metadata": {},
   "outputs": [
    {
     "data": {
      "text/plain": [
       "array([0, 0, 1, 1, 2, 2, 2, 3, 4, 0, 1, 2, 3])"
      ]
     },
     "execution_count": 28,
     "metadata": {},
     "output_type": "execute_result"
    }
   ],
   "source": [
    "v = np.append(v,np.arange(4))\n",
    "v"
   ]
  },
  {
   "cell_type": "code",
   "execution_count": 29,
   "id": "fb036bcc",
   "metadata": {},
   "outputs": [
    {
     "data": {
      "text/plain": [
       "array([2, 2, 3, 1, 0])"
      ]
     },
     "execution_count": 29,
     "metadata": {},
     "output_type": "execute_result"
    }
   ],
   "source": [
    "np.unique(v,return_counts = True)[1] - 1"
   ]
  },
  {
   "cell_type": "code",
   "execution_count": 30,
   "id": "8d59da98",
   "metadata": {
    "tags": []
   },
   "outputs": [],
   "source": [
    "def digit_count_np(v):\n",
    "    m = max(v)\n",
    "    v = np.append(v, np.arange(m + 1))\n",
    "    return np.unique(v, return_counts = True)[1] - 1"
   ]
  },
  {
   "cell_type": "code",
   "execution_count": 31,
   "id": "f6eda25d",
   "metadata": {
    "deletable": false,
    "editable": false
   },
   "outputs": [
    {
     "data": {
      "text/html": [
       "<p><strong><pre style='display: inline;'>1c</pre></strong> passed!</p>"
      ],
      "text/plain": [
       "1c results: All test cases passed!"
      ]
     },
     "execution_count": 31,
     "metadata": {},
     "output_type": "execute_result"
    }
   ],
   "source": [
    "grader.check(\"1c\")"
   ]
  },
  {
   "cell_type": "markdown",
   "id": "5de1558e",
   "metadata": {},
   "source": [
    "**1(d)** (3 pts) Call a square $n\\times n$ matrix $A$ *countersymmetric* if $A_{ij} = A_{n-j,n-i}$ for all $i$ and $j$. An example of such a matrix is:\n",
    "\n",
    "$$\n",
    "\\begin{pmatrix}\n",
    "4 & 3 & 2 & 1 & 0\\\\\n",
    "8 & 7 & 6 & 5 & 1\\\\\n",
    "11 & 10 & 9 & 6 & 2\\\\\n",
    "13 & 12 & 10 & 7 & 3\\\\\n",
    "14 & 13 & 11 & 8 & 4\n",
    "\\end{pmatrix}\n",
    "$$\n",
    "\n",
    "Write a function `is_countersym` that checks this property:"
   ]
  },
  {
   "cell_type": "code",
   "execution_count": 32,
   "id": "2f1cd9d5",
   "metadata": {},
   "outputs": [],
   "source": [
    "def is_countersym_py(A):\n",
    "    \"Returns True if A is countersymmetric\"\n",
    "    n = A.shape[0]\n",
    "    for i in range(n):\n",
    "        for j in range(n):\n",
    "            if A[i, j] != A[n - j - 1, n - i - 1]:\n",
    "                return False\n",
    "    return True"
   ]
  },
  {
   "cell_type": "code",
   "execution_count": 33,
   "id": "4661aa96",
   "metadata": {},
   "outputs": [
    {
     "data": {
      "text/plain": [
       "True"
      ]
     },
     "execution_count": 33,
     "metadata": {},
     "output_type": "execute_result"
    }
   ],
   "source": [
    "cs_matrix = np.array([[ 4,  3,  2,  1,  0], [ 8,  7,  6,  5,  1], [11, 10,  9,  6,  2], [13, 12, 10,  7,  3], [14, 13, 11,  8,  4]])\n",
    "is_countersym_py(cs_matrix)"
   ]
  },
  {
   "cell_type": "code",
   "execution_count": 34,
   "id": "217ad3a0",
   "metadata": {},
   "outputs": [
    {
     "data": {
      "text/plain": [
       "array([ True,  True,  True,  True,  True])"
      ]
     },
     "execution_count": 34,
     "metadata": {},
     "output_type": "execute_result"
    }
   ],
   "source": [
    "cs_matrix = np.array([[ 4,  3,  2,  1,  0], [ 8,  7,  6,  5,  1], [11, 10,  9,  6,  2], [13, 12, 10,  7,  3], [14, 13, 11,  8,  4]])\n",
    "cs_matrix[0] == np.flip(cs_matrix[:,-1])"
   ]
  },
  {
   "cell_type": "code",
   "execution_count": 35,
   "id": "0ab91fc8",
   "metadata": {},
   "outputs": [
    {
     "data": {
      "text/plain": [
       "array([[ 4,  3,  2,  1,  0],\n",
       "       [ 8,  7,  6,  5,  1],\n",
       "       [11, 10,  9,  6,  2],\n",
       "       [13, 12, 10,  7,  3],\n",
       "       [14, 13, 11,  8,  4]])"
      ]
     },
     "execution_count": 35,
     "metadata": {},
     "output_type": "execute_result"
    }
   ],
   "source": [
    "cs_matrix"
   ]
  },
  {
   "cell_type": "code",
   "execution_count": 36,
   "id": "68fb0257",
   "metadata": {},
   "outputs": [
    {
     "data": {
      "text/plain": [
       "array([[ 4,  8, 11, 13, 14],\n",
       "       [ 3,  7, 10, 12, 13],\n",
       "       [ 2,  6,  9, 10, 11],\n",
       "       [ 1,  5,  6,  7,  8],\n",
       "       [ 0,  1,  2,  3,  4]])"
      ]
     },
     "execution_count": 36,
     "metadata": {},
     "output_type": "execute_result"
    }
   ],
   "source": [
    "np.flip(cs_matrix)"
   ]
  },
  {
   "cell_type": "code",
   "execution_count": 37,
   "id": "e30dad22",
   "metadata": {},
   "outputs": [
    {
     "data": {
      "text/plain": [
       "(array([[5, 4, 3, 2],\n",
       "        [4, 3, 2, 1]]),\n",
       " array([[1, 2],\n",
       "        [2, 3],\n",
       "        [3, 4],\n",
       "        [4, 5]]))"
      ]
     },
     "execution_count": 37,
     "metadata": {},
     "output_type": "execute_result"
    }
   ],
   "source": [
    "test = np.array([[1,2,3,4],[2,3,4,5]])\n",
    "np.flip(test),test.T"
   ]
  },
  {
   "cell_type": "code",
   "execution_count": 38,
   "id": "a74d0d38",
   "metadata": {},
   "outputs": [
    {
     "data": {
      "text/plain": [
       "array([[1, 2, 3],\n",
       "       [2, 1, 3],\n",
       "       [3, 2, 1]])"
      ]
     },
     "execution_count": 38,
     "metadata": {},
     "output_type": "execute_result"
    }
   ],
   "source": [
    "test = np.array([[1,2,3],[2,1,3],[3,2,1]])\n",
    "test"
   ]
  },
  {
   "cell_type": "code",
   "execution_count": 39,
   "id": "a536746a",
   "metadata": {},
   "outputs": [
    {
     "data": {
      "text/plain": [
       "array([[1, 2, 3],\n",
       "       [2, 1, 2],\n",
       "       [3, 3, 1]])"
      ]
     },
     "execution_count": 39,
     "metadata": {},
     "output_type": "execute_result"
    }
   ],
   "source": [
    "test.T"
   ]
  },
  {
   "cell_type": "code",
   "execution_count": 40,
   "id": "9614ee99",
   "metadata": {},
   "outputs": [
    {
     "data": {
      "text/plain": [
       "array([[1, 2, 3],\n",
       "       [3, 1, 2],\n",
       "       [3, 2, 1]])"
      ]
     },
     "execution_count": 40,
     "metadata": {},
     "output_type": "execute_result"
    }
   ],
   "source": [
    "np.flip(test)"
   ]
  },
  {
   "cell_type": "code",
   "execution_count": 41,
   "id": "9147c395",
   "metadata": {
    "tags": []
   },
   "outputs": [],
   "source": [
    "def is_countersym_np(A):\n",
    "    transpose = A.T\n",
    "    flip = np.flip(A)\n",
    "    return np.array_equal(flip,transpose)"
   ]
  },
  {
   "cell_type": "code",
   "execution_count": 42,
   "id": "a2a34177",
   "metadata": {},
   "outputs": [
    {
     "data": {
      "text/plain": [
       "True"
      ]
     },
     "execution_count": 42,
     "metadata": {},
     "output_type": "execute_result"
    }
   ],
   "source": [
    "is_countersym_np(cs_matrix)"
   ]
  },
  {
   "cell_type": "code",
   "execution_count": 43,
   "id": "ebc31413",
   "metadata": {
    "deletable": false,
    "editable": false
   },
   "outputs": [
    {
     "data": {
      "text/html": [
       "<p><strong><pre style='display: inline;'>1d</pre></strong> passed!</p>"
      ],
      "text/plain": [
       "1d results: All test cases passed!"
      ]
     },
     "execution_count": 43,
     "metadata": {},
     "output_type": "execute_result"
    }
   ],
   "source": [
    "grader.check(\"1d\")"
   ]
  },
  {
   "cell_type": "markdown",
   "id": "283d243f",
   "metadata": {},
   "source": [
    "**1(e)** (5 pts extra credit) [Sudoku](https://en.wikipedia.org/wiki/Sudoku) is a number game played on a $9\\times 9$ grid, arranged into nine $3\\times 3$ subgrids. In order to win Sudoku, you must fill in the numbers 1-9 exactly once in every row, column, and $3\\times 3$ subgrid. Here is an example of a winning solution:\n",
    "\n",
    "![sudoku](sudoku_solved.png)\n",
    "\n",
    "*Generalized Sudoku* is played on an $n^2 \\times n^2$ grid, arranged into $n^2$ subgrids of size $n\\times n$. A winning solution contains the numbers 1-$n$ exactly once in every row, column, and $n\\times n$ subgrid.\n",
    "\n",
    "Write a function that takes a $n^2\\times n^2$ integer array and returns `True` if it is a winning (generalized) Sudoku solution."
   ]
  },
  {
   "cell_type": "code",
   "execution_count": 44,
   "id": "f068473d",
   "metadata": {},
   "outputs": [],
   "source": [
    "def sudoku_win_py(A):\n",
    "    \"Returns True if A is a winning Sudoku board\"\n",
    "    import math\n",
    "    import itertools\n",
    "\n",
    "    n = math.isqrt(A.shape[0])\n",
    "    s = set(range(1, n ** 2 + 1))\n",
    "    horiz, vert = [all(set(row) == s for row in M) for M in (A, A.T)]\n",
    "    if not (horiz and vert):\n",
    "        return False\n",
    "    for h, v in itertools.product(range(0, n * n, n), repeat=2):\n",
    "        block = A[h : h + n, v : v + n]\n",
    "        if set(block.flat) != s:\n",
    "            return False\n",
    "    return True"
   ]
  },
  {
   "cell_type": "code",
   "execution_count": 45,
   "id": "821789f1",
   "metadata": {},
   "outputs": [
    {
     "data": {
      "text/plain": [
       "True"
      ]
     },
     "execution_count": 45,
     "metadata": {},
     "output_type": "execute_result"
    }
   ],
   "source": [
    "good_board = [[3, 1, 6, 2, 4, 9, 7, 8, 5], \n",
    "              [2, 7, 8, 3, 6, 5, 9, 1, 4], \n",
    "              [4, 9, 5, 7, 8, 1, 6, 2, 3], \n",
    "              [8, 5, 1, 9, 7, 4, 3, 6, 2], \n",
    "              [9, 2, 3, 8, 1, 6, 4, 5, 7], \n",
    "              [6, 4, 7, 5, 3, 2, 1, 9, 8], \n",
    "              [7, 6, 2, 1, 5, 3, 8, 4, 9], \n",
    "              [1, 3, 9, 4, 2, 8, 5, 7, 6], \n",
    "              [5, 8, 4, 6, 9, 7, 2, 3, 1]]\n",
    "sudoku_win_py(np.array(good_board, dtype=int))"
   ]
  },
  {
   "cell_type": "code",
   "execution_count": 46,
   "id": "8e879c73",
   "metadata": {},
   "outputs": [
    {
     "data": {
      "text/plain": [
       "False"
      ]
     },
     "execution_count": 46,
     "metadata": {},
     "output_type": "execute_result"
    }
   ],
   "source": [
    "bad_board = np.arange(81).reshape(9, 9)\n",
    "sudoku_win_py(bad_board)"
   ]
  },
  {
   "cell_type": "code",
   "execution_count": 47,
   "id": "911d190b",
   "metadata": {},
   "outputs": [
    {
     "data": {
      "text/plain": [
       "array([[1, 2, 3, 4, 5, 6, 7, 8, 9],\n",
       "       [7, 3, 2, 6, 4, 8, 9, 1, 5],\n",
       "       [9, 7, 4, 8, 3, 5, 6, 2, 1],\n",
       "       [5, 9, 8, 7, 2, 1, 3, 6, 4],\n",
       "       [2, 8, 9, 1, 7, 3, 4, 5, 6],\n",
       "       [4, 5, 6, 3, 8, 7, 1, 9, 2],\n",
       "       [6, 1, 7, 5, 9, 2, 8, 4, 3],\n",
       "       [3, 4, 1, 2, 6, 9, 5, 7, 8],\n",
       "       [8, 6, 5, 9, 1, 4, 2, 3, 7]])"
      ]
     },
     "execution_count": 47,
     "metadata": {},
     "output_type": "execute_result"
    }
   ],
   "source": [
    "np.unique(good_board,axis = 1)"
   ]
  },
  {
   "cell_type": "code",
   "execution_count": 48,
   "id": "c029c4ae",
   "metadata": {},
   "outputs": [
    {
     "data": {
      "text/plain": [
       "[[3, 1, 6, 2, 4, 9, 7, 8, 5],\n",
       " [2, 7, 8, 3, 6, 5, 9, 1, 4],\n",
       " [4, 9, 5, 7, 8, 1, 6, 2, 3],\n",
       " [8, 5, 1, 9, 7, 4, 3, 6, 2],\n",
       " [9, 2, 3, 8, 1, 6, 4, 5, 7],\n",
       " [6, 4, 7, 5, 3, 2, 1, 9, 8],\n",
       " [7, 6, 2, 1, 5, 3, 8, 4, 9],\n",
       " [1, 3, 9, 4, 2, 8, 5, 7, 6],\n",
       " [5, 8, 4, 6, 9, 7, 2, 3, 1]]"
      ]
     },
     "execution_count": 48,
     "metadata": {},
     "output_type": "execute_result"
    }
   ],
   "source": [
    "good_board"
   ]
  },
  {
   "cell_type": "code",
   "execution_count": 49,
   "id": "768fa78a",
   "metadata": {},
   "outputs": [
    {
     "ename": "NameError",
     "evalue": "name 'sudoku_win_np' is not defined",
     "output_type": "error",
     "traceback": [
      "\u001b[0;31m---------------------------------------------------------------------------\u001b[0m",
      "\u001b[0;31mNameError\u001b[0m                                 Traceback (most recent call last)",
      "\u001b[0;32m/var/folders/nw/41c46jms6_l4s0nm3jslr1m80000gn/T/ipykernel_1304/2232001388.py\u001b[0m in \u001b[0;36m<module>\u001b[0;34m\u001b[0m\n\u001b[0;32m----> 1\u001b[0;31m \u001b[0msudoku_win_np\u001b[0m\u001b[0;34m(\u001b[0m\u001b[0mgood_board\u001b[0m\u001b[0;34m)\u001b[0m\u001b[0;34m\u001b[0m\u001b[0;34m\u001b[0m\u001b[0m\n\u001b[0m",
      "\u001b[0;31mNameError\u001b[0m: name 'sudoku_win_np' is not defined"
     ]
    }
   ],
   "source": [
    "sudoku_win_np(good_board)"
   ]
  },
  {
   "cell_type": "code",
   "execution_count": 50,
   "id": "462d891f",
   "metadata": {
    "tags": []
   },
   "outputs": [],
   "source": [
    "def sudoku_win_np(A):\n",
    "    A = np.array(A)\n",
    "    if ((np.unique(A,axis = 1).shape == np.unique(A, axis = 0).shape) and\n",
    "        (np.unique(A, axis = 0).shape == distinct_rows_np(A).shape)):\n",
    "        if len(np.unique(A)) < 10:\n",
    "            return True\n",
    "    return False"
   ]
  },
  {
   "cell_type": "code",
   "execution_count": 51,
   "id": "ec51db94",
   "metadata": {
    "deletable": false,
    "editable": false
   },
   "outputs": [
    {
     "data": {
      "text/html": [
       "<p><strong><pre style='display: inline;'>1e</pre></strong> passed!</p>"
      ],
      "text/plain": [
       "1e results: All test cases passed!"
      ]
     },
     "execution_count": 51,
     "metadata": {},
     "output_type": "execute_result"
    }
   ],
   "source": [
    "grader.check(\"1e\")"
   ]
  },
  {
   "cell_type": "markdown",
   "id": "169d0e18",
   "metadata": {},
   "source": [
    "## Question 2: $k$-means clustering\n",
    "\n",
    "$k$-means is a fundamental algorithm for clustering multivariate data. The inputs to the algorithm are:\n",
    "- An $n\\times p$ data matrix $X$ consisting of $n$ observations of a $p$-dimensional feature vector, and\n",
    "- A $k\\times p$ matrix $C$ containing initial guesses for each $k$ cluster centers.\n",
    "\n",
    "The algorithm proceeds by iteratively a) assigning each point to the nearest cluster center, and b) recomputing the cluster centers as the mean of all of the currently assigned points. Here is a partial implementation:"
   ]
  },
  {
   "cell_type": "code",
   "execution_count": 52,
   "id": "6d87de3c",
   "metadata": {},
   "outputs": [],
   "source": [
    "def kmeans(X, C):\n",
    "    \"\"\"\n",
    "    K-means algorithm.\n",
    "\n",
    "    Args:\n",
    "        - X: ndarray, shape (n, p), n observations of p-dimensional feature vector\n",
    "        - C: ndarray, shape (k, p), k initial cluster centers\n",
    "\n",
    "    Returns:\n",
    "        Tuple of length two:\n",
    "        The first entry is integer ndarray, shape (n), cluster assignments for each data point\n",
    "        The second entry is ndarray, shape (k, p), centers of each cluster\n",
    "    \"\"\"\n",
    "    assert X.shape[1] == C.shape[1]  # p should match\n",
    "    while True:\n",
    "        new_assignments = nearest_cluster(X, C)\n",
    "        try:\n",
    "            \n",
    "            if np.all(new_assignments == assignments):\n",
    "                # converged\n",
    "                return assignments, C\n",
    "        except NameError:  # first iteration, no assignments\n",
    "            pass \n",
    "        assignments = new_assignments\n",
    "        C = compute_centroids(X, assignments)"
   ]
  },
  {
   "cell_type": "markdown",
   "id": "7b618c06",
   "metadata": {},
   "source": [
    "You will finish implementing this algorithm by completing the missing functions `nearest_cluster()` and `compute_centroids()` below. Note: as in the Question 1, do not use any loops, iterators, or comprehensions."
   ]
  },
  {
   "cell_type": "markdown",
   "id": "fc0b0cd6",
   "metadata": {},
   "source": [
    "**2(a)** (3 pts) Implement the function `nearest_cluster`. It should take two array arguments, the data points `X` and the cluster centers `C`, and return an integer array giving the index in `C` which is nearest to each point in `X`."
   ]
  },
  {
   "cell_type": "code",
   "execution_count": 53,
   "id": "7c870492",
   "metadata": {
    "tags": []
   },
   "outputs": [],
   "source": [
    "def nearest_cluster(X, C):\n",
    "    \"\"\"\n",
    "    For each point in X, find the nearest point in C.\n",
    "\n",
    "    Args:\n",
    "        X: ndarray, shape (n, p), n points of dimension p.\n",
    "        C: ndarray, shape (k, p), k points of dimension p.\n",
    "\n",
    "    Returns:\n",
    "        Integer array of length n, [j[1], j[2], ..., j[n]], such that |X[i] - C[j[i]]| <= |X[i] - C[ell]| for 1 <= ell <= k.\n",
    "    \"\"\"\n",
    "#     assert X.shape[1] == C.shape[1] # X and C should have the same p dimension\n",
    "#     print(X.shape)\n",
    "    D = X[:,None,:] - C[None,:,:]\n",
    "    e = np.linalg.norm(D , axis = 2)\n",
    "    ans = e.argmin(axis = 1)\n",
    "    return ans"
   ]
  },
  {
   "cell_type": "code",
   "execution_count": 54,
   "id": "b2d6a894",
   "metadata": {},
   "outputs": [
    {
     "data": {
      "text/plain": [
       "array([0, 0, 0, 0, 1, 1, 1, 2, 2, 2])"
      ]
     },
     "execution_count": 54,
     "metadata": {},
     "output_type": "execute_result"
    }
   ],
   "source": [
    "nearest_cluster(np.array([[-1], [0.5], [1], [1.3], [1.6], [2], [2.3], [2.7], [3], [100]]), np.array([[1], [2], [3]]))"
   ]
  },
  {
   "cell_type": "code",
   "execution_count": 55,
   "id": "21f90eef",
   "metadata": {
    "deletable": false,
    "editable": false
   },
   "outputs": [
    {
     "data": {
      "text/html": [
       "<p><strong><pre style='display: inline;'>2a</pre></strong> passed!</p>"
      ],
      "text/plain": [
       "2a results: All test cases passed!"
      ]
     },
     "execution_count": 55,
     "metadata": {},
     "output_type": "execute_result"
    }
   ],
   "source": [
    "grader.check(\"2a\")"
   ]
  },
  {
   "cell_type": "markdown",
   "id": "558a4ccc",
   "metadata": {},
   "source": [
    "**2(b)** (3 pts) Implement the function `compute_centroids`. It should take two array arguments, the data points `X` and the assignment array `a`, and return an $k \\times p$ array containing the cluster centroids (averages) for each point assigned to cluster $0, \\dots, k-1$. (You may assume that every entry of $a$ is between $0$ and $k-1$, inclusive.)"
   ]
  },
  {
   "cell_type": "code",
   "execution_count": 56,
   "id": "c82a9d4e",
   "metadata": {},
   "outputs": [
    {
     "data": {
      "text/plain": [
       "(array([[ 0.,  1.,  2.,  3.],\n",
       "        [ 4.,  5.,  6.,  7.],\n",
       "        [ 8.,  9., 10., 11.],\n",
       "        [12., 13., 14., 15.]]),\n",
       " array([[12., 15., 18., 21.],\n",
       "        [12., 13., 14., 15.],\n",
       "        [ 4.,  5.,  6.,  7.],\n",
       "        [ 8.,  9., 10., 11.],\n",
       "        [24., 27., 30., 33.]]))"
      ]
     },
     "execution_count": 56,
     "metadata": {},
     "output_type": "execute_result"
    }
   ],
   "source": [
    "x = np.linspace(0, 15, 16).reshape(4,4)\n",
    "x ,np.add.reduceat(x, [0,3,1,2,1])"
   ]
  },
  {
   "cell_type": "code",
   "execution_count": 57,
   "id": "9451d2ec",
   "metadata": {
    "tags": []
   },
   "outputs": [],
   "source": [
    "def compute_centroids(X, a): \n",
    "    \n",
    "    combined = np.hstack((X,a[:,None]))\n",
    "    sorted_combine = combined[combined[:,-1].argsort()]\n",
    "    \n",
    "    ele, index, count =  np.unique(sorted_combine[:,-1], return_index = True , return_counts = True)\n",
    "    theSum = np.add.reduceat(sorted_combine[:,:-1], index, axis = 0)\n",
    "\n",
    "    theMean = theSum / count[:,None]\n",
    "    return theMean"
   ]
  },
  {
   "cell_type": "code",
   "execution_count": 58,
   "id": "781545fe",
   "metadata": {},
   "outputs": [],
   "source": [
    "X = np.random.rand(30, 2)\n",
    "a = np.random.randint(0, 5, size=30)"
   ]
  },
  {
   "cell_type": "code",
   "execution_count": 1805,
   "id": "3b0dc97c",
   "metadata": {},
   "outputs": [
    {
     "data": {
      "text/plain": [
       "array([[0.76677459, 0.50470061],\n",
       "       [0.49805562, 0.84289984],\n",
       "       [0.06780693, 0.57327227],\n",
       "       [0.94276258, 0.51786005],\n",
       "       [0.19446581, 0.84793939],\n",
       "       [0.25163914, 0.70072604],\n",
       "       [0.54026094, 0.94883629],\n",
       "       [0.6243367 , 0.83797796],\n",
       "       [0.00793288, 0.98934006],\n",
       "       [0.07771457, 0.32212951],\n",
       "       [0.9461524 , 0.0089391 ],\n",
       "       [0.82273001, 0.86121164],\n",
       "       [0.43983081, 0.25574519],\n",
       "       [0.80268952, 0.477862  ],\n",
       "       [0.13433861, 0.92784899],\n",
       "       [0.89596997, 0.49154515],\n",
       "       [0.8567025 , 0.41857803],\n",
       "       [0.6834649 , 0.39799064],\n",
       "       [0.50574202, 0.1895517 ],\n",
       "       [0.96498892, 0.29421569],\n",
       "       [0.10345956, 0.1443154 ],\n",
       "       [0.01409229, 0.7159457 ],\n",
       "       [0.56449832, 0.79457835],\n",
       "       [0.50707992, 0.79182104],\n",
       "       [0.69576421, 0.77784848],\n",
       "       [0.40648287, 0.64777063],\n",
       "       [0.1797943 , 0.32181996],\n",
       "       [0.17260462, 0.40863723],\n",
       "       [0.24141875, 0.40692199],\n",
       "       [0.97522234, 0.32031933]])"
      ]
     },
     "execution_count": 1805,
     "metadata": {},
     "output_type": "execute_result"
    }
   ],
   "source": [
    "X"
   ]
  },
  {
   "cell_type": "code",
   "execution_count": 1806,
   "id": "81b21fbb",
   "metadata": {},
   "outputs": [
    {
     "data": {
      "text/plain": [
       "array([23, 22,  5,  9, 10, 11, 15, 24,  3,  8, 17, 28,  0, 21, 20, 18, 14,\n",
       "        7,  4, 16, 29, 19,  6,  1, 26, 27, 13, 12,  2, 25])"
      ]
     },
     "execution_count": 1806,
     "metadata": {},
     "output_type": "execute_result"
    }
   ],
   "source": [
    "np.argsort(a)"
   ]
  },
  {
   "cell_type": "code",
   "execution_count": 1807,
   "id": "8bae3bc4",
   "metadata": {},
   "outputs": [
    {
     "data": {
      "text/plain": [
       "array([[2],\n",
       "       [3],\n",
       "       [4],\n",
       "       [1],\n",
       "       [2],\n",
       "       [0],\n",
       "       [3],\n",
       "       [2],\n",
       "       [1],\n",
       "       [0],\n",
       "       [0],\n",
       "       [0],\n",
       "       [4],\n",
       "       [4],\n",
       "       [2],\n",
       "       [0],\n",
       "       [2],\n",
       "       [1],\n",
       "       [2],\n",
       "       [3],\n",
       "       [2],\n",
       "       [2],\n",
       "       [0],\n",
       "       [0],\n",
       "       [1],\n",
       "       [4],\n",
       "       [3],\n",
       "       [3],\n",
       "       [1],\n",
       "       [2]])"
      ]
     },
     "execution_count": 1807,
     "metadata": {},
     "output_type": "execute_result"
    }
   ],
   "source": [
    "a[:,None]"
   ]
  },
  {
   "cell_type": "code",
   "execution_count": 1808,
   "id": "d68392a3",
   "metadata": {},
   "outputs": [],
   "source": [
    "combined = np.hstack((X,a[:,None]))\n"
   ]
  },
  {
   "cell_type": "code",
   "execution_count": 1809,
   "id": "2a3555e7",
   "metadata": {},
   "outputs": [
    {
     "data": {
      "text/plain": [
       "array([[0.50707992, 0.79182104, 0.        ],\n",
       "       [0.56449832, 0.79457835, 0.        ],\n",
       "       [0.25163914, 0.70072604, 0.        ],\n",
       "       [0.07771457, 0.32212951, 0.        ],\n",
       "       [0.9461524 , 0.0089391 , 0.        ],\n",
       "       [0.82273001, 0.86121164, 0.        ],\n",
       "       [0.89596997, 0.49154515, 0.        ],\n",
       "       [0.69576421, 0.77784848, 1.        ],\n",
       "       [0.94276258, 0.51786005, 1.        ],\n",
       "       [0.00793288, 0.98934006, 1.        ],\n",
       "       [0.6834649 , 0.39799064, 1.        ],\n",
       "       [0.24141875, 0.40692199, 1.        ],\n",
       "       [0.76677459, 0.50470061, 2.        ],\n",
       "       [0.01409229, 0.7159457 , 2.        ],\n",
       "       [0.10345956, 0.1443154 , 2.        ],\n",
       "       [0.50574202, 0.1895517 , 2.        ],\n",
       "       [0.13433861, 0.92784899, 2.        ],\n",
       "       [0.6243367 , 0.83797796, 2.        ],\n",
       "       [0.19446581, 0.84793939, 2.        ],\n",
       "       [0.8567025 , 0.41857803, 2.        ],\n",
       "       [0.97522234, 0.32031933, 2.        ],\n",
       "       [0.96498892, 0.29421569, 3.        ],\n",
       "       [0.54026094, 0.94883629, 3.        ],\n",
       "       [0.49805562, 0.84289984, 3.        ],\n",
       "       [0.1797943 , 0.32181996, 3.        ],\n",
       "       [0.17260462, 0.40863723, 3.        ],\n",
       "       [0.80268952, 0.477862  , 4.        ],\n",
       "       [0.43983081, 0.25574519, 4.        ],\n",
       "       [0.06780693, 0.57327227, 4.        ],\n",
       "       [0.40648287, 0.64777063, 4.        ]])"
      ]
     },
     "execution_count": 1809,
     "metadata": {},
     "output_type": "execute_result"
    }
   ],
   "source": [
    "sorted_combine = combined[combined[:,2].argsort()]\n",
    "sorted_combine"
   ]
  },
  {
   "cell_type": "code",
   "execution_count": 1810,
   "id": "54001557",
   "metadata": {},
   "outputs": [
    {
     "data": {
      "text/plain": [
       "array([ 7, 12, 21, 26])"
      ]
     },
     "execution_count": 1810,
     "metadata": {},
     "output_type": "execute_result"
    }
   ],
   "source": [
    "np.unique(sorted_combine[:,2], return_index = True)[1][1:]"
   ]
  },
  {
   "cell_type": "code",
   "execution_count": 1811,
   "id": "9cedb10c",
   "metadata": {},
   "outputs": [
    {
     "data": {
      "text/plain": [
       "(array([0., 1., 2., 3., 4.]),\n",
       " array([ 0,  7, 12, 21, 26]),\n",
       " array([7, 5, 9, 5, 4]))"
      ]
     },
     "execution_count": 1811,
     "metadata": {},
     "output_type": "execute_result"
    }
   ],
   "source": [
    "ele, index, count =  np.unique(sorted_combine[:,2], return_index = True , return_counts = True)\n",
    "ele, index, count"
   ]
  },
  {
   "cell_type": "code",
   "execution_count": 1812,
   "id": "db15e174",
   "metadata": {},
   "outputs": [],
   "source": [
    "ans = np.split(sorted_combine[:,:2], np.unique(sorted_combine[:,2], return_index = True)[1][1:])"
   ]
  },
  {
   "cell_type": "code",
   "execution_count": 1813,
   "id": "801cbc33",
   "metadata": {},
   "outputs": [
    {
     "data": {
      "text/plain": [
       "[array([[0.50707992, 0.79182104],\n",
       "        [0.56449832, 0.79457835],\n",
       "        [0.25163914, 0.70072604],\n",
       "        [0.07771457, 0.32212951],\n",
       "        [0.9461524 , 0.0089391 ],\n",
       "        [0.82273001, 0.86121164],\n",
       "        [0.89596997, 0.49154515]]),\n",
       " array([[0.69576421, 0.77784848],\n",
       "        [0.94276258, 0.51786005],\n",
       "        [0.00793288, 0.98934006],\n",
       "        [0.6834649 , 0.39799064],\n",
       "        [0.24141875, 0.40692199]]),\n",
       " array([[0.76677459, 0.50470061],\n",
       "        [0.01409229, 0.7159457 ],\n",
       "        [0.10345956, 0.1443154 ],\n",
       "        [0.50574202, 0.1895517 ],\n",
       "        [0.13433861, 0.92784899],\n",
       "        [0.6243367 , 0.83797796],\n",
       "        [0.19446581, 0.84793939],\n",
       "        [0.8567025 , 0.41857803],\n",
       "        [0.97522234, 0.32031933]]),\n",
       " array([[0.96498892, 0.29421569],\n",
       "        [0.54026094, 0.94883629],\n",
       "        [0.49805562, 0.84289984],\n",
       "        [0.1797943 , 0.32181996],\n",
       "        [0.17260462, 0.40863723]]),\n",
       " array([[0.80268952, 0.477862  ],\n",
       "        [0.43983081, 0.25574519],\n",
       "        [0.06780693, 0.57327227],\n",
       "        [0.40648287, 0.64777063]])]"
      ]
     },
     "execution_count": 1813,
     "metadata": {},
     "output_type": "execute_result"
    }
   ],
   "source": [
    "ans"
   ]
  },
  {
   "cell_type": "code",
   "execution_count": 1814,
   "id": "86b3b415",
   "metadata": {},
   "outputs": [
    {
     "data": {
      "text/plain": [
       "array([4.06578432, 3.97095083])"
      ]
     },
     "execution_count": 1814,
     "metadata": {},
     "output_type": "execute_result"
    }
   ],
   "source": [
    "np.sum(ans[0], axis = 0)"
   ]
  },
  {
   "cell_type": "code",
   "execution_count": 1815,
   "id": "65197f9a",
   "metadata": {},
   "outputs": [
    {
     "data": {
      "text/plain": [
       "array([[4.06578432, 3.97095083],\n",
       "       [2.57134331, 3.08996121],\n",
       "       [4.17513441, 4.90717711],\n",
       "       [2.35570441, 2.81640901],\n",
       "       [1.71681014, 1.9546501 ]])"
      ]
     },
     "execution_count": 1815,
     "metadata": {},
     "output_type": "execute_result"
    }
   ],
   "source": [
    "np.add.reduceat(sorted_combine[:,:2],index[0:], axis = 0) "
   ]
  },
  {
   "cell_type": "code",
   "execution_count": 1816,
   "id": "058a373e",
   "metadata": {},
   "outputs": [
    {
     "data": {
      "text/plain": [
       "array([[0.58082633, 0.56727869],\n",
       "       [0.51426866, 0.61799224],\n",
       "       [0.46390382, 0.5452419 ],\n",
       "       [0.47114088, 0.5632818 ],\n",
       "       [0.42920253, 0.48866253]])"
      ]
     },
     "execution_count": 1816,
     "metadata": {},
     "output_type": "execute_result"
    }
   ],
   "source": [
    "compute_centroids(X, a)"
   ]
  },
  {
   "cell_type": "code",
   "execution_count": 1817,
   "id": "7aa4886e",
   "metadata": {},
   "outputs": [
    {
     "data": {
      "text/plain": [
       "array([0.58082633, 0.56727869])"
      ]
     },
     "execution_count": 1817,
     "metadata": {},
     "output_type": "execute_result"
    }
   ],
   "source": [
    "test = np.zeros((5,2))\n",
    "np.average(X[a == 0], axis = 0)"
   ]
  },
  {
   "cell_type": "code",
   "execution_count": 1818,
   "id": "7be543e1",
   "metadata": {},
   "outputs": [
    {
     "data": {
      "text/plain": [
       "True"
      ]
     },
     "execution_count": 1818,
     "metadata": {},
     "output_type": "execute_result"
    }
   ],
   "source": [
    "np.allclose(X[a == 0].mean(axis=0), compute_centroids(X, a)[0])"
   ]
  },
  {
   "cell_type": "code",
   "execution_count": 1819,
   "id": "332f8d6a",
   "metadata": {},
   "outputs": [
    {
     "data": {
      "text/plain": [
       "array([0.58082633, 0.56727869])"
      ]
     },
     "execution_count": 1819,
     "metadata": {},
     "output_type": "execute_result"
    }
   ],
   "source": [
    "X[a == 0].mean(axis=0)"
   ]
  },
  {
   "cell_type": "code",
   "execution_count": 1820,
   "id": "8304a9d6",
   "metadata": {},
   "outputs": [
    {
     "data": {
      "text/plain": [
       "array([[0.25163914, 0.70072604],\n",
       "       [0.07771457, 0.32212951],\n",
       "       [0.9461524 , 0.0089391 ],\n",
       "       [0.82273001, 0.86121164],\n",
       "       [0.89596997, 0.49154515],\n",
       "       [0.56449832, 0.79457835],\n",
       "       [0.50707992, 0.79182104],\n",
       "       [0.        , 0.        ],\n",
       "       [0.94276258, 0.51786005],\n",
       "       [0.00793288, 0.98934006],\n",
       "       [0.6834649 , 0.39799064],\n",
       "       [0.69576421, 0.77784848],\n",
       "       [0.24141875, 0.40692199],\n",
       "       [0.        , 0.        ],\n",
       "       [0.76677459, 0.50470061],\n",
       "       [0.19446581, 0.84793939],\n",
       "       [0.6243367 , 0.83797796],\n",
       "       [0.13433861, 0.92784899],\n",
       "       [0.8567025 , 0.41857803],\n",
       "       [0.50574202, 0.1895517 ],\n",
       "       [0.10345956, 0.1443154 ],\n",
       "       [0.01409229, 0.7159457 ],\n",
       "       [0.97522234, 0.32031933],\n",
       "       [0.        , 0.        ],\n",
       "       [0.49805562, 0.84289984],\n",
       "       [0.54026094, 0.94883629],\n",
       "       [0.96498892, 0.29421569],\n",
       "       [0.1797943 , 0.32181996],\n",
       "       [0.17260462, 0.40863723],\n",
       "       [0.        , 0.        ],\n",
       "       [0.06780693, 0.57327227],\n",
       "       [0.43983081, 0.25574519],\n",
       "       [0.80268952, 0.477862  ],\n",
       "       [0.40648287, 0.64777063],\n",
       "       [0.        , 0.        ]])"
      ]
     },
     "execution_count": 1820,
     "metadata": {},
     "output_type": "execute_result"
    }
   ],
   "source": [
    "inserted = np.insert(test,a,X,axis = 0)\n",
    "inserted"
   ]
  },
  {
   "cell_type": "code",
   "execution_count": 1821,
   "id": "a8ad1893",
   "metadata": {},
   "outputs": [
    {
     "data": {
      "text/plain": [
       "array([[0.58082633, 0.56727869],\n",
       "       [0.51426866, 0.61799224],\n",
       "       [0.46390382, 0.5452419 ],\n",
       "       [0.47114088, 0.5632818 ],\n",
       "       [0.42920253, 0.48866253]])"
      ]
     },
     "execution_count": 1821,
     "metadata": {},
     "output_type": "execute_result"
    }
   ],
   "source": [
    "compute_centroids(X,a)"
   ]
  },
  {
   "cell_type": "code",
   "execution_count": 1822,
   "id": "a887331d",
   "metadata": {},
   "outputs": [
    {
     "data": {
      "text/plain": [
       "array([0.58082633, 0.56727869])"
      ]
     },
     "execution_count": 1822,
     "metadata": {},
     "output_type": "execute_result"
    }
   ],
   "source": [
    "X[a == 0].mean(axis = 0)"
   ]
  },
  {
   "cell_type": "code",
   "execution_count": 1823,
   "id": "78b35bcd",
   "metadata": {},
   "outputs": [
    {
     "data": {
      "text/plain": [
       "array([0.58082633, 0.56727869])"
      ]
     },
     "execution_count": 1823,
     "metadata": {},
     "output_type": "execute_result"
    }
   ],
   "source": [
    "compute_centroids(X,a)[0]"
   ]
  },
  {
   "cell_type": "code",
   "execution_count": 1824,
   "id": "a2102749",
   "metadata": {
    "deletable": false,
    "editable": false
   },
   "outputs": [
    {
     "data": {
      "text/html": [
       "<p><strong><pre style='display: inline;'>2b</pre></strong> passed!</p>"
      ],
      "text/plain": [
       "2b results: All test cases passed!"
      ]
     },
     "execution_count": 1824,
     "metadata": {},
     "output_type": "execute_result"
    }
   ],
   "source": [
    "grader.check(\"2b\")"
   ]
  },
  {
   "cell_type": "code",
   "execution_count": 1825,
   "id": "e4995d2c",
   "metadata": {},
   "outputs": [],
   "source": [
    "X = np.random.rand(30, 2)\n",
    "a = np.random.randint(0, 5, size=30)\n",
    "test = np.zeros((5,2))"
   ]
  },
  {
   "cell_type": "code",
   "execution_count": 1826,
   "id": "3e46b94c",
   "metadata": {},
   "outputs": [
    {
     "data": {
      "text/plain": [
       "array([[0.05991769, 0.12134346],\n",
       "       [0.90853515, 0.62336012],\n",
       "       [0.58575927, 0.96959575],\n",
       "       [0.55624023, 0.13645523],\n",
       "       [0.80063267, 0.23297427]])"
      ]
     },
     "execution_count": 1826,
     "metadata": {},
     "output_type": "execute_result"
    }
   ],
   "source": [
    "boardCast = test[:,None,:] +X\n",
    "np.put_along_axis(test,a[:,None], X,axis = 0)  # it will override the previous result\n",
    "test"
   ]
  },
  {
   "cell_type": "markdown",
   "id": "4828e2de",
   "metadata": {},
   "source": [
    "**2(c)** (5 pts.) The performance of the $k$-means algorithm is known to depend heavily on the starting point (the initial clusters `C` passed in as the second argument.) In some cases, using a \"good\" starting point can dramatically improve the performance of the algorithm.\n",
    "\n",
    "The $k$-means++ algorithm is designed to find such a good starting point. [According to Wikipedia](https://en.wikipedia.org/wiki/K-means%2B%2B), the steps of $k$-means++ are:\n",
    "\n",
    "1. Choose one center uniformly at random among the data points.\n",
    "2. For each data point $x$ not chosen yet, compute $D(x)$, the distance between $x$ and the nearest center that has already been chosen.\n",
    "3. Choose one new data point at random as a new center, using a weighted probability distribution where a point $x$ is chosen with probability proportional to $D(x)^2$.\n",
    "4. Repeat Steps 2 and 3 until $k$ centers have been chosen.\n",
    "\n",
    "Implement this algorithm using the skeleton provided below. As before, your implementation should only use Numpy functions--no additional loops or comprehensions. \n",
    "\n",
    "**Note**: To ensure reproducibility, the parts of the algorithm that rely on ranndomness are provided for you. Your job is to fill in the missing lines necessary to complete the algoritm."
   ]
  },
  {
   "cell_type": "code",
   "execution_count": 114,
   "id": "80cbffe9",
   "metadata": {
    "tags": []
   },
   "outputs": [],
   "source": [
    "def kmeanspp(X, k, rng):\n",
    "    \"\"\"\n",
    "    k-means++ algorithm.\n",
    "\n",
    "    Args:\n",
    "        - X: ndarray, shape (n, p), as above.\n",
    "        - k, the number of clusters.\n",
    "        - rng: instance of np.random.Generator().\n",
    "\n",
    "    Returns:\n",
    "        ndarray, shape (k, p), cluster centers.\n",
    "    \"\"\"\n",
    "    n, p = X.shape\n",
    "    C = np.zeros((k, p))\n",
    "    # step 1\n",
    "    j = rng.choice(n)\n",
    "    C[0] = X[j]\n",
    "    \n",
    "    for i in range(1, k):\n",
    "        # step 2\n",
    "#         deleted = np.delete(X,j , axis = 0)\n",
    "\n",
    "\n",
    "#         D_x = np.linalg.norm(X - C[i-1],axis = 1)\n",
    "#         D_x = D_x**2\n",
    "        dist = np.sum(np.square(X-C[i-1]),axis = 1)\n",
    "#         n, p = deleted.shape\n",
    "        # calculate the w\n",
    "        \n",
    "#         w = D_x/np.sum(D_x)  # the vectorized probability\n",
    "        w = dist/np.sum(dist)\n",
    "        # step 3\n",
    "        j = rng.choice(n, p=w)\n",
    "        C[i] = X[j]\n",
    "    return C"
   ]
  },
  {
   "cell_type": "code",
   "execution_count": 115,
   "id": "aec47856",
   "metadata": {},
   "outputs": [
    {
     "data": {
      "text/plain": [
       "20"
      ]
     },
     "execution_count": 115,
     "metadata": {},
     "output_type": "execute_result"
    }
   ],
   "source": [
    "a = np.random.default_rng(12345)\n",
    "j = a.choice(30)\n",
    "j"
   ]
  },
  {
   "cell_type": "code",
   "execution_count": 116,
   "id": "6aa06d33",
   "metadata": {},
   "outputs": [],
   "source": [
    "X = np.random.rand(30, 4)\n",
    "k = 2\n",
    "rng = np.random.default_rng(12345)"
   ]
  },
  {
   "cell_type": "code",
   "execution_count": 117,
   "id": "c6e61c1a",
   "metadata": {},
   "outputs": [],
   "source": [
    "n, p = X.shape\n",
    "C = np.zeros((k, p))\n",
    "# step 1\n",
    "j = rng.choice(n)\n",
    "C,j\n",
    "C[0] = X[j]"
   ]
  },
  {
   "cell_type": "code",
   "execution_count": 118,
   "id": "64369a50",
   "metadata": {},
   "outputs": [
    {
     "data": {
      "text/plain": [
       "(array([1.44583065, 0.42455024, 0.98776132, 0.78806801, 0.25062497,\n",
       "        1.15524309, 1.22595197, 1.12530097, 0.84926042, 0.78444021,\n",
       "        0.79438924, 1.28766937, 0.77247576, 0.55867606, 0.97928658,\n",
       "        0.76152552, 1.02907699, 1.03606089, 0.42085579, 1.07898642,\n",
       "        0.65127131, 0.71156649, 1.18970133, 1.18992199, 1.13723174,\n",
       "        0.82533201, 0.59117673, 0.52830595, 1.06520319]),\n",
       " (29, 4),\n",
       " (29,))"
      ]
     },
     "execution_count": 118,
     "metadata": {},
     "output_type": "execute_result"
    }
   ],
   "source": [
    "deleted = np.delete(X,j , axis = 0)\n",
    "D_x = np.linalg.norm(deleted - C[0],axis = 1) \n",
    "D_x , deleted.shape , D_x.shape"
   ]
  },
  {
   "cell_type": "code",
   "execution_count": 119,
   "id": "42a9e993",
   "metadata": {},
   "outputs": [
    {
     "data": {
      "text/plain": [
       "array([2.09042628, 0.18024291, 0.97567243, 0.62105119, 0.06281287,\n",
       "       1.33458661, 1.50295822, 1.26630226, 0.72124326, 0.61534644,\n",
       "       0.63105427, 1.6580924 , 0.5967188 , 0.31211894, 0.9590022 ,\n",
       "       0.57992111, 1.05899945, 1.07342218, 0.17711959, 1.1642117 ,\n",
       "       0.42415432, 0.50632687, 1.41538926, 1.41591434, 1.29329603,\n",
       "       0.68117293, 0.34948992, 0.27910718, 1.13465785])"
      ]
     },
     "execution_count": 119,
     "metadata": {},
     "output_type": "execute_result"
    }
   ],
   "source": [
    "D_x = D_x**2\n",
    "D_x"
   ]
  },
  {
   "cell_type": "code",
   "execution_count": 120,
   "id": "099cf430",
   "metadata": {},
   "outputs": [
    {
     "data": {
      "text/plain": [
       "25.080811810510834"
      ]
     },
     "execution_count": 120,
     "metadata": {},
     "output_type": "execute_result"
    }
   ],
   "source": [
    "sum(D_x)"
   ]
  },
  {
   "cell_type": "code",
   "execution_count": 121,
   "id": "d5c6ff55",
   "metadata": {},
   "outputs": [
    {
     "data": {
      "text/plain": [
       "array([1.44583065, 0.42455024, 0.98776132, 0.78806801, 0.25062497,\n",
       "       1.15524309, 1.22595197, 1.12530097, 0.84926042, 0.78444021,\n",
       "       0.79438924, 1.28766937, 0.77247576, 0.55867606, 0.97928658,\n",
       "       0.76152552, 1.02907699, 1.03606089, 0.42085579, 1.07898642,\n",
       "       0.        , 0.65127131, 0.71156649, 1.18970133, 1.18992199,\n",
       "       1.13723174, 0.82533201, 0.59117673, 0.52830595, 1.06520319])"
      ]
     },
     "execution_count": 121,
     "metadata": {},
     "output_type": "execute_result"
    }
   ],
   "source": [
    "dist = np.sqrt(np.sum(np.square(X-C[0]),axis = 1))\n",
    "dist"
   ]
  },
  {
   "cell_type": "code",
   "execution_count": 122,
   "id": "5d790b49",
   "metadata": {},
   "outputs": [],
   "source": [
    "w = D_x/sum(D_x)"
   ]
  },
  {
   "cell_type": "code",
   "execution_count": 123,
   "id": "07591f3e",
   "metadata": {},
   "outputs": [
    {
     "data": {
      "text/plain": [
       "7"
      ]
     },
     "execution_count": 123,
     "metadata": {},
     "output_type": "execute_result"
    }
   ],
   "source": [
    "j = rng.choice(29, p = D_x/np.sum(D_x))\n",
    "j"
   ]
  },
  {
   "cell_type": "code",
   "execution_count": 124,
   "id": "0b1b467b",
   "metadata": {
    "deletable": false,
    "editable": false
   },
   "outputs": [
    {
     "data": {
      "text/html": [
       "<p><strong><pre style='display: inline;'>2c</pre></strong> passed!</p>"
      ],
      "text/plain": [
       "2c results: All test cases passed!"
      ]
     },
     "execution_count": 124,
     "metadata": {},
     "output_type": "execute_result"
    }
   ],
   "source": [
    "grader.check(\"2c\")"
   ]
  },
  {
   "cell_type": "markdown",
   "id": "98d8c70c",
   "metadata": {},
   "source": [
    "**2(d)** (2 pts) In order to measure how good a clustering is, we can define the *within-class variance* \n",
    "\n",
    "$$ V(\\mathbf{X}, \\mathbf{a}, \\mathbf{C}) = \\sum_{i=1}^n \\| \\mathbf{x}_i - \\mathbf{c}_{a_i} \\|^2,$$\n",
    "\n",
    "where the $i$-th element of $\\mathbf{a}=\\{a_1,\\dots,a_n\\}$ is the cluster assignment of observation $i$, and $\\mathbf{C}=(\\mathbf{c}_1,\\dots,\\mathbf{c}_k)$ are the centers of each cluster. Thus, $V(\\mathbf{X}, \\mathbf{a}, \\mathbf{C})$ is the sum of the squared distance from each data point to the center of its assigned cluster.\n",
    "\n",
    "Implement this function. (Again, no loops, just use Numpy functions.)"
   ]
  },
  {
   "cell_type": "code",
   "execution_count": 126,
   "id": "848177a6",
   "metadata": {
    "tags": []
   },
   "outputs": [],
   "source": [
    "def V(X, a, C):\n",
    "    rows , cols = X.shape\n",
    "    temp = np.zeros((rows,cols))\n",
    "    temp = C[a]\n",
    "    ans = X - temp\n",
    "    ans = ans**2\n",
    "    return np.sum(ans)"
   ]
  },
  {
   "cell_type": "code",
   "execution_count": 127,
   "id": "7ce3dfdd",
   "metadata": {},
   "outputs": [
    {
     "data": {
      "text/plain": [
       "(array([[ 2,  3,  4],\n",
       "        [ 5,  6,  7],\n",
       "        [ 8,  9, 10]]),\n",
       " array([[0, 1, 2],\n",
       "        [3, 4, 5],\n",
       "        [6, 7, 8]]),\n",
       " array([0, 1, 2]))"
      ]
     },
     "execution_count": 127,
     "metadata": {},
     "output_type": "execute_result"
    }
   ],
   "source": [
    "X = np.arange(9).reshape(3, 3)\n",
    "\n",
    "a = np.arange(3)\n",
    "\n",
    "C = 2 + X\n",
    "\n",
    "C ,X , a"
   ]
  },
  {
   "cell_type": "code",
   "execution_count": 128,
   "id": "9461c322",
   "metadata": {},
   "outputs": [],
   "source": [
    "combined = np.hstack((X,a[:,None]))\n",
    "sorted_combine = combined[combined[:,2].argsort()]\n",
    "\n",
    "ele, index, count =  np.unique(sorted_combine[:,2], return_index = True , return_counts = True)\n",
    "theSum = np.add.reduceat(sorted_combine[:,:2], index, axis = 0)"
   ]
  },
  {
   "cell_type": "code",
   "execution_count": 129,
   "id": "d80b8602",
   "metadata": {},
   "outputs": [],
   "source": [
    "a = np.random.randint(0, 5, size=30)\n",
    "\n",
    "x = np.random.rand(30, 2)\n",
    "\n",
    "c = np.random.rand(5,2)"
   ]
  },
  {
   "cell_type": "code",
   "execution_count": 130,
   "id": "71dfcd56",
   "metadata": {},
   "outputs": [
    {
     "data": {
      "text/plain": [
       "(array([[0.60431048, 0.54954792],\n",
       "        [0.92618143, 0.91873344],\n",
       "        [0.39487561, 0.96326253],\n",
       "        [0.17395567, 0.12632952],\n",
       "        [0.13507916, 0.50566217]]),\n",
       " array([4, 0, 0, 3, 1, 1, 0, 0, 4, 2, 3, 4, 2, 0, 3, 3, 1, 2, 4, 3, 0, 0,\n",
       "        4, 2, 4, 2, 0, 3, 0, 0]))"
      ]
     },
     "execution_count": 130,
     "metadata": {},
     "output_type": "execute_result"
    }
   ],
   "source": [
    "c,a"
   ]
  },
  {
   "cell_type": "code",
   "execution_count": 131,
   "id": "51e55e45",
   "metadata": {},
   "outputs": [
    {
     "data": {
      "text/plain": [
       "array([[8.21382963e-03, 4.29844081e-02],\n",
       "       [1.98858032e-03, 2.88360345e-01],\n",
       "       [2.83381833e-01, 1.74497023e-01],\n",
       "       [1.55350120e-01, 5.92341346e-03],\n",
       "       [4.54081480e-01, 3.05926621e-02],\n",
       "       [5.33998406e-01, 1.13821559e-01],\n",
       "       [1.33743443e-01, 8.83759216e-02],\n",
       "       [1.32833077e-01, 3.11120840e-03],\n",
       "       [2.35105279e-01, 1.04535004e-01],\n",
       "       [5.66840950e-02, 8.92432255e-01],\n",
       "       [1.08021772e-02, 1.29611226e-01],\n",
       "       [2.22076849e-01, 3.99288402e-03],\n",
       "       [6.00829673e-03, 6.42806350e-04],\n",
       "       [6.03452179e-04, 2.86986466e-02],\n",
       "       [1.42123385e-01, 3.83167080e-01],\n",
       "       [2.45299531e-01, 1.92071987e-02],\n",
       "       [7.39336162e-01, 3.01015986e-01],\n",
       "       [5.51507152e-02, 5.67142317e-01],\n",
       "       [3.81524130e-01, 1.92831367e-01],\n",
       "       [7.45795148e-03, 4.60260541e-01],\n",
       "       [1.68819252e-01, 8.08434026e-03],\n",
       "       [6.34255728e-03, 1.40820104e-01],\n",
       "       [1.64397561e-02, 1.93337035e-01],\n",
       "       [1.15729474e-01, 3.65132857e-02],\n",
       "       [5.97121999e-01, 1.81740134e-01],\n",
       "       [1.45103124e-01, 5.31295855e-01],\n",
       "       [1.55447884e-04, 1.59575002e-01],\n",
       "       [6.02518191e-01, 1.85178460e-01],\n",
       "       [9.69051167e-02, 8.46736522e-03],\n",
       "       [4.59256767e-02, 4.03952459e-03]])"
      ]
     },
     "execution_count": 131,
     "metadata": {},
     "output_type": "execute_result"
    }
   ],
   "source": [
    "test = np.zeros((30,2))\n",
    "test = c[a]\n",
    "ans = np.abs(x - test)\n",
    "ans = ans**2\n",
    "ans"
   ]
  },
  {
   "cell_type": "code",
   "execution_count": 132,
   "id": "02c69a5d",
   "metadata": {
    "deletable": false,
    "editable": false
   },
   "outputs": [
    {
     "data": {
      "text/html": [
       "<p><strong><pre style='display: inline;'>2d</pre></strong> passed!</p>"
      ],
      "text/plain": [
       "2d results: All test cases passed!"
      ]
     },
     "execution_count": 132,
     "metadata": {},
     "output_type": "execute_result"
    }
   ],
   "source": [
    "grader.check(\"2d\")"
   ]
  },
  {
   "cell_type": "markdown",
   "id": "82bd42e5",
   "metadata": {},
   "source": [
    "<!-- BEGIN QUESTION -->\n",
    "\n",
    "**2(e)** (5 pts) Recall from lecture the file `mnist.npz`, which contains the labeled image data for handwritten digits."
   ]
  },
  {
   "cell_type": "code",
   "execution_count": 2370,
   "id": "50d91115",
   "metadata": {},
   "outputs": [],
   "source": [
    "def kmeans(X, C):\n",
    "    \"\"\"\n",
    "    K-means algorithm.\n",
    "\n",
    "    Args:\n",
    "        - X: ndarray, shape (n, p), n observations of p-dimensional feature vector\n",
    "        - C: ndarray, shape (k, p), k initial cluster centers\n",
    "\n",
    "    Returns:\n",
    "        Tuple of length two:\n",
    "        The first entry is integer ndarray, shape (n), cluster assignments for each data point\n",
    "        The second entry is ndarray, shape (k, p), centers of each cluster\n",
    "    \"\"\"\n",
    "    assert X.shape[1] == C.shape[1]  # p should match\n",
    "    while True:\n",
    "        new_assignments = nearest_cluster(X, C)\n",
    "        try:\n",
    "            \n",
    "            if np.all(new_assignments == assignments):\n",
    "                # converged\n",
    "                return assignments, C\n",
    "        except NameError:  # first iteration, no assignments\n",
    "            pass \n",
    "        assignments = new_assignments\n",
    "        C = compute_centroids(X, assignments)\n"
   ]
  },
  {
   "cell_type": "code",
   "execution_count": 2371,
   "id": "03bdf1ea",
   "metadata": {},
   "outputs": [],
   "source": [
    "def nearest_cluster(X, C):\n",
    "    \"\"\"\n",
    "    For each point in X, find the nearest point in C.\n",
    "\n",
    "    Args:\n",
    "        X: ndarray, shape (n, p), n points of dimension p.\n",
    "        C: ndarray, shape (k, p), k points of dimension p.\n",
    "\n",
    "    Returns:\n",
    "        Integer array of length n, [j[1], j[2], ..., j[n]], such that |X[i] - C[j[i]]| <= |X[i] - C[ell]| for 1 <= ell <= k.\n",
    "    \"\"\"\n",
    "#     assert X.shape[1] == C.shape[1] # X and C should have the same p dimension\n",
    "#     print(X.shape)\n",
    "    D = X[:,None,:] - C[None,:,:]\n",
    "    e = np.linalg.norm(D , axis = 2)\n",
    "    ans = e.argmin(axis = 1)\n",
    "    return ans"
   ]
  },
  {
   "cell_type": "code",
   "execution_count": 2372,
   "id": "8da53fa2",
   "metadata": {},
   "outputs": [],
   "source": [
    "def compute_centroids(X, a): \n",
    "    \n",
    "    combined = np.hstack((X,a[:,None]))\n",
    "    sorted_combine = combined[combined[:,-1].argsort()]\n",
    "    \n",
    "    ele, index, count =  np.unique(sorted_combine[:,-1], return_index = True , return_counts = True)\n",
    "    theSum = np.add.reduceat(sorted_combine[:,:-1], index, axis = 0)\n",
    "\n",
    "    theMean = theSum / count[:,None]\n",
    "    return theMean"
   ]
  },
  {
   "cell_type": "code",
   "execution_count": 2373,
   "id": "0faca90e",
   "metadata": {},
   "outputs": [],
   "source": [
    "mnist = np.load(\"mnist.npz\")\n",
    "mnist[\"images\"].shape\n",
    "ans = mnist[\"labels\"][:1000]"
   ]
  },
  {
   "cell_type": "markdown",
   "id": "c8a81b08",
   "metadata": {},
   "source": [
    "We will experiment with clustering these data. For memory and performance reasons, we will only look at the first 1000 images:"
   ]
  },
  {
   "cell_type": "code",
   "execution_count": 2374,
   "id": "3847e511",
   "metadata": {},
   "outputs": [
    {
     "data": {
      "text/plain": [
       "(1000, 784)"
      ]
     },
     "execution_count": 2374,
     "metadata": {},
     "output_type": "execute_result"
    }
   ],
   "source": [
    "X = mnist[\"images\"][:1000]\n",
    "X.shape"
   ]
  },
  {
   "cell_type": "code",
   "execution_count": 2386,
   "id": "36b16d2e",
   "metadata": {},
   "outputs": [],
   "source": [
    "rng = np.random.default_rng()"
   ]
  },
  {
   "cell_type": "code",
   "execution_count": 2387,
   "id": "b8fb140d",
   "metadata": {},
   "outputs": [],
   "source": [
    "C = kmeanspp(X,10,rng) # the cluster center points"
   ]
  },
  {
   "cell_type": "code",
   "execution_count": 2388,
   "id": "6d996aac",
   "metadata": {},
   "outputs": [
    {
     "data": {
      "text/plain": [
       "10"
      ]
     },
     "execution_count": 2388,
     "metadata": {},
     "output_type": "execute_result"
    }
   ],
   "source": [
    "len(C)"
   ]
  },
  {
   "cell_type": "code",
   "execution_count": 2389,
   "id": "c1f26ebd",
   "metadata": {},
   "outputs": [],
   "source": [
    "a = nearest_cluster(X,C)"
   ]
  },
  {
   "cell_type": "code",
   "execution_count": 2390,
   "id": "27d0961b",
   "metadata": {},
   "outputs": [
    {
     "data": {
      "text/plain": [
       "array([[0., 0., 0., ..., 0., 0., 0.],\n",
       "       [0., 0., 0., ..., 0., 0., 0.],\n",
       "       [0., 0., 0., ..., 0., 0., 0.],\n",
       "       ...,\n",
       "       [0., 0., 0., ..., 0., 0., 0.],\n",
       "       [0., 0., 0., ..., 0., 0., 0.],\n",
       "       [0., 0., 0., ..., 0., 0., 0.]])"
      ]
     },
     "execution_count": 2390,
     "metadata": {},
     "output_type": "execute_result"
    }
   ],
   "source": [
    "compute_centroids(X,a)"
   ]
  },
  {
   "cell_type": "code",
   "execution_count": 2391,
   "id": "d1458a4c",
   "metadata": {},
   "outputs": [],
   "source": [
    "pred, centerPoints =kmeans(X,C) "
   ]
  },
  {
   "cell_type": "code",
   "execution_count": 2428,
   "id": "529ac55f",
   "metadata": {},
   "outputs": [
    {
     "data": {
      "text/plain": [
       "array([3, 3, 6, 0, 2, 1, 8, 3, 8, 2, 3, 2, 6, 5, 8, 0, 1, 4, 8, 2, 6, 3,\n",
       "       2, 0, 8, 4, 6, 3, 0, 2, 8, 4, 5, 2, 3, 2, 5, 3, 6, 5, 8, 4, 8, 8,\n",
       "       6, 0, 6, 2, 6, 3, 8, 7, 0, 2, 0, 4, 7, 2, 6, 0, 1, 2, 5, 3, 5, 2,\n",
       "       5, 0, 7, 7, 8, 2, 8, 5, 6, 3, 0, 0, 0, 2, 7, 3, 1, 5, 0, 4, 6, 0,\n",
       "       7, 2, 5, 0, 6, 5, 4, 3, 0, 4, 6, 0, 8, 0, 8, 0, 8, 0, 5, 3, 7, 8,\n",
       "       6, 6, 8, 0, 7, 2, 6, 1, 7, 3, 0, 7, 0, 0, 8, 4, 5, 2, 8, 5, 8, 2,\n",
       "       8, 8, 6, 3, 6, 4, 7, 2, 8, 2, 6, 6, 6, 2, 4, 5, 8, 6, 8, 5, 8, 8,\n",
       "       6, 5, 7, 3, 6, 1, 8, 4, 6, 2, 6, 5, 2, 0, 0, 3, 6, 1, 0, 2, 8, 2,\n",
       "       6, 0, 3, 3, 8, 0, 7, 0, 8, 0, 6, 3, 6, 6, 5, 2, 7, 0, 6, 0, 6, 4,\n",
       "       6, 1, 8, 0, 4, 4, 5, 0, 7, 0, 8, 7, 7, 8, 8, 1, 6, 3, 6, 2, 5, 3,\n",
       "       1, 5, 6, 0, 4, 4, 6, 0, 6, 7, 0, 8, 6, 1, 7, 3, 4, 2, 5, 2, 8, 5,\n",
       "       3, 0, 6, 4, 7, 8, 8, 7, 6, 8, 0, 1, 6, 3, 0, 2, 8, 2, 2, 5, 2, 0,\n",
       "       6, 4, 6, 8, 8, 0, 8, 2, 0, 2, 6, 2, 8, 1, 5, 4, 2, 3, 6, 7, 6, 8,\n",
       "       5, 2, 0, 2, 0, 3, 8, 7, 1, 4, 7, 2, 6, 5, 0, 0, 5, 7, 6, 0, 7, 0,\n",
       "       1, 0, 8, 5, 6, 8, 6, 0, 6, 1, 0, 2, 7, 3, 6, 5, 0, 1, 7, 3, 3, 2,\n",
       "       3, 5, 6, 4, 6, 2, 6, 0, 6, 1, 6, 3, 2, 4, 6, 0, 4, 1, 4, 0, 6, 0,\n",
       "       6, 0, 6, 0, 6, 0, 8, 7, 0, 4, 0, 2, 8, 1, 8, 5, 8, 2, 8, 0, 6, 2,\n",
       "       6, 1, 8, 0, 1, 2, 6, 1, 8, 0, 6, 1, 6, 0, 8, 2, 0, 1, 6, 4, 8, 5,\n",
       "       6, 0, 8, 3, 5, 5, 2, 2, 6, 3, 8, 2, 8, 2, 0, 0, 8, 2, 5, 4, 0, 2,\n",
       "       2, 0, 8, 5, 8, 2, 6, 3, 0, 7, 6, 7, 5, 5, 1, 3, 6, 7, 6, 2, 6, 4,\n",
       "       7, 0, 6, 0, 8, 4, 6, 0, 1, 5, 8, 5, 7, 3, 8, 0, 8, 1, 7, 6, 6, 0,\n",
       "       7, 2, 7, 5, 0, 0, 6, 4, 8, 2, 8, 3, 6, 0, 2, 1, 8, 6, 6, 2, 2, 0,\n",
       "       8, 4, 6, 2, 6, 7, 3, 0, 0, 1, 7, 3, 3, 2, 5, 4, 8, 2, 8, 4, 3, 0,\n",
       "       6, 0, 0, 4, 0, 0, 6, 2, 8, 1, 6, 4, 8, 3, 6, 0, 0, 2, 7, 2, 7, 2,\n",
       "       6, 2, 2, 2, 6, 0, 6, 0, 5, 2, 0, 4, 8, 2, 3, 2, 3, 4, 8, 5, 1, 3,\n",
       "       6, 1, 8, 0, 6, 1, 8, 3, 8, 4, 8, 3, 0, 1, 6, 5, 6, 0, 1, 2, 1, 4,\n",
       "       8, 0, 8, 4, 6, 3, 5, 2, 6, 3, 6, 2, 2, 2, 2, 0, 0, 2, 2, 1, 6, 0,\n",
       "       6, 2, 7, 5, 5, 0, 8, 2, 6, 3, 8, 2, 6, 5, 6, 0, 6, 0, 7, 6, 2, 4,\n",
       "       6, 0, 8, 1, 7, 2, 7, 5, 0, 3, 0, 2, 6, 4, 8, 2, 0, 3, 8, 1, 0, 0,\n",
       "       8, 3, 6, 0, 1, 3, 0, 6, 0, 2, 0, 5, 8, 0, 3, 2, 0, 2, 5, 1, 5, 4,\n",
       "       8, 2, 7, 2, 0, 1, 5, 2, 7, 3, 7, 0, 5, 1, 8, 3, 8, 0, 8, 3, 2, 5,\n",
       "       6, 0, 1, 4, 6, 0, 8, 3, 6, 0, 6, 1, 8, 3, 0, 0, 0, 3, 2, 5, 7, 0,\n",
       "       6, 4, 6, 0, 8, 3, 8, 0, 4, 1, 0, 3, 1, 0, 6, 3, 8, 5, 6, 0, 0, 4,\n",
       "       6, 0, 8, 0, 0, 3, 0, 3, 6, 5, 6, 5, 8, 5, 6, 0, 6, 3, 8, 3, 8, 0,\n",
       "       6, 0, 6, 3, 6, 0, 8, 0, 4, 3, 6, 5, 6, 4, 5, 0, 6, 0, 4, 3, 6, 4,\n",
       "       2, 3, 0, 0, 1, 2, 5, 4, 8, 0, 8, 3, 6, 0, 8, 5, 6, 3, 2, 3, 7, 4,\n",
       "       6, 0, 5, 0, 8, 0, 0, 3, 6, 1, 5, 0, 6, 3, 6, 1, 8, 0, 5, 3, 6, 1,\n",
       "       1, 3, 5, 4, 7, 0, 6, 0, 8, 4, 8, 3, 6, 2, 6, 5, 0, 4, 8, 0, 2, 0,\n",
       "       6, 3, 8, 0, 8, 5, 6, 2, 3, 3, 6, 0, 6, 3, 5, 0, 5, 0, 0, 0, 8, 3,\n",
       "       8, 3, 3, 3, 8, 6, 8, 4, 0, 3, 0, 3, 8, 0, 7, 1, 3, 6, 8, 6, 8, 2,\n",
       "       0, 5, 6, 0, 8, 4, 7, 0, 0, 2, 6, 0, 8, 1, 2, 3, 0, 2, 0, 2, 8, 5,\n",
       "       7, 2, 0, 0, 6, 1, 6, 3, 7, 0, 6, 4, 6, 2, 5, 1, 0, 0, 8, 2, 8, 4,\n",
       "       6, 4, 6, 3, 0, 0, 0, 1, 6, 2, 0, 2, 8, 2, 0, 2, 6, 0, 0, 2, 5, 2,\n",
       "       4, 2, 0, 3, 0, 0, 6, 6, 0, 2, 3, 3, 5, 0, 6, 0, 0, 4, 3, 3, 6, 2,\n",
       "       8, 0, 6, 2, 4, 5, 6, 3, 4, 2, 8, 3, 8, 0, 8, 6, 7, 2, 5, 2, 6, 1,\n",
       "       6, 6, 3, 0, 0, 0, 5, 3, 7, 2], dtype=uint8)"
      ]
     },
     "execution_count": 2428,
     "metadata": {},
     "output_type": "execute_result"
    }
   ],
   "source": [
    "pred = np.array(pred, dtype = \"uint8\")\n",
    "(pred)%9"
   ]
  },
  {
   "cell_type": "code",
   "execution_count": 2429,
   "id": "c5829528",
   "metadata": {},
   "outputs": [
    {
     "data": {
      "text/plain": [
       "array([5, 0, 4, 1, 9, 2, 1, 3, 1, 4, 3, 5, 3, 6, 1, 7, 2, 8, 6, 9, 4, 0,\n",
       "       9, 1, 1, 2, 4, 3, 2, 7, 3, 8, 6, 9, 0, 5, 6, 0, 7, 6, 1, 8, 7, 9,\n",
       "       3, 9, 8, 5, 9, 3, 3, 0, 7, 4, 9, 8, 0, 9, 4, 1, 4, 4, 6, 0, 4, 5,\n",
       "       6, 1, 0, 0, 1, 7, 1, 6, 3, 0, 2, 1, 1, 7, 9, 0, 2, 6, 7, 8, 3, 9,\n",
       "       0, 4, 6, 7, 4, 6, 8, 0, 7, 8, 3, 1, 5, 7, 1, 7, 1, 1, 6, 3, 0, 2,\n",
       "       9, 3, 1, 1, 0, 4, 9, 2, 0, 0, 2, 0, 2, 7, 1, 8, 6, 4, 1, 6, 3, 4,\n",
       "       5, 9, 1, 3, 3, 8, 5, 4, 7, 7, 4, 2, 8, 5, 8, 6, 7, 3, 4, 6, 1, 9,\n",
       "       9, 6, 0, 3, 7, 2, 8, 2, 9, 4, 4, 6, 4, 9, 7, 0, 9, 2, 9, 5, 1, 5,\n",
       "       9, 1, 2, 3, 2, 3, 5, 9, 1, 7, 6, 2, 8, 2, 2, 5, 0, 7, 4, 9, 7, 8,\n",
       "       3, 2, 1, 1, 8, 3, 6, 1, 0, 3, 1, 0, 0, 1, 7, 2, 7, 3, 0, 4, 6, 5,\n",
       "       2, 6, 4, 7, 1, 8, 9, 9, 3, 0, 7, 1, 0, 2, 0, 3, 5, 4, 6, 5, 8, 6,\n",
       "       3, 7, 5, 8, 0, 9, 1, 0, 3, 1, 2, 2, 3, 3, 6, 4, 7, 5, 0, 6, 2, 7,\n",
       "       9, 8, 5, 9, 2, 1, 1, 4, 4, 5, 6, 4, 1, 2, 5, 3, 9, 3, 9, 0, 5, 9,\n",
       "       6, 5, 7, 4, 1, 3, 4, 0, 4, 8, 0, 4, 3, 6, 8, 7, 6, 0, 9, 7, 5, 7,\n",
       "       2, 1, 1, 6, 8, 9, 4, 1, 5, 2, 2, 9, 0, 3, 9, 6, 7, 2, 0, 3, 5, 4,\n",
       "       3, 6, 5, 8, 9, 5, 4, 7, 4, 2, 7, 3, 4, 8, 9, 1, 9, 2, 8, 7, 9, 1,\n",
       "       8, 7, 4, 1, 3, 1, 1, 0, 2, 3, 9, 4, 9, 2, 1, 6, 8, 4, 7, 7, 4, 4,\n",
       "       9, 2, 5, 7, 2, 4, 4, 2, 1, 9, 7, 2, 8, 7, 6, 9, 2, 2, 3, 8, 1, 6,\n",
       "       5, 1, 1, 0, 2, 6, 4, 5, 8, 3, 1, 5, 1, 9, 2, 7, 4, 4, 4, 8, 1, 5,\n",
       "       8, 9, 5, 6, 7, 9, 9, 3, 7, 0, 9, 0, 6, 6, 2, 3, 9, 0, 7, 5, 4, 8,\n",
       "       0, 9, 4, 1, 2, 8, 7, 1, 2, 6, 1, 0, 3, 0, 1, 1, 8, 2, 0, 3, 9, 4,\n",
       "       0, 5, 0, 6, 1, 7, 7, 8, 1, 9, 2, 0, 5, 1, 2, 2, 7, 3, 5, 4, 9, 7,\n",
       "       1, 8, 3, 9, 6, 0, 3, 1, 1, 2, 6, 3, 5, 7, 6, 8, 3, 9, 5, 8, 5, 7,\n",
       "       6, 1, 1, 3, 1, 7, 5, 5, 5, 2, 5, 8, 7, 0, 9, 7, 7, 5, 0, 9, 0, 0,\n",
       "       8, 9, 2, 4, 8, 1, 6, 1, 6, 5, 1, 8, 3, 4, 0, 5, 5, 8, 3, 6, 2, 3,\n",
       "       9, 2, 1, 1, 5, 2, 1, 3, 2, 8, 7, 3, 7, 2, 4, 6, 9, 7, 2, 4, 2, 8,\n",
       "       1, 1, 3, 8, 4, 0, 6, 5, 9, 3, 0, 9, 2, 4, 7, 1, 2, 9, 4, 2, 6, 1,\n",
       "       8, 9, 0, 6, 6, 7, 9, 9, 8, 0, 1, 4, 4, 6, 7, 1, 5, 7, 0, 3, 5, 8,\n",
       "       4, 7, 1, 2, 5, 9, 5, 6, 7, 5, 9, 8, 8, 3, 6, 9, 7, 0, 7, 5, 7, 1,\n",
       "       1, 0, 7, 9, 2, 3, 7, 3, 2, 4, 1, 6, 2, 7, 5, 5, 7, 4, 0, 2, 6, 3,\n",
       "       6, 4, 0, 4, 2, 6, 0, 0, 0, 0, 3, 1, 6, 2, 2, 3, 1, 4, 1, 5, 4, 6,\n",
       "       4, 7, 2, 8, 7, 9, 2, 0, 5, 1, 4, 2, 8, 3, 2, 4, 1, 5, 4, 6, 0, 7,\n",
       "       9, 8, 4, 9, 8, 0, 1, 1, 0, 2, 2, 3, 2, 4, 4, 5, 8, 6, 5, 7, 7, 8,\n",
       "       8, 9, 7, 4, 7, 3, 2, 0, 8, 6, 8, 6, 1, 6, 8, 9, 4, 0, 9, 0, 4, 1,\n",
       "       5, 4, 7, 5, 3, 7, 4, 9, 8, 5, 8, 6, 3, 8, 6, 9, 9, 1, 8, 3, 5, 8,\n",
       "       6, 5, 9, 7, 2, 5, 0, 8, 5, 1, 1, 0, 9, 1, 8, 6, 7, 0, 9, 3, 0, 8,\n",
       "       8, 9, 6, 7, 8, 4, 7, 5, 9, 2, 6, 7, 4, 5, 9, 2, 3, 1, 6, 3, 9, 2,\n",
       "       2, 5, 6, 8, 0, 7, 7, 1, 9, 8, 7, 0, 9, 9, 4, 6, 2, 8, 5, 1, 4, 1,\n",
       "       5, 5, 1, 7, 3, 6, 4, 3, 2, 5, 6, 4, 4, 0, 4, 4, 6, 7, 2, 4, 3, 3,\n",
       "       8, 0, 0, 3, 2, 2, 9, 8, 2, 3, 7, 0, 1, 1, 0, 2, 3, 3, 8, 4, 3, 5,\n",
       "       7, 6, 4, 7, 7, 8, 5, 9, 7, 0, 3, 1, 6, 2, 4, 3, 4, 4, 7, 5, 9, 6,\n",
       "       9, 0, 7, 1, 4, 2, 7, 3, 6, 7, 5, 8, 4, 5, 5, 2, 7, 1, 1, 5, 6, 8,\n",
       "       5, 8, 4, 0, 7, 9, 9, 2, 9, 7, 7, 8, 7, 4, 2, 6, 9, 1, 7, 0, 6, 4,\n",
       "       2, 5, 7, 0, 7, 1, 0, 3, 7, 6, 5, 0, 6, 1, 5, 1, 7, 8, 5, 0, 3, 4,\n",
       "       7, 7, 5, 7, 8, 6, 9, 3, 8, 6, 1, 0, 9, 7, 1, 3, 0, 5, 6, 4, 4, 2,\n",
       "       4, 4, 3, 1, 7, 7, 6, 0, 3, 6], dtype=uint8)"
      ]
     },
     "execution_count": 2429,
     "metadata": {},
     "output_type": "execute_result"
    }
   ],
   "source": [
    "ans"
   ]
  },
  {
   "cell_type": "code",
   "execution_count": 2393,
   "id": "6a6d7419",
   "metadata": {},
   "outputs": [
    {
     "name": "stdout",
     "output_type": "stream",
     "text": [
      "the evaulation of the kpp: 2419297708.8340654\n"
     ]
    }
   ],
   "source": [
    "kpp_v = V(X, pred, centerPoints)\n",
    "print(\"the evaulation of the kpp:\",kpp_v )"
   ]
  },
  {
   "cell_type": "code",
   "execution_count": 2394,
   "id": "f47f9adc",
   "metadata": {},
   "outputs": [],
   "source": [
    "### select the random center points"
   ]
  },
  {
   "cell_type": "code",
   "execution_count": 2417,
   "id": "4fbc8d28",
   "metadata": {},
   "outputs": [],
   "source": [
    "compare_list = []\n",
    "for i in range(20):\n",
    "    ## kpp\n",
    "    rng = np.random.default_rng()\n",
    "    C = kmeanspp(X,10,rng)\n",
    "    a = nearest_cluster(X,C)\n",
    "    pred, centerPoints =kmeans(X,C) \n",
    "    kpp_v = V(X, pred, centerPoints)\n",
    "    \n",
    "    ##random \n",
    "    \n",
    "    index = np.random.randint(0, 999, size=10)\n",
    "    C = X[index]\n",
    "    pred, centerPoints =kmeans(X,C) \n",
    "    pred = np.array(pred, dtype = \"uint8\")\n",
    "    random_v = V(X, pred, centerPoints)\n",
    "    \n",
    "    \n",
    "    if random_v > kpp_v:  # if the \n",
    "        compare_list.append(1)\n",
    "    compare_list.append(0)"
   ]
  },
  {
   "cell_type": "code",
   "execution_count": 2418,
   "id": "e0d8900d",
   "metadata": {},
   "outputs": [
    {
     "data": {
      "text/plain": [
       "13"
      ]
     },
     "execution_count": 2418,
     "metadata": {},
     "output_type": "execute_result"
    }
   ],
   "source": [
    "np.count_nonzero(compare_list)"
   ]
  },
  {
   "cell_type": "markdown",
   "id": "02615877",
   "metadata": {},
   "source": [
    "Which performs better, $k$-means++ or random initialization? Do the clusters make sense to you? How do the clusters relate to the true labels given in `mnist['labels']`? What are some examples of images where the clustering is nearly ambiguous (meaning they were almost part of another cluster?)"
   ]
  },
  {
   "cell_type": "markdown",
   "id": "1810583f",
   "metadata": {},
   "source": [
    "_Type your answer here, replacing this text._"
   ]
  },
  {
   "cell_type": "markdown",
   "id": "5b5d2466",
   "metadata": {
    "tags": []
   },
   "source": [
    "Based on the observation, the k-means++ perform slightly better than the random initialization. The above for loop is to compare the sum of the squared distance from each data point to the center of its assigned cluster. It shows the most of the time the k-means++ has the less distance compared to the random initialization. \n",
    "\n",
    "We do not know which cluster is associated with which true labels given in the dataset. However based on the distribution of the prediciton, we can say it matches the distribution of the true label. \n",
    "\n",
    "The exmaples of the images where the clustering is nearly ambiguous shows the boundary where the distance from the data point to the other center of the cluster is the same. It shows the probabiilty of the two classes is the same."
   ]
  },
  {
   "cell_type": "markdown",
   "id": "79cc8779",
   "metadata": {},
   "source": [
    "<!-- END QUESTION -->\n",
    "\n",
    "## Question 3: Working with pandas DataFrames\n",
    "\n",
    "In this problem, you'll get practice working with pandas `DataFrames`, reading\n",
    "them into and out of memory, changing their contents and performing\n",
    "aggregation operations. We'll use the file `iris.csv` included with this problem set to practice.\n",
    "**Note:** for the sake of consistency, please the CSV included with the problem set, and not one from elsewhere."
   ]
  },
  {
   "cell_type": "code",
   "execution_count": 64,
   "id": "ae98ceba",
   "metadata": {},
   "outputs": [],
   "source": [
    "import pandas as pd"
   ]
  },
  {
   "cell_type": "markdown",
   "id": "0d8fe8be",
   "metadata": {},
   "source": [
    "<!-- BEGIN QUESTION -->\n",
    "\n",
    "**3(a)** (2 pts) Read the data into a variable called `iris`. How many data points are\n",
    "    there in this data set? What are the data types of the columns? What\n",
    "    are the column names? The column names correspond to flower species\n",
    "    names, as well as four basic measurements one can make of a flower:\n",
    "    the width and length of its petals and the width and length of its\n",
    "    sepal (the part of the pant that supports and protects the flower\n",
    "    itself). How many species of flower are included in the data? Show your work by including the\n",
    "    pandas commands you used to figure out the answers."
   ]
  },
  {
   "cell_type": "code",
   "execution_count": 135,
   "id": "8177d5d6",
   "metadata": {},
   "outputs": [],
   "source": [
    "iris = pd.read_csv(\"iris.csv\")"
   ]
  },
  {
   "cell_type": "code",
   "execution_count": 136,
   "id": "6e6aa51b",
   "metadata": {},
   "outputs": [
    {
     "data": {
      "text/plain": [
       "150"
      ]
     },
     "execution_count": 136,
     "metadata": {},
     "output_type": "execute_result"
    }
   ],
   "source": [
    "len(iris)"
   ]
  },
  {
   "cell_type": "code",
   "execution_count": 137,
   "id": "f0f22627",
   "metadata": {},
   "outputs": [
    {
     "name": "stdout",
     "output_type": "stream",
     "text": [
      "<class 'pandas.core.frame.DataFrame'>\n",
      "RangeIndex: 150 entries, 0 to 149\n",
      "Data columns (total 5 columns):\n",
      " #   Column        Non-Null Count  Dtype  \n",
      "---  ------        --------------  -----  \n",
      " 0   Sepal.Length  150 non-null    float64\n",
      " 1   Sepal.Width   150 non-null    float64\n",
      " 2   Petal.Length  150 non-null    float64\n",
      " 3   Petal.Width   150 non-null    float64\n",
      " 4   Species       150 non-null    object \n",
      "dtypes: float64(4), object(1)\n",
      "memory usage: 6.0+ KB\n"
     ]
    }
   ],
   "source": [
    "iris.info()"
   ]
  },
  {
   "cell_type": "code",
   "execution_count": 92,
   "id": "4b1eb0d6",
   "metadata": {},
   "outputs": [
    {
     "data": {
      "text/html": [
       "<div>\n",
       "<style scoped>\n",
       "    .dataframe tbody tr th:only-of-type {\n",
       "        vertical-align: middle;\n",
       "    }\n",
       "\n",
       "    .dataframe tbody tr th {\n",
       "        vertical-align: top;\n",
       "    }\n",
       "\n",
       "    .dataframe thead th {\n",
       "        text-align: right;\n",
       "    }\n",
       "</style>\n",
       "<table border=\"1\" class=\"dataframe\">\n",
       "  <thead>\n",
       "    <tr style=\"text-align: right;\">\n",
       "      <th></th>\n",
       "      <th>Sepal.Length</th>\n",
       "      <th>Sepal.Width</th>\n",
       "      <th>Petal.Length</th>\n",
       "      <th>Petal.Width</th>\n",
       "      <th>Species</th>\n",
       "    </tr>\n",
       "  </thead>\n",
       "  <tbody>\n",
       "    <tr>\n",
       "      <th>0</th>\n",
       "      <td>5.1</td>\n",
       "      <td>3.5</td>\n",
       "      <td>1.4</td>\n",
       "      <td>0.2</td>\n",
       "      <td>setosa</td>\n",
       "    </tr>\n",
       "    <tr>\n",
       "      <th>1</th>\n",
       "      <td>4.9</td>\n",
       "      <td>3.0</td>\n",
       "      <td>1.4</td>\n",
       "      <td>0.2</td>\n",
       "      <td>setosa</td>\n",
       "    </tr>\n",
       "    <tr>\n",
       "      <th>2</th>\n",
       "      <td>4.7</td>\n",
       "      <td>3.2</td>\n",
       "      <td>1.3</td>\n",
       "      <td>0.2</td>\n",
       "      <td>setosa</td>\n",
       "    </tr>\n",
       "    <tr>\n",
       "      <th>3</th>\n",
       "      <td>4.6</td>\n",
       "      <td>3.1</td>\n",
       "      <td>1.5</td>\n",
       "      <td>0.2</td>\n",
       "      <td>setosa</td>\n",
       "    </tr>\n",
       "    <tr>\n",
       "      <th>4</th>\n",
       "      <td>5.0</td>\n",
       "      <td>3.6</td>\n",
       "      <td>1.4</td>\n",
       "      <td>0.2</td>\n",
       "      <td>setosa</td>\n",
       "    </tr>\n",
       "  </tbody>\n",
       "</table>\n",
       "</div>"
      ],
      "text/plain": [
       "   Sepal.Length  Sepal.Width  Petal.Length  Petal.Width Species\n",
       "0           5.1          3.5           1.4          0.2  setosa\n",
       "1           4.9          3.0           1.4          0.2  setosa\n",
       "2           4.7          3.2           1.3          0.2  setosa\n",
       "3           4.6          3.1           1.5          0.2  setosa\n",
       "4           5.0          3.6           1.4          0.2  setosa"
      ]
     },
     "execution_count": 92,
     "metadata": {},
     "output_type": "execute_result"
    }
   ],
   "source": [
    "iris.head()"
   ]
  },
  {
   "cell_type": "code",
   "execution_count": 93,
   "id": "63494aec",
   "metadata": {},
   "outputs": [
    {
     "data": {
      "text/plain": [
       "Index(['Sepal.Length', 'Sepal.Width', 'Petal.Length', 'Petal.Width',\n",
       "       'Species'],\n",
       "      dtype='object')"
      ]
     },
     "execution_count": 93,
     "metadata": {},
     "output_type": "execute_result"
    }
   ],
   "source": [
    "iris.columns"
   ]
  },
  {
   "cell_type": "code",
   "execution_count": 94,
   "id": "d602226f",
   "metadata": {},
   "outputs": [
    {
     "data": {
      "text/plain": [
       "array(['setosa', 'versicolor', 'virginica'], dtype=object)"
      ]
     },
     "execution_count": 94,
     "metadata": {},
     "output_type": "execute_result"
    }
   ],
   "source": [
    "np.unique(iris[\"Species\"])"
   ]
  },
  {
   "cell_type": "markdown",
   "id": "bac14b70",
   "metadata": {
    "tags": []
   },
   "source": [
    "there are 150 data points\n",
    "the datatype in the column are float64 and the string\n",
    "column name:'Sepal.Length', 'Sepal.Width', 'Petal.Length', 'Petal.Width',\n",
    "       'Species'\n",
    "\n",
    "number of species :'setosa', 'versicolor', 'virginica'"
   ]
  },
  {
   "cell_type": "markdown",
   "id": "e0072f0d",
   "metadata": {},
   "source": [
    "<!-- END QUESTION -->\n",
    "\n",
    "<!-- BEGIN QUESTION -->\n",
    "\n",
    "**3(b)** It is now known that this dataset contains errors\n",
    "    in two of its rows (see the documentation at\n",
    "    <https://archive.ics.uci.edu/ml/datasets/Iris>). Using 1-indexing,\n",
    "    these errors are in the 35th and 38th rows. The 35th row should read\n",
    "    `4.9,3.1,1.5,0.2,\"setosa\"`, \n",
    "    where the fourth feature is incorrect as it appears in the file,\n",
    "    and the 38th row should read `4.9,3.6,1.4,0.1,\"setosa\"`, where the second and third features\n",
    "    are incorrect as they appear in the file. Correct these entries of\n",
    "    your DataFrame.\n"
   ]
  },
  {
   "cell_type": "code",
   "execution_count": 96,
   "id": "ce5634c6",
   "metadata": {
    "tags": []
   },
   "outputs": [
    {
     "data": {
      "text/plain": [
       "Sepal.Length       4.9\n",
       "Sepal.Width        3.1\n",
       "Petal.Length       1.5\n",
       "Petal.Width        0.2\n",
       "Species         setosa\n",
       "Name: 34, dtype: object"
      ]
     },
     "execution_count": 96,
     "metadata": {},
     "output_type": "execute_result"
    }
   ],
   "source": [
    "iris.iloc[34]"
   ]
  },
  {
   "cell_type": "code",
   "execution_count": 101,
   "id": "7acefdc2",
   "metadata": {},
   "outputs": [
    {
     "data": {
      "text/plain": [
       "Sepal.Length         4.9\n",
       "Sepal.Width          3.6\n",
       "Petal.Length         1.4\n",
       "Petal.Width          0.1\n",
       "Species           setosa\n",
       "Petal.Ratio         14.0\n",
       "Sepal.Ratio     1.361111\n",
       "Name: 37, dtype: object"
      ]
     },
     "execution_count": 101,
     "metadata": {},
     "output_type": "execute_result"
    }
   ],
   "source": [
    "iris.iloc[37]"
   ]
  },
  {
   "cell_type": "code",
   "execution_count": 109,
   "id": "f802066a",
   "metadata": {},
   "outputs": [],
   "source": [
    "# the dataset is already modified and fixed the errors. We do not need to do anything on this dataset"
   ]
  },
  {
   "cell_type": "markdown",
   "id": "9e2a1405",
   "metadata": {},
   "source": [
    "<!-- END QUESTION -->\n",
    "\n",
    "<!-- BEGIN QUESTION -->\n",
    "\n",
    "**3(c)** The iris dataset is commonly used in machine learning as a\n",
    "        proving ground for clustering and classification algorithms.\n",
    "        Some researchers have found it useful to use two additional features,\n",
    "        called *Petal ratio* and *Sepal ratio*,\n",
    "        defined as the ratio of the petal length to petal width\n",
    "        and the ratio of the sepal length to sepal width, respectively.\n",
    "        Add two columns to your DataFrame corresponding to these two\n",
    "        new features.\n",
    "        Name these columns\n",
    "        `Petal.Ratio` and `Sepal.Ratio`, respectively."
   ]
  },
  {
   "cell_type": "code",
   "execution_count": 138,
   "id": "6642f933",
   "metadata": {
    "tags": []
   },
   "outputs": [],
   "source": [
    "iris[\"Petal.Ratio\"] = iris[\"Petal.Length\"] / iris[\"Petal.Width\"]\n",
    "iris[\"Sepal.Ratio\"] = iris[\"Sepal.Length\"] / iris[\"Sepal.Width\"]"
   ]
  },
  {
   "cell_type": "code",
   "execution_count": 139,
   "id": "317af77e",
   "metadata": {},
   "outputs": [
    {
     "data": {
      "text/html": [
       "<div>\n",
       "<style scoped>\n",
       "    .dataframe tbody tr th:only-of-type {\n",
       "        vertical-align: middle;\n",
       "    }\n",
       "\n",
       "    .dataframe tbody tr th {\n",
       "        vertical-align: top;\n",
       "    }\n",
       "\n",
       "    .dataframe thead th {\n",
       "        text-align: right;\n",
       "    }\n",
       "</style>\n",
       "<table border=\"1\" class=\"dataframe\">\n",
       "  <thead>\n",
       "    <tr style=\"text-align: right;\">\n",
       "      <th></th>\n",
       "      <th>Sepal.Length</th>\n",
       "      <th>Sepal.Width</th>\n",
       "      <th>Petal.Length</th>\n",
       "      <th>Petal.Width</th>\n",
       "      <th>Species</th>\n",
       "      <th>Petal.Ratio</th>\n",
       "      <th>Sepal.Ratio</th>\n",
       "    </tr>\n",
       "  </thead>\n",
       "  <tbody>\n",
       "    <tr>\n",
       "      <th>0</th>\n",
       "      <td>5.1</td>\n",
       "      <td>3.5</td>\n",
       "      <td>1.4</td>\n",
       "      <td>0.2</td>\n",
       "      <td>setosa</td>\n",
       "      <td>7.0</td>\n",
       "      <td>1.457143</td>\n",
       "    </tr>\n",
       "    <tr>\n",
       "      <th>1</th>\n",
       "      <td>4.9</td>\n",
       "      <td>3.0</td>\n",
       "      <td>1.4</td>\n",
       "      <td>0.2</td>\n",
       "      <td>setosa</td>\n",
       "      <td>7.0</td>\n",
       "      <td>1.633333</td>\n",
       "    </tr>\n",
       "    <tr>\n",
       "      <th>2</th>\n",
       "      <td>4.7</td>\n",
       "      <td>3.2</td>\n",
       "      <td>1.3</td>\n",
       "      <td>0.2</td>\n",
       "      <td>setosa</td>\n",
       "      <td>6.5</td>\n",
       "      <td>1.468750</td>\n",
       "    </tr>\n",
       "    <tr>\n",
       "      <th>3</th>\n",
       "      <td>4.6</td>\n",
       "      <td>3.1</td>\n",
       "      <td>1.5</td>\n",
       "      <td>0.2</td>\n",
       "      <td>setosa</td>\n",
       "      <td>7.5</td>\n",
       "      <td>1.483871</td>\n",
       "    </tr>\n",
       "    <tr>\n",
       "      <th>4</th>\n",
       "      <td>5.0</td>\n",
       "      <td>3.6</td>\n",
       "      <td>1.4</td>\n",
       "      <td>0.2</td>\n",
       "      <td>setosa</td>\n",
       "      <td>7.0</td>\n",
       "      <td>1.388889</td>\n",
       "    </tr>\n",
       "  </tbody>\n",
       "</table>\n",
       "</div>"
      ],
      "text/plain": [
       "   Sepal.Length  Sepal.Width  Petal.Length  Petal.Width Species  Petal.Ratio  \\\n",
       "0           5.1          3.5           1.4          0.2  setosa          7.0   \n",
       "1           4.9          3.0           1.4          0.2  setosa          7.0   \n",
       "2           4.7          3.2           1.3          0.2  setosa          6.5   \n",
       "3           4.6          3.1           1.5          0.2  setosa          7.5   \n",
       "4           5.0          3.6           1.4          0.2  setosa          7.0   \n",
       "\n",
       "   Sepal.Ratio  \n",
       "0     1.457143  \n",
       "1     1.633333  \n",
       "2     1.468750  \n",
       "3     1.483871  \n",
       "4     1.388889  "
      ]
     },
     "execution_count": 139,
     "metadata": {},
     "output_type": "execute_result"
    }
   ],
   "source": [
    "iris.head()"
   ]
  },
  {
   "cell_type": "markdown",
   "id": "9af2737c",
   "metadata": {},
   "source": [
    "<!-- END QUESTION -->\n",
    "\n",
    "<!-- BEGIN QUESTION -->\n",
    "\n",
    "**3(d)** (2 pts)\n",
    "Use a pandas aggregate operation to determine the\n",
    "        mean, median, minimum, maximum and standard deviation of the\n",
    "        petal and sepal ratio for each of the three species in the data set.\n",
    "        **Note**: you should be able to get all five numbers in a single\n",
    "        table (indeed, in a single line of code)\n",
    "        using a well-chosen group-by or aggregate operation."
   ]
  },
  {
   "cell_type": "code",
   "execution_count": 140,
   "id": "35b0e389",
   "metadata": {
    "tags": []
   },
   "outputs": [
    {
     "data": {
      "text/html": [
       "<div>\n",
       "<style scoped>\n",
       "    .dataframe tbody tr th:only-of-type {\n",
       "        vertical-align: middle;\n",
       "    }\n",
       "\n",
       "    .dataframe tbody tr th {\n",
       "        vertical-align: top;\n",
       "    }\n",
       "\n",
       "    .dataframe thead tr th {\n",
       "        text-align: left;\n",
       "    }\n",
       "\n",
       "    .dataframe thead tr:last-of-type th {\n",
       "        text-align: right;\n",
       "    }\n",
       "</style>\n",
       "<table border=\"1\" class=\"dataframe\">\n",
       "  <thead>\n",
       "    <tr>\n",
       "      <th></th>\n",
       "      <th colspan=\"5\" halign=\"left\">Sepal.Length</th>\n",
       "      <th colspan=\"5\" halign=\"left\">Sepal.Width</th>\n",
       "      <th>...</th>\n",
       "      <th colspan=\"5\" halign=\"left\">Petal.Ratio</th>\n",
       "      <th colspan=\"5\" halign=\"left\">Sepal.Ratio</th>\n",
       "    </tr>\n",
       "    <tr>\n",
       "      <th></th>\n",
       "      <th>mean</th>\n",
       "      <th>median</th>\n",
       "      <th>max</th>\n",
       "      <th>min</th>\n",
       "      <th>std</th>\n",
       "      <th>mean</th>\n",
       "      <th>median</th>\n",
       "      <th>max</th>\n",
       "      <th>min</th>\n",
       "      <th>std</th>\n",
       "      <th>...</th>\n",
       "      <th>mean</th>\n",
       "      <th>median</th>\n",
       "      <th>max</th>\n",
       "      <th>min</th>\n",
       "      <th>std</th>\n",
       "      <th>mean</th>\n",
       "      <th>median</th>\n",
       "      <th>max</th>\n",
       "      <th>min</th>\n",
       "      <th>std</th>\n",
       "    </tr>\n",
       "    <tr>\n",
       "      <th>Species</th>\n",
       "      <th></th>\n",
       "      <th></th>\n",
       "      <th></th>\n",
       "      <th></th>\n",
       "      <th></th>\n",
       "      <th></th>\n",
       "      <th></th>\n",
       "      <th></th>\n",
       "      <th></th>\n",
       "      <th></th>\n",
       "      <th></th>\n",
       "      <th></th>\n",
       "      <th></th>\n",
       "      <th></th>\n",
       "      <th></th>\n",
       "      <th></th>\n",
       "      <th></th>\n",
       "      <th></th>\n",
       "      <th></th>\n",
       "      <th></th>\n",
       "      <th></th>\n",
       "    </tr>\n",
       "  </thead>\n",
       "  <tbody>\n",
       "    <tr>\n",
       "      <th>setosa</th>\n",
       "      <td>5.006</td>\n",
       "      <td>5.0</td>\n",
       "      <td>5.8</td>\n",
       "      <td>4.3</td>\n",
       "      <td>0.352490</td>\n",
       "      <td>3.428</td>\n",
       "      <td>3.4</td>\n",
       "      <td>4.4</td>\n",
       "      <td>2.3</td>\n",
       "      <td>0.379064</td>\n",
       "      <td>...</td>\n",
       "      <td>6.908000</td>\n",
       "      <td>7.000000</td>\n",
       "      <td>15.0</td>\n",
       "      <td>2.666667</td>\n",
       "      <td>2.854545</td>\n",
       "      <td>1.470188</td>\n",
       "      <td>1.463063</td>\n",
       "      <td>1.956522</td>\n",
       "      <td>1.268293</td>\n",
       "      <td>0.118750</td>\n",
       "    </tr>\n",
       "    <tr>\n",
       "      <th>versicolor</th>\n",
       "      <td>5.936</td>\n",
       "      <td>5.9</td>\n",
       "      <td>7.0</td>\n",
       "      <td>4.9</td>\n",
       "      <td>0.516171</td>\n",
       "      <td>2.770</td>\n",
       "      <td>2.8</td>\n",
       "      <td>3.4</td>\n",
       "      <td>2.0</td>\n",
       "      <td>0.313798</td>\n",
       "      <td>...</td>\n",
       "      <td>3.242837</td>\n",
       "      <td>3.240385</td>\n",
       "      <td>4.1</td>\n",
       "      <td>2.666667</td>\n",
       "      <td>0.312456</td>\n",
       "      <td>2.160402</td>\n",
       "      <td>2.161290</td>\n",
       "      <td>2.818182</td>\n",
       "      <td>1.764706</td>\n",
       "      <td>0.228658</td>\n",
       "    </tr>\n",
       "    <tr>\n",
       "      <th>virginica</th>\n",
       "      <td>6.588</td>\n",
       "      <td>6.5</td>\n",
       "      <td>7.9</td>\n",
       "      <td>4.9</td>\n",
       "      <td>0.635880</td>\n",
       "      <td>2.974</td>\n",
       "      <td>3.0</td>\n",
       "      <td>3.8</td>\n",
       "      <td>2.2</td>\n",
       "      <td>0.322497</td>\n",
       "      <td>...</td>\n",
       "      <td>2.780662</td>\n",
       "      <td>2.666667</td>\n",
       "      <td>4.0</td>\n",
       "      <td>2.125000</td>\n",
       "      <td>0.407367</td>\n",
       "      <td>2.230453</td>\n",
       "      <td>2.169540</td>\n",
       "      <td>2.961538</td>\n",
       "      <td>1.823529</td>\n",
       "      <td>0.246992</td>\n",
       "    </tr>\n",
       "  </tbody>\n",
       "</table>\n",
       "<p>3 rows × 30 columns</p>\n",
       "</div>"
      ],
      "text/plain": [
       "           Sepal.Length                            Sepal.Width              \\\n",
       "                   mean median  max  min       std        mean median  max   \n",
       "Species                                                                      \n",
       "setosa            5.006    5.0  5.8  4.3  0.352490       3.428    3.4  4.4   \n",
       "versicolor        5.936    5.9  7.0  4.9  0.516171       2.770    2.8  3.4   \n",
       "virginica         6.588    6.5  7.9  4.9  0.635880       2.974    3.0  3.8   \n",
       "\n",
       "                           ... Petal.Ratio                            \\\n",
       "            min       std  ...        mean    median   max       min   \n",
       "Species                    ...                                         \n",
       "setosa      2.3  0.379064  ...    6.908000  7.000000  15.0  2.666667   \n",
       "versicolor  2.0  0.313798  ...    3.242837  3.240385   4.1  2.666667   \n",
       "virginica   2.2  0.322497  ...    2.780662  2.666667   4.0  2.125000   \n",
       "\n",
       "                     Sepal.Ratio                                          \n",
       "                 std        mean    median       max       min       std  \n",
       "Species                                                                   \n",
       "setosa      2.854545    1.470188  1.463063  1.956522  1.268293  0.118750  \n",
       "versicolor  0.312456    2.160402  2.161290  2.818182  1.764706  0.228658  \n",
       "virginica   0.407367    2.230453  2.169540  2.961538  1.823529  0.246992  \n",
       "\n",
       "[3 rows x 30 columns]"
      ]
     },
     "execution_count": 140,
     "metadata": {},
     "output_type": "execute_result"
    }
   ],
   "source": [
    "iris.groupby(\"Species\").agg(['mean','median','max','min','std'])"
   ]
  },
  {
   "cell_type": "markdown",
   "id": "0525c94e",
   "metadata": {},
   "source": [
    "<!-- END QUESTION -->\n",
    "\n"
   ]
  },
  {
   "cell_type": "markdown",
   "id": "b70dafc2",
   "metadata": {
    "deletable": false,
    "editable": false
   },
   "source": [
    "---\n",
    "\n",
    "To double-check your work, the cell below will rerun all of the autograder tests."
   ]
  },
  {
   "cell_type": "code",
   "execution_count": 143,
   "id": "2d94833f",
   "metadata": {
    "deletable": false,
    "editable": false
   },
   "outputs": [
    {
     "data": {
      "text/plain": [
       "1a results: All test cases passed!\n",
       "\n",
       "1b results: All test cases passed!\n",
       "\n",
       "1c results: All test cases passed!\n",
       "\n",
       "1d results: All test cases passed!\n",
       "\n",
       "1e results: All test cases passed!\n",
       "\n",
       "2a results: All test cases passed!\n",
       "\n",
       "2b results: All test cases passed!\n",
       "\n",
       "2c results: All test cases passed!\n",
       "\n",
       "2d results: All test cases passed!"
      ]
     },
     "execution_count": 143,
     "metadata": {},
     "output_type": "execute_result"
    }
   ],
   "source": [
    "grader.check_all()"
   ]
  },
  {
   "cell_type": "markdown",
   "id": "e2f818f4",
   "metadata": {
    "deletable": false,
    "editable": false
   },
   "source": [
    "## Submission\n",
    "\n",
    "Make sure you have run all cells in your notebook in order before running the cell below, so that all images/graphs appear in the output. The cell below will generate a zip file for you to submit. **Please save before exporting!**\n",
    "\n",
    "Upload this .zip file to Gradescope for grading."
   ]
  },
  {
   "cell_type": "code",
   "execution_count": 144,
   "id": "1a508d3e",
   "metadata": {
    "deletable": false,
    "editable": false
   },
   "outputs": [
    {
     "data": {
      "text/html": [
       "\n",
       "            <p>Your submission has been exported. Click <a href=\"ps6_2022_02_20T20_53_02_647292.zip\" download=\"ps6_2022_02_20T20_53_02_647292.zip\" target=\"_blank\">here</a>\n",
       "            to download the zip file.</p>\n",
       "            "
      ],
      "text/plain": [
       "<IPython.core.display.HTML object>"
      ]
     },
     "metadata": {},
     "output_type": "display_data"
    }
   ],
   "source": [
    "# Save your notebook first, then run this cell to export your submission.\n",
    "grader.export(pdf=False)"
   ]
  },
  {
   "cell_type": "markdown",
   "id": "c43c834e",
   "metadata": {},
   "source": [
    " "
   ]
  }
 ],
 "metadata": {
  "kernelspec": {
   "display_name": "Python 3 (ipykernel)",
   "language": "python",
   "name": "python3"
  },
  "language_info": {
   "codemirror_mode": {
    "name": "ipython",
    "version": 3
   },
   "file_extension": ".py",
   "mimetype": "text/x-python",
   "name": "python",
   "nbconvert_exporter": "python",
   "pygments_lexer": "ipython3",
   "version": "3.8.11"
  },
  "otter": {
   "tests": {
    "1a": {
     "name": "1a",
     "points": 3,
     "suites": [
      {
       "cases": [
        {
         "code": ">>> A = np.eye(5)\n>>> distinct_rows_np(A)\narray([], shape=(0, 5), dtype=float64)",
         "hidden": false,
         "locked": false
        },
        {
         "code": ">>> A = np.array([[1, 2, 3], [4, 4, 4], [5, 6, 6]])\n>>> distinct_rows_np(A)\narray([[1, 2, 3]])",
         "hidden": false,
         "locked": false
        }
       ],
       "scored": true,
       "setup": "",
       "teardown": "",
       "type": "doctest"
      }
     ]
    },
    "1b": {
     "name": "1b",
     "points": 3,
     "suites": [
      {
       "cases": [
        {
         "code": ">>> sliding_stack_np(np.array([1, 2, 3, 4, 5]), 3)\narray([[1, 2, 3],\n       [2, 3, 4],\n       [3, 4, 5]])",
         "hidden": false,
         "locked": false
        },
        {
         "code": ">>> sliding_stack_np(np.array([1, 2, 3, 4, 5]), 5)\narray([[1, 2, 3, 4, 5]])",
         "hidden": false,
         "locked": false
        }
       ],
       "scored": true,
       "setup": "",
       "teardown": "",
       "type": "doctest"
      }
     ]
    },
    "1c": {
     "name": "1c",
     "points": 3,
     "suites": [
      {
       "cases": [
        {
         "code": ">>> v = np.array([0, 0, 1, 1, 2, 2, 2, 3, 4])\n>>> digit_count_np(v)\narray([2, 2, 3, 1, 1])",
         "hidden": false,
         "locked": false
        },
        {
         "code": ">>> v = np.array([0, 0, 0, 0, 2, 2, 2, 3, 4])\n>>> digit_count_np(v)\narray([4, 0, 3, 1, 1])",
         "hidden": false,
         "locked": false
        }
       ],
       "scored": true,
       "setup": "",
       "teardown": "",
       "type": "doctest"
      }
     ]
    },
    "1d": {
     "name": "1d",
     "points": 3,
     "suites": [
      {
       "cases": [
        {
         "code": ">>> cs_matrix = np.array([[ 4,  3,  2,  1,  0], [ 8,  7,  6,  5,  1], [11, 10,  9,  6,  2], [13, 12, 10,  7,  3], [14, 13, 11,  8,  4]])\n>>> is_countersym_np(cs_matrix)\nTrue",
         "hidden": false,
         "locked": false
        },
        {
         "code": ">>> cs_matrix = np.array([[ 4,  3,  2,  1,  0], [ 8,  7,  5,  5,  1], [11, 10,  9,  6,  2], [13, 12, 10,  7,  3], [14, 13, 11,  8,  4]])\n>>> is_countersym_np(cs_matrix)\nFalse",
         "hidden": false,
         "locked": false
        }
       ],
       "scored": true,
       "setup": "",
       "teardown": "",
       "type": "doctest"
      }
     ]
    },
    "1e": {
     "name": "1e",
     "points": 5,
     "suites": [
      {
       "cases": [
        {
         "code": ">>> good_board_3x3 = [   \n...         [3, 1, 6, 2, 4, 9, 7, 8, 5],\n...         [2, 7, 8, 3, 6, 5, 9, 1, 4],\n...         [4, 9, 5, 7, 8, 1, 6, 2, 3],\n...         [8, 5, 1, 9, 7, 4, 3, 6, 2],\n...         [9, 2, 3, 8, 1, 6, 4, 5, 7],\n...         [6, 4, 7, 5, 3, 2, 1, 9, 8],\n...         [7, 6, 2, 1, 5, 3, 8, 4, 9],\n...         [1, 3, 9, 4, 2, 8, 5, 7, 6],\n...         [5, 8, 4, 6, 9, 7, 2, 3, 1]]\n>>> sudoku_win_np(np.array(good_board_3x3, dtype=int))\nTrue",
         "hidden": false,
         "locked": false
        },
        {
         "code": ">>> bad_board_3x3 = np.arange(81).reshape(9, 9)\n>>> sudoku_win_np(bad_board_3x3)\nFalse",
         "hidden": false,
         "locked": false
        },
        {
         "code": ">>> bad_board_2x2 = np.array([[1, 1, 2, 4], [2, 4, 3, 1], [4, 2, 1, 3], [1, 3, 4, 2]])\n>>> sudoku_win_np(bad_board_2x2)\nFalse",
         "hidden": false,
         "locked": false
        }
       ],
       "scored": true,
       "setup": "",
       "teardown": "",
       "type": "doctest"
      }
     ]
    },
    "2a": {
     "name": "2a",
     "points": 3,
     "suites": [
      {
       "cases": [
        {
         "code": ">>> nearest_cluster(np.array([[-1], [0.5], [1], [1.3], [1.6], [2], [2.3], [2.7], [3], [100]]), np.array([[1], [2], [3]]))\narray([0, 0, 0, 0, 1, 1, 1, 2, 2, 2])",
         "hidden": false,
         "locked": false
        },
        {
         "code": ">>> X = np.array([[-101, 1], [1,1], [1, 1.01], [1.5, 1.6], [2.5, -3], [2.5, 2.7], [3, 33]])\n>>> C = np.array([[1, 1], [2,2], [3,3]])\n>>> nearest_cluster(X, C)\narray([0, 0, 0, 1, 0, 2, 2])",
         "hidden": false,
         "locked": false
        }
       ],
       "scored": true,
       "setup": "",
       "teardown": "",
       "type": "doctest"
      }
     ]
    },
    "2b": {
     "name": "2b",
     "points": 3,
     "suites": [
      {
       "cases": [
        {
         "code": ">>> import numpy as np\n>>> np.random.seed(1)\n>>> X = np.random.rand(30, 2)\n>>> a = np.random.randint(0, 5, size=30)\n>>> assert compute_centroids(X, a).shape == (5, 2)\n>>> np.allclose(X[a == 0].mean(axis=0), compute_centroids(X, a)[0])\nTrue",
         "hidden": false,
         "locked": false
        }
       ],
       "scored": true,
       "setup": "",
       "teardown": "",
       "type": "doctest"
      }
     ]
    },
    "2c": {
     "name": "2c",
     "points": 5,
     "suites": [
      {
       "cases": [
        {
         "code": ">>> import numpy as np\n>>> \n>>> np.random.seed(1)\n>>> X = np.random.rand(30, 4)\n>>> k = 2\n>>> rng = np.random.default_rng(12345)\n>>> assert kmeanspp(X, k, rng).shape == (2, 4)\n>>> kmeanspp(X, k, rng)\narray([[0.87638915, 0.89460666, 0.08504421, 0.03905478],\n       [0.6634415 , 0.62169572, 0.11474597, 0.94948926]])",
         "hidden": false,
         "locked": false
        }
       ],
       "scored": true,
       "setup": "",
       "teardown": "",
       "type": "doctest"
      }
     ]
    },
    "2d": {
     "name": "2d",
     "points": 2,
     "suites": [
      {
       "cases": [
        {
         "code": ">>> X = np.arange(9).reshape(3, 3)\n>>> a = np.arange(3)\n>>> C = 2 + X\n>>> V(X, a, C)\n36",
         "hidden": false,
         "locked": false
        }
       ],
       "scored": true,
       "setup": "",
       "teardown": "",
       "type": "doctest"
      }
     ]
    }
   }
  }
 },
 "nbformat": 4,
 "nbformat_minor": 5
}
