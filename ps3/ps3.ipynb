{
 "cells": [
  {
   "cell_type": "code",
   "execution_count": 59,
   "metadata": {
    "deletable": false,
    "editable": false
   },
   "outputs": [],
   "source": [
    "# Initialize Otter\n",
    "import otter\n",
    "grader = otter.Notebook(\"ps3.ipynb\")"
   ]
  },
  {
   "cell_type": "markdown",
   "metadata": {},
   "source": [
    "# STATS 507 W22\n",
    "## Problem Set 3\n",
    "All functions will be tested by visible as well as hidden tests. The maximum amount of time any function is allowed to run is 10 seconds.\n",
    "\n",
    "You may use any module in the [standard library](https://docs.python.org/3/library/) to solve these problems. You may not (yet) use other modules (scipy, numpy, pandas, etc.) that require installation. Here are a few modules that may prove particularly useful:"
   ]
  },
  {
   "cell_type": "code",
   "execution_count": 60,
   "metadata": {},
   "outputs": [],
   "source": [
    "import collections\n",
    "import string\n",
    "import itertools\n",
    "import math\n"
   ]
  },
  {
   "cell_type": "markdown",
   "metadata": {},
   "source": [
    "### Question 1: Infinite sequences\n",
    "For each of the problems below, write a function which generates the given infinite sequence. We should be able to use your generators to access any entry of the sequence no matter how deep. "
   ]
  },
  {
   "cell_type": "markdown",
   "metadata": {},
   "source": [
    "**1(a)** (2 pts) The prime numbers are\n",
    "\n",
    "$$2, 3, 5, 7, 11, 13, 17, \\dots$$\n",
    "\n",
    "Give a generator for the primes. (Note: many algorithms exist for this problem. Yours should be efficient enough that we can use it to generate reasonably large prime numbers.)"
   ]
  },
  {
   "cell_type": "code",
   "execution_count": 61,
   "metadata": {
    "tags": []
   },
   "outputs": [],
   "source": [
    "def check_prime(num):\n",
    "    for i in range(2, num):\n",
    "        if num % i == 0:\n",
    "            return False\n",
    "    return True\n",
    "\n",
    "\n",
    "def primes():\n",
    "    i = 1\n",
    "    while True:\n",
    "        i = i+1\n",
    "        if check_prime(i):\n",
    "            yield i\n"
   ]
  },
  {
   "cell_type": "code",
   "execution_count": 62,
   "metadata": {
    "deletable": false,
    "editable": false
   },
   "outputs": [
    {
     "data": {
      "text/html": [
       "<p><strong><pre style='display: inline;'>q1a</pre></strong> passed!</p>"
      ],
      "text/plain": [
       "q1a results: All test cases passed!"
      ]
     },
     "execution_count": 62,
     "metadata": {},
     "output_type": "execute_result"
    }
   ],
   "source": [
    "grader.check(\"q1a\")"
   ]
  },
  {
   "cell_type": "markdown",
   "metadata": {},
   "source": [
    "**1(b)** (3 pts) The *ruler sequence* is\n",
    "\n",
    "$$1, 2, 2, 3, 3, 4, 4, 4, 5, 5, 5, 6, 6, 6, 7, 7, 7, 7\\dots$$\n",
    "\n",
    "The first number (1) appears once; the next two numbers (2 and 3) appear twice, the next three numbers appear three times, etc."
   ]
  },
  {
   "cell_type": "code",
   "execution_count": 63,
   "metadata": {
    "tags": []
   },
   "outputs": [
    {
     "name": "stdout",
     "output_type": "stream",
     "text": [
      "1\n",
      "2\n",
      "2\n",
      "3\n",
      "3\n",
      "4\n",
      "4\n",
      "4\n",
      "5\n",
      "5\n",
      "5\n",
      "6\n",
      "6\n",
      "6\n",
      "7\n",
      "7\n",
      "7\n",
      "7\n",
      "8\n",
      "8\n"
     ]
    }
   ],
   "source": [
    "def ruler():\n",
    "    index = 0\n",
    "    cycle = 1\n",
    "    count = 0\n",
    "    num = 1\n",
    "    while True:\n",
    "        index += 1\n",
    "\n",
    "        count += 1\n",
    "\n",
    "        yield num\n",
    "\n",
    "        if count == cycle:\n",
    "            count = 0\n",
    "            num += 1\n",
    "\n",
    "        if index == cycle**2:\n",
    "            cycle = cycle + 1\n",
    "            index = 0\n",
    "\n",
    "\n",
    "# def ruler():\n",
    "#     pass\n",
    "#     i = 0\n",
    "#     while True:\n",
    "#         i = i+1\n",
    "#         cycle = check_cycle(i)\n",
    "#         # print('cycle', cycle)\n",
    "#         # print('place within a cycle' ,i - sum([j**2 for j in range(cycle)]))\n",
    "#         yield (i-1 - sum([j**2 for j in range(cycle)]))//cycle + (cycle-1)*cycle//2 + 1\n",
    "\n",
    "\n",
    "# def check_cycle(num):\n",
    "#     i = 0\n",
    "#     while True:\n",
    "#         # print('test sum', i, sum([j**2 for j in range(i)]))\n",
    "#         if sum([j**2 for j in range(i)]) >= num:\n",
    "#             # print('test i', i)\n",
    "#             return i-1\n",
    "#         i += 1\n",
    "\n",
    "\n",
    "e = ruler()\n",
    "for i in range(20):\n",
    "    print(next(e))\n"
   ]
  },
  {
   "cell_type": "code",
   "execution_count": 64,
   "metadata": {
    "deletable": false,
    "editable": false
   },
   "outputs": [
    {
     "data": {
      "text/html": [
       "<p><strong><pre style='display: inline;'>q1b</pre></strong> passed!</p>"
      ],
      "text/plain": [
       "q1b results: All test cases passed!"
      ]
     },
     "execution_count": 64,
     "metadata": {},
     "output_type": "execute_result"
    }
   ],
   "source": [
    "grader.check(\"q1b\")"
   ]
  },
  {
   "cell_type": "markdown",
   "metadata": {},
   "source": [
    "**1(c)** (3 pts) The look-and-say sequence  \n",
    "\n",
    "$$1, 11, 21, 1211, 111221, 312211, 13112221, 1113213211, \\dots$$\n",
    "\n",
    "is generated as follows:\n",
    "\n",
    "1. The first entry is one.\n",
    "2. The second entry is generated by reading the first entry aloud: \"one one\"\n",
    "3. The third entry is generated by reading the second entry aloud: \"two ones\"\n",
    "4. The fourth entry is generated by reading the third entry aloud: \"one two and one one\"\n",
    "5. The fifth entry is therefore \"one one, one two, and two ones\"\n",
    "\n",
    "... and so forth. Note that each entry of the sequence should be a `str` object.\n"
   ]
  },
  {
   "cell_type": "code",
   "execution_count": 65,
   "metadata": {
    "tags": []
   },
   "outputs": [
    {
     "name": "stdout",
     "output_type": "stream",
     "text": [
      "1\n",
      "11\n",
      "21\n",
      "1211\n",
      "111221\n",
      "312211\n",
      "13112221\n",
      "1113213211\n",
      "31131211131221\n",
      "13211311123113112211\n"
     ]
    }
   ],
   "source": [
    "def look_say():\n",
    "    nums = \"1\"\n",
    "    while True:\n",
    "        yield nums\n",
    "        res = \"\"\n",
    "        tmp = nums[0]\n",
    "        count = 0\n",
    "        for num in nums:\n",
    "            if num == tmp:\n",
    "                count += 1\n",
    "            if num != tmp:\n",
    "                res += str(count)\n",
    "                res += str(tmp)\n",
    "                tmp = num\n",
    "                count = 1\n",
    "        res += str(count)\n",
    "        res += str(tmp)\n",
    "\n",
    "        nums = res\n",
    "\n",
    "\n",
    "e = look_say()\n",
    "for i in range(10):\n",
    "    print(next(e))\n"
   ]
  },
  {
   "cell_type": "code",
   "execution_count": 66,
   "metadata": {
    "deletable": false,
    "editable": false
   },
   "outputs": [
    {
     "data": {
      "text/html": [
       "<p><strong><pre style='display: inline;'>q1c</pre></strong> passed!</p>"
      ],
      "text/plain": [
       "q1c results: All test cases passed!"
      ]
     },
     "execution_count": 66,
     "metadata": {},
     "output_type": "execute_result"
    }
   ],
   "source": [
    "grader.check(\"q1c\")"
   ]
  },
  {
   "cell_type": "markdown",
   "metadata": {},
   "source": [
    "**1(d)** (3 pts) July 2022 is a special month: it contains 5 Fridays, 5 Saturdays, and 5 Sundays. Write a generator that, starting with July, 2022, generates each successive special month (according to this definition) in order. The format of each generated entry should be a string of the form `\"<month> <year>\"`, for example `\"July 2022\"`, `\"December 2845\"`, etc. *Hint*: you may find the `calendar` module useful."
   ]
  },
  {
   "cell_type": "code",
   "execution_count": 67,
   "metadata": {
    "tags": []
   },
   "outputs": [
    {
     "name": "stdout",
     "output_type": "stream",
     "text": [
      "July 2022\n",
      "December 2023\n",
      "March 2024\n",
      "August 2025\n",
      "May 2026\n"
     ]
    }
   ],
   "source": [
    "import calendar\n",
    "\n",
    "\n",
    "def special_months():\n",
    "    month = 7\n",
    "    year = 2022\n",
    "    # for month in range(1,13):\n",
    "    while True:\n",
    "        c = calendar.monthcalendar(year, month)\n",
    "        count = [0, 0, 0]\n",
    "        for week in c:\n",
    "            for i, day in enumerate([calendar.FRIDAY, calendar.SATURDAY, calendar.SUNDAY]):\n",
    "                if week[day] != 0:\n",
    "                    count[i] += 1\n",
    "                # print(week,week[day])\n",
    "        # print(count)\n",
    "        if count == [5, 5, 5]:\n",
    "            yield \"{} {}\".format(calendar.month_name[month], year)\n",
    "\n",
    "        month += 1\n",
    "        if month == 13:\n",
    "            month = 1\n",
    "            year += 1\n",
    "        # break\n",
    "\n",
    "\n",
    "e = special_months()\n",
    "for i in range(5):\n",
    "    print(next(e))\n"
   ]
  },
  {
   "cell_type": "code",
   "execution_count": 68,
   "metadata": {
    "deletable": false,
    "editable": false
   },
   "outputs": [
    {
     "data": {
      "text/html": [
       "<p><strong><pre style='display: inline;'>q1d</pre></strong> passed!</p>"
      ],
      "text/plain": [
       "q1d results: All test cases passed!"
      ]
     },
     "execution_count": 68,
     "metadata": {},
     "output_type": "execute_result"
    }
   ],
   "source": [
    "grader.check(\"q1d\")"
   ]
  },
  {
   "cell_type": "markdown",
   "metadata": {},
   "source": [
    "**1(e)** (3 pts) A palindromic date is a date that reads the same forwards and backwards when written in standard `M-D-YY` format. This year, the palindromic dates are 2-2-22 and 2-20-22 through 2-28-22. (Dates with single-digit years are written with no leading zero, e.g. 1-1-1 for January 1, 2001). Starting with today, write a generator that returns all future palindromic dates:\n",
    "\n",
    "```\n",
    ">>> g = palindromic_dates()\n",
    ">>> next(g)\n",
    "\"February 2, 2022\"\n",
    ">>> next(g)\n",
    "\"February 20, 2022\"\n",
    "...\n",
    ">>> next(g)\n",
    "\"February 28, 2022\"\n",
    ">>> next(g)\n",
    "\"March 2, 2023\"\n",
    "```"
   ]
  },
  {
   "cell_type": "code",
   "execution_count": 69,
   "metadata": {
    "tags": []
   },
   "outputs": [
    {
     "name": "stdout",
     "output_type": "stream",
     "text": [
      "February 2, 2022\n",
      "February 20, 2022\n",
      "February 21, 2022\n",
      "February 22, 2022\n",
      "February 23, 2022\n",
      "February 24, 2022\n",
      "February 25, 2022\n",
      "February 26, 2022\n",
      "February 27, 2022\n",
      "February 28, 2022\n"
     ]
    }
   ],
   "source": [
    "day = 2\n",
    "month = 2\n",
    "year = 2022\n",
    "\n",
    "\n",
    "def palindromic_dates():\n",
    "    day = 2\n",
    "    month = 2\n",
    "    year = 2022\n",
    "    while True:\n",
    "        # Check if palindromic\n",
    "        res = str(month).lstrip('0') + str(day).lstrip('0') + \\\n",
    "            str(year)[-2:].lstrip('0')\n",
    "        # print(res)\n",
    "        if res == res[::-1]:\n",
    "            yield \"{} {}, {}\".format(calendar.month_name[month], day, year)\n",
    "        # Count Num of day in a month\n",
    "        day += 1\n",
    "        if day > calendar.monthrange(year, month)[1]:\n",
    "            day = 1\n",
    "            month += 1\n",
    "        if month == 13:\n",
    "            month = 1\n",
    "            year += 1\n",
    "\n",
    "        # break\n",
    "# print()\n",
    "e = palindromic_dates()\n",
    "for i in range(10):\n",
    "    print(next(e))\n"
   ]
  },
  {
   "cell_type": "code",
   "execution_count": 70,
   "metadata": {
    "deletable": false,
    "editable": false
   },
   "outputs": [
    {
     "data": {
      "text/html": [
       "<p><strong><pre style='display: inline;'>q1e</pre></strong> passed!</p>"
      ],
      "text/plain": [
       "q1e results: All test cases passed!"
      ]
     },
     "execution_count": 70,
     "metadata": {},
     "output_type": "execute_result"
    }
   ],
   "source": [
    "grader.check(\"q1e\")"
   ]
  },
  {
   "cell_type": "markdown",
   "metadata": {},
   "source": [
    "### Question 2: Simple ciphers\n",
    "\n",
    "A *cipher* is an algorithm for encrypting or decrypting a text message, called *plaintext*, into *ciphertext*. In this exercise, we will assume that all plaintext to be encrypted or decrypted are composed of the lower-case Roman alphabet, without any punctuation or whitespace. Examples of such messages could be\n",
    "\n",
    "```attackatdawn```\n",
    "\n",
    "or \n",
    "\n",
    "```iamajellyfilleddonut```."
   ]
  },
  {
   "cell_type": "markdown",
   "metadata": {},
   "source": [
    "**2(a)** (4 pts) One of the oldest known ciphers is the [Caesar cipher](https://en.wikipedia.org/wiki/Caesar_cipher) or shift cipher, attributed to the Roman emperor. <img src=\"https://upload.wikimedia.org/wikipedia/commons/b/b4/Bust_of_Julius_Caesar_from_History_of_the_World_%281902%29.png\" width=100 style=\"float: right; margin: 0 0 10px 10px;\" /> The cipher works by shifting all letters of the alphabet by a pre-specified integer $k$. For example, if $k=+1$ then the plaintext\n",
    "\n",
    "```thequickbrownfoxjumpsoverthelazydog```\n",
    "\n",
    "encrypts to the ciphertext\n",
    "\n",
    "```uifrvjdlcspxogpykvnqtpwfsuifmbazeph```\n",
    "\n",
    "(Notice that in this example the letter `z` in `lazy` wrapped around to become an `a`.) \n",
    "\n",
    "Write two functions, `enc_caesar(s, k)` and `dec_caesar(s, k)` that respectively encrypt and decrypt the string `s` using the Caesar cipher, based on the integer key `k`."
   ]
  },
  {
   "cell_type": "code",
   "execution_count": 71,
   "metadata": {
    "tags": []
   },
   "outputs": [],
   "source": [
    "def enc_caesar(s: str, k: int) -> str:\n",
    "    '''\n",
    "    Encrypt the message s using Ceasar cipher with key k.\n",
    "\n",
    "    >>> enc_caeasar('thequickbrownfoxjumpsoverthelazydog', 1)\n",
    "    'uifrvjdlcspxogpykvnqtpwfsuifmbazeph'\n",
    "    '''\n",
    "    return \"\".join([chr((ord(ss) + k - ord('a')) % 26 + ord('a')) for ss in s])\n",
    "\n",
    "\n",
    "enc_caesar('thequickbrownfoxjumpsoverthelazydog', 1)\n",
    "\n",
    "\n",
    "def dec_caesar(s: str, k: int) -> str:\n",
    "    '''\n",
    "    Decrypt the message s using Ceasar cypher with key k.\n",
    "\n",
    "    >>> dec_caeasar('uifrvjdlcspxogpykvnqtpwfsuifmbazeph', 1)\n",
    "    'thequickbrownfoxjumpsoverthelazydog'\n",
    "    '''\n",
    "    return \"\".join([chr((ord(ss) - k - ord('a')) % 26 + ord('a')) for ss in s])\n"
   ]
  },
  {
   "cell_type": "code",
   "execution_count": 72,
   "metadata": {
    "deletable": false,
    "editable": false
   },
   "outputs": [
    {
     "data": {
      "text/html": [
       "<p><strong><pre style='display: inline;'>q2a</pre></strong> passed!</p>"
      ],
      "text/plain": [
       "q2a results: All test cases passed!"
      ]
     },
     "execution_count": 72,
     "metadata": {},
     "output_type": "execute_result"
    }
   ],
   "source": [
    "grader.check(\"q2a\")"
   ]
  },
  {
   "cell_type": "markdown",
   "metadata": {},
   "source": [
    "<img src=\"https://upload.wikimedia.org/wikipedia/commons/9/9a/Vigenère_square_shading.svg\" style=\"float: right; margin: 0 0 10px 10px\" width=300 />\n",
    "\n",
    "\n",
    "**2(b)** (4 pts) The Caesar ciphers are easily broken since the key can either be guessed, or is often widely available. A much more secure cipher is the [Vigenère cipher](https://en.wikipedia.org/wiki/Vigenère_cipher), which is keyed using a pre-specified word. The cipher works using a [tabula recta](https://en.wikipedia.org/wiki/Tabula_recta), a picture of which is shown to the right. \n",
    "\n",
    "Given a message `s` to be encrypted, the key `k` is repeated until it has the same length as `s`. Then each entry of the encrypted message `e` is obtained by looking up the corresponding **row** in `k`, and the correspending  **column** in `s`, in the tabula recta.\n",
    "\n",
    "For example, suppose the message is `hello`, and the key is `sun`. We repeat the key until it has the same length as hello: `sunsu`. Then we encrypt the message by looking up the each entry in the table: `(s,h) (u,e) (n,l) (s,l) (u,o)`. The resulting string is `zyydi`."
   ]
  },
  {
   "cell_type": "code",
   "execution_count": 73,
   "metadata": {
    "tags": []
   },
   "outputs": [
    {
     "data": {
      "text/plain": [
       "'mfpmiikzteu'"
      ]
     },
     "execution_count": 73,
     "metadata": {},
     "output_type": "execute_result"
    }
   ],
   "source": [
    "# repeat the key to have the same length with the text\n",
    "def rep(key, text):\n",
    "    a, b = divmod(len(text), len(key))\n",
    "    return key * a + key[:b]\n",
    "\n",
    "\n",
    "def enc_vignere(s: str, k: str) -> str:\n",
    "    \"Encrypt s using Vignere cipher with key k\"\n",
    "    new_key = rep(k, s)\n",
    "    # for kk,ss in zip(new_key,s):\n",
    "    #     print(kk,ss)\n",
    "    #     print(ord(kk),ord(ss))\n",
    "    #     tmp = (ord(kk) + (ord(ss) - ord('a')) % 26 - ord('a'))%26 + ord('a')\n",
    "    #     print(tmp, chr(tmp))\n",
    "    return \"\".join([chr((ord(kk) + (ord(ss) - ord('a')) % 26 - ord('a')) % 26 + ord('a')) for kk, ss in zip(new_key, s)])\n",
    "\n",
    "\n",
    "enc_vignere(\"hello\", \"sun\")\n",
    "\n",
    "\n",
    "def dec_vignere(s: str, k: str) -> str:\n",
    "    \"Decrypt s which was encrypted by Vignere cipher using key k\"\n",
    "    \"s: cipher k: key\"\n",
    "    new_key = rep(k, s)\n",
    "    # for kk,ss in zip(new_key,s):\n",
    "    #     print(kk,ss)\n",
    "    #     print(ord(kk),ord(ss))\n",
    "    #     tmp = (ord(ss) - ord(kk)) % 26 + ord('a')\n",
    "    #     print(tmp, chr(tmp))\n",
    "    return \"\".join([chr((ord(ss) - ord(kk)) % 26 + ord('a')) for kk, ss in zip(new_key, s)])\n",
    "\n",
    "enc_vignere('mfpcguckrfp', 'aaakcoipczf')"
   ]
  },
  {
   "cell_type": "code",
   "execution_count": 74,
   "metadata": {
    "deletable": false,
    "editable": false
   },
   "outputs": [
    {
     "data": {
      "text/html": [
       "<p><strong><pre style='display: inline;'>q2b</pre></strong> passed!</p>"
      ],
      "text/plain": [
       "q2b results: All test cases passed!"
      ]
     },
     "execution_count": 74,
     "metadata": {},
     "output_type": "execute_result"
    }
   ],
   "source": [
    "grader.check(\"q2b\")"
   ]
  },
  {
   "cell_type": "markdown",
   "metadata": {},
   "source": [
    "<!-- BEGIN QUESTION -->\n",
    "\n",
    "**2(c)** Suppose you are an attacker trying to decrypt a message by randomly guessing the key. What is your chance of guessing the key correctly on the first try if the message is encrypted using the Caesar cipher? What about for the Vignére cipher?"
   ]
  },
  {
   "cell_type": "markdown",
   "metadata": {},
   "source": [
    "_Type your answer here, replacing this text._"
   ]
  },
  {
   "cell_type": "markdown",
   "metadata": {},
   "source": [
    "<!-- END QUESTION -->\n",
    "\n",
    "<!-- BEGIN QUESTION -->\n",
    "\n",
    "**2(d)** (3 pts) A [one-time pad](https://en.wikipedia.org/wiki/One-time_pad) (OTP) is a special type of Vignére cipher where the key is a randomly generated string equal in length to the message that is to be encoded. It can be mathematically proved that an OTP is crytographically perfect, in the sense that the enciphered message provides no information about the original message. Convince yourself of this fact by performing the following experiment:\n",
    "\n",
    "1. Pick a message of your choosing to be encrypted. It should be not too short or too long (~20 characters).\n",
    "2. Repeat a large number of times:\n",
    "    - Generate a random string of the same length as the message. (Hint: the `random.choices` method may be useful here.)\n",
    "    - Encrypt the message using this string as the key.\n",
    "    - Save the resulting encrypted message for later analysis.\n",
    "\n",
    "Now consider the first letter of each of the encrypted messages that you generated in step 2. This is a random variable that has a particular distribution, from which we have drawn a large number of samples. Estimate the distribution of this random variable using a histogram.  (You may find the counting functions you wrote for PS1 useful here.) What if I consider the joint distribution of the first two letters (or any pair of letters more generally)---what is their joint distribution? Suppose you are an attacker who wants to decrypt the encrypted message: do the results of these simulations suggest that this is feasible? Why or why not? "
   ]
  },
  {
   "cell_type": "markdown",
   "metadata": {},
   "source": [
    "_Type your answer here, replacing this text._"
   ]
  },
  {
   "cell_type": "code",
   "execution_count": 75,
   "metadata": {
    "tags": []
   },
   "outputs": [
    {
     "data": {
      "text/plain": [
       "(array([0.15324706, 0.        , 0.        , 0.        , 0.15169412,\n",
       "        0.        , 0.        , 0.        , 0.15437647, 0.        ,\n",
       "        0.        , 0.        , 0.15383529, 0.        , 0.        ,\n",
       "        0.        , 0.15280784, 0.        , 0.        , 0.        ,\n",
       "        0.15358431, 0.        , 0.        , 0.        , 0.15192157,\n",
       "        0.        , 0.        , 0.        , 0.15461176, 0.        ,\n",
       "        0.        , 0.        , 0.15404706, 0.        , 0.        ,\n",
       "        0.        , 0.15388235, 0.        , 0.        , 0.        ,\n",
       "        0.15395294, 0.        , 0.        , 0.        , 0.15527843,\n",
       "        0.        , 0.        , 0.        , 0.1538902 , 0.        ,\n",
       "        0.        , 0.        , 0.15423529, 0.        , 0.        ,\n",
       "        0.        , 0.15478431, 0.        , 0.        , 0.        ,\n",
       "        0.15403922, 0.        , 0.        , 0.        , 0.15489412,\n",
       "        0.        , 0.        , 0.        , 0.15322353, 0.        ,\n",
       "        0.        , 0.        , 0.15367843, 0.        , 0.        ,\n",
       "        0.        , 0.15425098, 0.        , 0.        , 0.        ,\n",
       "        0.15403137, 0.        , 0.        , 0.        , 0.15316863,\n",
       "        0.        , 0.        , 0.        , 0.15361569, 0.        ,\n",
       "        0.        , 0.        , 0.15552941, 0.        , 0.        ,\n",
       "        0.        , 0.15312157, 0.        , 0.        , 0.15429804]),\n",
       " array([ 97.  ,  97.25,  97.5 ,  97.75,  98.  ,  98.25,  98.5 ,  98.75,\n",
       "         99.  ,  99.25,  99.5 ,  99.75, 100.  , 100.25, 100.5 , 100.75,\n",
       "        101.  , 101.25, 101.5 , 101.75, 102.  , 102.25, 102.5 , 102.75,\n",
       "        103.  , 103.25, 103.5 , 103.75, 104.  , 104.25, 104.5 , 104.75,\n",
       "        105.  , 105.25, 105.5 , 105.75, 106.  , 106.25, 106.5 , 106.75,\n",
       "        107.  , 107.25, 107.5 , 107.75, 108.  , 108.25, 108.5 , 108.75,\n",
       "        109.  , 109.25, 109.5 , 109.75, 110.  , 110.25, 110.5 , 110.75,\n",
       "        111.  , 111.25, 111.5 , 111.75, 112.  , 112.25, 112.5 , 112.75,\n",
       "        113.  , 113.25, 113.5 , 113.75, 114.  , 114.25, 114.5 , 114.75,\n",
       "        115.  , 115.25, 115.5 , 115.75, 116.  , 116.25, 116.5 , 116.75,\n",
       "        117.  , 117.25, 117.5 , 117.75, 118.  , 118.25, 118.5 , 118.75,\n",
       "        119.  , 119.25, 119.5 , 119.75, 120.  , 120.25, 120.5 , 120.75,\n",
       "        121.  , 121.25, 121.5 , 121.75, 122.  ]),\n",
       " <BarContainer object of 100 artists>)"
      ]
     },
     "execution_count": 75,
     "metadata": {},
     "output_type": "execute_result"
    },
    {
     "data": {
      "image/png": "[encoded data removed]",
      "text/plain": [
       "<Figure size 432x288 with 1 Axes>"
      ]
     },
     "metadata": {
      "needs_background": "light"
     },
     "output_type": "display_data"
    }
   ],
   "source": [
    "import random\n",
    "import numpy as np\n",
    "import matplotlib.pyplot as plt\n",
    "message = \"Hey! My name is Yuan Xiazi, I'll withdraw the class\"\n",
    "record = []\n",
    "for i in range(10000):\n",
    "    # print(\"\".join(random.choices([chr(i+ord('a')) for i in range(26)], k = len(message))))\n",
    "    s = random.choices([(i+ord('a')) for i in range(26)], k=len(message))\n",
    "    # for c in s:\n",
    "    #     if c in record:\n",
    "    #         record[c] += 1\n",
    "    #     else:\n",
    "    #         record[c] = 1\n",
    "    record += s\n",
    "    # break\n",
    "\n",
    "# x = np.arange(100)\n",
    "# Start Drawing the Plot\n",
    "plt.hist(record, alpha=0.5, bins=100, density=True, stacked=True)\n"
   ]
  },
  {
   "cell_type": "markdown",
   "metadata": {
    "tags": []
   },
   "source": [
    "<!-- END QUESTION -->\n",
    "\n",
    "### Question 3: Book ciphers\n",
    "<img src=\"https://upload.wikimedia.org/wikipedia/commons/e/e8/King-James-Version-Bible-first-edition-title-page-1611.png\" width=200 style=\"float: right; margin: 0 0 10px 10px\" />\n",
    "\n",
    "A [bible cipher](https://en.wikipedia.org/wiki/Book_cipher) uses the King James Bible (or some other widely available text) as the key. The cipher works by replacing each word in the message with a reference to a particular location in the Bible where that word occurs. \n",
    "\n",
    "The bible is organized hierarchically into *books*, *chapters*, and *verses*. For example, the first sentence in the King James Bible is \n",
    "\n",
    ">In the beginning God created the heaven and the earth. (Genesis 1:1)\n",
    "\n",
    "This is the first sentence of the Book of Genesis, chapter 1, verse 1. In a bible cipher, an occurrence the word \"beginning\" in the plaintext message could be replaced by the tuple `(0,0,0,2)`, in reference to the third word of the first book, first chapter, and first verse of the Bible."
   ]
  },
  {
   "cell_type": "markdown",
   "metadata": {
    "tags": []
   },
   "source": [
    "**3(a)** (3 pts) The file `kjv.txt` contains complete text of the King James Bible. \n",
    "\n",
    "Parse this file into a data structure `bible` \n",
    "such that calling `bible[book][chapter][verse][i]` returns the `i`th word of the corresponding book, chapter and verse. Here `book`, `chapter`, and `verse`, and `i` are integers representing the (0-indexed) position of corresponding word. You should convert all words to lowercase and remove anything that is not an alphabetic character or a space:\n",
    "\n",
    "```\n",
    ">>> bible[0][0][0]\n",
    "['in', 'the', 'beginning', 'god', 'created', 'the', 'heaven', 'and', 'the', 'earth']\n",
    ">>> bible[42][2][15]\n",
    "['for', 'god', 'so', 'loved', 'the', 'world', 'that', 'he', 'gave', 'his', 'only', 'begotten', 'son']\n",
    "```"
   ]
  },
  {
   "cell_type": "code",
   "execution_count": 76,
   "metadata": {
    "tags": []
   },
   "outputs": [],
   "source": [
    "bible_d = open('kjv.txt')\n",
    "bible = []\n",
    "book_id = -1\n",
    "chap_id = -1\n",
    "verse_id = -1\n",
    "for line in bible_d.readlines():\n",
    "    # Detect book\n",
    "    line = line.lower()\n",
    "    if line.startswith('##'):\n",
    "        book_id += 1\n",
    "        chap_id = -1\n",
    "        verse_id = -1\n",
    "        bible.append([])\n",
    "    else:\n",
    "        if line.startswith('['): # New Chap:Verse \n",
    "            tmp = line[1:line.find(']')]\n",
    "            chap, verse = tmp.split(':')\n",
    "            if int(chap)-1 != chap_id:\n",
    "                bible[book_id].append([])\n",
    "                chap_id += 1\n",
    "                verse_id = -1\n",
    "            if int(verse)-1 != verse_id:\n",
    "                bible[book_id][chap_id].append([])\n",
    "                verse_id += 1\n",
    "            line = line[line.find(']')+1:]\n",
    "        # Start Loading the Word\n",
    "        line = line.strip()\n",
    "        new_line = \"\"\n",
    "        for w in line:\n",
    "            if ord(w)>= ord('a') and ord(w)<=ord('z') or ord(w)>=ord('0') and ord(w)<=ord('9'):\n",
    "                new_line+=w\n",
    "            elif ord(w)==ord(' '):\n",
    "                if new_line[-1] != ' ':\n",
    "                    new_line+=w\n",
    "        new_line = new_line.strip()\n",
    "        if len(new_line)==0:\n",
    "            continue\n",
    "        else:\n",
    "            words = new_line.strip().split(' ')\n",
    "            # if '' in words:\n",
    "            #     words.remove('')\n",
    "            # words = words.remove('')\n",
    "            bible[book_id][chap_id][verse_id] += words"
   ]
  },
  {
   "cell_type": "code",
   "execution_count": 77,
   "metadata": {
    "deletable": false,
    "editable": false
   },
   "outputs": [
    {
     "data": {
      "text/html": [
       "<p><strong><pre style='display: inline;'>q3a</pre></strong> passed!</p>"
      ],
      "text/plain": [
       "q3a results: All test cases passed!"
      ]
     },
     "execution_count": 77,
     "metadata": {},
     "output_type": "execute_result"
    }
   ],
   "source": [
    "grader.check(\"q3a\")"
   ]
  },
  {
   "cell_type": "markdown",
   "metadata": {},
   "source": [
    "**3(b)** (3 pts) In order to encode quickly encode a message, we need to be able to efficiently map a given word to all of its location(s) in the bible. Create a second data structure `bible_inv` such that `bible_inv[word]` contains a list of all the locations where that word occurs in `bible`. Each location should be encoded as a 4-tuple of integers, such that the following identity holds:\n",
    "```\n",
    "for b, c, v, w in bible_inv[word]:\n",
    "    assert bible[b][c][v][w] == word\n",
    "```"
   ]
  },
  {
   "cell_type": "code",
   "execution_count": 78,
   "metadata": {
    "tags": []
   },
   "outputs": [],
   "source": [
    "bible_inv = {}\n",
    "for b_id, book in enumerate(bible):\n",
    "    for c_id, chap in enumerate(book):\n",
    "        for v_id, verse in enumerate(chap):\n",
    "            for w_id, word in enumerate(verse):\n",
    "                if not word in bible_inv:\n",
    "                    bible_inv[word] = [(b_id, c_id, v_id, w_id)]\n",
    "                else:\n",
    "                    bible_inv[word].append((b_id, c_id, v_id, w_id))\n",
    "    # print(b_id, c_id)"
   ]
  },
  {
   "cell_type": "code",
   "execution_count": 79,
   "metadata": {},
   "outputs": [],
   "source": [
    "for word in ['dawn', 'light', 'heaven']:\n",
    "    for b, c, v, w in bible_inv[word]:\n",
    "        assert bible[b][c][v][w] == word"
   ]
  },
  {
   "cell_type": "code",
   "execution_count": 80,
   "metadata": {
    "deletable": false,
    "editable": false
   },
   "outputs": [
    {
     "data": {
      "text/html": [
       "<p><strong><pre style='display: inline;'>q3b</pre></strong> passed!</p>"
      ],
      "text/plain": [
       "q3b results: All test cases passed!"
      ]
     },
     "execution_count": 80,
     "metadata": {},
     "output_type": "execute_result"
    }
   ],
   "source": [
    "grader.check(\"q3b\")"
   ]
  },
  {
   "cell_type": "markdown",
   "metadata": {},
   "source": [
    "**3(c)** (3 pts) Finally, create the functions `enc_bible(s, bible_inv)` and `dec_bible(s, bible)` which encode and decode the string `s` given the mappings `bible` and `bible_inv` above. The output of `enc_bible` should be a string of hyphen-separated 4-tuples:\n",
    "\n",
    "```\n",
    ">>> m = enc_bible(\"the eagle flies at dawn\", bible_inv)\n",
    ">>> m\n",
    "'5-20-42-7 25-16-2-9 18-77-44-5 25-23-17-10 39-27-0-10'\n",
    ">>> dec_bible(m, bible)\n",
    "\"the eagle flies at dawn\"\n",
    "```\n",
    "\n",
    "You may assume that any plaintext phrase `s` consists of entirely of unpunctuated lowercase words that exist in the bible.\n",
    "\n",
    "**Note**: the output of `enc_bible` is not necessarily unique."
   ]
  },
  {
   "cell_type": "code",
   "execution_count": null,
   "metadata": {
    "tags": []
   },
   "outputs": [],
   "source": [
    "def enc_bible(s, bible_inv):\n",
    "    import random\n",
    "    def tuple_to_key(tup):\n",
    "        return \"-\".join(map(str, tup))\n",
    "    return \" \".join(tuple_to_key(random.choice(bible_inv[w])) for w in s.split(\" \"))\n",
    "\n",
    "def dec_bible(s, bible):\n",
    "    ret = []\n",
    "    for word in s.split(\" \"):\n",
    "        b, c, v, w = map(int, word.split(\"-\"))\n",
    "        ret.append(bible[b][c][v][w])\n",
    "    return \" \".join(ret)"
   ]
  },
  {
   "cell_type": "code",
   "execution_count": null,
   "metadata": {
    "deletable": false,
    "editable": false
   },
   "outputs": [
    {
     "data": {
      "text/html": [
       "<p><strong><pre style='display: inline;'>q3c</pre></strong> passed!</p>"
      ],
      "text/plain": [
       "q3c results: All test cases passed!"
      ]
     },
     "execution_count": 53,
     "metadata": {},
     "output_type": "execute_result"
    }
   ],
   "source": [
    "grader.check(\"q3c\")"
   ]
  },
  {
   "cell_type": "markdown",
   "metadata": {},
   "source": [
    "**3(d)** (3 pts) One weakness of a book cipher is that it is not possible to encrypt a message containing words that are not found in the book. For example, I cannot encrypt the message `\"i heart sushi\"` using the bible cipher. Work around this limitation by creating a function `closest_encryptable(s, bible_inv)` which returns a copy of the plaintext `s` where each word in `s` that is not found in the bible has been replaced by its \"nearest match\" that *is* in the bible. \n",
    "\n",
    "```\n",
    ">>> closest_encryptable(\"i heart sushi\", bible_inv)\n",
    "\"i heart susi\"\n",
    "```\n",
    "\n",
    "To measure the closeness between two words, we will use the function `difflib.SequenceMatcher`:"
   ]
  },
  {
   "cell_type": "code",
   "execution_count": null,
   "metadata": {},
   "outputs": [
    {
     "name": "stdout",
     "output_type": "stream",
     "text": [
      "[0.8, 0.2]\n"
     ]
    }
   ],
   "source": [
    "from difflib import SequenceMatcher\n",
    "print([SequenceMatcher(a=\"sushi\", b=w).ratio() for w in (\"shush\", \"pizza\")])  # high vs low score"
   ]
  },
  {
   "cell_type": "markdown",
   "metadata": {},
   "source": [
    "In the event of a tie score, pick the word that comes first in alphabetical order. You can again assume that `s` is composed of unpunctuated lower-case words separated by spaces, as in the example."
   ]
  },
  {
   "cell_type": "code",
   "execution_count": null,
   "metadata": {
    "tags": []
   },
   "outputs": [
    {
     "data": {
      "text/plain": [
       "'traitor is so lift'"
      ]
     },
     "execution_count": 55,
     "metadata": {},
     "output_type": "execute_result"
    }
   ],
   "source": [
    "def closest_encryptable(s, bible_inv):\n",
    "    res = []\n",
    "    s = s.lower().strip()\n",
    "    # bible_inv = sorted(bible_inv)\n",
    "    keys = sorted(bible_inv.keys(), reverse=True)\n",
    "    for ss in s.split(' '):\n",
    "        if ss in keys:\n",
    "            res.append(ss)\n",
    "            continue\n",
    "        score = [SequenceMatcher(a=ss, b=w).ratio() for w in keys]\n",
    "        idx = score.index(max(score))\n",
    "        # print(idx, list(bible_inv.keys())[idx]) # high vs low score\n",
    "        res.append(keys[idx])\n",
    "    return \" \".join(res)\n",
    "        \n",
    "closest_encryptable(\"tiktok is so lit\", bible_inv)\n",
    "# tmp = sorted(bible_inv.keys())\n",
    "# tmp   "
   ]
  },
  {
   "cell_type": "code",
   "execution_count": null,
   "metadata": {
    "deletable": false,
    "editable": false
   },
   "outputs": [
    {
     "data": {
      "text/html": [
       "<p><strong><pre style='display: inline;'>q3d</pre></strong> passed!</p>"
      ],
      "text/plain": [
       "q3d results: All test cases passed!"
      ]
     },
     "execution_count": 56,
     "metadata": {},
     "output_type": "execute_result"
    }
   ],
   "source": [
    "grader.check(\"q3d\")"
   ]
  },
  {
   "cell_type": "markdown",
   "metadata": {},
   "source": [
    "<!-- BEGIN QUESTION -->\n",
    "\n",
    "### Question 4: A peculiar file format (5 pts)\n",
    "\n",
    "The file `q4.dat` contains string data which has been encoded as follows:\n",
    "- The first byte represents an unsigned integer $k_1$.\n",
    "- The next $k_1$ bytes of the file represent $k_1$ ASCII characters of the message.\n",
    "- The next character (the $k_1+1$-st) contains an unsigned integer $k_2$.\n",
    "- The next $k_2$ bytes contain additional `data`. \n",
    "- ... and so on.\n",
    "\n",
    "Decode the message.\n",
    "\n",
    "Hints:\n",
    "- `file.read(b)` reads `b` bytes from an open file `file`.\n",
    "- To convert a byte to an integer, use the function `int.from_bytes()`. \n",
    "- To convert bytes to an ASCII string, use `bytes.decode('ascii')`.\n",
    "- By printing out the result, it will be obvious if you have correctly decoded the message or not."
   ]
  },
  {
   "cell_type": "code",
   "execution_count": null,
   "metadata": {
    "tags": []
   },
   "outputs": [
    {
     "name": "stdout",
     "output_type": "stream",
     "text": [
      "\n",
      "                   ,----,                    ,----,                          ,----,.                       ,----, \n",
      "                 ,/   .`|                  ,/   .`|                        ,'   ,' |                     .'   .`| \n",
      "  .--.--.      ,`   .'  : ,---,          ,`   .'  : .--.--.              ,'   .'   |    ,----..       .'   .'   ; \n",
      " /  /    '.  ;    ;     /'  .' \\       ;    ;     //  /    '.          ,----.'    .'   /   /   \\    ,---, '    .' \n",
      "|  :  /`. /.'___,/    ,'/  ;    '.   .'___,/    ,'|  :  /`. /          |    |   .'    /   .     :   |   :     ./  \n",
      ";  |  |--` |    :     |:  :       \\  |    :     | ;  |  |--`           :    :  |--,  .   /   ;.  \\  ;   | .'  /   \n",
      "|  :  ;_   ;    |.';  ;:  |   /\\   \\ ;    |.';  ; |  :  ;_             :    |  ;.' \\.   ;   /  ` ;  `---' /  ;    \n",
      " \\  \\    `.`----'  |  ||  :  ' ;.   :`----'  |  |  \\  \\    `.          |    |      |;   |  ; \\ ; |    /  ;  /     \n",
      "  `----.   \\   '   :  ;|  |  ;/  \\   \\   '   :  ;   `----.   \\         `----'.'\\   ;|   :  | ; | '   ;  /  /      \n",
      "  __ \\  \\  |   |   |  ''  :  | \\  \\ ,'   |   |  '   __ \\  \\  |           __  \\  .  |.   |  ' ' ' :  /  /  /       \n",
      " /  /`--'  /   '   :  ||  |  '  '--'     '   :  |  /  /`--'  /         /   /\\/  /  :'   ;  \\; /  |./__;  /        \n",
      "'--'.     /    ;   |.' |  :  :           ;   |.'  '--'.     /         / ,,/  ',-   . \\   \\  ',  / |   : /         \n",
      "  `--'---'     '---'   |  | ,'           '---'      `--'---'          \\ ''\\       ;   ;   :    /  ;   |/          \n",
      "                       `--''                                           \\   \\    .'     \\   \\ .'   `---'           \n",
      "                                                                        `--`-,-'        `---`                     \n",
      "                                                                                                                  \n",
      "                                                                                                                  \n"
     ]
    }
   ],
   "source": [
    "with open('q4.dat', 'rb') as f:\n",
    "    while True:\n",
    "        byte = f.read(1)\n",
    "        if not byte:\n",
    "            break\n",
    "        k1 = int.from_bytes(byte,'little')\n",
    "        data = f.read(k1)\n",
    "        data = data.decode('ascii')\n",
    "        print(data, end='')\n"
   ]
  },
  {
   "cell_type": "markdown",
   "metadata": {
    "tags": []
   },
   "source": [
    "<!-- END QUESTION -->\n",
    "\n",
    "<!-- BEGIN QUESTION -->\n",
    "\n",
    "### Question -1 (extra credit; +5)\n",
    "\n",
    "The file `secret.txt` included with this problem set contains an encrypted message. Can you decode it?\n",
    "\n",
    "**Rules**: \n",
    "\n",
    "- In order to get credit, you must document every step that you used to arrive at the solution. Submissions without a plausible explanation of how the solution was derived will receive no points, regardless of correctness.\n",
    "- You may collaborate with others _on this question only_. Your solution should list the name(s) of the your collaborators. Each collaborator will receive $5/(\\text{num. collaborators})$ points in the event of a correct answer.\n",
    "- You may not discuss this problem with anyone except your collaborators."
   ]
  },
  {
   "cell_type": "markdown",
   "metadata": {},
   "source": [
    "_Type your answer here, replacing this text._"
   ]
  },
  {
   "cell_type": "code",
   "execution_count": null,
   "metadata": {},
   "outputs": [
    {
     "ename": "NameError",
     "evalue": "name 'a' is not defined",
     "output_type": "error",
     "traceback": [
      "\u001b[0;31m---------------------------------------------------------------------------\u001b[0m",
      "\u001b[0;31mNameError\u001b[0m                                 Traceback (most recent call last)",
      "\u001b[0;32m/tmp/ipykernel_1519/3978481509.py\u001b[0m in \u001b[0;36m<module>\u001b[0;34m\u001b[0m\n\u001b[0;32m----> 1\u001b[0;31m \u001b[0mwords\u001b[0m \u001b[0;34m=\u001b[0m \u001b[0;34m[\u001b[0m\u001b[0mchr\u001b[0m\u001b[0;34m(\u001b[0m\u001b[0mord\u001b[0m\u001b[0;34m(\u001b[0m\u001b[0ma\u001b[0m\u001b[0;34m)\u001b[0m\u001b[0;34m+\u001b[0m\u001b[0;36m1\u001b[0m\u001b[0;34m)\u001b[0m\u001b[0;34m,\u001b[0m \u001b[0;34m]\u001b[0m\u001b[0;34m\u001b[0m\u001b[0;34m\u001b[0m\u001b[0m\n\u001b[0m",
      "\u001b[0;31mNameError\u001b[0m: name 'a' is not defined"
     ]
    }
   ],
   "source": [
    "words = [chr(ord(a)+1), ]"
   ]
  },
  {
   "cell_type": "markdown",
   "metadata": {},
   "source": [
    "<!-- END QUESTION -->\n",
    "\n"
   ]
  },
  {
   "cell_type": "markdown",
   "metadata": {
    "deletable": false,
    "editable": false
   },
   "source": [
    "---\n",
    "\n",
    "To double-check your work, the cell below will rerun all of the autograder tests."
   ]
  },
  {
   "cell_type": "code",
   "execution_count": null,
   "metadata": {
    "deletable": false,
    "editable": false
   },
   "outputs": [
    {
     "data": {
      "text/plain": [
       "q1a results: All test cases passed!\n",
       "\n",
       "q1b results: All test cases passed!\n",
       "\n",
       "q1c results: All test cases passed!\n",
       "\n",
       "q1d results: All test cases passed!\n",
       "\n",
       "q1e results: All test cases passed!\n",
       "\n",
       "q2a results: All test cases passed!\n",
       "\n",
       "q2b results: All test cases passed!\n",
       "\n",
       "q3a results: All test cases passed!\n",
       "\n",
       "q3b results: All test cases passed!\n",
       "\n",
       "q3c results: All test cases passed!\n",
       "\n",
       "q3d results: All test cases passed!"
      ]
     },
     "execution_count": 67,
     "metadata": {},
     "output_type": "execute_result"
    }
   ],
   "source": [
    "grader.check_all()"
   ]
  },
  {
   "cell_type": "markdown",
   "metadata": {
    "deletable": false,
    "editable": false
   },
   "source": [
    "## Submission\n",
    "\n",
    "Make sure you have run all cells in your notebook in order before running the cell below, so that all images/graphs appear in the output. The cell below will generate a zip file for you to submit. **Please save before exporting!**\n",
    "\n",
    "Upload this .zip file to Gradescope for grading."
   ]
  },
  {
   "cell_type": "code",
   "execution_count": null,
   "metadata": {
    "deletable": false,
    "editable": false
   },
   "outputs": [
    {
     "data": {
      "text/html": [
       "\n",
       "            <p>Your submission has been exported. Click <a href=\"ps3_2022_01_28T23_24_44_119739.zip\" download=\"ps3_2022_01_28T23_24_44_119739.zip\" target=\"_blank\">here</a>\n",
       "            to download the zip file.</p>\n",
       "            "
      ],
      "text/plain": [
       "<IPython.core.display.HTML object>"
      ]
     },
     "metadata": {},
     "output_type": "display_data"
    }
   ],
   "source": [
    "# Save your notebook first, then run this cell to export your submission.\n",
    "grader.export(pdf=False)"
   ]
  },
  {
   "cell_type": "markdown",
   "metadata": {},
   "source": [
    " "
   ]
  }
 ],
 "metadata": {
  "kernelspec": {
   "display_name": "Python 3 (ipykernel)",
   "language": "python",
   "name": "python3"
  },
  "language_info": {
   "codemirror_mode": {
    "name": "ipython",
    "version": 3
   },
   "file_extension": ".py",
   "mimetype": "text/x-python",
   "name": "python",
   "nbconvert_exporter": "python",
   "pygments_lexer": "ipython3",
   "version": "3.7.11"
  },
  "otter": {
   "tests": {
    "q1a": {
     "name": "q1a",
     "points": 2,
     "suites": [
      {
       "cases": [
        {
         "code": ">>> p = primes()\n>>> plist = [2,3,5,7,11,13,17,19,23,29]\n>>> for i in range(10):\n...     assert next(p) == plist[i]\n",
         "hidden": false,
         "locked": false
        }
       ],
       "scored": true,
       "setup": "",
       "teardown": "",
       "type": "doctest"
      }
     ]
    },
    "q1b": {
     "name": "q1b",
     "points": 3,
     "suites": [
      {
       "cases": [
        {
         "code": ">>> r = ruler()\n>>> ruler_numbers = [1, 2, 2, 3, 3, 4, 4, 4, 5, 5, 5, 6, 6, 6, 7, 7, 7, 7, 8, 8, 8, 8]\n>>> for n in ruler_numbers:\n...     assert next(r) == n\n",
         "hidden": false,
         "locked": false
        }
       ],
       "scored": true,
       "setup": "",
       "teardown": "",
       "type": "doctest"
      }
     ]
    },
    "q1c": {
     "name": "q1c",
     "points": 3,
     "suites": [
      {
       "cases": [
        {
         "code": ">>> s = look_say()\n>>> look_say_first_ten = ['1',\n...  '11',\n...  '21',\n...  '1211',\n...  '111221',\n...  '312211',\n...  '13112221',\n...  '1113213211',\n...  '31131211131221',\n...  '13211311123113112211']\n>>> for i in range(10):\n...     s_i = next(s)\n...     assert isinstance(s_i, str)\n...     assert s_i == look_say_first_ten[i]\n",
         "hidden": false,
         "locked": false
        }
       ],
       "scored": true,
       "setup": "",
       "teardown": "",
       "type": "doctest"
      }
     ]
    },
    "q1d": {
     "name": "q1d",
     "points": 3,
     "suites": [
      {
       "cases": [
        {
         "code": ">>> first_five_months = ['July 2022', 'December 2023', 'March 2024', 'August 2025', 'May 2026']\n>>> sm = special_months()\n>>> for m in first_five_months:\n...     assert next(sm) == m\n",
         "hidden": false,
         "locked": false
        }
       ],
       "scored": true,
       "setup": "",
       "teardown": "",
       "type": "doctest"
      }
     ]
    },
    "q1e": {
     "name": "q1e",
     "points": 3,
     "suites": [
      {
       "cases": [
        {
         "code": ">>> first_22_palindromic = ['February 2, 2022',\n...  'February 20, 2022',\n...  'February 21, 2022',\n...  'February 22, 2022',\n...  'February 23, 2022',\n...  'February 24, 2022',\n...  'February 25, 2022',\n...  'February 26, 2022',\n...  'February 27, 2022',\n...  'February 28, 2022',\n...  'March 2, 2023',\n...  'March 20, 2023',\n...  'March 21, 2023',\n...  'March 22, 2023',\n...  'March 23, 2023',\n...  'March 24, 2023',\n...  'March 25, 2023',\n...  'March 26, 2023',\n...  'March 27, 2023',\n...  'March 28, 2023',\n...  'March 29, 2023',\n...  'April 2, 2024']\n>>> pd = palindromic_dates()\n>>> for pdate in first_22_palindromic:\n...     assert next(pd) == pdate\n",
         "hidden": false,
         "locked": false
        },
        {
         "code": ">>> # BEGIN HIDDEN\n>>> palindromic_103_110 = ['July 31, 2037',\n...  'August 3, 2038',\n...  'August 30, 2038',\n...  'August 31, 2038',\n...  'September 3, 2039',\n...  'September 30, 2039',\n...  'January 4, 2041']\n>>> pd = palindromic_dates()\n>>> for i in range(110):\n...     pd_i = next(pd)\n...     if i >= 103:\n...         assert pd_i == palindromic_103_110[i-103]\n",
         "hidden": false,
         "locked": false
        }
       ],
       "scored": true,
       "setup": "",
       "teardown": "",
       "type": "doctest"
      }
     ]
    },
    "q2a": {
     "name": "q2a",
     "points": 4,
     "suites": [
      {
       "cases": [
        {
         "code": ">>> public_tests = [('thequickbrownfoxjumpsoverthelazydog', 1, 'uifrvjdlcspxogpykvnqtpwfsuifmbazeph'), ('howdoesthiscodehandlewrapping', 18, 'zgovgwklzakugvwzsfvdwojshhafy'),('thekeycanbenegative', -3, 'qebhbvzxkybkbdxqfsb')]\n>>> for msg, k, enc in public_tests:\n...     assert enc_caesar(msg, k) == enc\n",
         "hidden": false,
         "locked": false
        },
        {
         "code": ">>> public_tests = [('thequickbrownfoxjumpsoverthelazydog', 1, 'uifrvjdlcspxogpykvnqtpwfsuifmbazeph'), ('howdoesthiscodehandlewrapping', 18, 'zgovgwklzakugvwzsfvdwojshhafy'),('thekeycanbenegative', -3, 'qebhbvzxkybkbdxqfsb')]\n>>> for msg, k, enc in public_tests: \n...     assert dec_caesar(enc, k) == msg\n",
         "hidden": false,
         "locked": false
        }
       ],
       "scored": true,
       "setup": "",
       "teardown": "",
       "type": "doctest"
      }
     ]
    },
    "q2b": {
     "name": "q2b",
     "points": 4,
     "suites": [
      {
       "cases": [
        {
         "code": ">>> public_tests = [('hello', 'sun', 'zyydi'),('goodbye', 'moon', 'sccqnms'),('dog', 'cats', 'foz'),('ilovestatistics', 'bayes', 'jlmzwttyxattggk')]\n>>> \n>>> for msg, key, enc in public_tests:\n...     assert enc_vignere(msg, key) == enc\n",
         "hidden": false,
         "locked": false
        },
        {
         "code": ">>> public_tests = [('hello', 'sun', 'zyydi'),('goodbye', 'moon', 'sccqnms'),('dog', 'cats', 'foz'),('ilovestatistics', 'bayes', 'jlmzwttyxattggk')]\n>>> \n>>> for msg, key, enc in public_tests:\n...     assert dec_vignere(enc, key) == msg\n",
         "hidden": false,
         "locked": false
        }
       ],
       "scored": true,
       "setup": "",
       "teardown": "",
       "type": "doctest"
      }
     ]
    },
    "q3a": {
     "name": "q3a",
     "points": 3,
     "suites": [
      {
       "cases": [
        {
         "code": ">>> assert bible[0][0][0] == ['in', 'the', 'beginning', 'god', 'created', 'the', 'heaven', 'and', 'the', 'earth']\n>>> assert bible[42][2][15] == ['for', 'god', 'so', 'loved', 'the', 'world', 'that', 'he', 'gave', 'his', 'only', 'begotten', 'son', 'that', 'whosoever', 'believeth', 'in', 'him', 'should', 'not', 'perish', 'but', 'have', 'everlasting', 'life']\n",
         "hidden": false,
         "locked": false
        }
       ],
       "scored": true,
       "setup": "",
       "teardown": "",
       "type": "doctest"
      }
     ]
    },
    "q3b": {
     "name": "q3b",
     "points": 3,
     "suites": [
      {
       "cases": [
        {
         "code": ">>> for word in ['dawn', 'light', 'heaven']:\n...     for b, c, v, w in bible_inv[word]:\n...         assert bible[b][c][v][w] == word\n",
         "hidden": false,
         "locked": false
        }
       ],
       "scored": true,
       "setup": "",
       "teardown": "",
       "type": "doctest"
      }
     ]
    },
    "q3c": {
     "name": "q3c",
     "points": 3,
     "suites": [
      {
       "cases": [
        {
         "code": ">>> import re\n>>> test_strs = (\"the eagle flies at dawn\", \"heaven and earth reach him\")\n>>> for test_str in test_strs:\n...     b = enc_bible(test_str, bible_inv)\n...     pattern = re.compile(\"([0-9]+-){3}[0-9]+\")\n...     assert len(pattern.findall(b)) == 5, \"Output of enc_bible not correctly formatted.\"\n...     assert dec_bible(b, bible) == test_str\n",
         "hidden": false,
         "locked": false
        }
       ],
       "scored": true,
       "setup": "",
       "teardown": "",
       "type": "doctest"
      }
     ]
    },
    "q3d": {
     "name": "q3d",
     "points": 3,
     "suites": [
      {
       "cases": [
        {
         "code": ">>> assert closest_encryptable(\"i heart sushi\", bible_inv) == \"i heart susi\"\n",
         "hidden": false,
         "locked": false
        },
        {
         "code": ">>> assert closest_encryptable(\"tiktok is so lit\", bible_inv) == 'traitor is so lift'\n",
         "hidden": false,
         "locked": false
        }
       ],
       "scored": true,
       "setup": "",
       "teardown": "",
       "type": "doctest"
      }
     ]
    }
   }
  },
  "varInspector": {
   "cols": {
    "lenName": 16,
    "lenType": 16,
    "lenVar": 40
   },
   "kernels_config": {
    "python": {
     "delete_cmd_postfix": "",
     "delete_cmd_prefix": "del ",
     "library": "var_list.py",
     "varRefreshCmd": "print(var_dic_list())"
    },
    "r": {
     "delete_cmd_postfix": ") ",
     "delete_cmd_prefix": "rm(",
     "library": "var_list.r",
     "varRefreshCmd": "cat(var_dic_list()) "
    }
   },
   "types_to_exclude": [
    "module",
    "function",
    "builtin_function_or_method",
    "instance",
    "_Feature"
   ],
   "window_display": false
  }
 },
 "nbformat": 4,
 "nbformat_minor": 4
}
